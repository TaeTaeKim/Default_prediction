{
 "cells": [
  {
   "cell_type": "code",
   "execution_count": 2,
   "metadata": {
    "colab": {
     "base_uri": "https://localhost:8080/",
     "height": 360
    },
    "executionInfo": {
     "elapsed": 2297852,
     "status": "error",
     "timestamp": 1643161252930,
     "user": {
      "displayName": "김태훈",
      "photoUrl": "https://lh3.googleusercontent.com/a/default-user=s64",
      "userId": "05496050021014156882"
     },
     "user_tz": -540
    },
    "id": "89YysxjHlM-w",
    "outputId": "6f3caba9-f4d8-47cc-8cfd-6a0a72213653"
   },
   "outputs": [],
   "source": [
    "# !pip install pandas\n",
    "# !pip install numpy\n",
    "# !pip install seaborn\n",
    "# !pip install matplotlib\n",
    "# !pip install xgboost\n",
    "# !pip install lightgbm\n",
    "# !pip install sklearn\n",
    "\n",
    "# 라이브러리 임포트\n",
    "import pandas as pd\n",
    "import numpy as np\n",
    "\n",
    "import seaborn as sns\n",
    "import matplotlib\n",
    "import matplotlib.pyplot as plt\n",
    "%matplotlib inline\n",
    "\n",
    "import xgboost\n",
    "from xgboost import XGBClassifier\n",
    "from lightgbm import LGBMClassifier\n",
    "\n",
    "from sklearn.svm import SVC\n",
    "from sklearn.tree import DecisionTreeClassifier\n",
    "from sklearn.neighbors import KNeighborsClassifier\n",
    "from sklearn.ensemble import RandomForestClassifier, AdaBoostClassifier, ExtraTreesClassifier, BaggingClassifier, GradientBoostingClassifier, VotingClassifier, StackingClassifier\n",
    "from sklearn.linear_model import LogisticRegression, LinearRegression, Ridge, RidgeCV, RidgeClassifier\n",
    "from sklearn.model_selection import train_test_split, RepeatedStratifiedKFold, GridSearchCV\n",
    "\n",
    "import sklearn.metrics as metrics\n",
    "from sklearn.metrics import accuracy_score, precision_score, recall_score, f1_score, roc_auc_score, roc_curve, auc, confusion_matrix\n",
    "\n",
    "import warnings\n",
    "warnings.filterwarnings('ignore')\n",
    "\n",
    "from google.colab import drive\n",
    "drive.mount('/content/drive')"
   ]
  },
  {
   "cell_type": "markdown",
   "metadata": {
    "id": "8IUXKgjWG-rB"
   },
   "source": [
    "# EDA"
   ]
  },
  {
   "cell_type": "markdown",
   "metadata": {
    "id": "gETbIfKttNXq"
   },
   "source": [
    "## 변수 설명\n",
    "  - **int_rate** : 대출자에 부여된 이자율 (Interest rate of the loan the applicant received)\n",
    "  - **annual_inc** : 연 소득 (annual income)\n",
    "  - **dti** : 소득 대비 부채 비율 (Debt-to-income ratio)\n",
    "  - **delinq_2yrs** : 지난 2년 간 체납 발생 횟수 (Delinquencies on lines of credit in the last 2 years)\n",
    "  - **inq_last_6mths** : 지난 6개월 간 신용 조회 수 (Inquiries into the applicant's credit during the last 6 months)\n",
    "  - **pub_rec** : 파산 횟수 (Number of bankruptcies listed in the public record)\n",
    "  - **revol_bal** : 리볼빙 잔액 (Total credit revolving balance)\n",
    "  - **total_acc** : 지금까지 소유했던 신용카드 개수 (num_total_cc_accounts : Total number of credit card accounts in the applicant's history)\n",
    "  - **collections_12_mths_ex_med** : 의료부문을 제외한 지난 12개월 간 추심 발생 횟수 (num_collections_last_12m : Number of collections in the last 12 months. This excludes medical collections)\n",
    "  - **acc_now_delinq** : 대출자가 체납 상태에 있지 않은 계좌의 수 (The number of accounts on which the borrower is now delinquent)\n",
    "  - **tot_coll_amt** : 대출자에 대한 현재까지의 총 추심액 (total_collection_amount_ever : The total amount that the applicant has had against them in collections)\n",
    "  - **tot_cur_bal** : 전 계좌의 현재 통합 잔고 (Total current balance of all accounts)\n",
    "  - **chargeoff_within_12_mths** : 대출 부 신청인의 대출 신청 직전 12개월 간 세금 공제 횟수 (Number of charge-offs within last 12 months at time of application for the secondary applicant)\n",
    "  - **delinq_amnt** : 체납 금액 (delinquency amount)\n",
    "  - **tax_liens** : 세금 저당권의 수 (Number of tax liens)\n",
    "  - **emp_length1 ~ 12** : 고용 연수 (Number of years in the job)\n",
    "  - **home_ownership1 ~ 6** : 대출 신청자의 주거 소유 형태 (The ownership status of the applicant's residence)\n",
    "  - **verification_status1 ~ 3** : 공동 소득 발생 여부 및 형태 (verification_income_joint : Type of verification of the joint income)\n",
    "  - **purpose1 ~ 14** : 대출 목적 (The purpose of the loan)\n",
    "  - **initial_list_status1 ~ 2** : 최초 대출 상태 (Initial listing status of the loan)\n",
    "  - **mths_since_last_delinq1 ~ 11** : 마지막 체납이 지금으로부터 몇개월 전에 있었는지를 나타내는 변수 (Months since the last delinquency)\n",
    "  \n",
    "  - **funded_amnt** : 대출액 (Funded amount)\n",
    "  - **funded_amnt_inv** : 사채 대출액 (Funded amount by investors)\n",
    "  - **total_rec_late_fee** : 총 연체료 중 납부액 (Late fees received to date)\n",
    "  - **term1** : 상환 기간 (The number of payments on the loan. Values are in months and can be either 36 or 60)\n",
    "  - **open_acc** : 개설 개좌 수 (The number of open credit lines in the borrower's credit file)\n",
    "  - **installment** : 대출 발생 시 월 상환액 (The monthly payment owed by the borrower if the loan originates)\n",
    "  - **revol_util** : 리볼빙 한도 대비 리볼빙 사용 비율 (Revolving line utilization rate, or the amount of credit the borrower is using relative to all available revolving credit)\n",
    "  - **out_prncp** : 대출액 중 원리금 잔액 (Remaining outstanding principal for total amount funded)\n",
    "  - **out_prncp_inv** : 사채 대출액 중 원리금 잔액 (Remaining outstanding principal for total amount funded by investors)\n",
    "  - **total_rec_int** : 이자 상환액 (Interest received to date)\n",
    "  - **fico_range_low** : FICO(일종의 신용점수) 최저값 (The lower boundary range the borrower’s FICO at loan origination belongs to)\n",
    "  - **fico_range_high** : FICO(일종의 신용점수) 최고값 (The upper boundary range the borrower’s FICO at loan origination belongs to)\n",
    "  \n",
    "  - **depvar** : 고객의 부도 여부 (dependent variable)"
   ]
  },
  {
   "cell_type": "code",
   "execution_count": 5,
   "metadata": {
    "colab": {
     "base_uri": "https://localhost:8080/",
     "height": 270
    },
    "executionInfo": {
     "elapsed": 710,
     "status": "ok",
     "timestamp": 1643122507990,
     "user": {
      "displayName": "김태훈",
      "photoUrl": "https://lh3.googleusercontent.com/a/default-user=s64",
      "userId": "05496050021014156882"
     },
     "user_tz": -540
    },
    "id": "d99i4isHtNXr",
    "outputId": "d1343bae-2f26-44eb-d268-6af1a899b34c"
   },
   "outputs": [
    {
     "data": {
      "text/html": [
       "<div>\n",
       "<style scoped>\n",
       "    .dataframe tbody tr th:only-of-type {\n",
       "        vertical-align: middle;\n",
       "    }\n",
       "\n",
       "    .dataframe tbody tr th {\n",
       "        vertical-align: top;\n",
       "    }\n",
       "\n",
       "    .dataframe thead th {\n",
       "        text-align: right;\n",
       "    }\n",
       "</style>\n",
       "<table border=\"1\" class=\"dataframe\">\n",
       "  <thead>\n",
       "    <tr style=\"text-align: right;\">\n",
       "      <th></th>\n",
       "      <th>int_rate</th>\n",
       "      <th>annual_inc</th>\n",
       "      <th>dti</th>\n",
       "      <th>delinq_2yrs</th>\n",
       "      <th>inq_last_6mths</th>\n",
       "      <th>pub_rec</th>\n",
       "      <th>revol_bal</th>\n",
       "      <th>total_acc</th>\n",
       "      <th>collections_12_mths_ex_med</th>\n",
       "      <th>acc_now_delinq</th>\n",
       "      <th>...</th>\n",
       "      <th>term1</th>\n",
       "      <th>open_acc</th>\n",
       "      <th>installment</th>\n",
       "      <th>revol_util</th>\n",
       "      <th>out_prncp</th>\n",
       "      <th>out_prncp_inv</th>\n",
       "      <th>total_rec_int</th>\n",
       "      <th>fico_range_low</th>\n",
       "      <th>fico_range_high</th>\n",
       "      <th>depvar</th>\n",
       "    </tr>\n",
       "  </thead>\n",
       "  <tbody>\n",
       "    <tr>\n",
       "      <th>0</th>\n",
       "      <td>0.0824</td>\n",
       "      <td>21000.0</td>\n",
       "      <td>29.19</td>\n",
       "      <td>0</td>\n",
       "      <td>1</td>\n",
       "      <td>0</td>\n",
       "      <td>3016</td>\n",
       "      <td>26</td>\n",
       "      <td>0</td>\n",
       "      <td>0</td>\n",
       "      <td>...</td>\n",
       "      <td>1</td>\n",
       "      <td>18</td>\n",
       "      <td>37.74</td>\n",
       "      <td>0.076</td>\n",
       "      <td>0.0</td>\n",
       "      <td>0.0</td>\n",
       "      <td>157.94</td>\n",
       "      <td>765</td>\n",
       "      <td>769</td>\n",
       "      <td>0</td>\n",
       "    </tr>\n",
       "    <tr>\n",
       "      <th>1</th>\n",
       "      <td>0.1299</td>\n",
       "      <td>80000.0</td>\n",
       "      <td>4.82</td>\n",
       "      <td>0</td>\n",
       "      <td>1</td>\n",
       "      <td>1</td>\n",
       "      <td>5722</td>\n",
       "      <td>24</td>\n",
       "      <td>0</td>\n",
       "      <td>0</td>\n",
       "      <td>...</td>\n",
       "      <td>1</td>\n",
       "      <td>8</td>\n",
       "      <td>269.52</td>\n",
       "      <td>0.447</td>\n",
       "      <td>0.0</td>\n",
       "      <td>0.0</td>\n",
       "      <td>1702.42</td>\n",
       "      <td>665</td>\n",
       "      <td>669</td>\n",
       "      <td>0</td>\n",
       "    </tr>\n",
       "    <tr>\n",
       "      <th>2</th>\n",
       "      <td>0.1299</td>\n",
       "      <td>38000.0</td>\n",
       "      <td>23.66</td>\n",
       "      <td>0</td>\n",
       "      <td>3</td>\n",
       "      <td>0</td>\n",
       "      <td>6511</td>\n",
       "      <td>18</td>\n",
       "      <td>0</td>\n",
       "      <td>0</td>\n",
       "      <td>...</td>\n",
       "      <td>1</td>\n",
       "      <td>7</td>\n",
       "      <td>168.45</td>\n",
       "      <td>0.880</td>\n",
       "      <td>0.0</td>\n",
       "      <td>0.0</td>\n",
       "      <td>1066.64</td>\n",
       "      <td>670</td>\n",
       "      <td>674</td>\n",
       "      <td>0</td>\n",
       "    </tr>\n",
       "    <tr>\n",
       "      <th>3</th>\n",
       "      <td>0.1367</td>\n",
       "      <td>100000.0</td>\n",
       "      <td>16.27</td>\n",
       "      <td>4</td>\n",
       "      <td>2</td>\n",
       "      <td>0</td>\n",
       "      <td>6849</td>\n",
       "      <td>30</td>\n",
       "      <td>0</td>\n",
       "      <td>0</td>\n",
       "      <td>...</td>\n",
       "      <td>1</td>\n",
       "      <td>12</td>\n",
       "      <td>510.27</td>\n",
       "      <td>0.457</td>\n",
       "      <td>0.0</td>\n",
       "      <td>0.0</td>\n",
       "      <td>1256.24</td>\n",
       "      <td>680</td>\n",
       "      <td>684</td>\n",
       "      <td>1</td>\n",
       "    </tr>\n",
       "    <tr>\n",
       "      <th>4</th>\n",
       "      <td>0.1269</td>\n",
       "      <td>30000.0</td>\n",
       "      <td>25.28</td>\n",
       "      <td>0</td>\n",
       "      <td>1</td>\n",
       "      <td>2</td>\n",
       "      <td>8197</td>\n",
       "      <td>12</td>\n",
       "      <td>0</td>\n",
       "      <td>0</td>\n",
       "      <td>...</td>\n",
       "      <td>1</td>\n",
       "      <td>8</td>\n",
       "      <td>335.45</td>\n",
       "      <td>0.416</td>\n",
       "      <td>0.0</td>\n",
       "      <td>0.0</td>\n",
       "      <td>871.04</td>\n",
       "      <td>660</td>\n",
       "      <td>664</td>\n",
       "      <td>1</td>\n",
       "    </tr>\n",
       "  </tbody>\n",
       "</table>\n",
       "<p>5 rows × 76 columns</p>\n",
       "</div>"
      ],
      "text/plain": [
       "   int_rate  annual_inc    dti  delinq_2yrs  inq_last_6mths  pub_rec  \\\n",
       "0    0.0824     21000.0  29.19            0               1        0   \n",
       "1    0.1299     80000.0   4.82            0               1        1   \n",
       "2    0.1299     38000.0  23.66            0               3        0   \n",
       "3    0.1367    100000.0  16.27            4               2        0   \n",
       "4    0.1269     30000.0  25.28            0               1        2   \n",
       "\n",
       "   revol_bal  total_acc  collections_12_mths_ex_med  acc_now_delinq  ...  \\\n",
       "0       3016         26                           0               0  ...   \n",
       "1       5722         24                           0               0  ...   \n",
       "2       6511         18                           0               0  ...   \n",
       "3       6849         30                           0               0  ...   \n",
       "4       8197         12                           0               0  ...   \n",
       "\n",
       "   term1  open_acc  installment  revol_util  out_prncp  out_prncp_inv  \\\n",
       "0      1        18        37.74       0.076        0.0            0.0   \n",
       "1      1         8       269.52       0.447        0.0            0.0   \n",
       "2      1         7       168.45       0.880        0.0            0.0   \n",
       "3      1        12       510.27       0.457        0.0            0.0   \n",
       "4      1         8       335.45       0.416        0.0            0.0   \n",
       "\n",
       "   total_rec_int  fico_range_low  fico_range_high  depvar  \n",
       "0         157.94             765              769       0  \n",
       "1        1702.42             665              669       0  \n",
       "2        1066.64             670              674       0  \n",
       "3        1256.24             680              684       1  \n",
       "4         871.04             660              664       1  \n",
       "\n",
       "[5 rows x 76 columns]"
      ]
     },
     "execution_count": 5,
     "metadata": {},
     "output_type": "execute_result"
    }
   ],
   "source": [
    "df = pd.read_csv('./train.csv')\n",
    "df.head()"
   ]
  },
  {
   "cell_type": "code",
   "execution_count": 6,
   "metadata": {
    "colab": {
     "base_uri": "https://localhost:8080/"
    },
    "executionInfo": {
     "elapsed": 7,
     "status": "ok",
     "timestamp": 1643122507991,
     "user": {
      "displayName": "김태훈",
      "photoUrl": "https://lh3.googleusercontent.com/a/default-user=s64",
      "userId": "05496050021014156882"
     },
     "user_tz": -540
    },
    "id": "eiimcNADlPRg",
    "outputId": "38769dd1-835e-45c4-aa16-0538640efd84",
    "tags": []
   },
   "outputs": [
    {
     "name": "stdout",
     "output_type": "stream",
     "text": [
      "<class 'pandas.core.frame.DataFrame'>\n",
      "RangeIndex: 100000 entries, 0 to 99999\n",
      "Data columns (total 76 columns):\n",
      " #   Column                      Non-Null Count   Dtype  \n",
      "---  ------                      --------------   -----  \n",
      " 0   int_rate                    100000 non-null  float64\n",
      " 1   annual_inc                  100000 non-null  float64\n",
      " 2   dti                         100000 non-null  float64\n",
      " 3   delinq_2yrs                 100000 non-null  int64  \n",
      " 4   inq_last_6mths              100000 non-null  int64  \n",
      " 5   pub_rec                     100000 non-null  int64  \n",
      " 6   revol_bal                   100000 non-null  int64  \n",
      " 7   total_acc                   100000 non-null  int64  \n",
      " 8   collections_12_mths_ex_med  100000 non-null  int64  \n",
      " 9   acc_now_delinq              100000 non-null  int64  \n",
      " 10  tot_coll_amt                100000 non-null  int64  \n",
      " 11  tot_cur_bal                 100000 non-null  int64  \n",
      " 12  chargeoff_within_12_mths    100000 non-null  int64  \n",
      " 13  delinq_amnt                 100000 non-null  int64  \n",
      " 14  tax_liens                   100000 non-null  int64  \n",
      " 15  emp_length1                 100000 non-null  int64  \n",
      " 16  emp_length2                 100000 non-null  int64  \n",
      " 17  emp_length3                 100000 non-null  int64  \n",
      " 18  emp_length4                 100000 non-null  int64  \n",
      " 19  emp_length5                 100000 non-null  int64  \n",
      " 20  emp_length6                 100000 non-null  int64  \n",
      " 21  emp_length7                 100000 non-null  int64  \n",
      " 22  emp_length8                 100000 non-null  int64  \n",
      " 23  emp_length9                 100000 non-null  int64  \n",
      " 24  emp_length10                100000 non-null  int64  \n",
      " 25  emp_length11                100000 non-null  int64  \n",
      " 26  emp_length12                100000 non-null  int64  \n",
      " 27  home_ownership1             100000 non-null  int64  \n",
      " 28  home_ownership2             100000 non-null  int64  \n",
      " 29  home_ownership3             100000 non-null  int64  \n",
      " 30  home_ownership4             100000 non-null  int64  \n",
      " 31  home_ownership5             100000 non-null  int64  \n",
      " 32  home_ownership6             100000 non-null  int64  \n",
      " 33  verification_status1        100000 non-null  int64  \n",
      " 34  verification_status2        100000 non-null  int64  \n",
      " 35  verification_status3        100000 non-null  int64  \n",
      " 36  purpose1                    100000 non-null  int64  \n",
      " 37  purpose2                    100000 non-null  int64  \n",
      " 38  purpose3                    100000 non-null  int64  \n",
      " 39  purpose4                    100000 non-null  int64  \n",
      " 40  purpose5                    100000 non-null  int64  \n",
      " 41  purpose6                    100000 non-null  int64  \n",
      " 42  purpose7                    100000 non-null  int64  \n",
      " 43  purpose8                    100000 non-null  int64  \n",
      " 44  purpose9                    100000 non-null  int64  \n",
      " 45  purpose10                   100000 non-null  int64  \n",
      " 46  purpose11                   100000 non-null  int64  \n",
      " 47  purpose12                   100000 non-null  int64  \n",
      " 48  purpose13                   100000 non-null  int64  \n",
      " 49  purpose14                   100000 non-null  int64  \n",
      " 50  initial_list_status1        100000 non-null  int64  \n",
      " 51  initial_list_status2        100000 non-null  int64  \n",
      " 52  mths_since_last_delinq1     100000 non-null  int64  \n",
      " 53  mths_since_last_delinq2     100000 non-null  int64  \n",
      " 54  mths_since_last_delinq3     100000 non-null  int64  \n",
      " 55  mths_since_last_delinq4     100000 non-null  int64  \n",
      " 56  mths_since_last_delinq5     100000 non-null  int64  \n",
      " 57  mths_since_last_delinq6     100000 non-null  int64  \n",
      " 58  mths_since_last_delinq7     100000 non-null  int64  \n",
      " 59  mths_since_last_delinq8     100000 non-null  int64  \n",
      " 60  mths_since_last_delinq9     100000 non-null  int64  \n",
      " 61  mths_since_last_delinq10    100000 non-null  int64  \n",
      " 62  mths_since_last_delinq11    100000 non-null  int64  \n",
      " 63  funded_amnt                 100000 non-null  int64  \n",
      " 64  funded_amnt_inv             100000 non-null  float64\n",
      " 65  total_rec_late_fee          100000 non-null  float64\n",
      " 66  term1                       100000 non-null  int64  \n",
      " 67  open_acc                    100000 non-null  int64  \n",
      " 68  installment                 100000 non-null  float64\n",
      " 69  revol_util                  100000 non-null  float64\n",
      " 70  out_prncp                   100000 non-null  float64\n",
      " 71  out_prncp_inv               100000 non-null  float64\n",
      " 72  total_rec_int               100000 non-null  float64\n",
      " 73  fico_range_low              100000 non-null  int64  \n",
      " 74  fico_range_high             100000 non-null  int64  \n",
      " 75  depvar                      100000 non-null  int64  \n",
      "dtypes: float64(10), int64(66)\n",
      "memory usage: 58.0 MB\n"
     ]
    }
   ],
   "source": [
    "df.info()"
   ]
  },
  {
   "cell_type": "code",
   "execution_count": 7,
   "metadata": {
    "colab": {
     "base_uri": "https://localhost:8080/",
     "height": 364
    },
    "executionInfo": {
     "elapsed": 548,
     "status": "ok",
     "timestamp": 1643122508534,
     "user": {
      "displayName": "김태훈",
      "photoUrl": "https://lh3.googleusercontent.com/a/default-user=s64",
      "userId": "05496050021014156882"
     },
     "user_tz": -540
    },
    "id": "nnVGUuUElPUA",
    "outputId": "49c35e9a-fe42-4346-d701-4c34c81b8e75"
   },
   "outputs": [
    {
     "data": {
      "text/html": [
       "<div>\n",
       "<style scoped>\n",
       "    .dataframe tbody tr th:only-of-type {\n",
       "        vertical-align: middle;\n",
       "    }\n",
       "\n",
       "    .dataframe tbody tr th {\n",
       "        vertical-align: top;\n",
       "    }\n",
       "\n",
       "    .dataframe thead th {\n",
       "        text-align: right;\n",
       "    }\n",
       "</style>\n",
       "<table border=\"1\" class=\"dataframe\">\n",
       "  <thead>\n",
       "    <tr style=\"text-align: right;\">\n",
       "      <th></th>\n",
       "      <th>int_rate</th>\n",
       "      <th>annual_inc</th>\n",
       "      <th>dti</th>\n",
       "      <th>delinq_2yrs</th>\n",
       "      <th>inq_last_6mths</th>\n",
       "      <th>pub_rec</th>\n",
       "      <th>revol_bal</th>\n",
       "      <th>total_acc</th>\n",
       "      <th>collections_12_mths_ex_med</th>\n",
       "      <th>acc_now_delinq</th>\n",
       "      <th>...</th>\n",
       "      <th>term1</th>\n",
       "      <th>open_acc</th>\n",
       "      <th>installment</th>\n",
       "      <th>revol_util</th>\n",
       "      <th>out_prncp</th>\n",
       "      <th>out_prncp_inv</th>\n",
       "      <th>total_rec_int</th>\n",
       "      <th>fico_range_low</th>\n",
       "      <th>fico_range_high</th>\n",
       "      <th>depvar</th>\n",
       "    </tr>\n",
       "  </thead>\n",
       "  <tbody>\n",
       "    <tr>\n",
       "      <th>count</th>\n",
       "      <td>100000.000000</td>\n",
       "      <td>1.000000e+05</td>\n",
       "      <td>100000.000000</td>\n",
       "      <td>100000.000000</td>\n",
       "      <td>100000.000000</td>\n",
       "      <td>100000.000000</td>\n",
       "      <td>100000.000000</td>\n",
       "      <td>100000.000000</td>\n",
       "      <td>100000.000000</td>\n",
       "      <td>100000.000000</td>\n",
       "      <td>...</td>\n",
       "      <td>100000.000000</td>\n",
       "      <td>100000.000000</td>\n",
       "      <td>100000.000000</td>\n",
       "      <td>100000.000000</td>\n",
       "      <td>100000.000000</td>\n",
       "      <td>100000.000000</td>\n",
       "      <td>100000.000000</td>\n",
       "      <td>100000.000000</td>\n",
       "      <td>100000.000000</td>\n",
       "      <td>100000.000000</td>\n",
       "    </tr>\n",
       "    <tr>\n",
       "      <th>mean</th>\n",
       "      <td>0.130833</td>\n",
       "      <td>7.436061e+04</td>\n",
       "      <td>18.514508</td>\n",
       "      <td>0.343700</td>\n",
       "      <td>0.668880</td>\n",
       "      <td>0.235720</td>\n",
       "      <td>16090.202820</td>\n",
       "      <td>24.675910</td>\n",
       "      <td>0.018810</td>\n",
       "      <td>0.005800</td>\n",
       "      <td>...</td>\n",
       "      <td>0.855920</td>\n",
       "      <td>11.620700</td>\n",
       "      <td>434.077648</td>\n",
       "      <td>0.537233</td>\n",
       "      <td>0.253327</td>\n",
       "      <td>0.253259</td>\n",
       "      <td>2491.282802</td>\n",
       "      <td>692.630550</td>\n",
       "      <td>696.630660</td>\n",
       "      <td>0.325690</td>\n",
       "    </tr>\n",
       "    <tr>\n",
       "      <th>std</th>\n",
       "      <td>0.044773</td>\n",
       "      <td>7.467409e+04</td>\n",
       "      <td>8.413049</td>\n",
       "      <td>0.905007</td>\n",
       "      <td>0.952044</td>\n",
       "      <td>0.661468</td>\n",
       "      <td>21569.939271</td>\n",
       "      <td>11.883834</td>\n",
       "      <td>0.150321</td>\n",
       "      <td>0.083585</td>\n",
       "      <td>...</td>\n",
       "      <td>0.351173</td>\n",
       "      <td>5.458774</td>\n",
       "      <td>265.921746</td>\n",
       "      <td>0.239373</td>\n",
       "      <td>18.053290</td>\n",
       "      <td>18.051746</td>\n",
       "      <td>2706.262200</td>\n",
       "      <td>29.668017</td>\n",
       "      <td>29.668584</td>\n",
       "      <td>0.468634</td>\n",
       "    </tr>\n",
       "    <tr>\n",
       "      <th>min</th>\n",
       "      <td>0.053200</td>\n",
       "      <td>5.360000e+03</td>\n",
       "      <td>0.000000</td>\n",
       "      <td>0.000000</td>\n",
       "      <td>0.000000</td>\n",
       "      <td>0.000000</td>\n",
       "      <td>0.000000</td>\n",
       "      <td>2.000000</td>\n",
       "      <td>0.000000</td>\n",
       "      <td>0.000000</td>\n",
       "      <td>...</td>\n",
       "      <td>0.000000</td>\n",
       "      <td>1.000000</td>\n",
       "      <td>23.360000</td>\n",
       "      <td>0.000000</td>\n",
       "      <td>0.000000</td>\n",
       "      <td>0.000000</td>\n",
       "      <td>0.000000</td>\n",
       "      <td>660.000000</td>\n",
       "      <td>664.000000</td>\n",
       "      <td>0.000000</td>\n",
       "    </tr>\n",
       "    <tr>\n",
       "      <th>25%</th>\n",
       "      <td>0.097500</td>\n",
       "      <td>4.500000e+04</td>\n",
       "      <td>12.200000</td>\n",
       "      <td>0.000000</td>\n",
       "      <td>0.000000</td>\n",
       "      <td>0.000000</td>\n",
       "      <td>6009.000000</td>\n",
       "      <td>16.000000</td>\n",
       "      <td>0.000000</td>\n",
       "      <td>0.000000</td>\n",
       "      <td>...</td>\n",
       "      <td>1.000000</td>\n",
       "      <td>8.000000</td>\n",
       "      <td>240.292500</td>\n",
       "      <td>0.361000</td>\n",
       "      <td>0.000000</td>\n",
       "      <td>0.000000</td>\n",
       "      <td>857.292500</td>\n",
       "      <td>670.000000</td>\n",
       "      <td>674.000000</td>\n",
       "      <td>0.000000</td>\n",
       "    </tr>\n",
       "    <tr>\n",
       "      <th>50%</th>\n",
       "      <td>0.127400</td>\n",
       "      <td>6.200000e+04</td>\n",
       "      <td>18.060000</td>\n",
       "      <td>0.000000</td>\n",
       "      <td>0.000000</td>\n",
       "      <td>0.000000</td>\n",
       "      <td>11030.500000</td>\n",
       "      <td>23.000000</td>\n",
       "      <td>0.000000</td>\n",
       "      <td>0.000000</td>\n",
       "      <td>...</td>\n",
       "      <td>1.000000</td>\n",
       "      <td>11.000000</td>\n",
       "      <td>366.370000</td>\n",
       "      <td>0.541000</td>\n",
       "      <td>0.000000</td>\n",
       "      <td>0.000000</td>\n",
       "      <td>1615.160000</td>\n",
       "      <td>685.000000</td>\n",
       "      <td>689.000000</td>\n",
       "      <td>0.000000</td>\n",
       "    </tr>\n",
       "    <tr>\n",
       "      <th>75%</th>\n",
       "      <td>0.158000</td>\n",
       "      <td>9.000000e+04</td>\n",
       "      <td>24.530000</td>\n",
       "      <td>0.000000</td>\n",
       "      <td>1.000000</td>\n",
       "      <td>0.000000</td>\n",
       "      <td>19540.000000</td>\n",
       "      <td>31.000000</td>\n",
       "      <td>0.000000</td>\n",
       "      <td>0.000000</td>\n",
       "      <td>...</td>\n",
       "      <td>1.000000</td>\n",
       "      <td>14.000000</td>\n",
       "      <td>575.860000</td>\n",
       "      <td>0.720000</td>\n",
       "      <td>0.000000</td>\n",
       "      <td>0.000000</td>\n",
       "      <td>3039.115000</td>\n",
       "      <td>705.000000</td>\n",
       "      <td>709.000000</td>\n",
       "      <td>1.000000</td>\n",
       "    </tr>\n",
       "    <tr>\n",
       "      <th>max</th>\n",
       "      <td>0.309900</td>\n",
       "      <td>8.300000e+06</td>\n",
       "      <td>49.930000</td>\n",
       "      <td>20.000000</td>\n",
       "      <td>6.000000</td>\n",
       "      <td>63.000000</td>\n",
       "      <td>971736.000000</td>\n",
       "      <td>176.000000</td>\n",
       "      <td>5.000000</td>\n",
       "      <td>6.000000</td>\n",
       "      <td>...</td>\n",
       "      <td>1.000000</td>\n",
       "      <td>82.000000</td>\n",
       "      <td>1584.900000</td>\n",
       "      <td>8.923000</td>\n",
       "      <td>2330.970000</td>\n",
       "      <td>2330.970000</td>\n",
       "      <td>28005.960000</td>\n",
       "      <td>845.000000</td>\n",
       "      <td>850.000000</td>\n",
       "      <td>1.000000</td>\n",
       "    </tr>\n",
       "  </tbody>\n",
       "</table>\n",
       "<p>8 rows × 76 columns</p>\n",
       "</div>"
      ],
      "text/plain": [
       "            int_rate    annual_inc            dti    delinq_2yrs  \\\n",
       "count  100000.000000  1.000000e+05  100000.000000  100000.000000   \n",
       "mean        0.130833  7.436061e+04      18.514508       0.343700   \n",
       "std         0.044773  7.467409e+04       8.413049       0.905007   \n",
       "min         0.053200  5.360000e+03       0.000000       0.000000   \n",
       "25%         0.097500  4.500000e+04      12.200000       0.000000   \n",
       "50%         0.127400  6.200000e+04      18.060000       0.000000   \n",
       "75%         0.158000  9.000000e+04      24.530000       0.000000   \n",
       "max         0.309900  8.300000e+06      49.930000      20.000000   \n",
       "\n",
       "       inq_last_6mths        pub_rec      revol_bal      total_acc  \\\n",
       "count   100000.000000  100000.000000  100000.000000  100000.000000   \n",
       "mean         0.668880       0.235720   16090.202820      24.675910   \n",
       "std          0.952044       0.661468   21569.939271      11.883834   \n",
       "min          0.000000       0.000000       0.000000       2.000000   \n",
       "25%          0.000000       0.000000    6009.000000      16.000000   \n",
       "50%          0.000000       0.000000   11030.500000      23.000000   \n",
       "75%          1.000000       0.000000   19540.000000      31.000000   \n",
       "max          6.000000      63.000000  971736.000000     176.000000   \n",
       "\n",
       "       collections_12_mths_ex_med  acc_now_delinq  ...          term1  \\\n",
       "count               100000.000000   100000.000000  ...  100000.000000   \n",
       "mean                     0.018810        0.005800  ...       0.855920   \n",
       "std                      0.150321        0.083585  ...       0.351173   \n",
       "min                      0.000000        0.000000  ...       0.000000   \n",
       "25%                      0.000000        0.000000  ...       1.000000   \n",
       "50%                      0.000000        0.000000  ...       1.000000   \n",
       "75%                      0.000000        0.000000  ...       1.000000   \n",
       "max                      5.000000        6.000000  ...       1.000000   \n",
       "\n",
       "            open_acc    installment     revol_util      out_prncp  \\\n",
       "count  100000.000000  100000.000000  100000.000000  100000.000000   \n",
       "mean       11.620700     434.077648       0.537233       0.253327   \n",
       "std         5.458774     265.921746       0.239373      18.053290   \n",
       "min         1.000000      23.360000       0.000000       0.000000   \n",
       "25%         8.000000     240.292500       0.361000       0.000000   \n",
       "50%        11.000000     366.370000       0.541000       0.000000   \n",
       "75%        14.000000     575.860000       0.720000       0.000000   \n",
       "max        82.000000    1584.900000       8.923000    2330.970000   \n",
       "\n",
       "       out_prncp_inv  total_rec_int  fico_range_low  fico_range_high  \\\n",
       "count  100000.000000  100000.000000   100000.000000    100000.000000   \n",
       "mean        0.253259    2491.282802      692.630550       696.630660   \n",
       "std        18.051746    2706.262200       29.668017        29.668584   \n",
       "min         0.000000       0.000000      660.000000       664.000000   \n",
       "25%         0.000000     857.292500      670.000000       674.000000   \n",
       "50%         0.000000    1615.160000      685.000000       689.000000   \n",
       "75%         0.000000    3039.115000      705.000000       709.000000   \n",
       "max      2330.970000   28005.960000      845.000000       850.000000   \n",
       "\n",
       "              depvar  \n",
       "count  100000.000000  \n",
       "mean        0.325690  \n",
       "std         0.468634  \n",
       "min         0.000000  \n",
       "25%         0.000000  \n",
       "50%         0.000000  \n",
       "75%         1.000000  \n",
       "max         1.000000  \n",
       "\n",
       "[8 rows x 76 columns]"
      ]
     },
     "execution_count": 7,
     "metadata": {},
     "output_type": "execute_result"
    }
   ],
   "source": [
    "df.describe()"
   ]
  },
  {
   "cell_type": "code",
   "execution_count": 8,
   "metadata": {
    "colab": {
     "base_uri": "https://localhost:8080/",
     "height": 179
    },
    "executionInfo": {
     "elapsed": 17,
     "status": "ok",
     "timestamp": 1643122508535,
     "user": {
      "displayName": "김태훈",
      "photoUrl": "https://lh3.googleusercontent.com/a/default-user=s64",
      "userId": "05496050021014156882"
     },
     "user_tz": -540
    },
    "id": "Pxj9WeWvKFnf",
    "outputId": "0009f839-87ea-41f7-a984-4d03034450a8"
   },
   "outputs": [
    {
     "data": {
      "text/html": [
       "<div>\n",
       "<style scoped>\n",
       "    .dataframe tbody tr th:only-of-type {\n",
       "        vertical-align: middle;\n",
       "    }\n",
       "\n",
       "    .dataframe tbody tr th {\n",
       "        vertical-align: top;\n",
       "    }\n",
       "\n",
       "    .dataframe thead th {\n",
       "        text-align: right;\n",
       "    }\n",
       "</style>\n",
       "<table border=\"1\" class=\"dataframe\">\n",
       "  <thead>\n",
       "    <tr style=\"text-align: right;\">\n",
       "      <th></th>\n",
       "      <th>int_rate</th>\n",
       "      <th>annual_inc</th>\n",
       "      <th>dti</th>\n",
       "      <th>delinq_2yrs</th>\n",
       "      <th>inq_last_6mths</th>\n",
       "      <th>pub_rec</th>\n",
       "      <th>revol_bal</th>\n",
       "      <th>total_acc</th>\n",
       "      <th>collections_12_mths_ex_med</th>\n",
       "      <th>acc_now_delinq</th>\n",
       "      <th>...</th>\n",
       "      <th>term1</th>\n",
       "      <th>open_acc</th>\n",
       "      <th>installment</th>\n",
       "      <th>revol_util</th>\n",
       "      <th>out_prncp</th>\n",
       "      <th>out_prncp_inv</th>\n",
       "      <th>total_rec_int</th>\n",
       "      <th>fico_range_low</th>\n",
       "      <th>fico_range_high</th>\n",
       "      <th>depvar</th>\n",
       "    </tr>\n",
       "  </thead>\n",
       "  <tbody>\n",
       "    <tr>\n",
       "      <th>Non-Null Count</th>\n",
       "      <td>0</td>\n",
       "      <td>0</td>\n",
       "      <td>0</td>\n",
       "      <td>0</td>\n",
       "      <td>0</td>\n",
       "      <td>0</td>\n",
       "      <td>0</td>\n",
       "      <td>0</td>\n",
       "      <td>0</td>\n",
       "      <td>0</td>\n",
       "      <td>...</td>\n",
       "      <td>0</td>\n",
       "      <td>0</td>\n",
       "      <td>0</td>\n",
       "      <td>0</td>\n",
       "      <td>0</td>\n",
       "      <td>0</td>\n",
       "      <td>0</td>\n",
       "      <td>0</td>\n",
       "      <td>0</td>\n",
       "      <td>0</td>\n",
       "    </tr>\n",
       "  </tbody>\n",
       "</table>\n",
       "<p>1 rows × 76 columns</p>\n",
       "</div>"
      ],
      "text/plain": [
       "                int_rate  annual_inc  dti  delinq_2yrs  inq_last_6mths  \\\n",
       "Non-Null Count         0           0    0            0               0   \n",
       "\n",
       "                pub_rec  revol_bal  total_acc  collections_12_mths_ex_med  \\\n",
       "Non-Null Count        0          0          0                           0   \n",
       "\n",
       "                acc_now_delinq  ...  term1  open_acc  installment  revol_util  \\\n",
       "Non-Null Count               0  ...      0         0            0           0   \n",
       "\n",
       "                out_prncp  out_prncp_inv  total_rec_int  fico_range_low  \\\n",
       "Non-Null Count          0              0              0               0   \n",
       "\n",
       "                fico_range_high  depvar  \n",
       "Non-Null Count                0       0  \n",
       "\n",
       "[1 rows x 76 columns]"
      ]
     },
     "execution_count": 8,
     "metadata": {},
     "output_type": "execute_result"
    }
   ],
   "source": [
    "# 결측치 확인\n",
    "pd.DataFrame(df.isnull().sum()).rename(columns={0:'Non-Null Count'}).T"
   ]
  },
  {
   "cell_type": "code",
   "execution_count": 9,
   "metadata": {
    "colab": {
     "base_uri": "https://localhost:8080/"
    },
    "executionInfo": {
     "elapsed": 14,
     "status": "ok",
     "timestamp": 1643122508535,
     "user": {
      "displayName": "김태훈",
      "photoUrl": "https://lh3.googleusercontent.com/a/default-user=s64",
      "userId": "05496050021014156882"
     },
     "user_tz": -540
    },
    "id": "OgE0JYkytNXw",
    "outputId": "232e88cf-f4a3-4056-f3b7-47ecb2637f95"
   },
   "outputs": [
    {
     "name": "stdout",
     "output_type": "stream",
     "text": [
      "y=1 ratio : 0.32569\n"
     ]
    }
   ],
   "source": [
    "# 라벨(depvar) 비율 확인\n",
    "print('y=1 ratio :', df.depvar.sum()/len(df))"
   ]
  },
  {
   "cell_type": "markdown",
   "metadata": {
    "id": "U9jw-pcptNXy"
   },
   "source": [
    "# Train Valid Split"
   ]
  },
  {
   "cell_type": "code",
   "execution_count": 10,
   "metadata": {
    "id": "o3n8rlBFtNXy"
   },
   "outputs": [],
   "source": [
    "X = df.drop('depvar', axis=1)\n",
    "y = df['depvar']"
   ]
  },
  {
   "cell_type": "code",
   "execution_count": 11,
   "metadata": {
    "id": "j0yMaESktNXz"
   },
   "outputs": [],
   "source": [
    "# data를 training set과 validation set으로 나누기\n",
    "X_train, X_valid, y_train, y_valid = train_test_split(X, y, test_size=0.2)"
   ]
  },
  {
   "cell_type": "code",
   "execution_count": 12,
   "metadata": {
    "colab": {
     "base_uri": "https://localhost:8080/"
    },
    "executionInfo": {
     "elapsed": 6,
     "status": "ok",
     "timestamp": 1643122509024,
     "user": {
      "displayName": "김태훈",
      "photoUrl": "https://lh3.googleusercontent.com/a/default-user=s64",
      "userId": "05496050021014156882"
     },
     "user_tz": -540
    },
    "id": "cfEJdRgHtNXz",
    "outputId": "e19ab1f1-05a4-44f2-a899-00f48e33fa5a"
   },
   "outputs": [
    {
     "name": "stdout",
     "output_type": "stream",
     "text": [
      "training set length : 80000\n",
      "validation set length : 20000\n"
     ]
    }
   ],
   "source": [
    "# training set과 validation set의 데이터 수 확인\n",
    "print('training set length :', len(X_train))\n",
    "print('validation set length :', len(X_valid))"
   ]
  },
  {
   "cell_type": "code",
   "execution_count": 13,
   "metadata": {
    "colab": {
     "base_uri": "https://localhost:8080/"
    },
    "executionInfo": {
     "elapsed": 5,
     "status": "ok",
     "timestamp": 1643122509024,
     "user": {
      "displayName": "김태훈",
      "photoUrl": "https://lh3.googleusercontent.com/a/default-user=s64",
      "userId": "05496050021014156882"
     },
     "user_tz": -540
    },
    "id": "OFeX02z6tNXz",
    "outputId": "38fe17fe-0143-4832-80c7-29694a175d93"
   },
   "outputs": [
    {
     "data": {
      "text/plain": [
       "0.3274"
      ]
     },
     "execution_count": 13,
     "metadata": {},
     "output_type": "execute_result"
    }
   ],
   "source": [
    "# validation set의 라벨 비율 확인\n",
    "y_valid.sum()/len(y_valid)"
   ]
  },
  {
   "cell_type": "markdown",
   "metadata": {
    "id": "i4qJsie7tNX0"
   },
   "source": [
    "# Single Model(XGBoost)\n",
    "## XGBClassifier의 하이퍼 파라미터 설명\n",
    "- **LINK** : https://xgboost.readthedocs.io/en/stable/python/python_api.html#xgboost.XGBClassifier\n",
    "- **max_depth=3** : 디시전 트리의 최대 깊이\n",
    "- **learning_rate=0.1** : 0과 1 사이의 값을 가지는 부스팅에 대한 학습률(eta). 매 부스팅 단계 이후 새로이 추가된 가중치는 이 파라미터로 조정된다. 이 값이 낮을수록 보수적이며, 수렴에 필요한 더 많은 디시전 트리가 필요하다.\n",
    "- **n_estimators=100** : 라운드의 횟수 또는 부스팅된 디시전 트리의 개수\n",
    "- **silent=True** : 부스팅의 수행 동안 메시지를 출력할지에 대한 여부\n",
    "- **objective=\"reg:linear\"** : 모델이 학습할 작업의 분류, 미리 정의된 작업은 문자열로 지정이 가능하지만, 그렇지 않은 경우 콜러블callable을 만들어서 지정할 수도 있다.\n",
    "- **booster=\"gbtree\"** : 'gbtree', 'gblinear', 'dart'일 수 있다. 'dart'는 드롭아웃(dropout)이라는 특성을 추가한다(과적합 방지를 위해 무작위로 디시전 트리를 선택해 제거(드롭)한다). 'gblinear'는 정규화된 선형 모델을 만든다(디시전 트리가 아니라 라소 회귀와 유사하다).\n",
    "- **nthread=None** : 더 이상 사용되지 않는다.\n",
    "- **n_jobs** : 사용할 스레드의 개수\n",
    "- **gamma=0** : 노드 분할에 필요한 최소 손실 감소\n",
    "- **min_child_weight=1** : 자식 노드 생성에 필요한 헤시안(hessian) 합의 최솟값\n",
    "- **max_delta_step=0** : 보다 보수적으로 갱신을 수행하도록 만드는 값. 불균형 범주의 데이터셋에 대해서는 1부터 10까지의 값으로 설정한다.\n",
    "- **subsample=1** : 부스팅에 사용할 샘플의 비율\n",
    "- **colsample_bytree=1** : 부스팅에 사용할 특징 열의 비율\n",
    "- **colsample_bylevel=1** : 각 디시전 트리의 수준별 사용할 특징 열의 비율\n",
    "- **colsample_bynode=1** : 각 디시전 트리의 노드별 사용할 특징 열의 비율\n",
    "- **reg_alpha=0** : L1 정규화(가중치의 평균). 이 값이 클수록 보수적이게 된다.\n",
    "- **reg_lambda=1** : L2 정규화(가중치의 제곱근). 이 값이 클수록 보수적이게 된다.\n",
    "- **base_score=.5** : 초기 편향치(bias)\n",
    "- **seed=None** : 더 이상 사용되지 않는다.\n",
    "- **random_state=0** : 난수 생성 시드\n",
    "- **missing=None** : 누락된 데이터가 해석될 값. None은 np.nan을 의미한다.\n",
    "- **importance_type='gain'** : 특징 중요도의 유형. 'gain', 'weight', 'cover', 'total_gain', 'total_cover'로 설정될 수 있다."
   ]
  },
  {
   "cell_type": "code",
   "execution_count": 14,
   "metadata": {
    "colab": {
     "base_uri": "https://localhost:8080/"
    },
    "executionInfo": {
     "elapsed": 199867,
     "status": "ok",
     "timestamp": 1643122708888,
     "user": {
      "displayName": "김태훈",
      "photoUrl": "https://lh3.googleusercontent.com/a/default-user=s64",
      "userId": "05496050021014156882"
     },
     "user_tz": -540
    },
    "id": "W4jFuDdZG9mX",
    "outputId": "949717f8-643f-4fa0-f557-b5fa07290c66"
   },
   "outputs": [
    {
     "name": "stdout",
     "output_type": "stream",
     "text": [
      "[13:44:37] WARNING: C:/Users/Administrator/workspace/xgboost-win64_release_1.5.1/src/learner.cc:1115: Starting in XGBoost 1.3.0, the default evaluation metric used with the objective 'binary:logistic' was changed from 'error' to 'logloss'. Explicitly set eval_metric if you'd like to restore the old behavior.\n"
     ]
    },
    {
     "data": {
      "text/plain": [
       "{'max_depth': 3, 'n_estimators': 100}"
      ]
     },
     "execution_count": 14,
     "metadata": {},
     "output_type": "execute_result"
    }
   ],
   "source": [
    "# 하이퍼 파라미터 튜닝\n",
    "xgb_clf = xgboost.XGBClassifier()\n",
    "\n",
    "param_grid = {'max_depth':[3],\n",
    "              'n_estimators':[50, 100]}\n",
    "\n",
    "cv=RepeatedStratifiedKFold(n_splits=5, n_repeats=2)\n",
    "\n",
    "grid_search = GridSearchCV(estimator=xgb_clf,\n",
    "                           param_grid=param_grid, \n",
    "                           n_jobs=-1,\n",
    "                           cv=cv,\n",
    "                           scoring='accuracy', \n",
    "                           error_score=0) \n",
    "\n",
    "results=grid_search.fit(X_train, y_train)\n",
    "\n",
    "results.best_params_"
   ]
  },
  {
   "cell_type": "code",
   "execution_count": 15,
   "metadata": {
    "id": "7JcFCUqpG9o2"
   },
   "outputs": [],
   "source": [
    "# best parameter를 사용하여 prediction 수행\n",
    "xgb_clf = xgboost.XGBClassifier(max_depth = results.best_params_['max_depth'],\n",
    "                                n_estimators = results.best_params_['n_estimators'],\n",
    "                                eval_metric='mlogloss')\n",
    "\n",
    "xgb_clf.fit(X_train, y_train)\n",
    "\n",
    "y_pred_xgb = xgb_clf.predict(X_valid)"
   ]
  },
  {
   "cell_type": "code",
   "execution_count": 16,
   "metadata": {
    "colab": {
     "base_uri": "https://localhost:8080/"
    },
    "executionInfo": {
     "elapsed": 25,
     "status": "ok",
     "timestamp": 1643122726628,
     "user": {
      "displayName": "김태훈",
      "photoUrl": "https://lh3.googleusercontent.com/a/default-user=s64",
      "userId": "05496050021014156882"
     },
     "user_tz": -540
    },
    "id": "BChLR6koG9q_",
    "outputId": "d88c9530-9636-4244-dbaf-afc7e37627e7"
   },
   "outputs": [
    {
     "name": "stdout",
     "output_type": "stream",
     "text": [
      "20000\n"
     ]
    },
    {
     "data": {
      "text/plain": [
       "array([[0.83898807, 0.1610119 ],\n",
       "       [0.8788133 , 0.12118665],\n",
       "       [0.48902172, 0.5109783 ],\n",
       "       ...,\n",
       "       [0.7815137 , 0.21848634],\n",
       "       [0.45436037, 0.54563963],\n",
       "       [0.73512125, 0.26487878]], dtype=float32)"
      ]
     },
     "execution_count": 16,
     "metadata": {},
     "output_type": "execute_result"
    }
   ],
   "source": [
    "# y_valid가 0 또는 1일 확률 출력\n",
    "y_pred_prob = xgb_clf.predict_proba(X_valid)\n",
    "\n",
    "print(len(y_pred_prob))\n",
    "y_pred_prob"
   ]
  },
  {
   "cell_type": "code",
   "execution_count": 17,
   "metadata": {
    "colab": {
     "base_uri": "https://localhost:8080/"
    },
    "executionInfo": {
     "elapsed": 22,
     "status": "ok",
     "timestamp": 1643122726628,
     "user": {
      "displayName": "김태훈",
      "photoUrl": "https://lh3.googleusercontent.com/a/default-user=s64",
      "userId": "05496050021014156882"
     },
     "user_tz": -540
    },
    "id": "P0j21hQ5tNX2",
    "outputId": "c992ac49-64da-4cb8-8995-d1c06ba915a9"
   },
   "outputs": [
    {
     "data": {
      "text/plain": [
       "array([0.1610119 , 0.12118665, 0.5109783 , ..., 0.21848634, 0.54563963,\n",
       "       0.26487878], dtype=float32)"
      ]
     },
     "execution_count": 17,
     "metadata": {},
     "output_type": "execute_result"
    }
   ],
   "source": [
    "# y_valid가 1일 확률 출력\n",
    "y_pred_prob[:,1]"
   ]
  },
  {
   "cell_type": "code",
   "execution_count": 18,
   "metadata": {
    "colab": {
     "base_uri": "https://localhost:8080/"
    },
    "executionInfo": {
     "elapsed": 21,
     "status": "ok",
     "timestamp": 1643122726629,
     "user": {
      "displayName": "김태훈",
      "photoUrl": "https://lh3.googleusercontent.com/a/default-user=s64",
      "userId": "05496050021014156882"
     },
     "user_tz": -540
    },
    "id": "0sN4rLY5tNX2",
    "outputId": "2c3a2859-fba1-4fc1-b1b2-81465441441d"
   },
   "outputs": [
    {
     "name": "stdout",
     "output_type": "stream",
     "text": [
      "20000\n"
     ]
    },
    {
     "data": {
      "text/plain": [
       "array([0, 0, 1, ..., 0, 1, 0], dtype=int64)"
      ]
     },
     "execution_count": 18,
     "metadata": {},
     "output_type": "execute_result"
    }
   ],
   "source": [
    "# y_valid 예측값 출력\n",
    "# y_pred_prob[:,1]이 0.5(threshold)보다 큰 경우 1의 예측값을 return한다\n",
    "\n",
    "print(len(y_pred_xgb))\n",
    "y_pred_xgb"
   ]
  },
  {
   "cell_type": "code",
   "execution_count": 19,
   "metadata": {
    "colab": {
     "base_uri": "https://localhost:8080/"
    },
    "executionInfo": {
     "elapsed": 20,
     "status": "ok",
     "timestamp": 1643122726630,
     "user": {
      "displayName": "김태훈",
      "photoUrl": "https://lh3.googleusercontent.com/a/default-user=s64",
      "userId": "05496050021014156882"
     },
     "user_tz": -540
    },
    "id": "3RNfnU-RtNX2",
    "outputId": "0d47cf8e-84cd-4e65-8250-5b2799f07b31"
   },
   "outputs": [
    {
     "name": "stdout",
     "output_type": "stream",
     "text": [
      "4273\n",
      "0.21365\n"
     ]
    }
   ],
   "source": [
    "# 1로 예측된 y_valid 갯수 및 비율 출력\n",
    "print(y_pred_xgb.sum())\n",
    "print(y_pred_xgb.sum()/len(y_pred_xgb))"
   ]
  },
  {
   "cell_type": "code",
   "execution_count": 20,
   "metadata": {
    "id": "3mIAhdCstNX3"
   },
   "outputs": [],
   "source": [
    "# 평가 함수 정의\n",
    "def get_clf_eval(y_actual, y_pred):\n",
    "    accuracy = accuracy_score(y_actual, y_pred)\n",
    "    precision = precision_score(y_actual, y_pred)\n",
    "    recall = recall_score(y_actual, y_pred)\n",
    "    AUC = roc_auc_score(y_actual, y_pred)\n",
    "    F1 = f1_score(y_actual, y_pred)\n",
    "    print('\\n정확도: {:.4f}'.format(accuracy))\n",
    "    print('정밀도: {:.4f}'.format(precision))\n",
    "    print('재현율: {:.4f}'.format(recall))\n",
    "    print('AUC: {:.4f}'.format(AUC))\n",
    "    print('F1: {:.4f}'.format(F1))\n",
    "    \n",
    "    sns.heatmap(confusion_matrix(y_actual, y_pred), annot=True, fmt='d', cmap='YlGnBu')"
   ]
  },
  {
   "cell_type": "code",
   "execution_count": 21,
   "metadata": {
    "colab": {
     "base_uri": "https://localhost:8080/",
     "height": 375
    },
    "executionInfo": {
     "elapsed": 693,
     "status": "ok",
     "timestamp": 1643122727307,
     "user": {
      "displayName": "김태훈",
      "photoUrl": "https://lh3.googleusercontent.com/a/default-user=s64",
      "userId": "05496050021014156882"
     },
     "user_tz": -540
    },
    "id": "0JYjY0cBtNX3",
    "outputId": "220ee4d7-87e0-41c6-ef3f-0ddb0c40f7d5"
   },
   "outputs": [
    {
     "name": "stdout",
     "output_type": "stream",
     "text": [
      "\n",
      "정확도: 0.7477\n",
      "정밀도: 0.6756\n",
      "재현율: 0.4409\n",
      "AUC: 0.6689\n",
      "F1: 0.5336\n"
     ]
    },
    {
     "data": {
      "image/png": "[encoded data removed]",
      "text/plain": [
       "<Figure size 432x288 with 2 Axes>"
      ]
     },
     "metadata": {
      "needs_background": "light"
     },
     "output_type": "display_data"
    }
   ],
   "source": [
    "# xgboost 성능 확인\n",
    "get_clf_eval(y_valid, y_pred_xgb)"
   ]
  },
  {
   "cell_type": "code",
   "execution_count": 22,
   "metadata": {
    "colab": {
     "base_uri": "https://localhost:8080/",
     "height": 375
    },
    "executionInfo": {
     "elapsed": 16,
     "status": "ok",
     "timestamp": 1643122727308,
     "user": {
      "displayName": "김태훈",
      "photoUrl": "https://lh3.googleusercontent.com/a/default-user=s64",
      "userId": "05496050021014156882"
     },
     "user_tz": -540
    },
    "id": "kaLgKgwctNX3",
    "outputId": "584193b1-aff3-4d6d-fe85-e5616f8fcea7"
   },
   "outputs": [
    {
     "name": "stdout",
     "output_type": "stream",
     "text": [
      "\n",
      "정확도: 0.7499\n",
      "정밀도: 0.6268\n",
      "재현율: 0.5831\n",
      "AUC: 0.7071\n",
      "F1: 0.6042\n"
     ]
    },
    {
     "data": {
      "image/png": "[encoded data removed]",
      "text/plain": [
       "<Figure size 432x288 with 2 Axes>"
      ]
     },
     "metadata": {
      "needs_background": "light"
     },
     "output_type": "display_data"
    }
   ],
   "source": [
    "# threshold 변경 및 성능 확인\n",
    "get_clf_eval(y_valid, y_pred_prob[:,1]>0.4)"
   ]
  },
  {
   "cell_type": "markdown",
   "metadata": {
    "id": "-0GmMJ3stNX4"
   },
   "source": [
    "# Ensemble(Voting)"
   ]
  },
  {
   "cell_type": "code",
   "execution_count": null,
   "metadata": {
    "id": "h7gnZcNntNX4"
   },
   "outputs": [],
   "source": [
    "rnd_clf = RandomForestClassifier()\n",
    "lgbm_clf = LGBMClassifier()\n",
    "# rid_clf = RidgeClassifier()\n",
    "# dtc_clf = DecisionTreeClassifier()\n",
    "# svm_clf = SVC()\n",
    "# ada_clf = AdaBoostClassifier()\n",
    "# gbc_clf = GradientBoostingClassifier()\n",
    "# bag_clf = BaggingClassifier()\n",
    "# ext_clf = ExtraTreesClassifier()\n",
    "# knn_clf = KNeighborsClassifier()\n",
    "# svc_clf = SVC()\n",
    "\n",
    "voting_clf = VotingClassifier(estimators=[('rnd', rnd_clf), ('lgbm', lgbm_clf), ('xgb', xgb_clf)], voting='soft')"
   ]
  },
  {
   "cell_type": "code",
   "execution_count": null,
   "metadata": {
    "colab": {
     "base_uri": "https://localhost:8080/",
     "height": 375
    },
    "executionInfo": {
     "elapsed": 88368,
     "status": "ok",
     "timestamp": 1643122815669,
     "user": {
      "displayName": "김태훈",
      "photoUrl": "https://lh3.googleusercontent.com/a/default-user=s64",
      "userId": "05496050021014156882"
     },
     "user_tz": -540
    },
    "id": "nCnVIn1ktNX4",
    "outputId": "02c908a5-a95a-4236-c5f7-3c7ab1023aae"
   },
   "outputs": [
    {
     "name": "stdout",
     "output_type": "stream",
     "text": [
      "\n",
      "정확도: 0.7459\n",
      "정밀도: 0.6835\n",
      "재현율: 0.4038\n",
      "AUC: 0.6570\n",
      "F1: 0.5077\n"
     ]
    },
    {
     "data": {
      "image/png": "[encoded data removed]",
      "text/plain": [
       "<Figure size 432x288 with 2 Axes>"
      ]
     },
     "metadata": {
      "needs_background": "light"
     },
     "output_type": "display_data"
    }
   ],
   "source": [
    "for clf in (rnd_clf, lgbm_clf, xgb_clf, voting_clf):\n",
    "    clf.fit(X_train, y_train)\n",
    "    y_pred_vote = clf.predict(X_valid)\n",
    "\n",
    "# ensemble(voting) 성능 확인\n",
    "get_clf_eval(y_valid, y_pred_vote)"
   ]
  },
  {
   "cell_type": "markdown",
   "metadata": {
    "id": "k8spNdkMtNX4"
   },
   "source": [
    "# Ensemble(Stacking)"
   ]
  },
  {
   "cell_type": "code",
   "execution_count": null,
   "metadata": {
    "colab": {
     "base_uri": "https://localhost:8080/"
    },
    "executionInfo": {
     "elapsed": 215123,
     "status": "ok",
     "timestamp": 1643123030776,
     "user": {
      "displayName": "김태훈",
      "photoUrl": "https://lh3.googleusercontent.com/a/default-user=s64",
      "userId": "05496050021014156882"
     },
     "user_tz": -540
    },
    "id": "VQsGhnt2tNX5",
    "outputId": "801e5eb3-7d8e-47a8-e9aa-933b2caac7ff"
   },
   "outputs": [
    {
     "name": "stdout",
     "output_type": "stream",
     "text": [
      "\n",
      "정확도: 0.7560\n",
      "정밀도: 0.6589\n",
      "재현율: 0.5138\n",
      "AUC: 0.6930\n",
      "F1: 0.5774\n"
     ]
    },
    {
     "data": {
      "image/png": "[encoded data removed]",
      "text/plain": [
       "<Figure size 432x288 with 2 Axes>"
      ]
     },
     "metadata": {
      "needs_background": "light"
     },
     "output_type": "display_data"
    }
   ],
   "source": [
    "stacking_clf = StackingClassifier(estimators=[('rnd', rnd_clf), ('lgbm', lgbm_clf), ('xgb', xgb_clf)], final_estimator = LGBMClassifier())\n",
    "stacking_clf.fit(X_train, y_train)\n",
    "y_pred_stack = stacking_clf.predict(X_valid)\n",
    "\n",
    "# ensemble(stacking) 성능 확인\n",
    "get_clf_eval(y_valid, y_pred_stack)"
   ]
  },
  {
   "cell_type": "markdown",
   "metadata": {
    "id": "8RWI78FKtNX5"
   },
   "source": [
    "# Submission"
   ]
  },
  {
   "cell_type": "code",
   "execution_count": 25,
   "metadata": {
    "id": "8pTC3C6xtNX5"
   },
   "outputs": [],
   "source": [
    "# 제출 양식 다운로드\n",
    "submit = pd.read_csv('./sample_submission.csv')\n",
    "\n",
    "# prediction 수행\n",
    "df_test = pd.read_csv('./test.csv')\n",
    "submit['answer'] = xgb_clf.predict(df_test.drop(columns=['ID']))\n",
    "\n",
    "# 제출 파일 저장\n",
    "submit.to_csv('./prediction.csv', index=False)"
   ]
  },
  {
   "cell_type": "code",
   "execution_count": null,
   "metadata": {},
   "outputs": [],
   "source": []
  }
 ],
 "metadata": {
  "colab": {
   "name": "tabular_bankrupt.ipynb",
   "provenance": []
  },
  "kernelspec": {
   "display_name": "Python 3",
   "language": "python",
   "name": "python3"
  },
  "language_info": {
   "codemirror_mode": {
    "name": "ipython",
    "version": 3
   },
   "file_extension": ".py",
   "mimetype": "text/x-python",
   "name": "python",
   "nbconvert_exporter": "python",
   "pygments_lexer": "ipython3",
   "version": "3.8.8"
  }
 },
 "nbformat": 4,
 "nbformat_minor": 1
}
