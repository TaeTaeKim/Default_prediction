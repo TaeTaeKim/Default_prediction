{
 "cells": [
  {
   "cell_type": "code",
   "execution_count": 1,
   "id": "e8a32f7d",
   "metadata": {},
   "outputs": [],
   "source": [
    "import pandas as pd\n",
    "import numpy as np\n",
    "from datetime import datetime\n",
    "import pickle #모델 저장을 위한 모듈\n",
    "from imblearn.over_sampling import SMOTE # upsampling을 위한 모듈\n",
    "import winsound\n",
    "\n",
    "import seaborn as sns\n",
    "import matplotlib\n",
    "import matplotlib.pyplot as plt\n",
    "%matplotlib inline\n",
    "\n",
    "import xgboost\n",
    "from xgboost import XGBClassifier \n",
    "from lightgbm import LGBMClassifier\n",
    "\n",
    "from sklearn import preprocessing\n",
    "from sklearn.svm import SVC\n",
    "from sklearn.tree import DecisionTreeClassifier\n",
    "from sklearn.neighbors import KNeighborsClassifier\n",
    "from sklearn.ensemble import RandomForestClassifier, AdaBoostClassifier, ExtraTreesClassifier, BaggingClassifier, GradientBoostingClassifier, VotingClassifier, StackingClassifier\n",
    "from sklearn.linear_model import LogisticRegression, LinearRegression, Ridge, RidgeCV, RidgeClassifier,RidgeClassifierCV\n",
    "from sklearn.model_selection import train_test_split, RepeatedStratifiedKFold, GridSearchCV, RandomizedSearchCV\n",
    "\n",
    "import sklearn.metrics as metrics\n",
    "from sklearn.metrics import accuracy_score, precision_score, recall_score, f1_score, roc_auc_score, roc_curve, auc, confusion_matrix\n"
   ]
  },
  {
   "cell_type": "code",
   "execution_count": 2,
   "id": "ddfddd62",
   "metadata": {
    "scrolled": true
   },
   "outputs": [
    {
     "name": "stdout",
     "output_type": "stream",
     "text": [
      "<class 'pandas.core.frame.DataFrame'>\n",
      "RangeIndex: 100000 entries, 0 to 99999\n",
      "Data columns (total 76 columns):\n",
      " #   Column                      Non-Null Count   Dtype  \n",
      "---  ------                      --------------   -----  \n",
      " 0   int_rate                    100000 non-null  float64\n",
      " 1   annual_inc                  100000 non-null  float64\n",
      " 2   dti                         100000 non-null  float64\n",
      " 3   delinq_2yrs                 100000 non-null  int64  \n",
      " 4   inq_last_6mths              100000 non-null  int64  \n",
      " 5   pub_rec                     100000 non-null  int64  \n",
      " 6   revol_bal                   100000 non-null  int64  \n",
      " 7   total_acc                   100000 non-null  int64  \n",
      " 8   collections_12_mths_ex_med  100000 non-null  int64  \n",
      " 9   acc_now_delinq              100000 non-null  int64  \n",
      " 10  tot_coll_amt                100000 non-null  int64  \n",
      " 11  tot_cur_bal                 100000 non-null  int64  \n",
      " 12  chargeoff_within_12_mths    100000 non-null  int64  \n",
      " 13  delinq_amnt                 100000 non-null  int64  \n",
      " 14  tax_liens                   100000 non-null  int64  \n",
      " 15  emp_length1                 100000 non-null  int64  \n",
      " 16  emp_length2                 100000 non-null  int64  \n",
      " 17  emp_length3                 100000 non-null  int64  \n",
      " 18  emp_length4                 100000 non-null  int64  \n",
      " 19  emp_length5                 100000 non-null  int64  \n",
      " 20  emp_length6                 100000 non-null  int64  \n",
      " 21  emp_length7                 100000 non-null  int64  \n",
      " 22  emp_length8                 100000 non-null  int64  \n",
      " 23  emp_length9                 100000 non-null  int64  \n",
      " 24  emp_length10                100000 non-null  int64  \n",
      " 25  emp_length11                100000 non-null  int64  \n",
      " 26  emp_length12                100000 non-null  int64  \n",
      " 27  home_ownership1             100000 non-null  int64  \n",
      " 28  home_ownership2             100000 non-null  int64  \n",
      " 29  home_ownership3             100000 non-null  int64  \n",
      " 30  home_ownership4             100000 non-null  int64  \n",
      " 31  home_ownership5             100000 non-null  int64  \n",
      " 32  home_ownership6             100000 non-null  int64  \n",
      " 33  verification_status1        100000 non-null  int64  \n",
      " 34  verification_status2        100000 non-null  int64  \n",
      " 35  verification_status3        100000 non-null  int64  \n",
      " 36  purpose1                    100000 non-null  int64  \n",
      " 37  purpose2                    100000 non-null  int64  \n",
      " 38  purpose3                    100000 non-null  int64  \n",
      " 39  purpose4                    100000 non-null  int64  \n",
      " 40  purpose5                    100000 non-null  int64  \n",
      " 41  purpose6                    100000 non-null  int64  \n",
      " 42  purpose7                    100000 non-null  int64  \n",
      " 43  purpose8                    100000 non-null  int64  \n",
      " 44  purpose9                    100000 non-null  int64  \n",
      " 45  purpose10                   100000 non-null  int64  \n",
      " 46  purpose11                   100000 non-null  int64  \n",
      " 47  purpose12                   100000 non-null  int64  \n",
      " 48  purpose13                   100000 non-null  int64  \n",
      " 49  purpose14                   100000 non-null  int64  \n",
      " 50  initial_list_status1        100000 non-null  int64  \n",
      " 51  initial_list_status2        100000 non-null  int64  \n",
      " 52  mths_since_last_delinq1     100000 non-null  int64  \n",
      " 53  mths_since_last_delinq2     100000 non-null  int64  \n",
      " 54  mths_since_last_delinq3     100000 non-null  int64  \n",
      " 55  mths_since_last_delinq4     100000 non-null  int64  \n",
      " 56  mths_since_last_delinq5     100000 non-null  int64  \n",
      " 57  mths_since_last_delinq6     100000 non-null  int64  \n",
      " 58  mths_since_last_delinq7     100000 non-null  int64  \n",
      " 59  mths_since_last_delinq8     100000 non-null  int64  \n",
      " 60  mths_since_last_delinq9     100000 non-null  int64  \n",
      " 61  mths_since_last_delinq10    100000 non-null  int64  \n",
      " 62  mths_since_last_delinq11    100000 non-null  int64  \n",
      " 63  funded_amnt                 100000 non-null  int64  \n",
      " 64  funded_amnt_inv             100000 non-null  float64\n",
      " 65  total_rec_late_fee          100000 non-null  float64\n",
      " 66  term1                       100000 non-null  int64  \n",
      " 67  open_acc                    100000 non-null  int64  \n",
      " 68  installment                 100000 non-null  float64\n",
      " 69  revol_util                  100000 non-null  float64\n",
      " 70  out_prncp                   100000 non-null  float64\n",
      " 71  out_prncp_inv               100000 non-null  float64\n",
      " 72  total_rec_int               100000 non-null  float64\n",
      " 73  fico_range_low              100000 non-null  int64  \n",
      " 74  fico_range_high             100000 non-null  int64  \n",
      " 75  depvar                      100000 non-null  int64  \n",
      "dtypes: float64(10), int64(66)\n",
      "memory usage: 58.0 MB\n"
     ]
    }
   ],
   "source": [
    "df = pd.read_csv(\"./train.csv\")\n",
    "df.info()"
   ]
  },
  {
   "cell_type": "code",
   "execution_count": 3,
   "id": "854dd5a7",
   "metadata": {},
   "outputs": [
    {
     "data": {
      "text/html": [
       "<div>\n",
       "<style scoped>\n",
       "    .dataframe tbody tr th:only-of-type {\n",
       "        vertical-align: middle;\n",
       "    }\n",
       "\n",
       "    .dataframe tbody tr th {\n",
       "        vertical-align: top;\n",
       "    }\n",
       "\n",
       "    .dataframe thead th {\n",
       "        text-align: right;\n",
       "    }\n",
       "</style>\n",
       "<table border=\"1\" class=\"dataframe\">\n",
       "  <thead>\n",
       "    <tr style=\"text-align: right;\">\n",
       "      <th></th>\n",
       "      <th>int_rate</th>\n",
       "      <th>annual_inc</th>\n",
       "      <th>dti</th>\n",
       "      <th>delinq_2yrs</th>\n",
       "      <th>inq_last_6mths</th>\n",
       "      <th>pub_rec</th>\n",
       "      <th>revol_bal</th>\n",
       "      <th>total_acc</th>\n",
       "      <th>collections_12_mths_ex_med</th>\n",
       "      <th>acc_now_delinq</th>\n",
       "      <th>...</th>\n",
       "      <th>term1</th>\n",
       "      <th>open_acc</th>\n",
       "      <th>installment</th>\n",
       "      <th>revol_util</th>\n",
       "      <th>out_prncp</th>\n",
       "      <th>out_prncp_inv</th>\n",
       "      <th>total_rec_int</th>\n",
       "      <th>fico_range_low</th>\n",
       "      <th>fico_range_high</th>\n",
       "      <th>depvar</th>\n",
       "    </tr>\n",
       "  </thead>\n",
       "  <tbody>\n",
       "    <tr>\n",
       "      <th>count</th>\n",
       "      <td>100000.000000</td>\n",
       "      <td>1.000000e+05</td>\n",
       "      <td>100000.000000</td>\n",
       "      <td>100000.000000</td>\n",
       "      <td>100000.000000</td>\n",
       "      <td>100000.000000</td>\n",
       "      <td>100000.000000</td>\n",
       "      <td>100000.000000</td>\n",
       "      <td>100000.000000</td>\n",
       "      <td>100000.000000</td>\n",
       "      <td>...</td>\n",
       "      <td>100000.000000</td>\n",
       "      <td>100000.000000</td>\n",
       "      <td>100000.000000</td>\n",
       "      <td>100000.000000</td>\n",
       "      <td>100000.000000</td>\n",
       "      <td>100000.000000</td>\n",
       "      <td>100000.000000</td>\n",
       "      <td>100000.000000</td>\n",
       "      <td>100000.000000</td>\n",
       "      <td>100000.000000</td>\n",
       "    </tr>\n",
       "    <tr>\n",
       "      <th>mean</th>\n",
       "      <td>0.130833</td>\n",
       "      <td>7.436061e+04</td>\n",
       "      <td>18.514508</td>\n",
       "      <td>0.343700</td>\n",
       "      <td>0.668880</td>\n",
       "      <td>0.235720</td>\n",
       "      <td>16090.202820</td>\n",
       "      <td>24.675910</td>\n",
       "      <td>0.018810</td>\n",
       "      <td>0.005800</td>\n",
       "      <td>...</td>\n",
       "      <td>0.855920</td>\n",
       "      <td>11.620700</td>\n",
       "      <td>434.077648</td>\n",
       "      <td>0.537233</td>\n",
       "      <td>0.253327</td>\n",
       "      <td>0.253259</td>\n",
       "      <td>2491.282802</td>\n",
       "      <td>692.630550</td>\n",
       "      <td>696.630660</td>\n",
       "      <td>0.325690</td>\n",
       "    </tr>\n",
       "    <tr>\n",
       "      <th>std</th>\n",
       "      <td>0.044773</td>\n",
       "      <td>7.467409e+04</td>\n",
       "      <td>8.413049</td>\n",
       "      <td>0.905007</td>\n",
       "      <td>0.952044</td>\n",
       "      <td>0.661468</td>\n",
       "      <td>21569.939271</td>\n",
       "      <td>11.883834</td>\n",
       "      <td>0.150321</td>\n",
       "      <td>0.083585</td>\n",
       "      <td>...</td>\n",
       "      <td>0.351173</td>\n",
       "      <td>5.458774</td>\n",
       "      <td>265.921746</td>\n",
       "      <td>0.239373</td>\n",
       "      <td>18.053290</td>\n",
       "      <td>18.051746</td>\n",
       "      <td>2706.262200</td>\n",
       "      <td>29.668017</td>\n",
       "      <td>29.668584</td>\n",
       "      <td>0.468634</td>\n",
       "    </tr>\n",
       "    <tr>\n",
       "      <th>min</th>\n",
       "      <td>0.053200</td>\n",
       "      <td>5.360000e+03</td>\n",
       "      <td>0.000000</td>\n",
       "      <td>0.000000</td>\n",
       "      <td>0.000000</td>\n",
       "      <td>0.000000</td>\n",
       "      <td>0.000000</td>\n",
       "      <td>2.000000</td>\n",
       "      <td>0.000000</td>\n",
       "      <td>0.000000</td>\n",
       "      <td>...</td>\n",
       "      <td>0.000000</td>\n",
       "      <td>1.000000</td>\n",
       "      <td>23.360000</td>\n",
       "      <td>0.000000</td>\n",
       "      <td>0.000000</td>\n",
       "      <td>0.000000</td>\n",
       "      <td>0.000000</td>\n",
       "      <td>660.000000</td>\n",
       "      <td>664.000000</td>\n",
       "      <td>0.000000</td>\n",
       "    </tr>\n",
       "    <tr>\n",
       "      <th>25%</th>\n",
       "      <td>0.097500</td>\n",
       "      <td>4.500000e+04</td>\n",
       "      <td>12.200000</td>\n",
       "      <td>0.000000</td>\n",
       "      <td>0.000000</td>\n",
       "      <td>0.000000</td>\n",
       "      <td>6009.000000</td>\n",
       "      <td>16.000000</td>\n",
       "      <td>0.000000</td>\n",
       "      <td>0.000000</td>\n",
       "      <td>...</td>\n",
       "      <td>1.000000</td>\n",
       "      <td>8.000000</td>\n",
       "      <td>240.292500</td>\n",
       "      <td>0.361000</td>\n",
       "      <td>0.000000</td>\n",
       "      <td>0.000000</td>\n",
       "      <td>857.292500</td>\n",
       "      <td>670.000000</td>\n",
       "      <td>674.000000</td>\n",
       "      <td>0.000000</td>\n",
       "    </tr>\n",
       "    <tr>\n",
       "      <th>50%</th>\n",
       "      <td>0.127400</td>\n",
       "      <td>6.200000e+04</td>\n",
       "      <td>18.060000</td>\n",
       "      <td>0.000000</td>\n",
       "      <td>0.000000</td>\n",
       "      <td>0.000000</td>\n",
       "      <td>11030.500000</td>\n",
       "      <td>23.000000</td>\n",
       "      <td>0.000000</td>\n",
       "      <td>0.000000</td>\n",
       "      <td>...</td>\n",
       "      <td>1.000000</td>\n",
       "      <td>11.000000</td>\n",
       "      <td>366.370000</td>\n",
       "      <td>0.541000</td>\n",
       "      <td>0.000000</td>\n",
       "      <td>0.000000</td>\n",
       "      <td>1615.160000</td>\n",
       "      <td>685.000000</td>\n",
       "      <td>689.000000</td>\n",
       "      <td>0.000000</td>\n",
       "    </tr>\n",
       "    <tr>\n",
       "      <th>75%</th>\n",
       "      <td>0.158000</td>\n",
       "      <td>9.000000e+04</td>\n",
       "      <td>24.530000</td>\n",
       "      <td>0.000000</td>\n",
       "      <td>1.000000</td>\n",
       "      <td>0.000000</td>\n",
       "      <td>19540.000000</td>\n",
       "      <td>31.000000</td>\n",
       "      <td>0.000000</td>\n",
       "      <td>0.000000</td>\n",
       "      <td>...</td>\n",
       "      <td>1.000000</td>\n",
       "      <td>14.000000</td>\n",
       "      <td>575.860000</td>\n",
       "      <td>0.720000</td>\n",
       "      <td>0.000000</td>\n",
       "      <td>0.000000</td>\n",
       "      <td>3039.115000</td>\n",
       "      <td>705.000000</td>\n",
       "      <td>709.000000</td>\n",
       "      <td>1.000000</td>\n",
       "    </tr>\n",
       "    <tr>\n",
       "      <th>max</th>\n",
       "      <td>0.309900</td>\n",
       "      <td>8.300000e+06</td>\n",
       "      <td>49.930000</td>\n",
       "      <td>20.000000</td>\n",
       "      <td>6.000000</td>\n",
       "      <td>63.000000</td>\n",
       "      <td>971736.000000</td>\n",
       "      <td>176.000000</td>\n",
       "      <td>5.000000</td>\n",
       "      <td>6.000000</td>\n",
       "      <td>...</td>\n",
       "      <td>1.000000</td>\n",
       "      <td>82.000000</td>\n",
       "      <td>1584.900000</td>\n",
       "      <td>8.923000</td>\n",
       "      <td>2330.970000</td>\n",
       "      <td>2330.970000</td>\n",
       "      <td>28005.960000</td>\n",
       "      <td>845.000000</td>\n",
       "      <td>850.000000</td>\n",
       "      <td>1.000000</td>\n",
       "    </tr>\n",
       "  </tbody>\n",
       "</table>\n",
       "<p>8 rows × 76 columns</p>\n",
       "</div>"
      ],
      "text/plain": [
       "            int_rate    annual_inc            dti    delinq_2yrs  \\\n",
       "count  100000.000000  1.000000e+05  100000.000000  100000.000000   \n",
       "mean        0.130833  7.436061e+04      18.514508       0.343700   \n",
       "std         0.044773  7.467409e+04       8.413049       0.905007   \n",
       "min         0.053200  5.360000e+03       0.000000       0.000000   \n",
       "25%         0.097500  4.500000e+04      12.200000       0.000000   \n",
       "50%         0.127400  6.200000e+04      18.060000       0.000000   \n",
       "75%         0.158000  9.000000e+04      24.530000       0.000000   \n",
       "max         0.309900  8.300000e+06      49.930000      20.000000   \n",
       "\n",
       "       inq_last_6mths        pub_rec      revol_bal      total_acc  \\\n",
       "count   100000.000000  100000.000000  100000.000000  100000.000000   \n",
       "mean         0.668880       0.235720   16090.202820      24.675910   \n",
       "std          0.952044       0.661468   21569.939271      11.883834   \n",
       "min          0.000000       0.000000       0.000000       2.000000   \n",
       "25%          0.000000       0.000000    6009.000000      16.000000   \n",
       "50%          0.000000       0.000000   11030.500000      23.000000   \n",
       "75%          1.000000       0.000000   19540.000000      31.000000   \n",
       "max          6.000000      63.000000  971736.000000     176.000000   \n",
       "\n",
       "       collections_12_mths_ex_med  acc_now_delinq  ...          term1  \\\n",
       "count               100000.000000   100000.000000  ...  100000.000000   \n",
       "mean                     0.018810        0.005800  ...       0.855920   \n",
       "std                      0.150321        0.083585  ...       0.351173   \n",
       "min                      0.000000        0.000000  ...       0.000000   \n",
       "25%                      0.000000        0.000000  ...       1.000000   \n",
       "50%                      0.000000        0.000000  ...       1.000000   \n",
       "75%                      0.000000        0.000000  ...       1.000000   \n",
       "max                      5.000000        6.000000  ...       1.000000   \n",
       "\n",
       "            open_acc    installment     revol_util      out_prncp  \\\n",
       "count  100000.000000  100000.000000  100000.000000  100000.000000   \n",
       "mean       11.620700     434.077648       0.537233       0.253327   \n",
       "std         5.458774     265.921746       0.239373      18.053290   \n",
       "min         1.000000      23.360000       0.000000       0.000000   \n",
       "25%         8.000000     240.292500       0.361000       0.000000   \n",
       "50%        11.000000     366.370000       0.541000       0.000000   \n",
       "75%        14.000000     575.860000       0.720000       0.000000   \n",
       "max        82.000000    1584.900000       8.923000    2330.970000   \n",
       "\n",
       "       out_prncp_inv  total_rec_int  fico_range_low  fico_range_high  \\\n",
       "count  100000.000000  100000.000000   100000.000000    100000.000000   \n",
       "mean        0.253259    2491.282802      692.630550       696.630660   \n",
       "std        18.051746    2706.262200       29.668017        29.668584   \n",
       "min         0.000000       0.000000      660.000000       664.000000   \n",
       "25%         0.000000     857.292500      670.000000       674.000000   \n",
       "50%         0.000000    1615.160000      685.000000       689.000000   \n",
       "75%         0.000000    3039.115000      705.000000       709.000000   \n",
       "max      2330.970000   28005.960000      845.000000       850.000000   \n",
       "\n",
       "              depvar  \n",
       "count  100000.000000  \n",
       "mean        0.325690  \n",
       "std         0.468634  \n",
       "min         0.000000  \n",
       "25%         0.000000  \n",
       "50%         0.000000  \n",
       "75%         1.000000  \n",
       "max         1.000000  \n",
       "\n",
       "[8 rows x 76 columns]"
      ]
     },
     "execution_count": 3,
     "metadata": {},
     "output_type": "execute_result"
    }
   ],
   "source": [
    "df.describe()"
   ]
  },
  {
   "cell_type": "code",
   "execution_count": 4,
   "id": "f90525d3",
   "metadata": {},
   "outputs": [
    {
     "data": {
      "text/plain": [
       "0    67431\n",
       "1    32569\n",
       "Name: depvar, dtype: int64"
      ]
     },
     "execution_count": 4,
     "metadata": {},
     "output_type": "execute_result"
    }
   ],
   "source": [
    "# Target의 var비율을 맞추기 위해 Upsampling 적용\n",
    "df['depvar'].value_counts()"
   ]
  },
  {
   "cell_type": "code",
   "execution_count": 5,
   "id": "fa12d9a5",
   "metadata": {},
   "outputs": [],
   "source": [
    "X = df.drop('depvar',axis=1)\n",
    "y = df.depvar"
   ]
  },
  {
   "cell_type": "markdown",
   "id": "710dbd16",
   "metadata": {},
   "source": [
    "## Data split"
   ]
  },
  {
   "cell_type": "code",
   "execution_count": 6,
   "id": "e46a11e6",
   "metadata": {},
   "outputs": [],
   "source": [
    "X_train,X_valid,y_train,y_valid = train_test_split(X,y,test_size=0.2,random_state=1001)"
   ]
  },
  {
   "cell_type": "markdown",
   "id": "9e340ea3",
   "metadata": {},
   "source": [
    "## SMOTE Upsampling"
   ]
  },
  {
   "cell_type": "code",
   "execution_count": 7,
   "id": "bac22aa0",
   "metadata": {},
   "outputs": [
    {
     "data": {
      "text/plain": [
       "0    0.5\n",
       "1    0.5\n",
       "Name: depvar, dtype: float64"
      ]
     },
     "execution_count": 7,
     "metadata": {},
     "output_type": "execute_result"
    }
   ],
   "source": [
    "smote = SMOTE(sampling_strategy='minority',random_state=1001)\n",
    "\n",
    "overed_X, overed_y = smote.fit_resample(X_train,y_train)\n",
    "overed_y.value_counts(normalize=True)"
   ]
  },
  {
   "cell_type": "markdown",
   "id": "96502eee",
   "metadata": {},
   "source": [
    "## Data standardzation"
   ]
  },
  {
   "cell_type": "code",
   "execution_count": 8,
   "id": "bf131e9a",
   "metadata": {},
   "outputs": [],
   "source": [
    "#표준화가 필요한 컬럼들\n",
    "to_norm = ['int_rate', 'annual_inc', 'dti', 'delinq_2yrs', 'inq_last_6mths',\n",
    "       'pub_rec', 'revol_bal', 'total_acc', 'collections_12_mths_ex_med',\n",
    "       'acc_now_delinq', 'tot_coll_amt', 'tot_cur_bal',\n",
    "       'chargeoff_within_12_mths', 'delinq_amnt', 'tax_liens', 'funded_amnt', 'funded_amnt_inv',\n",
    "       'total_rec_late_fee', 'term1', 'open_acc', 'installment', 'revol_util',\n",
    "       'out_prncp', 'out_prncp_inv', 'total_rec_int', 'fico_range_low',\n",
    "       'fico_range_high']"
   ]
  },
  {
   "cell_type": "code",
   "execution_count": 9,
   "id": "a65e548e",
   "metadata": {},
   "outputs": [],
   "source": [
    "# 정규분포를 이용한 normalization 함수\n",
    "def data_normalize(df):\n",
    "    result = df.copy()\n",
    "    for feature_name in to_norm:\n",
    "        avg = df[feature_name].mean()\n",
    "        std = df[feature_name].std()\n",
    "        result[feature_name] = (df[feature_name] - avg) / std\n",
    "    return result"
   ]
  },
  {
   "cell_type": "code",
   "execution_count": 10,
   "id": "e3bcad08",
   "metadata": {},
   "outputs": [],
   "source": [
    "overed_X = data_normalize(overed_X)\n",
    "X_valid = data_normalize(X_valid)\n",
    "X_train = data_normalize(X_train)"
   ]
  },
  {
   "cell_type": "code",
   "execution_count": 11,
   "id": "3cd64c72",
   "metadata": {},
   "outputs": [
    {
     "name": "stdout",
     "output_type": "stream",
     "text": [
      "원본 데이터 target의 비율 : 0.32569\n",
      "oversampled_train 데이터 target의 비율 : 0.5\n",
      "validation 데이터 target의 비율 : 0.3258\n"
     ]
    }
   ],
   "source": [
    "# split된 data셋의 target var 비율 분석.\n",
    "print(f\"원본 데이터 target의 비율 : {df.depvar.sum()/len(df)}\")\n",
    "print(f\"oversampled_train 데이터 target의 비율 : {overed_y.sum()/len(overed_y)}\")\n",
    "print(f\"validation 데이터 target의 비율 : {y_valid.sum()/len(y_valid)}\")"
   ]
  },
  {
   "cell_type": "markdown",
   "id": "619fed77",
   "metadata": {},
   "source": [
    "## 시간 체크함수, 모델 평가함수 정의"
   ]
  },
  {
   "cell_type": "code",
   "execution_count": 11,
   "id": "69725825",
   "metadata": {},
   "outputs": [],
   "source": [
    "def timer(start_time=None):\n",
    "    if not start_time:\n",
    "        start_time = datetime.now()\n",
    "        return start_time\n",
    "    elif start_time:\n",
    "        thour, temp_sec = divmod((datetime.now() - start_time).total_seconds(), 3600)\n",
    "        tmin, tsec = divmod(temp_sec, 60)\n",
    "        print('\\n Time taken: %i hours %i minutes and %s seconds.' % (thour, tmin, round(tsec, 2)))"
   ]
  },
  {
   "cell_type": "code",
   "execution_count": 12,
   "id": "bd81a8e8",
   "metadata": {},
   "outputs": [],
   "source": [
    "def get_clf_eval(y_actual, y_pred):\n",
    "    accuracy = accuracy_score(y_actual, y_pred)\n",
    "    precision = precision_score(y_actual, y_pred)\n",
    "    recall = recall_score(y_actual, y_pred)\n",
    "    AUC = roc_auc_score(y_actual, y_pred)\n",
    "    F1 = f1_score(y_actual, y_pred)\n",
    "    print('\\n정확도: {:.4f}'.format(accuracy))\n",
    "    print('정밀도: {:.4f}'.format(precision))\n",
    "    print('재현율: {:.4f}'.format(recall))\n",
    "    print('AUC: {:.4f}'.format(AUC))\n",
    "    print('F1: {:.4f}'.format(F1))\n",
    "    \n",
    "    sns.heatmap(confusion_matrix(y_actual, y_pred), annot=True, fmt='d', cmap='YlGnBu')"
   ]
  },
  {
   "cell_type": "code",
   "execution_count": 13,
   "id": "ac35b0b3",
   "metadata": {},
   "outputs": [],
   "source": [
    "# threshold tuning 함수\n",
    "def Threshold_tuing(model):\n",
    "    # Threshold조정\n",
    "    y_pred_prob = model.predict_proba(X_valid)\n",
    "    f1_by_threshold={}\n",
    "    for i in np.arange(0.1,0.5,0.01):\n",
    "        f1_by_threshold[i] = f1_score(y_valid,y_pred_prob[:,1]>i)\n",
    "    plt.plot(f1_by_threshold.keys(),f1_by_threshold.values())\n",
    "    plt.title(\"F1_score by Threshold\",fontsize=15)\n",
    "    plt.grid(True)\n",
    "    plt.show()\n",
    "    print(sorted(list(f1_by_threshold.items()),key=lambda x:x[1],reverse=True)[0])"
   ]
  },
  {
   "cell_type": "markdown",
   "id": "4a479371",
   "metadata": {},
   "source": [
    "# 1. XGboost기법"
   ]
  },
  {
   "cell_type": "markdown",
   "id": "d405f363",
   "metadata": {},
   "source": [
    "##### Normalized Train 데이터를 가지고 xgboost학습"
   ]
  },
  {
   "cell_type": "code",
   "execution_count": 15,
   "id": "e1220b07",
   "metadata": {},
   "outputs": [],
   "source": [
    "with open('./저장모델/xgboost_model.pkl','rb') as f:\n",
    "    normed_xgb = pickle.load(f)"
   ]
  },
  {
   "cell_type": "code",
   "execution_count": 80,
   "id": "122cae4c",
   "metadata": {},
   "outputs": [
    {
     "name": "stdout",
     "output_type": "stream",
     "text": [
      "Fitting 10 folds for each of 100 candidates, totalling 1000 fits\n",
      "\n",
      " Time taken: 0 hours 43 minutes and 50.52 seconds.\n"
     ]
    }
   ],
   "source": [
    "xgb = xgboost.XGBClassifier(use_label_encoder=False,objective='binary:logistic',tree_method='gpu_hist',\n",
    "                           predictor='gpu_predictor',eval_metric='mlogloss')\n",
    "param_grid = {\n",
    "    'learning_rate':[0.01,0.3,0.5,0.8],\n",
    "    'gamma':[0,1,2],\n",
    "    'max_depth': [3,5,7],\n",
    "    'min_child_weight':[0,1,2],\n",
    "    'subsample': [0.5,1],\n",
    "    'colsample_bytree':[0.5,1],\n",
    "    \"n_estimators\":[100,300]\n",
    "             }\n",
    "# train data를 2번 반복을 통한 5fold로 총 10개의 fold를 생성.\n",
    "cv=RepeatedStratifiedKFold(n_splits=5, n_repeats=2)\n",
    "\n",
    "\n",
    "# 각 파라미터를 그리드로 만들어서 주어진 파라미터를 넣고 fit한뒤 cv를 통한 f1스코어로 그리드 파라미터중에서 최고의 파라미터 조합을 찾는다.\n",
    "grid_search = RandomizedSearchCV(estimator=xgb,\n",
    "                          param_distributions=param_grid,\n",
    "                          cv= cv,\n",
    "                          error_score=0,\n",
    "                          scoring='f1',verbose=1,n_iter=100)\n",
    "start_time = timer(None)\n",
    "result = grid_search.fit(data_normalize(X_train),y_train)\n",
    "timer(start_time)"
   ]
  },
  {
   "cell_type": "code",
   "execution_count": 82,
   "id": "fb3f2b97",
   "metadata": {},
   "outputs": [
    {
     "name": "stdout",
     "output_type": "stream",
     "text": [
      "{'subsample': 1, 'n_estimators': 300, 'min_child_weight': 2, 'max_depth': 5, 'learning_rate': 0.3, 'gamma': 0, 'colsample_bytree': 1}\n",
      "\n",
      "정확도: 0.7450\n",
      "정밀도: 0.6410\n",
      "재현율: 0.4943\n",
      "AUC: 0.6803\n",
      "F1: 0.5582\n"
     ]
    },
    {
     "data": {
      "image/png": "[encoded data removed]",
      "text/plain": [
       "<Figure size 432x288 with 2 Axes>"
      ]
     },
     "metadata": {
      "needs_background": "light"
     },
     "output_type": "display_data"
    }
   ],
   "source": [
    "print(result.best_params_)\n",
    "normed_xgb = result.best_estimator_\n",
    "normed_xgb.fit(data_normalize(X_train),y_train)\n",
    "y_pred_xgb = normed_xgb.predict(X_valid)\n",
    "get_clf_eval(y_valid, y_pred_xgb)"
   ]
  },
  {
   "cell_type": "code",
   "execution_count": 218,
   "id": "a4f9ad4d",
   "metadata": {},
   "outputs": [
    {
     "data": {
      "image/png": "[encoded data removed]",
      "text/plain": [
       "<Figure size 432x288 with 1 Axes>"
      ]
     },
     "metadata": {
      "needs_background": "light"
     },
     "output_type": "display_data"
    },
    {
     "name": "stdout",
     "output_type": "stream",
     "text": [
      "(0.2899999999999999, 0.6308602639963586)\n"
     ]
    }
   ],
   "source": [
    "Threshold_tuing(normed_xgb)"
   ]
  },
  {
   "cell_type": "code",
   "execution_count": 85,
   "id": "6f1f2a4a",
   "metadata": {},
   "outputs": [],
   "source": [
    "with open('./저장모델/xgboost_model.pkl','wb') as file:\n",
    "    pickle.dump(normed_xgb, file)"
   ]
  },
  {
   "cell_type": "markdown",
   "id": "a8c94751",
   "metadata": {},
   "source": [
    "# 2. C Suppiort vector machine"
   ]
  },
  {
   "cell_type": "code",
   "execution_count": null,
   "id": "47a6f092",
   "metadata": {},
   "outputs": [],
   "source": [
    "c = [0.1,1,3,5,7,9,10,11,12,13]\n",
    "precision =[]\n",
    "recall=[]\n",
    "f1 = []\n",
    "for i in [0.1,1,3,5,7,9,10,11,12,13]:\n",
    "    svm = SVC(C=i)\n",
    "    svm.fit(overed_X,overed_y)\n",
    "    svm_pred = svm.predict(X_valid)\n",
    "    precision.append(precision_score(y_valid,svm_pred))\n",
    "    recall.append(recall_score(y_valid,svm_pred))\n",
    "    f1.append(f1_score(y_valid,svm_pred))\n",
    "    if f1_score(y_valid,svm_pred)<=f1[-1]:\n",
    "        break\n",
    "    "
   ]
  },
  {
   "cell_type": "code",
   "execution_count": 55,
   "id": "ced6f136",
   "metadata": {},
   "outputs": [],
   "source": [
    "# 각 C값에 대한 정확도 정밀도 f1스코어\n",
    "c= [0.1,1,3,5,7,9,10,11,12,13]\n",
    "precision =[0,0.6485,0.6317,0.6232,0.6162,0.6109,0.6085,0.6075,0.6053,0.6018]\n",
    "recall= [0,0.4598,0.4975,0.5130,0.5219,0.5279,0.5313,0.5330,0.5350,0.5374]\n",
    "f1=[0,0.5381,0.5567,0.5628,0.5652,0.5664,0.5673,0.5678,0.5680,0.5678]"
   ]
  },
  {
   "cell_type": "code",
   "execution_count": 54,
   "id": "4967bf12",
   "metadata": {
    "scrolled": false
   },
   "outputs": [
    {
     "data": {
      "image/png": "[encoded data removed]",
      "text/plain": [
       "<Figure size 432x288 with 1 Axes>"
      ]
     },
     "metadata": {
      "needs_background": "light"
     },
     "output_type": "display_data"
    }
   ],
   "source": [
    "# C 에따른 정밀도 재현율 f1스코어 그래프\n",
    "plt.grid(True)\n",
    "plt.xlabel('C',fontsize=15)\n",
    "plt.title('Precision,Recall, F1-score by C',fontsize=15)\n",
    "prec_plt = plt.plot(c[1:],precision[1:],color = 'r',marker='s',label='Precision')\n",
    "ecall_plt = plt.plot(c[1:],recall[1:],color='b',marker='o',label='Recall')\n",
    "f1_plt = plt.plot(c[1:],f1[1:],color='g',marker='*',label='F1-score')\n",
    "plt.legend()\n",
    "plt.tight_layout()\n",
    "plt.show()"
   ]
  },
  {
   "cell_type": "code",
   "execution_count": null,
   "id": "768c9b6f",
   "metadata": {},
   "outputs": [],
   "source": [
    "best_svm = SVC(C=12,probability=True)\n",
    "best_svm.fit(overed_X,overed_y)"
   ]
  },
  {
   "cell_type": "code",
   "execution_count": 237,
   "id": "aba3a49a",
   "metadata": {},
   "outputs": [
    {
     "data": {
      "image/png": "[encoded data removed]",
      "text/plain": [
       "<Figure size 432x288 with 1 Axes>"
      ]
     },
     "metadata": {
      "needs_background": "light"
     },
     "output_type": "display_data"
    },
    {
     "name": "stdout",
     "output_type": "stream",
     "text": [
      "(0.32999999999999985, 0.6062588174939079)\n"
     ]
    }
   ],
   "source": [
    "Threshold_tuing(best_svm)"
   ]
  },
  {
   "cell_type": "code",
   "execution_count": 40,
   "id": "73a2ab0d",
   "metadata": {},
   "outputs": [],
   "source": [
    "with open('./저장모델/bset_svm.pkl','wb') as file:\n",
    "    pickle.dump(best_svm,file)"
   ]
  },
  {
   "cell_type": "code",
   "execution_count": 16,
   "id": "e4762b5f",
   "metadata": {},
   "outputs": [],
   "source": [
    "with open('./저장모델/bset_svm.pkl','rb') as f:\n",
    "    best_svm = pickle.load(f)"
   ]
  },
  {
   "cell_type": "markdown",
   "id": "bca5e8d9",
   "metadata": {},
   "source": [
    "# 3. DNN - full connected network"
   ]
  },
  {
   "cell_type": "code",
   "execution_count": 14,
   "id": "cb1e07e3",
   "metadata": {},
   "outputs": [],
   "source": [
    "import torch\n",
    "import torch.nn as nn\n",
    "import torch.optim as optim\n",
    "from torch.nn.functional import softmax,sigmoid\n",
    "from torch.utils.data import Dataset\n",
    "from torch.utils.data import DataLoader"
   ]
  },
  {
   "cell_type": "code",
   "execution_count": 62,
   "id": "6ff60ffa",
   "metadata": {},
   "outputs": [
    {
     "data": {
      "text/plain": [
       "<torch._C.Generator at 0x1dd3de05f10>"
      ]
     },
     "execution_count": 62,
     "metadata": {},
     "output_type": "execute_result"
    }
   ],
   "source": [
    "torch.manual_seed(31)"
   ]
  },
  {
   "cell_type": "code",
   "execution_count": 15,
   "id": "76a26b5b",
   "metadata": {},
   "outputs": [],
   "source": [
    "class NN_dataset(Dataset):\n",
    "    \n",
    "    def __init__(self,X_data,y_data):\n",
    "        self.X_data = X_data\n",
    "        self.y_data = y_data\n",
    "        \n",
    "    def __getitem__(self,index):\n",
    "        return self.X_data[index], self.y_data[index]\n",
    "    \n",
    "    def __len__(self):\n",
    "        return len(self.X_data)"
   ]
  },
  {
   "cell_type": "code",
   "execution_count": 81,
   "id": "2dded06e",
   "metadata": {},
   "outputs": [],
   "source": [
    "NN_train = NN_dataset(torch.FloatTensor(X_train.to_numpy()),torch.FloatTensor(y_train.to_numpy()))\n",
    "NN_valid = NN_dataset(torch.FloatTensor(X_valid.to_numpy()),torch.FloatTensor(y_valid.to_numpy()))\n",
    "NN_train_overed = NN_dataset(torch.FloatTensor(overed_X.to_numpy()),torch.FloatTensor(overed_y.to_numpy()))"
   ]
  },
  {
   "cell_type": "code",
   "execution_count": 63,
   "id": "c80e9bf0",
   "metadata": {},
   "outputs": [],
   "source": [
    "# validation결과를 보면서 Batchnorm과 Dropout layer추가\n",
    "class NN_binary(nn.Module):\n",
    "    def __init__(self,num_features,num_classes):\n",
    "        super(NN_binary,self).__init__()\n",
    "        \n",
    "        self.Layer = nn.Sequential(\n",
    "            nn.Linear(num_features,1024),\n",
    "            nn.BatchNorm1d(1024),\n",
    "            nn.ReLU(),\n",
    "            nn.Dropout(0.5),\n",
    "            nn.Linear(1024,1024),\n",
    "            nn.BatchNorm1d(1024),\n",
    "            nn.ReLU(),\n",
    "            nn.Dropout(0.5),\n",
    "            nn.Linear(1024,1024),\n",
    "            nn.BatchNorm1d(1024),\n",
    "            nn.ReLU(),\n",
    "            nn.Dropout(0.5),\n",
    "            nn.Linear(1024,512),\n",
    "            nn.BatchNorm1d(512),\n",
    "            nn.ReLU(),\n",
    "            nn.Dropout(0.5),\n",
    "            nn.Linear(512,256),\n",
    "            nn.BatchNorm1d(256),\n",
    "            nn.ReLU(),\n",
    "            nn.Dropout(0.5),\n",
    "            nn.Linear(256,256),\n",
    "            nn.BatchNorm1d(256),\n",
    "            nn.ReLU(),\n",
    "            nn.Linear(256,128),\n",
    "            nn.BatchNorm1d(128),\n",
    "            nn.ReLU(),\n",
    "            nn.Dropout(0.5),\n",
    "            nn.Linear(128,64),\n",
    "            nn.BatchNorm1d(64),\n",
    "            nn.ReLU(),\n",
    "            #nn.Dropout(0.5),\n",
    "            nn.Linear(64,num_classes)\n",
    "            \n",
    "        )\n",
    "    def forward(self,x):\n",
    "        x = self.Layer(x)\n",
    "        x = torch.sigmoid(x)\n",
    "        return x"
   ]
  },
  {
   "cell_type": "code",
   "execution_count": 83,
   "id": "a995d035",
   "metadata": {},
   "outputs": [],
   "source": [
    "EPOCHS = 30\n",
    "BATCH_SIZE = 128\n",
    "\n",
    "train_loader = DataLoader(dataset=NN_train, batch_size=BATCH_SIZE, shuffle=True)\n",
    "train_loader_overed = DataLoader(dataset=NN_train_overed,batch_size=BATCH_SIZE,shuffle=True)\n",
    "test_loader = DataLoader(dataset=NN_valid, batch_size=32, shuffle=False)\n",
    "model = NN_binary(num_features=len(X_train.columns),num_classes=1).cuda()\n",
    "criterion = nn.BCELoss()\n",
    "optimizer = optim.Adam(model.parameters(),lr=0.01)"
   ]
  },
  {
   "cell_type": "code",
   "execution_count": 65,
   "id": "663f84de",
   "metadata": {},
   "outputs": [],
   "source": [
    "def show_Network_perform(train_loss,train_f1,val_loss,val_f1):\n",
    "    plt.grid(True)\n",
    "    tl = plt.plot(range(EPOCHS),train_loss,color='r',label =\"Train_Loss\")\n",
    "    tf = plt.plot(range(EPOCHS),train_f1,color='b',label=\"Train_F1\")\n",
    "    vl = plt.plot(range(EPOCHS),val_loss,color='y',label='Valid_Loss')\n",
    "    vf = plt.plot(range(EPOCHS),val_f1,color='g',label='Valid_F1')\n",
    "    with open('./저장모델/딥러닝 모델/모델성능.txt','a') as file:\n",
    "        file.write(f'노말6번성능-{max(val_f1):.4f}'+'\\n')\n",
    "        \n",
    "    print(\"Max Val F1 score: [{}]\".format(max(val_f1)))\n",
    "    plt.legend()\n",
    "    plt.show()"
   ]
  },
  {
   "cell_type": "code",
   "execution_count": 66,
   "id": "fa02b41f",
   "metadata": {},
   "outputs": [],
   "source": [
    "def train(train_loader,test_loader,threshold=0.5,normal=True):\n",
    "    model.cuda()\n",
    "    threshold = torch.tensor([threshold]).cuda()\n",
    "    starttime =timer(None)\n",
    "    # ealry stop을 위한 best값 저장\n",
    "    best_val_loss = 100\n",
    "    best_val_f1 = 0\n",
    "    cnt = 0\n",
    "    for epoch in range(EPOCHS):\n",
    "        model.train()\n",
    "        train_epoch_f1 = 0\n",
    "        train_epoch_loss=0\n",
    "                        \n",
    "        # Training\n",
    "        for i,(X_batch,y_batch) in enumerate(train_loader):\n",
    "            X_batch = X_batch.cuda()\n",
    "            y_batch = y_batch.cuda()\n",
    "\n",
    "            y_output = model(X_batch).view(-1)\n",
    "            loss = criterion(y_output,y_batch)\n",
    "\n",
    "            optimizer.zero_grad()\n",
    "            loss.backward()\n",
    "            optimizer.step()\n",
    "            \n",
    "            # Predict값 계산해서 f1-score계산\n",
    "            #y_pred = torch.max(y_output,1)[1] --> CEloss에서 마지막에 softmax없이 최고갑을 뽑아낸다\n",
    "            #y_pred = (y_output[:,1]>=threshold).int()*1 --> CEloss에서 마지막 softmax후\n",
    "            y_pred = (y_output>=threshold).int()*1 # BCE에서 sigmoid후에 값으 계산\n",
    "            \n",
    "            batch_f1 = f1_score(y_batch.data.cpu(),y_pred.cpu())\n",
    "            train_epoch_f1 += batch_f1\n",
    "            train_epoch_loss += loss.item()\n",
    "        # 1 Epoch을 통해 만들어진 파라미터를 이용한 validation시행\n",
    "        with torch.no_grad():\n",
    "            val_epoch_loss = 0\n",
    "            val_epoch_f1 = 0\n",
    "            model.eval()\n",
    "            for X_val_batch,y_val_valid in test_loader:\n",
    "                X_val_batch = X_val_batch.cuda()\n",
    "                y_val_valid = y_val_valid.cuda()\n",
    "\n",
    "                y_val_ouput = model(X_val_batch).view(-1)\n",
    "                #y_val_pred = torch.max(y_val_ouput,1)[1]\n",
    "                #y_val_pred = (y_val_ouput[:,1]>=threshold).int()*1\n",
    "                y_val_pred = (y_val_ouput>=threshold).int()*1\n",
    "\n",
    "                val_loss = criterion(y_val_ouput,y_val_valid)\n",
    "                val_epoch_loss +=val_loss.item()\n",
    "                val_f1 = f1_score(y_val_valid.data.cpu(),y_val_pred.cpu())\n",
    "                val_epoch_f1 +=val_f1\n",
    "        # valid한 결과 loss가 이전 에폭 valid loss보다 떨어졌으면 모델을 저장힌다.\n",
    "        if val_epoch_f1/len(test_loader)>=best_val_f1:\n",
    "            #best_val_loss = val_epoch_loss/len(test_loader)\n",
    "            best_val_f1 =val_epoch_f1/len(test_loader)\n",
    "            if normal:\n",
    "                torch.save(model,f'./best_loss_model7_normal.pt')\n",
    "            else:\n",
    "                torch.save(model,f'./best_loss_model9_overed.pt')\n",
    "        train_loss.append(train_epoch_loss/len(train_loader))\n",
    "        train_f1_list.append(train_epoch_f1/len(train_loader))\n",
    "        val_loss_list.append(val_epoch_loss/len(test_loader))\n",
    "        val_f1_list.append(val_epoch_f1/len(test_loader))\n",
    "        if (epoch+1)%1==0:\n",
    "            print(\n",
    "                'Epoch [{}/{}] Step [{}/{}] Train_Loss: [{:.4f}] Train F1-score: [{:.4f}] Val_Loss: [{:.4f}] Val_F1: [{:.4f}]'\\\n",
    "                .format(epoch+1, EPOCHS,i+1, len(train_loader),train_epoch_loss/len(train_loader),train_epoch_f1/len(train_loader),val_epoch_loss/len(test_loader),val_epoch_f1/len(test_loader)))\n",
    "            timer(starttime)\n",
    "            starttime =timer(None)"
   ]
  },
  {
   "cell_type": "code",
   "execution_count": 84,
   "id": "a45b9946",
   "metadata": {},
   "outputs": [
    {
     "name": "stdout",
     "output_type": "stream",
     "text": [
      "Epoch [1/30] Step [843/843] Train_Loss: [0.4371] Train F1-score: [0.7673] Val_Loss: [0.5347] Val_F1: [0.5902]\n",
      "\n",
      " Time taken: 0 hours 0 minutes and 10.02 seconds.\n",
      "Epoch [2/30] Step [843/843] Train_Loss: [0.4080] Train F1-score: [0.7853] Val_Loss: [0.5250] Val_F1: [0.6052]\n",
      "\n",
      " Time taken: 0 hours 0 minutes and 10.0 seconds.\n",
      "Epoch [3/30] Step [843/843] Train_Loss: [0.4027] Train F1-score: [0.7887] Val_Loss: [0.5484] Val_F1: [0.5878]\n",
      "\n",
      " Time taken: 0 hours 0 minutes and 10.07 seconds.\n",
      "Epoch [4/30] Step [843/843] Train_Loss: [0.3972] Train F1-score: [0.7905] Val_Loss: [0.5168] Val_F1: [0.6136]\n",
      "\n",
      " Time taken: 0 hours 0 minutes and 9.97 seconds.\n",
      "Epoch [5/30] Step [843/843] Train_Loss: [0.3938] Train F1-score: [0.7928] Val_Loss: [0.5205] Val_F1: [0.6083]\n",
      "\n",
      " Time taken: 0 hours 0 minutes and 9.96 seconds.\n",
      "Epoch [6/30] Step [843/843] Train_Loss: [0.3909] Train F1-score: [0.7954] Val_Loss: [0.5126] Val_F1: [0.6119]\n",
      "\n",
      " Time taken: 0 hours 0 minutes and 9.9 seconds.\n",
      "Epoch [7/30] Step [843/843] Train_Loss: [0.3895] Train F1-score: [0.7948] Val_Loss: [0.5127] Val_F1: [0.6102]\n",
      "\n",
      " Time taken: 0 hours 0 minutes and 9.99 seconds.\n",
      "Epoch [8/30] Step [843/843] Train_Loss: [0.3869] Train F1-score: [0.7980] Val_Loss: [0.5054] Val_F1: [0.6183]\n",
      "\n",
      " Time taken: 0 hours 0 minutes and 9.94 seconds.\n",
      "Epoch [9/30] Step [843/843] Train_Loss: [0.3861] Train F1-score: [0.7967] Val_Loss: [0.5174] Val_F1: [0.6051]\n",
      "\n",
      " Time taken: 0 hours 0 minutes and 9.9 seconds.\n",
      "Epoch [10/30] Step [843/843] Train_Loss: [0.3840] Train F1-score: [0.7990] Val_Loss: [0.5263] Val_F1: [0.6009]\n",
      "\n",
      " Time taken: 0 hours 0 minutes and 9.92 seconds.\n",
      "Epoch [11/30] Step [843/843] Train_Loss: [0.3830] Train F1-score: [0.7990] Val_Loss: [0.5097] Val_F1: [0.6161]\n",
      "\n",
      " Time taken: 0 hours 0 minutes and 9.91 seconds.\n",
      "Epoch [12/30] Step [843/843] Train_Loss: [0.3819] Train F1-score: [0.7996] Val_Loss: [0.5029] Val_F1: [0.6211]\n",
      "\n",
      " Time taken: 0 hours 0 minutes and 9.94 seconds.\n",
      "Epoch [13/30] Step [843/843] Train_Loss: [0.3801] Train F1-score: [0.8009] Val_Loss: [0.5137] Val_F1: [0.6099]\n",
      "\n",
      " Time taken: 0 hours 0 minutes and 9.9 seconds.\n",
      "Epoch [14/30] Step [843/843] Train_Loss: [0.3790] Train F1-score: [0.8004] Val_Loss: [0.5254] Val_F1: [0.5992]\n",
      "\n",
      " Time taken: 0 hours 0 minutes and 9.92 seconds.\n",
      "Epoch [15/30] Step [843/843] Train_Loss: [0.3782] Train F1-score: [0.8010] Val_Loss: [0.5158] Val_F1: [0.6065]\n",
      "\n",
      " Time taken: 0 hours 0 minutes and 9.93 seconds.\n",
      "Epoch [16/30] Step [843/843] Train_Loss: [0.3772] Train F1-score: [0.8014] Val_Loss: [0.5136] Val_F1: [0.6151]\n",
      "\n",
      " Time taken: 0 hours 0 minutes and 9.92 seconds.\n",
      "Epoch [17/30] Step [843/843] Train_Loss: [0.3751] Train F1-score: [0.8036] Val_Loss: [0.5167] Val_F1: [0.6114]\n",
      "\n",
      " Time taken: 0 hours 0 minutes and 9.94 seconds.\n",
      "Epoch [18/30] Step [843/843] Train_Loss: [0.3745] Train F1-score: [0.8038] Val_Loss: [0.5139] Val_F1: [0.6052]\n",
      "\n",
      " Time taken: 0 hours 0 minutes and 9.94 seconds.\n",
      "Epoch [19/30] Step [843/843] Train_Loss: [0.3745] Train F1-score: [0.8035] Val_Loss: [0.5124] Val_F1: [0.6150]\n",
      "\n",
      " Time taken: 0 hours 0 minutes and 9.93 seconds.\n",
      "Epoch [20/30] Step [843/843] Train_Loss: [0.3734] Train F1-score: [0.8042] Val_Loss: [0.5149] Val_F1: [0.6049]\n",
      "\n",
      " Time taken: 0 hours 0 minutes and 9.95 seconds.\n",
      "Epoch [21/30] Step [843/843] Train_Loss: [0.3724] Train F1-score: [0.8048] Val_Loss: [0.5256] Val_F1: [0.6018]\n",
      "\n",
      " Time taken: 0 hours 0 minutes and 9.94 seconds.\n",
      "Epoch [22/30] Step [843/843] Train_Loss: [0.3712] Train F1-score: [0.8064] Val_Loss: [0.5197] Val_F1: [0.6010]\n",
      "\n",
      " Time taken: 0 hours 0 minutes and 9.95 seconds.\n",
      "Epoch [23/30] Step [843/843] Train_Loss: [0.3709] Train F1-score: [0.8053] Val_Loss: [0.5117] Val_F1: [0.6099]\n",
      "\n",
      " Time taken: 0 hours 0 minutes and 9.95 seconds.\n",
      "Epoch [24/30] Step [843/843] Train_Loss: [0.3697] Train F1-score: [0.8061] Val_Loss: [0.5085] Val_F1: [0.6107]\n",
      "\n",
      " Time taken: 0 hours 0 minutes and 9.95 seconds.\n",
      "Epoch [25/30] Step [843/843] Train_Loss: [0.3689] Train F1-score: [0.8060] Val_Loss: [0.5090] Val_F1: [0.6142]\n",
      "\n",
      " Time taken: 0 hours 0 minutes and 9.95 seconds.\n",
      "Epoch [26/30] Step [843/843] Train_Loss: [0.3694] Train F1-score: [0.8066] Val_Loss: [0.5094] Val_F1: [0.6173]\n",
      "\n",
      " Time taken: 0 hours 0 minutes and 9.96 seconds.\n",
      "Epoch [27/30] Step [843/843] Train_Loss: [0.3676] Train F1-score: [0.8074] Val_Loss: [0.5079] Val_F1: [0.6105]\n",
      "\n",
      " Time taken: 0 hours 0 minutes and 9.95 seconds.\n",
      "Epoch [28/30] Step [843/843] Train_Loss: [0.3682] Train F1-score: [0.8067] Val_Loss: [0.5122] Val_F1: [0.6056]\n",
      "\n",
      " Time taken: 0 hours 0 minutes and 9.96 seconds.\n",
      "Epoch [29/30] Step [843/843] Train_Loss: [0.3675] Train F1-score: [0.8062] Val_Loss: [0.5109] Val_F1: [0.6104]\n",
      "\n",
      " Time taken: 0 hours 0 minutes and 9.96 seconds.\n",
      "Epoch [30/30] Step [843/843] Train_Loss: [0.3669] Train F1-score: [0.8069] Val_Loss: [0.5157] Val_F1: [0.6063]\n",
      "\n",
      " Time taken: 0 hours 0 minutes and 9.96 seconds.\n",
      "\n",
      " Time taken: 0 hours 4 minutes and 58.47 seconds.\n",
      "Max Val F1 score: [0.6211470248071808]\n"
     ]
    },
    {
     "data": {
      "image/png": "[encoded data removed]",
      "text/plain": [
       "<Figure size 432x288 with 1 Axes>"
      ]
     },
     "metadata": {
      "needs_background": "light"
     },
     "output_type": "display_data"
    }
   ],
   "source": [
    "normal = False\n",
    "train_loss = []\n",
    "val_loss_list=[]\n",
    "train_f1_list = []\n",
    "val_f1_list=[]\n",
    "if normal:\n",
    "    sttime=timer(None)\n",
    "    train(train_loader,test_loader,threshold=0.3)\n",
    "    timer(sttime)\n",
    "else:\n",
    "    sttime=timer(None)\n",
    "    train(train_loader_overed,test_loader,threshold=0.3,normal=False)\n",
    "    timer(sttime)\n",
    "show_Network_perform(train_loss,train_f1_list,val_loss_list,val_f1_list)"
   ]
  },
  {
   "cell_type": "code",
   "execution_count": 85,
   "id": "d61c9271",
   "metadata": {},
   "outputs": [
    {
     "name": "stdout",
     "output_type": "stream",
     "text": [
      "0.6081172277593558\n"
     ]
    }
   ],
   "source": [
    "with open('평균Valf1.txt','a') as f:\n",
    "    f.write(f'7모델평균성능-{np.mean(val_f1_list):.4f}    7번모델최고성능-{max(val_f1_list):.4f}\\n')\n",
    "print(np.mean(val_f1_list))"
   ]
  },
  {
   "cell_type": "code",
   "execution_count": 86,
   "id": "87a2cd11",
   "metadata": {},
   "outputs": [
    {
     "name": "stdout",
     "output_type": "stream",
     "text": [
      "[[7034 6450]\n",
      " [ 778 5738]] 0.6135585970915313\n",
      "[[9262 4222]\n",
      " [1505 5011]] 0.6363578639913644\n",
      "[[10598  2886]\n",
      " [ 2245  4271]] 0.6247348789585314\n",
      "[[11922  1562]\n",
      " [ 3378  3138]] 0.5595577746077033\n",
      "[[12964   520]\n",
      " [ 4837  1679]] 0.3853126792885829\n"
     ]
    }
   ],
   "source": [
    "with torch.no_grad():\n",
    "    model.cpu()\n",
    "    model.eval()\n",
    "    mlp_pred_proba = model(torch.FloatTensor(X_valid.to_numpy())).view(-1)\n",
    "for thres in [0.3,.4,.5,.6,.7]:\n",
    "    mlp_pred = (mlp_pred_proba>thres).int()\n",
    "    print(confusion_matrix(y_valid,mlp_pred),f1_score(y_valid,mlp_pred))"
   ]
  },
  {
   "cell_type": "code",
   "execution_count": 95,
   "id": "0992a296",
   "metadata": {},
   "outputs": [],
   "source": [
    "make_mlp2_sub(model,.5)"
   ]
  },
  {
   "cell_type": "code",
   "execution_count": 92,
   "id": "de91d67c",
   "metadata": {},
   "outputs": [],
   "source": [
    "model_best = torch.load('./best_loss_model9_overed.pt').cuda()"
   ]
  },
  {
   "cell_type": "code",
   "execution_count": 77,
   "id": "2b052961",
   "metadata": {},
   "outputs": [
    {
     "name": "stdout",
     "output_type": "stream",
     "text": [
      "[[9258 4226]\n",
      " [1453 5063]] 0.6406833280607402\n",
      "[[10595  2889]\n",
      " [ 2212  4304]] 0.6279086731344372\n",
      "[[11763  1721]\n",
      " [ 3155  3361]] 0.5795826866701155\n",
      "[[12686   798]\n",
      " [ 4300  2216]] 0.46505771248688355\n",
      "[[13163   321]\n",
      " [ 5126  1390]] 0.3379117539807949\n"
     ]
    }
   ],
   "source": [
    "with torch.no_grad():\n",
    "    model_best.cpu()\n",
    "    model_best.eval()\n",
    "    mlp_pred_proba = model_best(torch.FloatTensor(X_valid.to_numpy())).view(-1)\n",
    "for thres in [0.3,.4,.5,.6,.7]:\n",
    "    mlp_pred = (mlp_pred_proba>thres).int()\n",
    "    print(confusion_matrix(y_valid,mlp_pred),f1_score(y_valid,mlp_pred))"
   ]
  },
  {
   "cell_type": "code",
   "execution_count": 93,
   "id": "5e40eff5",
   "metadata": {},
   "outputs": [],
   "source": [
    "make_mlp2_sub(model_best)"
   ]
  },
  {
   "cell_type": "markdown",
   "id": "3db027a3",
   "metadata": {},
   "source": [
    "# lgbm Classifier"
   ]
  },
  {
   "cell_type": "code",
   "execution_count": 380,
   "id": "3a71f694",
   "metadata": {},
   "outputs": [
    {
     "name": "stdout",
     "output_type": "stream",
     "text": [
      "Fitting 10 folds for each of 100 candidates, totalling 1000 fits\n",
      "[CV 1/10] END colsample_bytree=0.5, learning_rate=0.3, max_depth=3, metric=binary_logloss, min_child_samples=30, n_estimators=200, subsample=0.6;, score=0.551 total time=   0.3s\n",
      "[CV 2/10] END colsample_bytree=0.5, learning_rate=0.3, max_depth=3, metric=binary_logloss, min_child_samples=30, n_estimators=200, subsample=0.6;, score=0.552 total time=   0.3s\n",
      "[CV 3/10] END colsample_bytree=0.5, learning_rate=0.3, max_depth=3, metric=binary_logloss, min_child_samples=30, n_estimators=200, subsample=0.6;, score=0.548 total time=   0.3s\n",
      "[CV 4/10] END colsample_bytree=0.5, learning_rate=0.3, max_depth=3, metric=binary_logloss, min_child_samples=30, n_estimators=200, subsample=0.6;, score=0.559 total time=   0.3s\n",
      "[CV 5/10] END colsample_bytree=0.5, learning_rate=0.3, max_depth=3, metric=binary_logloss, min_child_samples=30, n_estimators=200, subsample=0.6;, score=0.543 total time=   0.3s\n",
      "[CV 6/10] END colsample_bytree=0.5, learning_rate=0.3, max_depth=3, metric=binary_logloss, min_child_samples=30, n_estimators=200, subsample=0.6;, score=0.546 total time=   0.3s\n",
      "[CV 7/10] END colsample_bytree=0.5, learning_rate=0.3, max_depth=3, metric=binary_logloss, min_child_samples=30, n_estimators=200, subsample=0.6;, score=0.550 total time=   0.3s\n",
      "[CV 8/10] END colsample_bytree=0.5, learning_rate=0.3, max_depth=3, metric=binary_logloss, min_child_samples=30, n_estimators=200, subsample=0.6;, score=0.554 total time=   0.4s\n",
      "[CV 9/10] END colsample_bytree=0.5, learning_rate=0.3, max_depth=3, metric=binary_logloss, min_child_samples=30, n_estimators=200, subsample=0.6;, score=0.543 total time=   0.3s\n",
      "[CV 10/10] END colsample_bytree=0.5, learning_rate=0.3, max_depth=3, metric=binary_logloss, min_child_samples=30, n_estimators=200, subsample=0.6;, score=0.553 total time=   0.3s\n",
      "[CV 1/10] END colsample_bytree=1, learning_rate=0.05, max_depth=7, metric=binary_logloss, min_child_samples=25, n_estimators=400, subsample=0.5;, score=0.562 total time=   0.7s\n",
      "[CV 2/10] END colsample_bytree=1, learning_rate=0.05, max_depth=7, metric=binary_logloss, min_child_samples=25, n_estimators=400, subsample=0.5;, score=0.560 total time=   0.7s\n",
      "[CV 3/10] END colsample_bytree=1, learning_rate=0.05, max_depth=7, metric=binary_logloss, min_child_samples=25, n_estimators=400, subsample=0.5;, score=0.563 total time=   0.7s\n",
      "[CV 4/10] END colsample_bytree=1, learning_rate=0.05, max_depth=7, metric=binary_logloss, min_child_samples=25, n_estimators=400, subsample=0.5;, score=0.571 total time=   0.7s\n",
      "[CV 5/10] END colsample_bytree=1, learning_rate=0.05, max_depth=7, metric=binary_logloss, min_child_samples=25, n_estimators=400, subsample=0.5;, score=0.558 total time=   0.7s\n",
      "[CV 6/10] END colsample_bytree=1, learning_rate=0.05, max_depth=7, metric=binary_logloss, min_child_samples=25, n_estimators=400, subsample=0.5;, score=0.565 total time=   0.7s\n",
      "[CV 7/10] END colsample_bytree=1, learning_rate=0.05, max_depth=7, metric=binary_logloss, min_child_samples=25, n_estimators=400, subsample=0.5;, score=0.562 total time=   0.7s\n",
      "[CV 8/10] END colsample_bytree=1, learning_rate=0.05, max_depth=7, metric=binary_logloss, min_child_samples=25, n_estimators=400, subsample=0.5;, score=0.564 total time=   0.7s\n",
      "[CV 9/10] END colsample_bytree=1, learning_rate=0.05, max_depth=7, metric=binary_logloss, min_child_samples=25, n_estimators=400, subsample=0.5;, score=0.557 total time=   0.7s\n",
      "[CV 10/10] END colsample_bytree=1, learning_rate=0.05, max_depth=7, metric=binary_logloss, min_child_samples=25, n_estimators=400, subsample=0.5;, score=0.574 total time=   0.8s\n",
      "[CV 1/10] END colsample_bytree=0.5, learning_rate=0.3, max_depth=3, metric=binary_logloss, min_child_samples=20, n_estimators=200, subsample=0.5;, score=0.549 total time=   0.3s\n",
      "[CV 2/10] END colsample_bytree=0.5, learning_rate=0.3, max_depth=3, metric=binary_logloss, min_child_samples=20, n_estimators=200, subsample=0.5;, score=0.551 total time=   0.3s\n",
      "[CV 3/10] END colsample_bytree=0.5, learning_rate=0.3, max_depth=3, metric=binary_logloss, min_child_samples=20, n_estimators=200, subsample=0.5;, score=0.549 total time=   0.3s\n",
      "[CV 4/10] END colsample_bytree=0.5, learning_rate=0.3, max_depth=3, metric=binary_logloss, min_child_samples=20, n_estimators=200, subsample=0.5;, score=0.561 total time=   0.3s\n",
      "[CV 5/10] END colsample_bytree=0.5, learning_rate=0.3, max_depth=3, metric=binary_logloss, min_child_samples=20, n_estimators=200, subsample=0.5;, score=0.542 total time=   0.3s\n",
      "[CV 6/10] END colsample_bytree=0.5, learning_rate=0.3, max_depth=3, metric=binary_logloss, min_child_samples=20, n_estimators=200, subsample=0.5;, score=0.547 total time=   0.3s\n",
      "[CV 7/10] END colsample_bytree=0.5, learning_rate=0.3, max_depth=3, metric=binary_logloss, min_child_samples=20, n_estimators=200, subsample=0.5;, score=0.553 total time=   0.3s\n",
      "[CV 8/10] END colsample_bytree=0.5, learning_rate=0.3, max_depth=3, metric=binary_logloss, min_child_samples=20, n_estimators=200, subsample=0.5;, score=0.552 total time=   0.3s\n",
      "[CV 9/10] END colsample_bytree=0.5, learning_rate=0.3, max_depth=3, metric=binary_logloss, min_child_samples=20, n_estimators=200, subsample=0.5;, score=0.548 total time=   0.3s\n",
      "[CV 10/10] END colsample_bytree=0.5, learning_rate=0.3, max_depth=3, metric=binary_logloss, min_child_samples=20, n_estimators=200, subsample=0.5;, score=0.555 total time=   0.3s\n",
      "[CV 1/10] END colsample_bytree=0.5, learning_rate=0.01, max_depth=5, metric=binary_logloss, min_child_samples=30, n_estimators=300, subsample=0.5;, score=0.399 total time=   0.7s\n",
      "[CV 2/10] END colsample_bytree=0.5, learning_rate=0.01, max_depth=5, metric=binary_logloss, min_child_samples=30, n_estimators=300, subsample=0.5;, score=0.397 total time=   0.5s\n",
      "[CV 3/10] END colsample_bytree=0.5, learning_rate=0.01, max_depth=5, metric=binary_logloss, min_child_samples=30, n_estimators=300, subsample=0.5;, score=0.409 total time=   0.5s\n",
      "[CV 4/10] END colsample_bytree=0.5, learning_rate=0.01, max_depth=5, metric=binary_logloss, min_child_samples=30, n_estimators=300, subsample=0.5;, score=0.400 total time=   0.5s\n",
      "[CV 5/10] END colsample_bytree=0.5, learning_rate=0.01, max_depth=5, metric=binary_logloss, min_child_samples=30, n_estimators=300, subsample=0.5;, score=0.390 total time=   0.5s\n",
      "[CV 6/10] END colsample_bytree=0.5, learning_rate=0.01, max_depth=5, metric=binary_logloss, min_child_samples=30, n_estimators=300, subsample=0.5;, score=0.402 total time=   0.5s\n",
      "[CV 7/10] END colsample_bytree=0.5, learning_rate=0.01, max_depth=5, metric=binary_logloss, min_child_samples=30, n_estimators=300, subsample=0.5;, score=0.394 total time=   0.5s\n",
      "[CV 8/10] END colsample_bytree=0.5, learning_rate=0.01, max_depth=5, metric=binary_logloss, min_child_samples=30, n_estimators=300, subsample=0.5;, score=0.399 total time=   0.5s\n",
      "[CV 9/10] END colsample_bytree=0.5, learning_rate=0.01, max_depth=5, metric=binary_logloss, min_child_samples=30, n_estimators=300, subsample=0.5;, score=0.411 total time=   0.5s\n",
      "[CV 10/10] END colsample_bytree=0.5, learning_rate=0.01, max_depth=5, metric=binary_logloss, min_child_samples=30, n_estimators=300, subsample=0.5;, score=0.400 total time=   0.5s\n",
      "[CV 1/10] END colsample_bytree=1, learning_rate=0.1, max_depth=3, metric=binary_logloss, min_child_samples=20, n_estimators=400, subsample=0.6;, score=0.545 total time=   0.4s\n",
      "[CV 2/10] END colsample_bytree=1, learning_rate=0.1, max_depth=3, metric=binary_logloss, min_child_samples=20, n_estimators=400, subsample=0.6;, score=0.549 total time=   0.4s\n",
      "[CV 3/10] END colsample_bytree=1, learning_rate=0.1, max_depth=3, metric=binary_logloss, min_child_samples=20, n_estimators=400, subsample=0.6;, score=0.539 total time=   0.4s\n",
      "[CV 4/10] END colsample_bytree=1, learning_rate=0.1, max_depth=3, metric=binary_logloss, min_child_samples=20, n_estimators=400, subsample=0.6;, score=0.551 total time=   0.4s\n",
      "[CV 5/10] END colsample_bytree=1, learning_rate=0.1, max_depth=3, metric=binary_logloss, min_child_samples=20, n_estimators=400, subsample=0.6;, score=0.532 total time=   0.4s\n",
      "[CV 6/10] END colsample_bytree=1, learning_rate=0.1, max_depth=3, metric=binary_logloss, min_child_samples=20, n_estimators=400, subsample=0.6;, score=0.538 total time=   0.4s\n"
     ]
    },
    {
     "name": "stdout",
     "output_type": "stream",
     "text": [
      "[CV 7/10] END colsample_bytree=1, learning_rate=0.1, max_depth=3, metric=binary_logloss, min_child_samples=20, n_estimators=400, subsample=0.6;, score=0.548 total time=   0.4s\n",
      "[CV 8/10] END colsample_bytree=1, learning_rate=0.1, max_depth=3, metric=binary_logloss, min_child_samples=20, n_estimators=400, subsample=0.6;, score=0.540 total time=   0.4s\n",
      "[CV 9/10] END colsample_bytree=1, learning_rate=0.1, max_depth=3, metric=binary_logloss, min_child_samples=20, n_estimators=400, subsample=0.6;, score=0.542 total time=   0.4s\n",
      "[CV 10/10] END colsample_bytree=1, learning_rate=0.1, max_depth=3, metric=binary_logloss, min_child_samples=20, n_estimators=400, subsample=0.6;, score=0.551 total time=   0.4s\n",
      "[CV 1/10] END colsample_bytree=0.5, learning_rate=0.1, max_depth=5, metric=cross_entropy, min_child_samples=20, n_estimators=300, subsample=0.7;, score=0.554 total time=   0.5s\n",
      "[CV 2/10] END colsample_bytree=0.5, learning_rate=0.1, max_depth=5, metric=cross_entropy, min_child_samples=20, n_estimators=300, subsample=0.7;, score=0.560 total time=   0.5s\n",
      "[CV 3/10] END colsample_bytree=0.5, learning_rate=0.1, max_depth=5, metric=cross_entropy, min_child_samples=20, n_estimators=300, subsample=0.7;, score=0.558 total time=   0.5s\n",
      "[CV 4/10] END colsample_bytree=0.5, learning_rate=0.1, max_depth=5, metric=cross_entropy, min_child_samples=20, n_estimators=300, subsample=0.7;, score=0.565 total time=   0.5s\n",
      "[CV 5/10] END colsample_bytree=0.5, learning_rate=0.1, max_depth=5, metric=cross_entropy, min_child_samples=20, n_estimators=300, subsample=0.7;, score=0.550 total time=   0.5s\n",
      "[CV 6/10] END colsample_bytree=0.5, learning_rate=0.1, max_depth=5, metric=cross_entropy, min_child_samples=20, n_estimators=300, subsample=0.7;, score=0.554 total time=   0.5s\n",
      "[CV 7/10] END colsample_bytree=0.5, learning_rate=0.1, max_depth=5, metric=cross_entropy, min_child_samples=20, n_estimators=300, subsample=0.7;, score=0.559 total time=   0.5s\n",
      "[CV 8/10] END colsample_bytree=0.5, learning_rate=0.1, max_depth=5, metric=cross_entropy, min_child_samples=20, n_estimators=300, subsample=0.7;, score=0.558 total time=   0.5s\n",
      "[CV 9/10] END colsample_bytree=0.5, learning_rate=0.1, max_depth=5, metric=cross_entropy, min_child_samples=20, n_estimators=300, subsample=0.7;, score=0.555 total time=   0.5s\n",
      "[CV 10/10] END colsample_bytree=0.5, learning_rate=0.1, max_depth=5, metric=cross_entropy, min_child_samples=20, n_estimators=300, subsample=0.7;, score=0.563 total time=   0.5s\n",
      "[CV 1/10] END colsample_bytree=1, learning_rate=0.1, max_depth=3, metric=cross_entropy, min_child_samples=20, n_estimators=100, subsample=0.7;, score=0.481 total time=   0.2s\n",
      "[CV 2/10] END colsample_bytree=1, learning_rate=0.1, max_depth=3, metric=cross_entropy, min_child_samples=20, n_estimators=100, subsample=0.7;, score=0.477 total time=   0.2s\n",
      "[CV 3/10] END colsample_bytree=1, learning_rate=0.1, max_depth=3, metric=cross_entropy, min_child_samples=20, n_estimators=100, subsample=0.7;, score=0.480 total time=   0.2s\n",
      "[CV 4/10] END colsample_bytree=1, learning_rate=0.1, max_depth=3, metric=cross_entropy, min_child_samples=20, n_estimators=100, subsample=0.7;, score=0.481 total time=   0.2s\n",
      "[CV 5/10] END colsample_bytree=1, learning_rate=0.1, max_depth=3, metric=cross_entropy, min_child_samples=20, n_estimators=100, subsample=0.7;, score=0.465 total time=   0.2s\n",
      "[CV 6/10] END colsample_bytree=1, learning_rate=0.1, max_depth=3, metric=cross_entropy, min_child_samples=20, n_estimators=100, subsample=0.7;, score=0.475 total time=   0.2s\n",
      "[CV 7/10] END colsample_bytree=1, learning_rate=0.1, max_depth=3, metric=cross_entropy, min_child_samples=20, n_estimators=100, subsample=0.7;, score=0.475 total time=   0.2s\n",
      "[CV 8/10] END colsample_bytree=1, learning_rate=0.1, max_depth=3, metric=cross_entropy, min_child_samples=20, n_estimators=100, subsample=0.7;, score=0.478 total time=   0.2s\n",
      "[CV 9/10] END colsample_bytree=1, learning_rate=0.1, max_depth=3, metric=cross_entropy, min_child_samples=20, n_estimators=100, subsample=0.7;, score=0.484 total time=   0.2s\n",
      "[CV 10/10] END colsample_bytree=1, learning_rate=0.1, max_depth=3, metric=cross_entropy, min_child_samples=20, n_estimators=100, subsample=0.7;, score=0.480 total time=   0.2s\n",
      "[CV 1/10] END colsample_bytree=0.5, learning_rate=0.1, max_depth=3, metric=cross_entropy, min_child_samples=25, n_estimators=400, subsample=0.6;, score=0.543 total time=   0.5s\n",
      "[CV 2/10] END colsample_bytree=0.5, learning_rate=0.1, max_depth=3, metric=cross_entropy, min_child_samples=25, n_estimators=400, subsample=0.6;, score=0.540 total time=   0.4s\n",
      "[CV 3/10] END colsample_bytree=0.5, learning_rate=0.1, max_depth=3, metric=cross_entropy, min_child_samples=25, n_estimators=400, subsample=0.6;, score=0.534 total time=   0.5s\n",
      "[CV 4/10] END colsample_bytree=0.5, learning_rate=0.1, max_depth=3, metric=cross_entropy, min_child_samples=25, n_estimators=400, subsample=0.6;, score=0.545 total time=   0.4s\n",
      "[CV 5/10] END colsample_bytree=0.5, learning_rate=0.1, max_depth=3, metric=cross_entropy, min_child_samples=25, n_estimators=400, subsample=0.6;, score=0.531 total time=   0.5s\n",
      "[CV 6/10] END colsample_bytree=0.5, learning_rate=0.1, max_depth=3, metric=cross_entropy, min_child_samples=25, n_estimators=400, subsample=0.6;, score=0.537 total time=   0.4s\n",
      "[CV 7/10] END colsample_bytree=0.5, learning_rate=0.1, max_depth=3, metric=cross_entropy, min_child_samples=25, n_estimators=400, subsample=0.6;, score=0.541 total time=   0.4s\n",
      "[CV 8/10] END colsample_bytree=0.5, learning_rate=0.1, max_depth=3, metric=cross_entropy, min_child_samples=25, n_estimators=400, subsample=0.6;, score=0.541 total time=   0.5s\n",
      "[CV 9/10] END colsample_bytree=0.5, learning_rate=0.1, max_depth=3, metric=cross_entropy, min_child_samples=25, n_estimators=400, subsample=0.6;, score=0.533 total time=   0.5s\n",
      "[CV 10/10] END colsample_bytree=0.5, learning_rate=0.1, max_depth=3, metric=cross_entropy, min_child_samples=25, n_estimators=400, subsample=0.6;, score=0.544 total time=   0.4s\n",
      "[CV 1/10] END colsample_bytree=0.5, learning_rate=0.3, max_depth=3, metric=binary_logloss, min_child_samples=25, n_estimators=400, subsample=0.5;, score=0.561 total time=   0.5s\n",
      "[CV 2/10] END colsample_bytree=0.5, learning_rate=0.3, max_depth=3, metric=binary_logloss, min_child_samples=25, n_estimators=400, subsample=0.5;, score=0.567 total time=   0.4s\n",
      "[CV 3/10] END colsample_bytree=0.5, learning_rate=0.3, max_depth=3, metric=binary_logloss, min_child_samples=25, n_estimators=400, subsample=0.5;, score=0.557 total time=   0.4s\n",
      "[CV 4/10] END colsample_bytree=0.5, learning_rate=0.3, max_depth=3, metric=binary_logloss, min_child_samples=25, n_estimators=400, subsample=0.5;, score=0.566 total time=   0.4s\n",
      "[CV 5/10] END colsample_bytree=0.5, learning_rate=0.3, max_depth=3, metric=binary_logloss, min_child_samples=25, n_estimators=400, subsample=0.5;, score=0.550 total time=   0.4s\n",
      "[CV 6/10] END colsample_bytree=0.5, learning_rate=0.3, max_depth=3, metric=binary_logloss, min_child_samples=25, n_estimators=400, subsample=0.5;, score=0.559 total time=   0.5s\n",
      "[CV 7/10] END colsample_bytree=0.5, learning_rate=0.3, max_depth=3, metric=binary_logloss, min_child_samples=25, n_estimators=400, subsample=0.5;, score=0.563 total time=   0.4s\n",
      "[CV 8/10] END colsample_bytree=0.5, learning_rate=0.3, max_depth=3, metric=binary_logloss, min_child_samples=25, n_estimators=400, subsample=0.5;, score=0.562 total time=   0.4s\n",
      "[CV 9/10] END colsample_bytree=0.5, learning_rate=0.3, max_depth=3, metric=binary_logloss, min_child_samples=25, n_estimators=400, subsample=0.5;, score=0.556 total time=   0.4s\n",
      "[CV 10/10] END colsample_bytree=0.5, learning_rate=0.3, max_depth=3, metric=binary_logloss, min_child_samples=25, n_estimators=400, subsample=0.5;, score=0.567 total time=   0.5s\n",
      "[CV 1/10] END colsample_bytree=0.5, learning_rate=0.1, max_depth=7, metric=binary_logloss, min_child_samples=20, n_estimators=400, subsample=0.6;, score=0.561 total time=   0.7s\n",
      "[CV 2/10] END colsample_bytree=0.5, learning_rate=0.1, max_depth=7, metric=binary_logloss, min_child_samples=20, n_estimators=400, subsample=0.6;, score=0.564 total time=   0.6s\n",
      "[CV 3/10] END colsample_bytree=0.5, learning_rate=0.1, max_depth=7, metric=binary_logloss, min_child_samples=20, n_estimators=400, subsample=0.6;, score=0.558 total time=   0.7s\n"
     ]
    },
    {
     "name": "stdout",
     "output_type": "stream",
     "text": [
      "[CV 4/10] END colsample_bytree=0.5, learning_rate=0.1, max_depth=7, metric=binary_logloss, min_child_samples=20, n_estimators=400, subsample=0.6;, score=0.565 total time=   0.6s\n",
      "[CV 5/10] END colsample_bytree=0.5, learning_rate=0.1, max_depth=7, metric=binary_logloss, min_child_samples=20, n_estimators=400, subsample=0.6;, score=0.555 total time=   0.7s\n",
      "[CV 6/10] END colsample_bytree=0.5, learning_rate=0.1, max_depth=7, metric=binary_logloss, min_child_samples=20, n_estimators=400, subsample=0.6;, score=0.556 total time=   0.7s\n",
      "[CV 7/10] END colsample_bytree=0.5, learning_rate=0.1, max_depth=7, metric=binary_logloss, min_child_samples=20, n_estimators=400, subsample=0.6;, score=0.562 total time=   0.7s\n",
      "[CV 8/10] END colsample_bytree=0.5, learning_rate=0.1, max_depth=7, metric=binary_logloss, min_child_samples=20, n_estimators=400, subsample=0.6;, score=0.565 total time=   0.6s\n",
      "[CV 9/10] END colsample_bytree=0.5, learning_rate=0.1, max_depth=7, metric=binary_logloss, min_child_samples=20, n_estimators=400, subsample=0.6;, score=0.555 total time=   0.7s\n",
      "[CV 10/10] END colsample_bytree=0.5, learning_rate=0.1, max_depth=7, metric=binary_logloss, min_child_samples=20, n_estimators=400, subsample=0.6;, score=0.567 total time=   0.7s\n",
      "[CV 1/10] END colsample_bytree=0.5, learning_rate=0.01, max_depth=5, metric=cross_entropy, min_child_samples=25, n_estimators=100, subsample=0.5;, score=0.105 total time=   0.3s\n",
      "[CV 2/10] END colsample_bytree=0.5, learning_rate=0.01, max_depth=5, metric=cross_entropy, min_child_samples=25, n_estimators=100, subsample=0.5;, score=0.115 total time=   0.2s\n",
      "[CV 3/10] END colsample_bytree=0.5, learning_rate=0.01, max_depth=5, metric=cross_entropy, min_child_samples=25, n_estimators=100, subsample=0.5;, score=0.112 total time=   0.3s\n",
      "[CV 4/10] END colsample_bytree=0.5, learning_rate=0.01, max_depth=5, metric=cross_entropy, min_child_samples=25, n_estimators=100, subsample=0.5;, score=0.111 total time=   0.3s\n",
      "[CV 5/10] END colsample_bytree=0.5, learning_rate=0.01, max_depth=5, metric=cross_entropy, min_child_samples=25, n_estimators=100, subsample=0.5;, score=0.112 total time=   0.3s\n",
      "[CV 6/10] END colsample_bytree=0.5, learning_rate=0.01, max_depth=5, metric=cross_entropy, min_child_samples=25, n_estimators=100, subsample=0.5;, score=0.112 total time=   0.2s\n",
      "[CV 7/10] END colsample_bytree=0.5, learning_rate=0.01, max_depth=5, metric=cross_entropy, min_child_samples=25, n_estimators=100, subsample=0.5;, score=0.115 total time=   0.2s\n",
      "[CV 8/10] END colsample_bytree=0.5, learning_rate=0.01, max_depth=5, metric=cross_entropy, min_child_samples=25, n_estimators=100, subsample=0.5;, score=0.108 total time=   0.3s\n",
      "[CV 9/10] END colsample_bytree=0.5, learning_rate=0.01, max_depth=5, metric=cross_entropy, min_child_samples=25, n_estimators=100, subsample=0.5;, score=0.121 total time=   0.2s\n",
      "[CV 10/10] END colsample_bytree=0.5, learning_rate=0.01, max_depth=5, metric=cross_entropy, min_child_samples=25, n_estimators=100, subsample=0.5;, score=0.112 total time=   0.2s\n",
      "[CV 1/10] END colsample_bytree=0.5, learning_rate=0.3, max_depth=3, metric=binary_logloss, min_child_samples=30, n_estimators=300, subsample=0.7;, score=0.560 total time=   0.3s\n",
      "[CV 2/10] END colsample_bytree=0.5, learning_rate=0.3, max_depth=3, metric=binary_logloss, min_child_samples=30, n_estimators=300, subsample=0.7;, score=0.559 total time=   0.3s\n",
      "[CV 3/10] END colsample_bytree=0.5, learning_rate=0.3, max_depth=3, metric=binary_logloss, min_child_samples=30, n_estimators=300, subsample=0.7;, score=0.552 total time=   0.4s\n",
      "[CV 4/10] END colsample_bytree=0.5, learning_rate=0.3, max_depth=3, metric=binary_logloss, min_child_samples=30, n_estimators=300, subsample=0.7;, score=0.567 total time=   0.3s\n",
      "[CV 5/10] END colsample_bytree=0.5, learning_rate=0.3, max_depth=3, metric=binary_logloss, min_child_samples=30, n_estimators=300, subsample=0.7;, score=0.550 total time=   0.4s\n",
      "[CV 6/10] END colsample_bytree=0.5, learning_rate=0.3, max_depth=3, metric=binary_logloss, min_child_samples=30, n_estimators=300, subsample=0.7;, score=0.554 total time=   0.3s\n",
      "[CV 7/10] END colsample_bytree=0.5, learning_rate=0.3, max_depth=3, metric=binary_logloss, min_child_samples=30, n_estimators=300, subsample=0.7;, score=0.558 total time=   0.3s\n",
      "[CV 8/10] END colsample_bytree=0.5, learning_rate=0.3, max_depth=3, metric=binary_logloss, min_child_samples=30, n_estimators=300, subsample=0.7;, score=0.559 total time=   0.4s\n",
      "[CV 9/10] END colsample_bytree=0.5, learning_rate=0.3, max_depth=3, metric=binary_logloss, min_child_samples=30, n_estimators=300, subsample=0.7;, score=0.551 total time=   0.3s\n",
      "[CV 10/10] END colsample_bytree=0.5, learning_rate=0.3, max_depth=3, metric=binary_logloss, min_child_samples=30, n_estimators=300, subsample=0.7;, score=0.560 total time=   0.4s\n",
      "[CV 1/10] END colsample_bytree=1, learning_rate=0.5, max_depth=7, metric=binary_logloss, min_child_samples=25, n_estimators=200, subsample=0.5;, score=0.553 total time=   0.3s\n",
      "[CV 2/10] END colsample_bytree=1, learning_rate=0.5, max_depth=7, metric=binary_logloss, min_child_samples=25, n_estimators=200, subsample=0.5;, score=0.561 total time=   0.4s\n",
      "[CV 3/10] END colsample_bytree=1, learning_rate=0.5, max_depth=7, metric=binary_logloss, min_child_samples=25, n_estimators=200, subsample=0.5;, score=0.554 total time=   0.3s\n",
      "[CV 4/10] END colsample_bytree=1, learning_rate=0.5, max_depth=7, metric=binary_logloss, min_child_samples=25, n_estimators=200, subsample=0.5;, score=0.562 total time=   0.3s\n",
      "[CV 5/10] END colsample_bytree=1, learning_rate=0.5, max_depth=7, metric=binary_logloss, min_child_samples=25, n_estimators=200, subsample=0.5;, score=0.552 total time=   0.3s\n",
      "[CV 6/10] END colsample_bytree=1, learning_rate=0.5, max_depth=7, metric=binary_logloss, min_child_samples=25, n_estimators=200, subsample=0.5;, score=0.550 total time=   0.3s\n",
      "[CV 7/10] END colsample_bytree=1, learning_rate=0.5, max_depth=7, metric=binary_logloss, min_child_samples=25, n_estimators=200, subsample=0.5;, score=0.559 total time=   0.3s\n",
      "[CV 8/10] END colsample_bytree=1, learning_rate=0.5, max_depth=7, metric=binary_logloss, min_child_samples=25, n_estimators=200, subsample=0.5;, score=0.553 total time=   0.3s\n",
      "[CV 9/10] END colsample_bytree=1, learning_rate=0.5, max_depth=7, metric=binary_logloss, min_child_samples=25, n_estimators=200, subsample=0.5;, score=0.555 total time=   0.3s\n",
      "[CV 10/10] END colsample_bytree=1, learning_rate=0.5, max_depth=7, metric=binary_logloss, min_child_samples=25, n_estimators=200, subsample=0.5;, score=0.557 total time=   0.4s\n",
      "[CV 1/10] END colsample_bytree=0.5, learning_rate=0.01, max_depth=5, metric=cross_entropy, min_child_samples=25, n_estimators=200, subsample=0.7;, score=0.321 total time=   0.4s\n",
      "[CV 2/10] END colsample_bytree=0.5, learning_rate=0.01, max_depth=5, metric=cross_entropy, min_child_samples=25, n_estimators=200, subsample=0.7;, score=0.315 total time=   0.4s\n",
      "[CV 3/10] END colsample_bytree=0.5, learning_rate=0.01, max_depth=5, metric=cross_entropy, min_child_samples=25, n_estimators=200, subsample=0.7;, score=0.330 total time=   0.4s\n",
      "[CV 4/10] END colsample_bytree=0.5, learning_rate=0.01, max_depth=5, metric=cross_entropy, min_child_samples=25, n_estimators=200, subsample=0.7;, score=0.324 total time=   0.4s\n",
      "[CV 5/10] END colsample_bytree=0.5, learning_rate=0.01, max_depth=5, metric=cross_entropy, min_child_samples=25, n_estimators=200, subsample=0.7;, score=0.320 total time=   0.4s\n",
      "[CV 6/10] END colsample_bytree=0.5, learning_rate=0.01, max_depth=5, metric=cross_entropy, min_child_samples=25, n_estimators=200, subsample=0.7;, score=0.319 total time=   0.4s\n",
      "[CV 7/10] END colsample_bytree=0.5, learning_rate=0.01, max_depth=5, metric=cross_entropy, min_child_samples=25, n_estimators=200, subsample=0.7;, score=0.323 total time=   0.4s\n",
      "[CV 8/10] END colsample_bytree=0.5, learning_rate=0.01, max_depth=5, metric=cross_entropy, min_child_samples=25, n_estimators=200, subsample=0.7;, score=0.328 total time=   0.4s\n",
      "[CV 9/10] END colsample_bytree=0.5, learning_rate=0.01, max_depth=5, metric=cross_entropy, min_child_samples=25, n_estimators=200, subsample=0.7;, score=0.328 total time=   0.4s\n",
      "[CV 10/10] END colsample_bytree=0.5, learning_rate=0.01, max_depth=5, metric=cross_entropy, min_child_samples=25, n_estimators=200, subsample=0.7;, score=0.320 total time=   0.4s\n"
     ]
    },
    {
     "name": "stdout",
     "output_type": "stream",
     "text": [
      "[CV 1/10] END colsample_bytree=1, learning_rate=0.1, max_depth=5, metric=binary_logloss, min_child_samples=20, n_estimators=200, subsample=0.6;, score=0.557 total time=   0.3s\n",
      "[CV 2/10] END colsample_bytree=1, learning_rate=0.1, max_depth=5, metric=binary_logloss, min_child_samples=20, n_estimators=200, subsample=0.6;, score=0.557 total time=   0.4s\n",
      "[CV 3/10] END colsample_bytree=1, learning_rate=0.1, max_depth=5, metric=binary_logloss, min_child_samples=20, n_estimators=200, subsample=0.6;, score=0.548 total time=   0.4s\n",
      "[CV 4/10] END colsample_bytree=1, learning_rate=0.1, max_depth=5, metric=binary_logloss, min_child_samples=20, n_estimators=200, subsample=0.6;, score=0.562 total time=   0.4s\n",
      "[CV 5/10] END colsample_bytree=1, learning_rate=0.1, max_depth=5, metric=binary_logloss, min_child_samples=20, n_estimators=200, subsample=0.6;, score=0.549 total time=   0.3s\n",
      "[CV 6/10] END colsample_bytree=1, learning_rate=0.1, max_depth=5, metric=binary_logloss, min_child_samples=20, n_estimators=200, subsample=0.6;, score=0.550 total time=   0.4s\n",
      "[CV 7/10] END colsample_bytree=1, learning_rate=0.1, max_depth=5, metric=binary_logloss, min_child_samples=20, n_estimators=200, subsample=0.6;, score=0.551 total time=   0.3s\n",
      "[CV 8/10] END colsample_bytree=1, learning_rate=0.1, max_depth=5, metric=binary_logloss, min_child_samples=20, n_estimators=200, subsample=0.6;, score=0.552 total time=   0.3s\n",
      "[CV 9/10] END colsample_bytree=1, learning_rate=0.1, max_depth=5, metric=binary_logloss, min_child_samples=20, n_estimators=200, subsample=0.6;, score=0.550 total time=   0.4s\n",
      "[CV 10/10] END colsample_bytree=1, learning_rate=0.1, max_depth=5, metric=binary_logloss, min_child_samples=20, n_estimators=200, subsample=0.6;, score=0.565 total time=   0.3s\n",
      "[CV 1/10] END colsample_bytree=0.5, learning_rate=0.01, max_depth=5, metric=binary_logloss, min_child_samples=20, n_estimators=300, subsample=0.6;, score=0.397 total time=   0.6s\n",
      "[CV 2/10] END colsample_bytree=0.5, learning_rate=0.01, max_depth=5, metric=binary_logloss, min_child_samples=20, n_estimators=300, subsample=0.6;, score=0.398 total time=   0.6s\n",
      "[CV 3/10] END colsample_bytree=0.5, learning_rate=0.01, max_depth=5, metric=binary_logloss, min_child_samples=20, n_estimators=300, subsample=0.6;, score=0.410 total time=   0.6s\n",
      "[CV 4/10] END colsample_bytree=0.5, learning_rate=0.01, max_depth=5, metric=binary_logloss, min_child_samples=20, n_estimators=300, subsample=0.6;, score=0.400 total time=   0.6s\n",
      "[CV 5/10] END colsample_bytree=0.5, learning_rate=0.01, max_depth=5, metric=binary_logloss, min_child_samples=20, n_estimators=300, subsample=0.6;, score=0.389 total time=   0.6s\n",
      "[CV 6/10] END colsample_bytree=0.5, learning_rate=0.01, max_depth=5, metric=binary_logloss, min_child_samples=20, n_estimators=300, subsample=0.6;, score=0.402 total time=   0.5s\n",
      "[CV 7/10] END colsample_bytree=0.5, learning_rate=0.01, max_depth=5, metric=binary_logloss, min_child_samples=20, n_estimators=300, subsample=0.6;, score=0.394 total time=   0.5s\n",
      "[CV 8/10] END colsample_bytree=0.5, learning_rate=0.01, max_depth=5, metric=binary_logloss, min_child_samples=20, n_estimators=300, subsample=0.6;, score=0.399 total time=   0.6s\n",
      "[CV 9/10] END colsample_bytree=0.5, learning_rate=0.01, max_depth=5, metric=binary_logloss, min_child_samples=20, n_estimators=300, subsample=0.6;, score=0.409 total time=   0.6s\n",
      "[CV 10/10] END colsample_bytree=0.5, learning_rate=0.01, max_depth=5, metric=binary_logloss, min_child_samples=20, n_estimators=300, subsample=0.6;, score=0.394 total time=   0.5s\n",
      "[CV 1/10] END colsample_bytree=0.5, learning_rate=0.3, max_depth=3, metric=cross_entropy, min_child_samples=25, n_estimators=300, subsample=0.6;, score=0.559 total time=   0.3s\n",
      "[CV 2/10] END colsample_bytree=0.5, learning_rate=0.3, max_depth=3, metric=cross_entropy, min_child_samples=25, n_estimators=300, subsample=0.6;, score=0.556 total time=   0.3s\n",
      "[CV 3/10] END colsample_bytree=0.5, learning_rate=0.3, max_depth=3, metric=cross_entropy, min_child_samples=25, n_estimators=300, subsample=0.6;, score=0.555 total time=   0.3s\n",
      "[CV 4/10] END colsample_bytree=0.5, learning_rate=0.3, max_depth=3, metric=cross_entropy, min_child_samples=25, n_estimators=300, subsample=0.6;, score=0.563 total time=   0.3s\n",
      "[CV 5/10] END colsample_bytree=0.5, learning_rate=0.3, max_depth=3, metric=cross_entropy, min_child_samples=25, n_estimators=300, subsample=0.6;, score=0.550 total time=   0.3s\n",
      "[CV 6/10] END colsample_bytree=0.5, learning_rate=0.3, max_depth=3, metric=cross_entropy, min_child_samples=25, n_estimators=300, subsample=0.6;, score=0.552 total time=   0.3s\n",
      "[CV 7/10] END colsample_bytree=0.5, learning_rate=0.3, max_depth=3, metric=cross_entropy, min_child_samples=25, n_estimators=300, subsample=0.6;, score=0.556 total time=   0.3s\n",
      "[CV 8/10] END colsample_bytree=0.5, learning_rate=0.3, max_depth=3, metric=cross_entropy, min_child_samples=25, n_estimators=300, subsample=0.6;, score=0.556 total time=   0.3s\n",
      "[CV 9/10] END colsample_bytree=0.5, learning_rate=0.3, max_depth=3, metric=cross_entropy, min_child_samples=25, n_estimators=300, subsample=0.6;, score=0.548 total time=   0.3s\n",
      "[CV 10/10] END colsample_bytree=0.5, learning_rate=0.3, max_depth=3, metric=cross_entropy, min_child_samples=25, n_estimators=300, subsample=0.6;, score=0.561 total time=   0.3s\n",
      "[CV 1/10] END colsample_bytree=0.5, learning_rate=0.5, max_depth=5, metric=binary_logloss, min_child_samples=20, n_estimators=200, subsample=0.6;, score=0.550 total time=   0.3s\n",
      "[CV 2/10] END colsample_bytree=0.5, learning_rate=0.5, max_depth=5, metric=binary_logloss, min_child_samples=20, n_estimators=200, subsample=0.6;, score=0.558 total time=   0.3s\n",
      "[CV 3/10] END colsample_bytree=0.5, learning_rate=0.5, max_depth=5, metric=binary_logloss, min_child_samples=20, n_estimators=200, subsample=0.6;, score=0.554 total time=   0.4s\n",
      "[CV 4/10] END colsample_bytree=0.5, learning_rate=0.5, max_depth=5, metric=binary_logloss, min_child_samples=20, n_estimators=200, subsample=0.6;, score=0.562 total time=   0.3s\n",
      "[CV 5/10] END colsample_bytree=0.5, learning_rate=0.5, max_depth=5, metric=binary_logloss, min_child_samples=20, n_estimators=200, subsample=0.6;, score=0.552 total time=   0.3s\n",
      "[CV 6/10] END colsample_bytree=0.5, learning_rate=0.5, max_depth=5, metric=binary_logloss, min_child_samples=20, n_estimators=200, subsample=0.6;, score=0.560 total time=   0.3s\n",
      "[CV 7/10] END colsample_bytree=0.5, learning_rate=0.5, max_depth=5, metric=binary_logloss, min_child_samples=20, n_estimators=200, subsample=0.6;, score=0.553 total time=   0.3s\n",
      "[CV 8/10] END colsample_bytree=0.5, learning_rate=0.5, max_depth=5, metric=binary_logloss, min_child_samples=20, n_estimators=200, subsample=0.6;, score=0.555 total time=   0.4s\n",
      "[CV 9/10] END colsample_bytree=0.5, learning_rate=0.5, max_depth=5, metric=binary_logloss, min_child_samples=20, n_estimators=200, subsample=0.6;, score=0.561 total time=   0.3s\n",
      "[CV 10/10] END colsample_bytree=0.5, learning_rate=0.5, max_depth=5, metric=binary_logloss, min_child_samples=20, n_estimators=200, subsample=0.6;, score=0.565 total time=   0.3s\n",
      "[CV 1/10] END colsample_bytree=0.5, learning_rate=0.05, max_depth=7, metric=binary_logloss, min_child_samples=20, n_estimators=400, subsample=0.6;, score=0.554 total time=   0.7s\n",
      "[CV 2/10] END colsample_bytree=0.5, learning_rate=0.05, max_depth=7, metric=binary_logloss, min_child_samples=20, n_estimators=400, subsample=0.6;, score=0.559 total time=   0.7s\n",
      "[CV 3/10] END colsample_bytree=0.5, learning_rate=0.05, max_depth=7, metric=binary_logloss, min_child_samples=20, n_estimators=400, subsample=0.6;, score=0.556 total time=   0.7s\n",
      "[CV 4/10] END colsample_bytree=0.5, learning_rate=0.05, max_depth=7, metric=binary_logloss, min_child_samples=20, n_estimators=400, subsample=0.6;, score=0.564 total time=   0.7s\n",
      "[CV 5/10] END colsample_bytree=0.5, learning_rate=0.05, max_depth=7, metric=binary_logloss, min_child_samples=20, n_estimators=400, subsample=0.6;, score=0.549 total time=   0.8s\n",
      "[CV 6/10] END colsample_bytree=0.5, learning_rate=0.05, max_depth=7, metric=binary_logloss, min_child_samples=20, n_estimators=400, subsample=0.6;, score=0.556 total time=   0.8s\n",
      "[CV 7/10] END colsample_bytree=0.5, learning_rate=0.05, max_depth=7, metric=binary_logloss, min_child_samples=20, n_estimators=400, subsample=0.6;, score=0.560 total time=   0.7s\n"
     ]
    },
    {
     "name": "stdout",
     "output_type": "stream",
     "text": [
      "[CV 8/10] END colsample_bytree=0.5, learning_rate=0.05, max_depth=7, metric=binary_logloss, min_child_samples=20, n_estimators=400, subsample=0.6;, score=0.558 total time=   0.8s\n",
      "[CV 9/10] END colsample_bytree=0.5, learning_rate=0.05, max_depth=7, metric=binary_logloss, min_child_samples=20, n_estimators=400, subsample=0.6;, score=0.554 total time=   0.7s\n",
      "[CV 10/10] END colsample_bytree=0.5, learning_rate=0.05, max_depth=7, metric=binary_logloss, min_child_samples=20, n_estimators=400, subsample=0.6;, score=0.562 total time=   0.7s\n",
      "[CV 1/10] END colsample_bytree=0.5, learning_rate=0.5, max_depth=5, metric=cross_entropy, min_child_samples=30, n_estimators=300, subsample=0.7;, score=0.557 total time=   0.5s\n",
      "[CV 2/10] END colsample_bytree=0.5, learning_rate=0.5, max_depth=5, metric=cross_entropy, min_child_samples=30, n_estimators=300, subsample=0.7;, score=0.557 total time=   0.5s\n",
      "[CV 3/10] END colsample_bytree=0.5, learning_rate=0.5, max_depth=5, metric=cross_entropy, min_child_samples=30, n_estimators=300, subsample=0.7;, score=0.548 total time=   0.5s\n",
      "[CV 4/10] END colsample_bytree=0.5, learning_rate=0.5, max_depth=5, metric=cross_entropy, min_child_samples=30, n_estimators=300, subsample=0.7;, score=0.554 total time=   0.4s\n",
      "[CV 5/10] END colsample_bytree=0.5, learning_rate=0.5, max_depth=5, metric=cross_entropy, min_child_samples=30, n_estimators=300, subsample=0.7;, score=0.558 total time=   0.5s\n",
      "[CV 6/10] END colsample_bytree=0.5, learning_rate=0.5, max_depth=5, metric=cross_entropy, min_child_samples=30, n_estimators=300, subsample=0.7;, score=0.556 total time=   0.4s\n",
      "[CV 7/10] END colsample_bytree=0.5, learning_rate=0.5, max_depth=5, metric=cross_entropy, min_child_samples=30, n_estimators=300, subsample=0.7;, score=0.555 total time=   0.5s\n",
      "[CV 8/10] END colsample_bytree=0.5, learning_rate=0.5, max_depth=5, metric=cross_entropy, min_child_samples=30, n_estimators=300, subsample=0.7;, score=0.548 total time=   0.4s\n",
      "[CV 9/10] END colsample_bytree=0.5, learning_rate=0.5, max_depth=5, metric=cross_entropy, min_child_samples=30, n_estimators=300, subsample=0.7;, score=0.556 total time=   0.5s\n",
      "[CV 10/10] END colsample_bytree=0.5, learning_rate=0.5, max_depth=5, metric=cross_entropy, min_child_samples=30, n_estimators=300, subsample=0.7;, score=0.558 total time=   0.5s\n",
      "[CV 1/10] END colsample_bytree=1, learning_rate=0.1, max_depth=7, metric=cross_entropy, min_child_samples=25, n_estimators=100, subsample=0.5;, score=0.553 total time=   0.3s\n",
      "[CV 2/10] END colsample_bytree=1, learning_rate=0.1, max_depth=7, metric=cross_entropy, min_child_samples=25, n_estimators=100, subsample=0.5;, score=0.558 total time=   0.3s\n",
      "[CV 3/10] END colsample_bytree=1, learning_rate=0.1, max_depth=7, metric=cross_entropy, min_child_samples=25, n_estimators=100, subsample=0.5;, score=0.556 total time=   0.4s\n",
      "[CV 4/10] END colsample_bytree=1, learning_rate=0.1, max_depth=7, metric=cross_entropy, min_child_samples=25, n_estimators=100, subsample=0.5;, score=0.560 total time=   0.4s\n",
      "[CV 5/10] END colsample_bytree=1, learning_rate=0.1, max_depth=7, metric=cross_entropy, min_child_samples=25, n_estimators=100, subsample=0.5;, score=0.544 total time=   0.4s\n",
      "[CV 6/10] END colsample_bytree=1, learning_rate=0.1, max_depth=7, metric=cross_entropy, min_child_samples=25, n_estimators=100, subsample=0.5;, score=0.551 total time=   0.3s\n",
      "[CV 7/10] END colsample_bytree=1, learning_rate=0.1, max_depth=7, metric=cross_entropy, min_child_samples=25, n_estimators=100, subsample=0.5;, score=0.557 total time=   0.4s\n",
      "[CV 8/10] END colsample_bytree=1, learning_rate=0.1, max_depth=7, metric=cross_entropy, min_child_samples=25, n_estimators=100, subsample=0.5;, score=0.551 total time=   0.4s\n",
      "[CV 9/10] END colsample_bytree=1, learning_rate=0.1, max_depth=7, metric=cross_entropy, min_child_samples=25, n_estimators=100, subsample=0.5;, score=0.550 total time=   0.3s\n",
      "[CV 10/10] END colsample_bytree=1, learning_rate=0.1, max_depth=7, metric=cross_entropy, min_child_samples=25, n_estimators=100, subsample=0.5;, score=0.560 total time=   0.3s\n",
      "[CV 1/10] END colsample_bytree=0.5, learning_rate=0.1, max_depth=5, metric=cross_entropy, min_child_samples=20, n_estimators=200, subsample=0.7;, score=0.548 total time=   0.4s\n",
      "[CV 2/10] END colsample_bytree=0.5, learning_rate=0.1, max_depth=5, metric=cross_entropy, min_child_samples=20, n_estimators=200, subsample=0.7;, score=0.553 total time=   0.4s\n",
      "[CV 3/10] END colsample_bytree=0.5, learning_rate=0.1, max_depth=5, metric=cross_entropy, min_child_samples=20, n_estimators=200, subsample=0.7;, score=0.545 total time=   0.4s\n",
      "[CV 4/10] END colsample_bytree=0.5, learning_rate=0.1, max_depth=5, metric=cross_entropy, min_child_samples=20, n_estimators=200, subsample=0.7;, score=0.555 total time=   0.4s\n",
      "[CV 5/10] END colsample_bytree=0.5, learning_rate=0.1, max_depth=5, metric=cross_entropy, min_child_samples=20, n_estimators=200, subsample=0.7;, score=0.543 total time=   0.4s\n",
      "[CV 6/10] END colsample_bytree=0.5, learning_rate=0.1, max_depth=5, metric=cross_entropy, min_child_samples=20, n_estimators=200, subsample=0.7;, score=0.547 total time=   0.4s\n",
      "[CV 7/10] END colsample_bytree=0.5, learning_rate=0.1, max_depth=5, metric=cross_entropy, min_child_samples=20, n_estimators=200, subsample=0.7;, score=0.552 total time=   0.4s\n",
      "[CV 8/10] END colsample_bytree=0.5, learning_rate=0.1, max_depth=5, metric=cross_entropy, min_child_samples=20, n_estimators=200, subsample=0.7;, score=0.549 total time=   0.4s\n",
      "[CV 9/10] END colsample_bytree=0.5, learning_rate=0.1, max_depth=5, metric=cross_entropy, min_child_samples=20, n_estimators=200, subsample=0.7;, score=0.548 total time=   0.3s\n",
      "[CV 10/10] END colsample_bytree=0.5, learning_rate=0.1, max_depth=5, metric=cross_entropy, min_child_samples=20, n_estimators=200, subsample=0.7;, score=0.558 total time=   0.4s\n",
      "[CV 1/10] END colsample_bytree=0.5, learning_rate=0.1, max_depth=5, metric=cross_entropy, min_child_samples=20, n_estimators=300, subsample=0.6;, score=0.554 total time=   0.5s\n",
      "[CV 2/10] END colsample_bytree=0.5, learning_rate=0.1, max_depth=5, metric=cross_entropy, min_child_samples=20, n_estimators=300, subsample=0.6;, score=0.560 total time=   0.5s\n",
      "[CV 3/10] END colsample_bytree=0.5, learning_rate=0.1, max_depth=5, metric=cross_entropy, min_child_samples=20, n_estimators=300, subsample=0.6;, score=0.558 total time=   0.5s\n",
      "[CV 4/10] END colsample_bytree=0.5, learning_rate=0.1, max_depth=5, metric=cross_entropy, min_child_samples=20, n_estimators=300, subsample=0.6;, score=0.565 total time=   0.5s\n",
      "[CV 5/10] END colsample_bytree=0.5, learning_rate=0.1, max_depth=5, metric=cross_entropy, min_child_samples=20, n_estimators=300, subsample=0.6;, score=0.550 total time=   0.5s\n",
      "[CV 6/10] END colsample_bytree=0.5, learning_rate=0.1, max_depth=5, metric=cross_entropy, min_child_samples=20, n_estimators=300, subsample=0.6;, score=0.554 total time=   0.5s\n",
      "[CV 7/10] END colsample_bytree=0.5, learning_rate=0.1, max_depth=5, metric=cross_entropy, min_child_samples=20, n_estimators=300, subsample=0.6;, score=0.559 total time=   0.5s\n",
      "[CV 8/10] END colsample_bytree=0.5, learning_rate=0.1, max_depth=5, metric=cross_entropy, min_child_samples=20, n_estimators=300, subsample=0.6;, score=0.558 total time=   0.5s\n",
      "[CV 9/10] END colsample_bytree=0.5, learning_rate=0.1, max_depth=5, metric=cross_entropy, min_child_samples=20, n_estimators=300, subsample=0.6;, score=0.555 total time=   0.5s\n",
      "[CV 10/10] END colsample_bytree=0.5, learning_rate=0.1, max_depth=5, metric=cross_entropy, min_child_samples=20, n_estimators=300, subsample=0.6;, score=0.563 total time=   0.5s\n",
      "[CV 1/10] END colsample_bytree=0.5, learning_rate=0.01, max_depth=7, metric=binary_logloss, min_child_samples=25, n_estimators=400, subsample=0.7;, score=0.478 total time=   0.8s\n",
      "[CV 2/10] END colsample_bytree=0.5, learning_rate=0.01, max_depth=7, metric=binary_logloss, min_child_samples=25, n_estimators=400, subsample=0.7;, score=0.475 total time=   0.8s\n",
      "[CV 3/10] END colsample_bytree=0.5, learning_rate=0.01, max_depth=7, metric=binary_logloss, min_child_samples=25, n_estimators=400, subsample=0.7;, score=0.485 total time=   0.8s\n",
      "[CV 4/10] END colsample_bytree=0.5, learning_rate=0.01, max_depth=7, metric=binary_logloss, min_child_samples=25, n_estimators=400, subsample=0.7;, score=0.488 total time=   0.8s\n"
     ]
    },
    {
     "name": "stdout",
     "output_type": "stream",
     "text": [
      "[CV 5/10] END colsample_bytree=0.5, learning_rate=0.01, max_depth=7, metric=binary_logloss, min_child_samples=25, n_estimators=400, subsample=0.7;, score=0.467 total time=   0.8s\n",
      "[CV 6/10] END colsample_bytree=0.5, learning_rate=0.01, max_depth=7, metric=binary_logloss, min_child_samples=25, n_estimators=400, subsample=0.7;, score=0.476 total time=   0.8s\n",
      "[CV 7/10] END colsample_bytree=0.5, learning_rate=0.01, max_depth=7, metric=binary_logloss, min_child_samples=25, n_estimators=400, subsample=0.7;, score=0.476 total time=   0.9s\n",
      "[CV 8/10] END colsample_bytree=0.5, learning_rate=0.01, max_depth=7, metric=binary_logloss, min_child_samples=25, n_estimators=400, subsample=0.7;, score=0.482 total time=   0.8s\n",
      "[CV 9/10] END colsample_bytree=0.5, learning_rate=0.01, max_depth=7, metric=binary_logloss, min_child_samples=25, n_estimators=400, subsample=0.7;, score=0.487 total time=   0.9s\n",
      "[CV 10/10] END colsample_bytree=0.5, learning_rate=0.01, max_depth=7, metric=binary_logloss, min_child_samples=25, n_estimators=400, subsample=0.7;, score=0.480 total time=   0.9s\n",
      "[CV 1/10] END colsample_bytree=0.5, learning_rate=0.3, max_depth=5, metric=binary_logloss, min_child_samples=30, n_estimators=100, subsample=0.7;, score=0.552 total time=   0.2s\n",
      "[CV 2/10] END colsample_bytree=0.5, learning_rate=0.3, max_depth=5, metric=binary_logloss, min_child_samples=30, n_estimators=100, subsample=0.7;, score=0.552 total time=   0.2s\n",
      "[CV 3/10] END colsample_bytree=0.5, learning_rate=0.3, max_depth=5, metric=binary_logloss, min_child_samples=30, n_estimators=100, subsample=0.7;, score=0.553 total time=   0.2s\n",
      "[CV 4/10] END colsample_bytree=0.5, learning_rate=0.3, max_depth=5, metric=binary_logloss, min_child_samples=30, n_estimators=100, subsample=0.7;, score=0.559 total time=   0.2s\n",
      "[CV 5/10] END colsample_bytree=0.5, learning_rate=0.3, max_depth=5, metric=binary_logloss, min_child_samples=30, n_estimators=100, subsample=0.7;, score=0.550 total time=   0.2s\n",
      "[CV 6/10] END colsample_bytree=0.5, learning_rate=0.3, max_depth=5, metric=binary_logloss, min_child_samples=30, n_estimators=100, subsample=0.7;, score=0.548 total time=   0.2s\n",
      "[CV 7/10] END colsample_bytree=0.5, learning_rate=0.3, max_depth=5, metric=binary_logloss, min_child_samples=30, n_estimators=100, subsample=0.7;, score=0.552 total time=   0.2s\n",
      "[CV 8/10] END colsample_bytree=0.5, learning_rate=0.3, max_depth=5, metric=binary_logloss, min_child_samples=30, n_estimators=100, subsample=0.7;, score=0.553 total time=   0.2s\n",
      "[CV 9/10] END colsample_bytree=0.5, learning_rate=0.3, max_depth=5, metric=binary_logloss, min_child_samples=30, n_estimators=100, subsample=0.7;, score=0.551 total time=   0.2s\n",
      "[CV 10/10] END colsample_bytree=0.5, learning_rate=0.3, max_depth=5, metric=binary_logloss, min_child_samples=30, n_estimators=100, subsample=0.7;, score=0.558 total time=   0.2s\n",
      "[CV 1/10] END colsample_bytree=0.5, learning_rate=0.05, max_depth=7, metric=binary_logloss, min_child_samples=20, n_estimators=300, subsample=0.7;, score=0.553 total time=   0.6s\n",
      "[CV 2/10] END colsample_bytree=0.5, learning_rate=0.05, max_depth=7, metric=binary_logloss, min_child_samples=20, n_estimators=300, subsample=0.7;, score=0.551 total time=   0.6s\n",
      "[CV 3/10] END colsample_bytree=0.5, learning_rate=0.05, max_depth=7, metric=binary_logloss, min_child_samples=20, n_estimators=300, subsample=0.7;, score=0.551 total time=   0.6s\n",
      "[CV 4/10] END colsample_bytree=0.5, learning_rate=0.05, max_depth=7, metric=binary_logloss, min_child_samples=20, n_estimators=300, subsample=0.7;, score=0.559 total time=   0.6s\n",
      "[CV 5/10] END colsample_bytree=0.5, learning_rate=0.05, max_depth=7, metric=binary_logloss, min_child_samples=20, n_estimators=300, subsample=0.7;, score=0.545 total time=   0.6s\n",
      "[CV 6/10] END colsample_bytree=0.5, learning_rate=0.05, max_depth=7, metric=binary_logloss, min_child_samples=20, n_estimators=300, subsample=0.7;, score=0.553 total time=   0.6s\n",
      "[CV 7/10] END colsample_bytree=0.5, learning_rate=0.05, max_depth=7, metric=binary_logloss, min_child_samples=20, n_estimators=300, subsample=0.7;, score=0.554 total time=   0.6s\n",
      "[CV 8/10] END colsample_bytree=0.5, learning_rate=0.05, max_depth=7, metric=binary_logloss, min_child_samples=20, n_estimators=300, subsample=0.7;, score=0.553 total time=   0.6s\n",
      "[CV 9/10] END colsample_bytree=0.5, learning_rate=0.05, max_depth=7, metric=binary_logloss, min_child_samples=20, n_estimators=300, subsample=0.7;, score=0.549 total time=   0.6s\n",
      "[CV 10/10] END colsample_bytree=0.5, learning_rate=0.05, max_depth=7, metric=binary_logloss, min_child_samples=20, n_estimators=300, subsample=0.7;, score=0.558 total time=   0.6s\n",
      "[CV 1/10] END colsample_bytree=1, learning_rate=0.01, max_depth=5, metric=cross_entropy, min_child_samples=25, n_estimators=300, subsample=0.5;, score=0.441 total time=   0.5s\n",
      "[CV 2/10] END colsample_bytree=1, learning_rate=0.01, max_depth=5, metric=cross_entropy, min_child_samples=25, n_estimators=300, subsample=0.5;, score=0.439 total time=   0.5s\n",
      "[CV 3/10] END colsample_bytree=1, learning_rate=0.01, max_depth=5, metric=cross_entropy, min_child_samples=25, n_estimators=300, subsample=0.5;, score=0.454 total time=   0.5s\n",
      "[CV 4/10] END colsample_bytree=1, learning_rate=0.01, max_depth=5, metric=cross_entropy, min_child_samples=25, n_estimators=300, subsample=0.5;, score=0.451 total time=   0.6s\n",
      "[CV 5/10] END colsample_bytree=1, learning_rate=0.01, max_depth=5, metric=cross_entropy, min_child_samples=25, n_estimators=300, subsample=0.5;, score=0.433 total time=   0.5s\n",
      "[CV 6/10] END colsample_bytree=1, learning_rate=0.01, max_depth=5, metric=cross_entropy, min_child_samples=25, n_estimators=300, subsample=0.5;, score=0.448 total time=   0.5s\n",
      "[CV 7/10] END colsample_bytree=1, learning_rate=0.01, max_depth=5, metric=cross_entropy, min_child_samples=25, n_estimators=300, subsample=0.5;, score=0.443 total time=   0.5s\n",
      "[CV 8/10] END colsample_bytree=1, learning_rate=0.01, max_depth=5, metric=cross_entropy, min_child_samples=25, n_estimators=300, subsample=0.5;, score=0.445 total time=   0.5s\n",
      "[CV 9/10] END colsample_bytree=1, learning_rate=0.01, max_depth=5, metric=cross_entropy, min_child_samples=25, n_estimators=300, subsample=0.5;, score=0.451 total time=   0.5s\n",
      "[CV 10/10] END colsample_bytree=1, learning_rate=0.01, max_depth=5, metric=cross_entropy, min_child_samples=25, n_estimators=300, subsample=0.5;, score=0.446 total time=   0.6s\n",
      "[CV 1/10] END colsample_bytree=1, learning_rate=0.01, max_depth=3, metric=binary_logloss, min_child_samples=30, n_estimators=100, subsample=0.5;, score=0.231 total time=   0.2s\n",
      "[CV 2/10] END colsample_bytree=1, learning_rate=0.01, max_depth=3, metric=binary_logloss, min_child_samples=30, n_estimators=100, subsample=0.5;, score=0.243 total time=   0.2s\n",
      "[CV 3/10] END colsample_bytree=1, learning_rate=0.01, max_depth=3, metric=binary_logloss, min_child_samples=30, n_estimators=100, subsample=0.5;, score=0.249 total time=   0.2s\n",
      "[CV 4/10] END colsample_bytree=1, learning_rate=0.01, max_depth=3, metric=binary_logloss, min_child_samples=30, n_estimators=100, subsample=0.5;, score=0.228 total time=   0.2s\n",
      "[CV 5/10] END colsample_bytree=1, learning_rate=0.01, max_depth=3, metric=binary_logloss, min_child_samples=30, n_estimators=100, subsample=0.5;, score=0.229 total time=   0.2s\n",
      "[CV 6/10] END colsample_bytree=1, learning_rate=0.01, max_depth=3, metric=binary_logloss, min_child_samples=30, n_estimators=100, subsample=0.5;, score=0.236 total time=   0.2s\n",
      "[CV 7/10] END colsample_bytree=1, learning_rate=0.01, max_depth=3, metric=binary_logloss, min_child_samples=30, n_estimators=100, subsample=0.5;, score=0.236 total time=   0.2s\n",
      "[CV 8/10] END colsample_bytree=1, learning_rate=0.01, max_depth=3, metric=binary_logloss, min_child_samples=30, n_estimators=100, subsample=0.5;, score=0.229 total time=   0.2s\n",
      "[CV 9/10] END colsample_bytree=1, learning_rate=0.01, max_depth=3, metric=binary_logloss, min_child_samples=30, n_estimators=100, subsample=0.5;, score=0.243 total time=   0.2s\n",
      "[CV 10/10] END colsample_bytree=1, learning_rate=0.01, max_depth=3, metric=binary_logloss, min_child_samples=30, n_estimators=100, subsample=0.5;, score=0.234 total time=   0.2s\n",
      "[CV 1/10] END colsample_bytree=1, learning_rate=0.5, max_depth=7, metric=cross_entropy, min_child_samples=25, n_estimators=400, subsample=0.5;, score=0.540 total time=   0.6s\n"
     ]
    },
    {
     "name": "stdout",
     "output_type": "stream",
     "text": [
      "[CV 2/10] END colsample_bytree=1, learning_rate=0.5, max_depth=7, metric=cross_entropy, min_child_samples=25, n_estimators=400, subsample=0.5;, score=0.547 total time=   0.6s\n",
      "[CV 3/10] END colsample_bytree=1, learning_rate=0.5, max_depth=7, metric=cross_entropy, min_child_samples=25, n_estimators=400, subsample=0.5;, score=0.540 total time=   0.6s\n",
      "[CV 4/10] END colsample_bytree=1, learning_rate=0.5, max_depth=7, metric=cross_entropy, min_child_samples=25, n_estimators=400, subsample=0.5;, score=0.553 total time=   0.6s\n",
      "[CV 5/10] END colsample_bytree=1, learning_rate=0.5, max_depth=7, metric=cross_entropy, min_child_samples=25, n_estimators=400, subsample=0.5;, score=0.544 total time=   0.6s\n",
      "[CV 6/10] END colsample_bytree=1, learning_rate=0.5, max_depth=7, metric=cross_entropy, min_child_samples=25, n_estimators=400, subsample=0.5;, score=0.542 total time=   0.6s\n",
      "[CV 7/10] END colsample_bytree=1, learning_rate=0.5, max_depth=7, metric=cross_entropy, min_child_samples=25, n_estimators=400, subsample=0.5;, score=0.550 total time=   0.6s\n",
      "[CV 8/10] END colsample_bytree=1, learning_rate=0.5, max_depth=7, metric=cross_entropy, min_child_samples=25, n_estimators=400, subsample=0.5;, score=0.547 total time=   0.6s\n",
      "[CV 9/10] END colsample_bytree=1, learning_rate=0.5, max_depth=7, metric=cross_entropy, min_child_samples=25, n_estimators=400, subsample=0.5;, score=0.548 total time=   0.6s\n",
      "[CV 10/10] END colsample_bytree=1, learning_rate=0.5, max_depth=7, metric=cross_entropy, min_child_samples=25, n_estimators=400, subsample=0.5;, score=0.559 total time=   0.6s\n",
      "[CV 1/10] END colsample_bytree=0.5, learning_rate=0.5, max_depth=3, metric=cross_entropy, min_child_samples=20, n_estimators=100, subsample=0.5;, score=0.548 total time=   0.2s\n",
      "[CV 2/10] END colsample_bytree=0.5, learning_rate=0.5, max_depth=3, metric=cross_entropy, min_child_samples=20, n_estimators=100, subsample=0.5;, score=0.547 total time=   0.2s\n",
      "[CV 3/10] END colsample_bytree=0.5, learning_rate=0.5, max_depth=3, metric=cross_entropy, min_child_samples=20, n_estimators=100, subsample=0.5;, score=0.531 total time=   0.2s\n",
      "[CV 4/10] END colsample_bytree=0.5, learning_rate=0.5, max_depth=3, metric=cross_entropy, min_child_samples=20, n_estimators=100, subsample=0.5;, score=0.554 total time=   0.2s\n",
      "[CV 5/10] END colsample_bytree=0.5, learning_rate=0.5, max_depth=3, metric=cross_entropy, min_child_samples=20, n_estimators=100, subsample=0.5;, score=0.540 total time=   0.2s\n",
      "[CV 6/10] END colsample_bytree=0.5, learning_rate=0.5, max_depth=3, metric=cross_entropy, min_child_samples=20, n_estimators=100, subsample=0.5;, score=0.536 total time=   0.2s\n",
      "[CV 7/10] END colsample_bytree=0.5, learning_rate=0.5, max_depth=3, metric=cross_entropy, min_child_samples=20, n_estimators=100, subsample=0.5;, score=0.540 total time=   0.2s\n",
      "[CV 8/10] END colsample_bytree=0.5, learning_rate=0.5, max_depth=3, metric=cross_entropy, min_child_samples=20, n_estimators=100, subsample=0.5;, score=0.545 total time=   0.2s\n",
      "[CV 9/10] END colsample_bytree=0.5, learning_rate=0.5, max_depth=3, metric=cross_entropy, min_child_samples=20, n_estimators=100, subsample=0.5;, score=0.543 total time=   0.2s\n",
      "[CV 10/10] END colsample_bytree=0.5, learning_rate=0.5, max_depth=3, metric=cross_entropy, min_child_samples=20, n_estimators=100, subsample=0.5;, score=0.549 total time=   0.2s\n",
      "[CV 1/10] END colsample_bytree=1, learning_rate=0.5, max_depth=7, metric=binary_logloss, min_child_samples=25, n_estimators=200, subsample=0.7;, score=0.553 total time=   0.3s\n",
      "[CV 2/10] END colsample_bytree=1, learning_rate=0.5, max_depth=7, metric=binary_logloss, min_child_samples=25, n_estimators=200, subsample=0.7;, score=0.561 total time=   0.3s\n",
      "[CV 3/10] END colsample_bytree=1, learning_rate=0.5, max_depth=7, metric=binary_logloss, min_child_samples=25, n_estimators=200, subsample=0.7;, score=0.554 total time=   0.4s\n",
      "[CV 4/10] END colsample_bytree=1, learning_rate=0.5, max_depth=7, metric=binary_logloss, min_child_samples=25, n_estimators=200, subsample=0.7;, score=0.562 total time=   0.4s\n",
      "[CV 5/10] END colsample_bytree=1, learning_rate=0.5, max_depth=7, metric=binary_logloss, min_child_samples=25, n_estimators=200, subsample=0.7;, score=0.552 total time=   0.3s\n",
      "[CV 6/10] END colsample_bytree=1, learning_rate=0.5, max_depth=7, metric=binary_logloss, min_child_samples=25, n_estimators=200, subsample=0.7;, score=0.550 total time=   0.3s\n",
      "[CV 7/10] END colsample_bytree=1, learning_rate=0.5, max_depth=7, metric=binary_logloss, min_child_samples=25, n_estimators=200, subsample=0.7;, score=0.559 total time=   0.3s\n",
      "[CV 8/10] END colsample_bytree=1, learning_rate=0.5, max_depth=7, metric=binary_logloss, min_child_samples=25, n_estimators=200, subsample=0.7;, score=0.553 total time=   0.3s\n",
      "[CV 9/10] END colsample_bytree=1, learning_rate=0.5, max_depth=7, metric=binary_logloss, min_child_samples=25, n_estimators=200, subsample=0.7;, score=0.555 total time=   0.3s\n",
      "[CV 10/10] END colsample_bytree=1, learning_rate=0.5, max_depth=7, metric=binary_logloss, min_child_samples=25, n_estimators=200, subsample=0.7;, score=0.557 total time=   0.3s\n",
      "[CV 1/10] END colsample_bytree=0.5, learning_rate=0.01, max_depth=5, metric=cross_entropy, min_child_samples=25, n_estimators=300, subsample=0.7;, score=0.399 total time=   0.6s\n",
      "[CV 2/10] END colsample_bytree=0.5, learning_rate=0.01, max_depth=5, metric=cross_entropy, min_child_samples=25, n_estimators=300, subsample=0.7;, score=0.397 total time=   0.5s\n",
      "[CV 3/10] END colsample_bytree=0.5, learning_rate=0.01, max_depth=5, metric=cross_entropy, min_child_samples=25, n_estimators=300, subsample=0.7;, score=0.407 total time=   0.5s\n",
      "[CV 4/10] END colsample_bytree=0.5, learning_rate=0.01, max_depth=5, metric=cross_entropy, min_child_samples=25, n_estimators=300, subsample=0.7;, score=0.401 total time=   0.6s\n",
      "[CV 5/10] END colsample_bytree=0.5, learning_rate=0.01, max_depth=5, metric=cross_entropy, min_child_samples=25, n_estimators=300, subsample=0.7;, score=0.388 total time=   0.5s\n",
      "[CV 6/10] END colsample_bytree=0.5, learning_rate=0.01, max_depth=5, metric=cross_entropy, min_child_samples=25, n_estimators=300, subsample=0.7;, score=0.400 total time=   0.6s\n",
      "[CV 7/10] END colsample_bytree=0.5, learning_rate=0.01, max_depth=5, metric=cross_entropy, min_child_samples=25, n_estimators=300, subsample=0.7;, score=0.395 total time=   0.6s\n",
      "[CV 8/10] END colsample_bytree=0.5, learning_rate=0.01, max_depth=5, metric=cross_entropy, min_child_samples=25, n_estimators=300, subsample=0.7;, score=0.399 total time=   0.5s\n",
      "[CV 9/10] END colsample_bytree=0.5, learning_rate=0.01, max_depth=5, metric=cross_entropy, min_child_samples=25, n_estimators=300, subsample=0.7;, score=0.411 total time=   0.6s\n",
      "[CV 10/10] END colsample_bytree=0.5, learning_rate=0.01, max_depth=5, metric=cross_entropy, min_child_samples=25, n_estimators=300, subsample=0.7;, score=0.397 total time=   0.6s\n",
      "[CV 1/10] END colsample_bytree=0.5, learning_rate=0.05, max_depth=5, metric=binary_logloss, min_child_samples=20, n_estimators=200, subsample=0.7;, score=0.526 total time=   0.4s\n",
      "[CV 2/10] END colsample_bytree=0.5, learning_rate=0.05, max_depth=5, metric=binary_logloss, min_child_samples=20, n_estimators=200, subsample=0.7;, score=0.527 total time=   0.4s\n",
      "[CV 3/10] END colsample_bytree=0.5, learning_rate=0.05, max_depth=5, metric=binary_logloss, min_child_samples=20, n_estimators=200, subsample=0.7;, score=0.522 total time=   0.4s\n",
      "[CV 4/10] END colsample_bytree=0.5, learning_rate=0.05, max_depth=5, metric=binary_logloss, min_child_samples=20, n_estimators=200, subsample=0.7;, score=0.533 total time=   0.4s\n",
      "[CV 5/10] END colsample_bytree=0.5, learning_rate=0.05, max_depth=5, metric=binary_logloss, min_child_samples=20, n_estimators=200, subsample=0.7;, score=0.514 total time=   0.4s\n",
      "[CV 6/10] END colsample_bytree=0.5, learning_rate=0.05, max_depth=5, metric=binary_logloss, min_child_samples=20, n_estimators=200, subsample=0.7;, score=0.519 total time=   0.4s\n",
      "[CV 7/10] END colsample_bytree=0.5, learning_rate=0.05, max_depth=5, metric=binary_logloss, min_child_samples=20, n_estimators=200, subsample=0.7;, score=0.525 total time=   0.4s\n",
      "[CV 8/10] END colsample_bytree=0.5, learning_rate=0.05, max_depth=5, metric=binary_logloss, min_child_samples=20, n_estimators=200, subsample=0.7;, score=0.524 total time=   0.4s\n"
     ]
    },
    {
     "name": "stdout",
     "output_type": "stream",
     "text": [
      "[CV 9/10] END colsample_bytree=0.5, learning_rate=0.05, max_depth=5, metric=binary_logloss, min_child_samples=20, n_estimators=200, subsample=0.7;, score=0.525 total time=   0.4s\n",
      "[CV 10/10] END colsample_bytree=0.5, learning_rate=0.05, max_depth=5, metric=binary_logloss, min_child_samples=20, n_estimators=200, subsample=0.7;, score=0.528 total time=   0.4s\n",
      "[CV 1/10] END colsample_bytree=0.5, learning_rate=0.05, max_depth=5, metric=cross_entropy, min_child_samples=25, n_estimators=400, subsample=0.6;, score=0.547 total time=   0.7s\n",
      "[CV 2/10] END colsample_bytree=0.5, learning_rate=0.05, max_depth=5, metric=cross_entropy, min_child_samples=25, n_estimators=400, subsample=0.6;, score=0.552 total time=   0.7s\n",
      "[CV 3/10] END colsample_bytree=0.5, learning_rate=0.05, max_depth=5, metric=cross_entropy, min_child_samples=25, n_estimators=400, subsample=0.6;, score=0.546 total time=   0.7s\n",
      "[CV 4/10] END colsample_bytree=0.5, learning_rate=0.05, max_depth=5, metric=cross_entropy, min_child_samples=25, n_estimators=400, subsample=0.6;, score=0.553 total time=   0.6s\n",
      "[CV 5/10] END colsample_bytree=0.5, learning_rate=0.05, max_depth=5, metric=cross_entropy, min_child_samples=25, n_estimators=400, subsample=0.6;, score=0.540 total time=   0.6s\n",
      "[CV 6/10] END colsample_bytree=0.5, learning_rate=0.05, max_depth=5, metric=cross_entropy, min_child_samples=25, n_estimators=400, subsample=0.6;, score=0.550 total time=   0.6s\n",
      "[CV 7/10] END colsample_bytree=0.5, learning_rate=0.05, max_depth=5, metric=cross_entropy, min_child_samples=25, n_estimators=400, subsample=0.6;, score=0.553 total time=   0.6s\n",
      "[CV 8/10] END colsample_bytree=0.5, learning_rate=0.05, max_depth=5, metric=cross_entropy, min_child_samples=25, n_estimators=400, subsample=0.6;, score=0.554 total time=   0.6s\n",
      "[CV 9/10] END colsample_bytree=0.5, learning_rate=0.05, max_depth=5, metric=cross_entropy, min_child_samples=25, n_estimators=400, subsample=0.6;, score=0.545 total time=   0.7s\n",
      "[CV 10/10] END colsample_bytree=0.5, learning_rate=0.05, max_depth=5, metric=cross_entropy, min_child_samples=25, n_estimators=400, subsample=0.6;, score=0.556 total time=   0.7s\n",
      "[CV 1/10] END colsample_bytree=0.5, learning_rate=0.5, max_depth=3, metric=cross_entropy, min_child_samples=20, n_estimators=200, subsample=0.7;, score=0.556 total time=   0.3s\n",
      "[CV 2/10] END colsample_bytree=0.5, learning_rate=0.5, max_depth=3, metric=cross_entropy, min_child_samples=20, n_estimators=200, subsample=0.7;, score=0.558 total time=   0.3s\n",
      "[CV 3/10] END colsample_bytree=0.5, learning_rate=0.5, max_depth=3, metric=cross_entropy, min_child_samples=20, n_estimators=200, subsample=0.7;, score=0.546 total time=   0.3s\n",
      "[CV 4/10] END colsample_bytree=0.5, learning_rate=0.5, max_depth=3, metric=cross_entropy, min_child_samples=20, n_estimators=200, subsample=0.7;, score=0.565 total time=   0.3s\n",
      "[CV 5/10] END colsample_bytree=0.5, learning_rate=0.5, max_depth=3, metric=cross_entropy, min_child_samples=20, n_estimators=200, subsample=0.7;, score=0.555 total time=   0.3s\n",
      "[CV 6/10] END colsample_bytree=0.5, learning_rate=0.5, max_depth=3, metric=cross_entropy, min_child_samples=20, n_estimators=200, subsample=0.7;, score=0.549 total time=   0.3s\n",
      "[CV 7/10] END colsample_bytree=0.5, learning_rate=0.5, max_depth=3, metric=cross_entropy, min_child_samples=20, n_estimators=200, subsample=0.7;, score=0.555 total time=   0.3s\n",
      "[CV 8/10] END colsample_bytree=0.5, learning_rate=0.5, max_depth=3, metric=cross_entropy, min_child_samples=20, n_estimators=200, subsample=0.7;, score=0.562 total time=   0.3s\n",
      "[CV 9/10] END colsample_bytree=0.5, learning_rate=0.5, max_depth=3, metric=cross_entropy, min_child_samples=20, n_estimators=200, subsample=0.7;, score=0.550 total time=   0.3s\n",
      "[CV 10/10] END colsample_bytree=0.5, learning_rate=0.5, max_depth=3, metric=cross_entropy, min_child_samples=20, n_estimators=200, subsample=0.7;, score=0.558 total time=   0.3s\n",
      "[CV 1/10] END colsample_bytree=1, learning_rate=0.05, max_depth=5, metric=binary_logloss, min_child_samples=25, n_estimators=100, subsample=0.7;, score=0.491 total time=   0.2s\n",
      "[CV 2/10] END colsample_bytree=1, learning_rate=0.05, max_depth=5, metric=binary_logloss, min_child_samples=25, n_estimators=100, subsample=0.7;, score=0.492 total time=   0.2s\n",
      "[CV 3/10] END colsample_bytree=1, learning_rate=0.05, max_depth=5, metric=binary_logloss, min_child_samples=25, n_estimators=100, subsample=0.7;, score=0.493 total time=   0.2s\n",
      "[CV 4/10] END colsample_bytree=1, learning_rate=0.05, max_depth=5, metric=binary_logloss, min_child_samples=25, n_estimators=100, subsample=0.7;, score=0.497 total time=   0.2s\n",
      "[CV 5/10] END colsample_bytree=1, learning_rate=0.05, max_depth=5, metric=binary_logloss, min_child_samples=25, n_estimators=100, subsample=0.7;, score=0.478 total time=   0.2s\n",
      "[CV 6/10] END colsample_bytree=1, learning_rate=0.05, max_depth=5, metric=binary_logloss, min_child_samples=25, n_estimators=100, subsample=0.7;, score=0.486 total time=   0.3s\n",
      "[CV 7/10] END colsample_bytree=1, learning_rate=0.05, max_depth=5, metric=binary_logloss, min_child_samples=25, n_estimators=100, subsample=0.7;, score=0.485 total time=   0.3s\n",
      "[CV 8/10] END colsample_bytree=1, learning_rate=0.05, max_depth=5, metric=binary_logloss, min_child_samples=25, n_estimators=100, subsample=0.7;, score=0.489 total time=   0.2s\n",
      "[CV 9/10] END colsample_bytree=1, learning_rate=0.05, max_depth=5, metric=binary_logloss, min_child_samples=25, n_estimators=100, subsample=0.7;, score=0.494 total time=   0.2s\n",
      "[CV 10/10] END colsample_bytree=1, learning_rate=0.05, max_depth=5, metric=binary_logloss, min_child_samples=25, n_estimators=100, subsample=0.7;, score=0.497 total time=   0.3s\n",
      "[CV 1/10] END colsample_bytree=1, learning_rate=0.5, max_depth=5, metric=cross_entropy, min_child_samples=20, n_estimators=400, subsample=0.5;, score=0.546 total time=   0.6s\n",
      "[CV 2/10] END colsample_bytree=1, learning_rate=0.5, max_depth=5, metric=cross_entropy, min_child_samples=20, n_estimators=400, subsample=0.5;, score=0.552 total time=   0.6s\n",
      "[CV 3/10] END colsample_bytree=1, learning_rate=0.5, max_depth=5, metric=cross_entropy, min_child_samples=20, n_estimators=400, subsample=0.5;, score=0.556 total time=   0.6s\n",
      "[CV 4/10] END colsample_bytree=1, learning_rate=0.5, max_depth=5, metric=cross_entropy, min_child_samples=20, n_estimators=400, subsample=0.5;, score=0.560 total time=   0.6s\n",
      "[CV 5/10] END colsample_bytree=1, learning_rate=0.5, max_depth=5, metric=cross_entropy, min_child_samples=20, n_estimators=400, subsample=0.5;, score=0.547 total time=   0.5s\n",
      "[CV 6/10] END colsample_bytree=1, learning_rate=0.5, max_depth=5, metric=cross_entropy, min_child_samples=20, n_estimators=400, subsample=0.5;, score=0.554 total time=   0.6s\n",
      "[CV 7/10] END colsample_bytree=1, learning_rate=0.5, max_depth=5, metric=cross_entropy, min_child_samples=20, n_estimators=400, subsample=0.5;, score=0.558 total time=   0.5s\n",
      "[CV 8/10] END colsample_bytree=1, learning_rate=0.5, max_depth=5, metric=cross_entropy, min_child_samples=20, n_estimators=400, subsample=0.5;, score=0.553 total time=   0.6s\n",
      "[CV 9/10] END colsample_bytree=1, learning_rate=0.5, max_depth=5, metric=cross_entropy, min_child_samples=20, n_estimators=400, subsample=0.5;, score=0.550 total time=   0.5s\n",
      "[CV 10/10] END colsample_bytree=1, learning_rate=0.5, max_depth=5, metric=cross_entropy, min_child_samples=20, n_estimators=400, subsample=0.5;, score=0.552 total time=   0.6s\n",
      "[CV 1/10] END colsample_bytree=1, learning_rate=0.1, max_depth=5, metric=cross_entropy, min_child_samples=30, n_estimators=100, subsample=0.6;, score=0.531 total time=   0.2s\n",
      "[CV 2/10] END colsample_bytree=1, learning_rate=0.1, max_depth=5, metric=cross_entropy, min_child_samples=30, n_estimators=100, subsample=0.6;, score=0.536 total time=   0.2s\n",
      "[CV 3/10] END colsample_bytree=1, learning_rate=0.1, max_depth=5, metric=cross_entropy, min_child_samples=30, n_estimators=100, subsample=0.6;, score=0.529 total time=   0.2s\n",
      "[CV 4/10] END colsample_bytree=1, learning_rate=0.1, max_depth=5, metric=cross_entropy, min_child_samples=30, n_estimators=100, subsample=0.6;, score=0.542 total time=   0.2s\n",
      "[CV 5/10] END colsample_bytree=1, learning_rate=0.1, max_depth=5, metric=cross_entropy, min_child_samples=30, n_estimators=100, subsample=0.6;, score=0.522 total time=   0.2s\n"
     ]
    },
    {
     "name": "stdout",
     "output_type": "stream",
     "text": [
      "[CV 6/10] END colsample_bytree=1, learning_rate=0.1, max_depth=5, metric=cross_entropy, min_child_samples=30, n_estimators=100, subsample=0.6;, score=0.530 total time=   0.2s\n",
      "[CV 7/10] END colsample_bytree=1, learning_rate=0.1, max_depth=5, metric=cross_entropy, min_child_samples=30, n_estimators=100, subsample=0.6;, score=0.540 total time=   0.2s\n",
      "[CV 8/10] END colsample_bytree=1, learning_rate=0.1, max_depth=5, metric=cross_entropy, min_child_samples=30, n_estimators=100, subsample=0.6;, score=0.530 total time=   0.2s\n",
      "[CV 9/10] END colsample_bytree=1, learning_rate=0.1, max_depth=5, metric=cross_entropy, min_child_samples=30, n_estimators=100, subsample=0.6;, score=0.529 total time=   0.2s\n",
      "[CV 10/10] END colsample_bytree=1, learning_rate=0.1, max_depth=5, metric=cross_entropy, min_child_samples=30, n_estimators=100, subsample=0.6;, score=0.539 total time=   0.2s\n",
      "[CV 1/10] END colsample_bytree=0.5, learning_rate=0.3, max_depth=5, metric=binary_logloss, min_child_samples=25, n_estimators=300, subsample=0.5;, score=0.558 total time=   0.5s\n",
      "[CV 2/10] END colsample_bytree=0.5, learning_rate=0.3, max_depth=5, metric=binary_logloss, min_child_samples=25, n_estimators=300, subsample=0.5;, score=0.564 total time=   0.5s\n",
      "[CV 3/10] END colsample_bytree=0.5, learning_rate=0.3, max_depth=5, metric=binary_logloss, min_child_samples=25, n_estimators=300, subsample=0.5;, score=0.560 total time=   0.5s\n",
      "[CV 4/10] END colsample_bytree=0.5, learning_rate=0.3, max_depth=5, metric=binary_logloss, min_child_samples=25, n_estimators=300, subsample=0.5;, score=0.574 total time=   0.5s\n",
      "[CV 5/10] END colsample_bytree=0.5, learning_rate=0.3, max_depth=5, metric=binary_logloss, min_child_samples=25, n_estimators=300, subsample=0.5;, score=0.558 total time=   0.5s\n",
      "[CV 6/10] END colsample_bytree=0.5, learning_rate=0.3, max_depth=5, metric=binary_logloss, min_child_samples=25, n_estimators=300, subsample=0.5;, score=0.557 total time=   0.5s\n",
      "[CV 7/10] END colsample_bytree=0.5, learning_rate=0.3, max_depth=5, metric=binary_logloss, min_child_samples=25, n_estimators=300, subsample=0.5;, score=0.564 total time=   0.4s\n",
      "[CV 8/10] END colsample_bytree=0.5, learning_rate=0.3, max_depth=5, metric=binary_logloss, min_child_samples=25, n_estimators=300, subsample=0.5;, score=0.558 total time=   0.5s\n",
      "[CV 9/10] END colsample_bytree=0.5, learning_rate=0.3, max_depth=5, metric=binary_logloss, min_child_samples=25, n_estimators=300, subsample=0.5;, score=0.556 total time=   0.5s\n",
      "[CV 10/10] END colsample_bytree=0.5, learning_rate=0.3, max_depth=5, metric=binary_logloss, min_child_samples=25, n_estimators=300, subsample=0.5;, score=0.564 total time=   0.5s\n",
      "[CV 1/10] END colsample_bytree=0.5, learning_rate=0.1, max_depth=5, metric=cross_entropy, min_child_samples=30, n_estimators=200, subsample=0.6;, score=0.550 total time=   0.4s\n",
      "[CV 2/10] END colsample_bytree=0.5, learning_rate=0.1, max_depth=5, metric=cross_entropy, min_child_samples=30, n_estimators=200, subsample=0.6;, score=0.553 total time=   0.4s\n",
      "[CV 3/10] END colsample_bytree=0.5, learning_rate=0.1, max_depth=5, metric=cross_entropy, min_child_samples=30, n_estimators=200, subsample=0.6;, score=0.543 total time=   0.4s\n",
      "[CV 4/10] END colsample_bytree=0.5, learning_rate=0.1, max_depth=5, metric=cross_entropy, min_child_samples=30, n_estimators=200, subsample=0.6;, score=0.556 total time=   0.3s\n",
      "[CV 5/10] END colsample_bytree=0.5, learning_rate=0.1, max_depth=5, metric=cross_entropy, min_child_samples=30, n_estimators=200, subsample=0.6;, score=0.541 total time=   0.4s\n",
      "[CV 6/10] END colsample_bytree=0.5, learning_rate=0.1, max_depth=5, metric=cross_entropy, min_child_samples=30, n_estimators=200, subsample=0.6;, score=0.548 total time=   0.3s\n",
      "[CV 7/10] END colsample_bytree=0.5, learning_rate=0.1, max_depth=5, metric=cross_entropy, min_child_samples=30, n_estimators=200, subsample=0.6;, score=0.552 total time=   0.4s\n",
      "[CV 8/10] END colsample_bytree=0.5, learning_rate=0.1, max_depth=5, metric=cross_entropy, min_child_samples=30, n_estimators=200, subsample=0.6;, score=0.551 total time=   0.4s\n",
      "[CV 9/10] END colsample_bytree=0.5, learning_rate=0.1, max_depth=5, metric=cross_entropy, min_child_samples=30, n_estimators=200, subsample=0.6;, score=0.542 total time=   0.3s\n",
      "[CV 10/10] END colsample_bytree=0.5, learning_rate=0.1, max_depth=5, metric=cross_entropy, min_child_samples=30, n_estimators=200, subsample=0.6;, score=0.552 total time=   0.4s\n",
      "[CV 1/10] END colsample_bytree=1, learning_rate=0.01, max_depth=5, metric=cross_entropy, min_child_samples=30, n_estimators=400, subsample=0.7;, score=0.470 total time=   0.7s\n",
      "[CV 2/10] END colsample_bytree=1, learning_rate=0.01, max_depth=5, metric=cross_entropy, min_child_samples=30, n_estimators=400, subsample=0.7;, score=0.469 total time=   0.7s\n",
      "[CV 3/10] END colsample_bytree=1, learning_rate=0.01, max_depth=5, metric=cross_entropy, min_child_samples=30, n_estimators=400, subsample=0.7;, score=0.476 total time=   0.7s\n",
      "[CV 4/10] END colsample_bytree=1, learning_rate=0.01, max_depth=5, metric=cross_entropy, min_child_samples=30, n_estimators=400, subsample=0.7;, score=0.480 total time=   0.7s\n",
      "[CV 5/10] END colsample_bytree=1, learning_rate=0.01, max_depth=5, metric=cross_entropy, min_child_samples=30, n_estimators=400, subsample=0.7;, score=0.462 total time=   0.7s\n",
      "[CV 6/10] END colsample_bytree=1, learning_rate=0.01, max_depth=5, metric=cross_entropy, min_child_samples=30, n_estimators=400, subsample=0.7;, score=0.471 total time=   0.7s\n",
      "[CV 7/10] END colsample_bytree=1, learning_rate=0.01, max_depth=5, metric=cross_entropy, min_child_samples=30, n_estimators=400, subsample=0.7;, score=0.465 total time=   0.7s\n",
      "[CV 8/10] END colsample_bytree=1, learning_rate=0.01, max_depth=5, metric=cross_entropy, min_child_samples=30, n_estimators=400, subsample=0.7;, score=0.470 total time=   0.7s\n",
      "[CV 9/10] END colsample_bytree=1, learning_rate=0.01, max_depth=5, metric=cross_entropy, min_child_samples=30, n_estimators=400, subsample=0.7;, score=0.479 total time=   0.7s\n",
      "[CV 10/10] END colsample_bytree=1, learning_rate=0.01, max_depth=5, metric=cross_entropy, min_child_samples=30, n_estimators=400, subsample=0.7;, score=0.475 total time=   0.7s\n",
      "[CV 1/10] END colsample_bytree=1, learning_rate=0.5, max_depth=7, metric=cross_entropy, min_child_samples=20, n_estimators=400, subsample=0.7;, score=0.545 total time=   0.6s\n",
      "[CV 2/10] END colsample_bytree=1, learning_rate=0.5, max_depth=7, metric=cross_entropy, min_child_samples=20, n_estimators=400, subsample=0.7;, score=0.550 total time=   0.6s\n",
      "[CV 3/10] END colsample_bytree=1, learning_rate=0.5, max_depth=7, metric=cross_entropy, min_child_samples=20, n_estimators=400, subsample=0.7;, score=0.552 total time=   0.6s\n",
      "[CV 4/10] END colsample_bytree=1, learning_rate=0.5, max_depth=7, metric=cross_entropy, min_child_samples=20, n_estimators=400, subsample=0.7;, score=0.553 total time=   0.6s\n",
      "[CV 5/10] END colsample_bytree=1, learning_rate=0.5, max_depth=7, metric=cross_entropy, min_child_samples=20, n_estimators=400, subsample=0.7;, score=0.539 total time=   0.6s\n",
      "[CV 6/10] END colsample_bytree=1, learning_rate=0.5, max_depth=7, metric=cross_entropy, min_child_samples=20, n_estimators=400, subsample=0.7;, score=0.551 total time=   0.6s\n",
      "[CV 7/10] END colsample_bytree=1, learning_rate=0.5, max_depth=7, metric=cross_entropy, min_child_samples=20, n_estimators=400, subsample=0.7;, score=0.555 total time=   0.6s\n",
      "[CV 8/10] END colsample_bytree=1, learning_rate=0.5, max_depth=7, metric=cross_entropy, min_child_samples=20, n_estimators=400, subsample=0.7;, score=0.554 total time=   0.6s\n",
      "[CV 9/10] END colsample_bytree=1, learning_rate=0.5, max_depth=7, metric=cross_entropy, min_child_samples=20, n_estimators=400, subsample=0.7;, score=0.546 total time=   0.6s\n",
      "[CV 10/10] END colsample_bytree=1, learning_rate=0.5, max_depth=7, metric=cross_entropy, min_child_samples=20, n_estimators=400, subsample=0.7;, score=0.560 total time=   0.6s\n",
      "[CV 1/10] END colsample_bytree=1, learning_rate=0.5, max_depth=5, metric=binary_logloss, min_child_samples=30, n_estimators=200, subsample=0.7;, score=0.558 total time=   0.3s\n",
      "[CV 2/10] END colsample_bytree=1, learning_rate=0.5, max_depth=5, metric=binary_logloss, min_child_samples=30, n_estimators=200, subsample=0.7;, score=0.565 total time=   0.4s\n"
     ]
    },
    {
     "name": "stdout",
     "output_type": "stream",
     "text": [
      "[CV 3/10] END colsample_bytree=1, learning_rate=0.5, max_depth=5, metric=binary_logloss, min_child_samples=30, n_estimators=200, subsample=0.7;, score=0.560 total time=   0.3s\n",
      "[CV 4/10] END colsample_bytree=1, learning_rate=0.5, max_depth=5, metric=binary_logloss, min_child_samples=30, n_estimators=200, subsample=0.7;, score=0.558 total time=   0.3s\n",
      "[CV 5/10] END colsample_bytree=1, learning_rate=0.5, max_depth=5, metric=binary_logloss, min_child_samples=30, n_estimators=200, subsample=0.7;, score=0.559 total time=   0.3s\n",
      "[CV 6/10] END colsample_bytree=1, learning_rate=0.5, max_depth=5, metric=binary_logloss, min_child_samples=30, n_estimators=200, subsample=0.7;, score=0.557 total time=   0.3s\n",
      "[CV 7/10] END colsample_bytree=1, learning_rate=0.5, max_depth=5, metric=binary_logloss, min_child_samples=30, n_estimators=200, subsample=0.7;, score=0.557 total time=   0.3s\n",
      "[CV 8/10] END colsample_bytree=1, learning_rate=0.5, max_depth=5, metric=binary_logloss, min_child_samples=30, n_estimators=200, subsample=0.7;, score=0.553 total time=   0.3s\n",
      "[CV 9/10] END colsample_bytree=1, learning_rate=0.5, max_depth=5, metric=binary_logloss, min_child_samples=30, n_estimators=200, subsample=0.7;, score=0.556 total time=   0.3s\n",
      "[CV 10/10] END colsample_bytree=1, learning_rate=0.5, max_depth=5, metric=binary_logloss, min_child_samples=30, n_estimators=200, subsample=0.7;, score=0.563 total time=   0.3s\n",
      "[CV 1/10] END colsample_bytree=1, learning_rate=0.1, max_depth=3, metric=binary_logloss, min_child_samples=20, n_estimators=200, subsample=0.5;, score=0.519 total time=   0.2s\n",
      "[CV 2/10] END colsample_bytree=1, learning_rate=0.1, max_depth=3, metric=binary_logloss, min_child_samples=20, n_estimators=200, subsample=0.5;, score=0.520 total time=   0.2s\n",
      "[CV 3/10] END colsample_bytree=1, learning_rate=0.1, max_depth=3, metric=binary_logloss, min_child_samples=20, n_estimators=200, subsample=0.5;, score=0.518 total time=   0.3s\n",
      "[CV 4/10] END colsample_bytree=1, learning_rate=0.1, max_depth=3, metric=binary_logloss, min_child_samples=20, n_estimators=200, subsample=0.5;, score=0.523 total time=   0.2s\n",
      "[CV 5/10] END colsample_bytree=1, learning_rate=0.1, max_depth=3, metric=binary_logloss, min_child_samples=20, n_estimators=200, subsample=0.5;, score=0.507 total time=   0.3s\n",
      "[CV 6/10] END colsample_bytree=1, learning_rate=0.1, max_depth=3, metric=binary_logloss, min_child_samples=20, n_estimators=200, subsample=0.5;, score=0.513 total time=   0.2s\n",
      "[CV 7/10] END colsample_bytree=1, learning_rate=0.1, max_depth=3, metric=binary_logloss, min_child_samples=20, n_estimators=200, subsample=0.5;, score=0.521 total time=   0.2s\n",
      "[CV 8/10] END colsample_bytree=1, learning_rate=0.1, max_depth=3, metric=binary_logloss, min_child_samples=20, n_estimators=200, subsample=0.5;, score=0.519 total time=   0.3s\n",
      "[CV 9/10] END colsample_bytree=1, learning_rate=0.1, max_depth=3, metric=binary_logloss, min_child_samples=20, n_estimators=200, subsample=0.5;, score=0.520 total time=   0.2s\n",
      "[CV 10/10] END colsample_bytree=1, learning_rate=0.1, max_depth=3, metric=binary_logloss, min_child_samples=20, n_estimators=200, subsample=0.5;, score=0.524 total time=   0.2s\n",
      "[CV 1/10] END colsample_bytree=0.5, learning_rate=0.01, max_depth=5, metric=cross_entropy, min_child_samples=25, n_estimators=200, subsample=0.6;, score=0.321 total time=   0.4s\n",
      "[CV 2/10] END colsample_bytree=0.5, learning_rate=0.01, max_depth=5, metric=cross_entropy, min_child_samples=25, n_estimators=200, subsample=0.6;, score=0.315 total time=   0.4s\n",
      "[CV 3/10] END colsample_bytree=0.5, learning_rate=0.01, max_depth=5, metric=cross_entropy, min_child_samples=25, n_estimators=200, subsample=0.6;, score=0.330 total time=   0.4s\n",
      "[CV 4/10] END colsample_bytree=0.5, learning_rate=0.01, max_depth=5, metric=cross_entropy, min_child_samples=25, n_estimators=200, subsample=0.6;, score=0.324 total time=   0.4s\n",
      "[CV 5/10] END colsample_bytree=0.5, learning_rate=0.01, max_depth=5, metric=cross_entropy, min_child_samples=25, n_estimators=200, subsample=0.6;, score=0.320 total time=   0.4s\n",
      "[CV 6/10] END colsample_bytree=0.5, learning_rate=0.01, max_depth=5, metric=cross_entropy, min_child_samples=25, n_estimators=200, subsample=0.6;, score=0.319 total time=   0.4s\n",
      "[CV 7/10] END colsample_bytree=0.5, learning_rate=0.01, max_depth=5, metric=cross_entropy, min_child_samples=25, n_estimators=200, subsample=0.6;, score=0.323 total time=   0.4s\n",
      "[CV 8/10] END colsample_bytree=0.5, learning_rate=0.01, max_depth=5, metric=cross_entropy, min_child_samples=25, n_estimators=200, subsample=0.6;, score=0.328 total time=   0.4s\n",
      "[CV 9/10] END colsample_bytree=0.5, learning_rate=0.01, max_depth=5, metric=cross_entropy, min_child_samples=25, n_estimators=200, subsample=0.6;, score=0.328 total time=   0.4s\n",
      "[CV 10/10] END colsample_bytree=0.5, learning_rate=0.01, max_depth=5, metric=cross_entropy, min_child_samples=25, n_estimators=200, subsample=0.6;, score=0.320 total time=   0.4s\n",
      "[CV 1/10] END colsample_bytree=1, learning_rate=0.5, max_depth=7, metric=binary_logloss, min_child_samples=20, n_estimators=100, subsample=0.7;, score=0.554 total time=   0.2s\n",
      "[CV 2/10] END colsample_bytree=1, learning_rate=0.5, max_depth=7, metric=binary_logloss, min_child_samples=20, n_estimators=100, subsample=0.7;, score=0.565 total time=   0.2s\n",
      "[CV 3/10] END colsample_bytree=1, learning_rate=0.5, max_depth=7, metric=binary_logloss, min_child_samples=20, n_estimators=100, subsample=0.7;, score=0.562 total time=   0.3s\n",
      "[CV 4/10] END colsample_bytree=1, learning_rate=0.5, max_depth=7, metric=binary_logloss, min_child_samples=20, n_estimators=100, subsample=0.7;, score=0.563 total time=   0.3s\n",
      "[CV 5/10] END colsample_bytree=1, learning_rate=0.5, max_depth=7, metric=binary_logloss, min_child_samples=20, n_estimators=100, subsample=0.7;, score=0.554 total time=   0.3s\n",
      "[CV 6/10] END colsample_bytree=1, learning_rate=0.5, max_depth=7, metric=binary_logloss, min_child_samples=20, n_estimators=100, subsample=0.7;, score=0.559 total time=   0.2s\n",
      "[CV 7/10] END colsample_bytree=1, learning_rate=0.5, max_depth=7, metric=binary_logloss, min_child_samples=20, n_estimators=100, subsample=0.7;, score=0.555 total time=   0.3s\n",
      "[CV 8/10] END colsample_bytree=1, learning_rate=0.5, max_depth=7, metric=binary_logloss, min_child_samples=20, n_estimators=100, subsample=0.7;, score=0.565 total time=   0.2s\n",
      "[CV 9/10] END colsample_bytree=1, learning_rate=0.5, max_depth=7, metric=binary_logloss, min_child_samples=20, n_estimators=100, subsample=0.7;, score=0.550 total time=   0.3s\n",
      "[CV 10/10] END colsample_bytree=1, learning_rate=0.5, max_depth=7, metric=binary_logloss, min_child_samples=20, n_estimators=100, subsample=0.7;, score=0.568 total time=   0.2s\n",
      "[CV 1/10] END colsample_bytree=0.5, learning_rate=0.3, max_depth=5, metric=cross_entropy, min_child_samples=20, n_estimators=200, subsample=0.5;, score=0.560 total time=   0.3s\n",
      "[CV 2/10] END colsample_bytree=0.5, learning_rate=0.3, max_depth=5, metric=cross_entropy, min_child_samples=20, n_estimators=200, subsample=0.5;, score=0.561 total time=   0.3s\n",
      "[CV 3/10] END colsample_bytree=0.5, learning_rate=0.3, max_depth=5, metric=cross_entropy, min_child_samples=20, n_estimators=200, subsample=0.5;, score=0.553 total time=   0.4s\n",
      "[CV 4/10] END colsample_bytree=0.5, learning_rate=0.3, max_depth=5, metric=cross_entropy, min_child_samples=20, n_estimators=200, subsample=0.5;, score=0.562 total time=   0.4s\n",
      "[CV 5/10] END colsample_bytree=0.5, learning_rate=0.3, max_depth=5, metric=cross_entropy, min_child_samples=20, n_estimators=200, subsample=0.5;, score=0.557 total time=   0.3s\n",
      "[CV 6/10] END colsample_bytree=0.5, learning_rate=0.3, max_depth=5, metric=cross_entropy, min_child_samples=20, n_estimators=200, subsample=0.5;, score=0.559 total time=   0.3s\n",
      "[CV 7/10] END colsample_bytree=0.5, learning_rate=0.3, max_depth=5, metric=cross_entropy, min_child_samples=20, n_estimators=200, subsample=0.5;, score=0.560 total time=   0.4s\n",
      "[CV 8/10] END colsample_bytree=0.5, learning_rate=0.3, max_depth=5, metric=cross_entropy, min_child_samples=20, n_estimators=200, subsample=0.5;, score=0.562 total time=   0.3s\n",
      "[CV 9/10] END colsample_bytree=0.5, learning_rate=0.3, max_depth=5, metric=cross_entropy, min_child_samples=20, n_estimators=200, subsample=0.5;, score=0.554 total time=   0.3s\n"
     ]
    },
    {
     "name": "stdout",
     "output_type": "stream",
     "text": [
      "[CV 10/10] END colsample_bytree=0.5, learning_rate=0.3, max_depth=5, metric=cross_entropy, min_child_samples=20, n_estimators=200, subsample=0.5;, score=0.565 total time=   0.3s\n",
      "[CV 1/10] END colsample_bytree=0.5, learning_rate=0.1, max_depth=3, metric=cross_entropy, min_child_samples=30, n_estimators=400, subsample=0.6;, score=0.545 total time=   0.4s\n",
      "[CV 2/10] END colsample_bytree=0.5, learning_rate=0.1, max_depth=3, metric=cross_entropy, min_child_samples=30, n_estimators=400, subsample=0.6;, score=0.541 total time=   0.4s\n",
      "[CV 3/10] END colsample_bytree=0.5, learning_rate=0.1, max_depth=3, metric=cross_entropy, min_child_samples=30, n_estimators=400, subsample=0.6;, score=0.534 total time=   0.4s\n",
      "[CV 4/10] END colsample_bytree=0.5, learning_rate=0.1, max_depth=3, metric=cross_entropy, min_child_samples=30, n_estimators=400, subsample=0.6;, score=0.544 total time=   0.5s\n",
      "[CV 5/10] END colsample_bytree=0.5, learning_rate=0.1, max_depth=3, metric=cross_entropy, min_child_samples=30, n_estimators=400, subsample=0.6;, score=0.532 total time=   0.5s\n",
      "[CV 6/10] END colsample_bytree=0.5, learning_rate=0.1, max_depth=3, metric=cross_entropy, min_child_samples=30, n_estimators=400, subsample=0.6;, score=0.535 total time=   0.4s\n",
      "[CV 7/10] END colsample_bytree=0.5, learning_rate=0.1, max_depth=3, metric=cross_entropy, min_child_samples=30, n_estimators=400, subsample=0.6;, score=0.544 total time=   0.5s\n",
      "[CV 8/10] END colsample_bytree=0.5, learning_rate=0.1, max_depth=3, metric=cross_entropy, min_child_samples=30, n_estimators=400, subsample=0.6;, score=0.543 total time=   0.4s\n",
      "[CV 9/10] END colsample_bytree=0.5, learning_rate=0.1, max_depth=3, metric=cross_entropy, min_child_samples=30, n_estimators=400, subsample=0.6;, score=0.533 total time=   0.4s\n",
      "[CV 10/10] END colsample_bytree=0.5, learning_rate=0.1, max_depth=3, metric=cross_entropy, min_child_samples=30, n_estimators=400, subsample=0.6;, score=0.545 total time=   0.4s\n",
      "[CV 1/10] END colsample_bytree=1, learning_rate=0.05, max_depth=7, metric=binary_logloss, min_child_samples=20, n_estimators=400, subsample=0.6;, score=0.564 total time=   0.7s\n",
      "[CV 2/10] END colsample_bytree=1, learning_rate=0.05, max_depth=7, metric=binary_logloss, min_child_samples=20, n_estimators=400, subsample=0.6;, score=0.561 total time=   0.8s\n",
      "[CV 3/10] END colsample_bytree=1, learning_rate=0.05, max_depth=7, metric=binary_logloss, min_child_samples=20, n_estimators=400, subsample=0.6;, score=0.563 total time=   0.7s\n",
      "[CV 4/10] END colsample_bytree=1, learning_rate=0.05, max_depth=7, metric=binary_logloss, min_child_samples=20, n_estimators=400, subsample=0.6;, score=0.569 total time=   0.7s\n",
      "[CV 5/10] END colsample_bytree=1, learning_rate=0.05, max_depth=7, metric=binary_logloss, min_child_samples=20, n_estimators=400, subsample=0.6;, score=0.553 total time=   0.7s\n",
      "[CV 6/10] END colsample_bytree=1, learning_rate=0.05, max_depth=7, metric=binary_logloss, min_child_samples=20, n_estimators=400, subsample=0.6;, score=0.562 total time=   0.7s\n",
      "[CV 7/10] END colsample_bytree=1, learning_rate=0.05, max_depth=7, metric=binary_logloss, min_child_samples=20, n_estimators=400, subsample=0.6;, score=0.562 total time=   0.7s\n",
      "[CV 8/10] END colsample_bytree=1, learning_rate=0.05, max_depth=7, metric=binary_logloss, min_child_samples=20, n_estimators=400, subsample=0.6;, score=0.566 total time=   0.7s\n",
      "[CV 9/10] END colsample_bytree=1, learning_rate=0.05, max_depth=7, metric=binary_logloss, min_child_samples=20, n_estimators=400, subsample=0.6;, score=0.558 total time=   0.7s\n",
      "[CV 10/10] END colsample_bytree=1, learning_rate=0.05, max_depth=7, metric=binary_logloss, min_child_samples=20, n_estimators=400, subsample=0.6;, score=0.568 total time=   0.7s\n",
      "[CV 1/10] END colsample_bytree=1, learning_rate=0.05, max_depth=5, metric=binary_logloss, min_child_samples=25, n_estimators=400, subsample=0.7;, score=0.553 total time=   0.6s\n",
      "[CV 2/10] END colsample_bytree=1, learning_rate=0.05, max_depth=5, metric=binary_logloss, min_child_samples=25, n_estimators=400, subsample=0.7;, score=0.557 total time=   0.6s\n",
      "[CV 3/10] END colsample_bytree=1, learning_rate=0.05, max_depth=5, metric=binary_logloss, min_child_samples=25, n_estimators=400, subsample=0.7;, score=0.548 total time=   0.6s\n",
      "[CV 4/10] END colsample_bytree=1, learning_rate=0.05, max_depth=5, metric=binary_logloss, min_child_samples=25, n_estimators=400, subsample=0.7;, score=0.565 total time=   0.6s\n",
      "[CV 5/10] END colsample_bytree=1, learning_rate=0.05, max_depth=5, metric=binary_logloss, min_child_samples=25, n_estimators=400, subsample=0.7;, score=0.545 total time=   0.6s\n",
      "[CV 6/10] END colsample_bytree=1, learning_rate=0.05, max_depth=5, metric=binary_logloss, min_child_samples=25, n_estimators=400, subsample=0.7;, score=0.551 total time=   0.6s\n",
      "[CV 7/10] END colsample_bytree=1, learning_rate=0.05, max_depth=5, metric=binary_logloss, min_child_samples=25, n_estimators=400, subsample=0.7;, score=0.557 total time=   0.7s\n",
      "[CV 8/10] END colsample_bytree=1, learning_rate=0.05, max_depth=5, metric=binary_logloss, min_child_samples=25, n_estimators=400, subsample=0.7;, score=0.551 total time=   0.6s\n",
      "[CV 9/10] END colsample_bytree=1, learning_rate=0.05, max_depth=5, metric=binary_logloss, min_child_samples=25, n_estimators=400, subsample=0.7;, score=0.549 total time=   0.7s\n",
      "[CV 10/10] END colsample_bytree=1, learning_rate=0.05, max_depth=5, metric=binary_logloss, min_child_samples=25, n_estimators=400, subsample=0.7;, score=0.564 total time=   0.6s\n",
      "[CV 1/10] END colsample_bytree=1, learning_rate=0.3, max_depth=3, metric=binary_logloss, min_child_samples=30, n_estimators=300, subsample=0.5;, score=0.562 total time=   0.4s\n",
      "[CV 2/10] END colsample_bytree=1, learning_rate=0.3, max_depth=3, metric=binary_logloss, min_child_samples=30, n_estimators=300, subsample=0.5;, score=0.564 total time=   0.3s\n",
      "[CV 3/10] END colsample_bytree=1, learning_rate=0.3, max_depth=3, metric=binary_logloss, min_child_samples=30, n_estimators=300, subsample=0.5;, score=0.556 total time=   0.3s\n",
      "[CV 4/10] END colsample_bytree=1, learning_rate=0.3, max_depth=3, metric=binary_logloss, min_child_samples=30, n_estimators=300, subsample=0.5;, score=0.567 total time=   0.3s\n",
      "[CV 5/10] END colsample_bytree=1, learning_rate=0.3, max_depth=3, metric=binary_logloss, min_child_samples=30, n_estimators=300, subsample=0.5;, score=0.553 total time=   0.3s\n",
      "[CV 6/10] END colsample_bytree=1, learning_rate=0.3, max_depth=3, metric=binary_logloss, min_child_samples=30, n_estimators=300, subsample=0.5;, score=0.555 total time=   0.3s\n",
      "[CV 7/10] END colsample_bytree=1, learning_rate=0.3, max_depth=3, metric=binary_logloss, min_child_samples=30, n_estimators=300, subsample=0.5;, score=0.560 total time=   0.3s\n",
      "[CV 8/10] END colsample_bytree=1, learning_rate=0.3, max_depth=3, metric=binary_logloss, min_child_samples=30, n_estimators=300, subsample=0.5;, score=0.564 total time=   0.3s\n",
      "[CV 9/10] END colsample_bytree=1, learning_rate=0.3, max_depth=3, metric=binary_logloss, min_child_samples=30, n_estimators=300, subsample=0.5;, score=0.555 total time=   0.3s\n",
      "[CV 10/10] END colsample_bytree=1, learning_rate=0.3, max_depth=3, metric=binary_logloss, min_child_samples=30, n_estimators=300, subsample=0.5;, score=0.566 total time=   0.3s\n",
      "[CV 1/10] END colsample_bytree=0.5, learning_rate=0.05, max_depth=3, metric=cross_entropy, min_child_samples=20, n_estimators=300, subsample=0.7;, score=0.500 total time=   0.4s\n",
      "[CV 2/10] END colsample_bytree=0.5, learning_rate=0.05, max_depth=3, metric=cross_entropy, min_child_samples=20, n_estimators=300, subsample=0.7;, score=0.498 total time=   0.4s\n",
      "[CV 3/10] END colsample_bytree=0.5, learning_rate=0.05, max_depth=3, metric=cross_entropy, min_child_samples=20, n_estimators=300, subsample=0.7;, score=0.498 total time=   0.4s\n",
      "[CV 4/10] END colsample_bytree=0.5, learning_rate=0.05, max_depth=3, metric=cross_entropy, min_child_samples=20, n_estimators=300, subsample=0.7;, score=0.505 total time=   0.4s\n",
      "[CV 5/10] END colsample_bytree=0.5, learning_rate=0.05, max_depth=3, metric=cross_entropy, min_child_samples=20, n_estimators=300, subsample=0.7;, score=0.484 total time=   0.4s\n",
      "[CV 6/10] END colsample_bytree=0.5, learning_rate=0.05, max_depth=3, metric=cross_entropy, min_child_samples=20, n_estimators=300, subsample=0.7;, score=0.492 total time=   0.3s\n"
     ]
    },
    {
     "name": "stdout",
     "output_type": "stream",
     "text": [
      "[CV 7/10] END colsample_bytree=0.5, learning_rate=0.05, max_depth=3, metric=cross_entropy, min_child_samples=20, n_estimators=300, subsample=0.7;, score=0.501 total time=   0.4s\n",
      "[CV 8/10] END colsample_bytree=0.5, learning_rate=0.05, max_depth=3, metric=cross_entropy, min_child_samples=20, n_estimators=300, subsample=0.7;, score=0.497 total time=   0.3s\n",
      "[CV 9/10] END colsample_bytree=0.5, learning_rate=0.05, max_depth=3, metric=cross_entropy, min_child_samples=20, n_estimators=300, subsample=0.7;, score=0.502 total time=   0.4s\n",
      "[CV 10/10] END colsample_bytree=0.5, learning_rate=0.05, max_depth=3, metric=cross_entropy, min_child_samples=20, n_estimators=300, subsample=0.7;, score=0.500 total time=   0.4s\n",
      "[CV 1/10] END colsample_bytree=1, learning_rate=0.05, max_depth=5, metric=binary_logloss, min_child_samples=25, n_estimators=300, subsample=0.7;, score=0.544 total time=   0.5s\n",
      "[CV 2/10] END colsample_bytree=1, learning_rate=0.05, max_depth=5, metric=binary_logloss, min_child_samples=25, n_estimators=300, subsample=0.7;, score=0.549 total time=   0.5s\n",
      "[CV 3/10] END colsample_bytree=1, learning_rate=0.05, max_depth=5, metric=binary_logloss, min_child_samples=25, n_estimators=300, subsample=0.7;, score=0.541 total time=   0.5s\n",
      "[CV 4/10] END colsample_bytree=1, learning_rate=0.05, max_depth=5, metric=binary_logloss, min_child_samples=25, n_estimators=300, subsample=0.7;, score=0.556 total time=   0.5s\n",
      "[CV 5/10] END colsample_bytree=1, learning_rate=0.05, max_depth=5, metric=binary_logloss, min_child_samples=25, n_estimators=300, subsample=0.7;, score=0.535 total time=   0.5s\n",
      "[CV 6/10] END colsample_bytree=1, learning_rate=0.05, max_depth=5, metric=binary_logloss, min_child_samples=25, n_estimators=300, subsample=0.7;, score=0.545 total time=   0.5s\n",
      "[CV 7/10] END colsample_bytree=1, learning_rate=0.05, max_depth=5, metric=binary_logloss, min_child_samples=25, n_estimators=300, subsample=0.7;, score=0.547 total time=   0.5s\n",
      "[CV 8/10] END colsample_bytree=1, learning_rate=0.05, max_depth=5, metric=binary_logloss, min_child_samples=25, n_estimators=300, subsample=0.7;, score=0.547 total time=   0.5s\n",
      "[CV 9/10] END colsample_bytree=1, learning_rate=0.05, max_depth=5, metric=binary_logloss, min_child_samples=25, n_estimators=300, subsample=0.7;, score=0.543 total time=   0.5s\n",
      "[CV 10/10] END colsample_bytree=1, learning_rate=0.05, max_depth=5, metric=binary_logloss, min_child_samples=25, n_estimators=300, subsample=0.7;, score=0.554 total time=   0.5s\n",
      "[CV 1/10] END colsample_bytree=0.5, learning_rate=0.1, max_depth=5, metric=binary_logloss, min_child_samples=20, n_estimators=100, subsample=0.7;, score=0.526 total time=   0.2s\n",
      "[CV 2/10] END colsample_bytree=0.5, learning_rate=0.1, max_depth=5, metric=binary_logloss, min_child_samples=20, n_estimators=100, subsample=0.7;, score=0.525 total time=   0.3s\n",
      "[CV 3/10] END colsample_bytree=0.5, learning_rate=0.1, max_depth=5, metric=binary_logloss, min_child_samples=20, n_estimators=100, subsample=0.7;, score=0.523 total time=   0.3s\n",
      "[CV 4/10] END colsample_bytree=0.5, learning_rate=0.1, max_depth=5, metric=binary_logloss, min_child_samples=20, n_estimators=100, subsample=0.7;, score=0.529 total time=   0.2s\n",
      "[CV 5/10] END colsample_bytree=0.5, learning_rate=0.1, max_depth=5, metric=binary_logloss, min_child_samples=20, n_estimators=100, subsample=0.7;, score=0.512 total time=   0.2s\n",
      "[CV 6/10] END colsample_bytree=0.5, learning_rate=0.1, max_depth=5, metric=binary_logloss, min_child_samples=20, n_estimators=100, subsample=0.7;, score=0.513 total time=   0.3s\n",
      "[CV 7/10] END colsample_bytree=0.5, learning_rate=0.1, max_depth=5, metric=binary_logloss, min_child_samples=20, n_estimators=100, subsample=0.7;, score=0.527 total time=   0.2s\n",
      "[CV 8/10] END colsample_bytree=0.5, learning_rate=0.1, max_depth=5, metric=binary_logloss, min_child_samples=20, n_estimators=100, subsample=0.7;, score=0.525 total time=   0.3s\n",
      "[CV 9/10] END colsample_bytree=0.5, learning_rate=0.1, max_depth=5, metric=binary_logloss, min_child_samples=20, n_estimators=100, subsample=0.7;, score=0.518 total time=   0.2s\n",
      "[CV 10/10] END colsample_bytree=0.5, learning_rate=0.1, max_depth=5, metric=binary_logloss, min_child_samples=20, n_estimators=100, subsample=0.7;, score=0.528 total time=   0.2s\n",
      "[CV 1/10] END colsample_bytree=0.5, learning_rate=0.01, max_depth=7, metric=cross_entropy, min_child_samples=25, n_estimators=100, subsample=0.7;, score=0.114 total time=   0.3s\n",
      "[CV 2/10] END colsample_bytree=0.5, learning_rate=0.01, max_depth=7, metric=cross_entropy, min_child_samples=25, n_estimators=100, subsample=0.7;, score=0.119 total time=   0.3s\n",
      "[CV 3/10] END colsample_bytree=0.5, learning_rate=0.01, max_depth=7, metric=cross_entropy, min_child_samples=25, n_estimators=100, subsample=0.7;, score=0.111 total time=   0.4s\n",
      "[CV 4/10] END colsample_bytree=0.5, learning_rate=0.01, max_depth=7, metric=cross_entropy, min_child_samples=25, n_estimators=100, subsample=0.7;, score=0.115 total time=   0.4s\n",
      "[CV 5/10] END colsample_bytree=0.5, learning_rate=0.01, max_depth=7, metric=cross_entropy, min_child_samples=25, n_estimators=100, subsample=0.7;, score=0.121 total time=   0.3s\n",
      "[CV 6/10] END colsample_bytree=0.5, learning_rate=0.01, max_depth=7, metric=cross_entropy, min_child_samples=25, n_estimators=100, subsample=0.7;, score=0.118 total time=   0.3s\n",
      "[CV 7/10] END colsample_bytree=0.5, learning_rate=0.01, max_depth=7, metric=cross_entropy, min_child_samples=25, n_estimators=100, subsample=0.7;, score=0.112 total time=   0.3s\n",
      "[CV 8/10] END colsample_bytree=0.5, learning_rate=0.01, max_depth=7, metric=cross_entropy, min_child_samples=25, n_estimators=100, subsample=0.7;, score=0.116 total time=   0.3s\n",
      "[CV 9/10] END colsample_bytree=0.5, learning_rate=0.01, max_depth=7, metric=cross_entropy, min_child_samples=25, n_estimators=100, subsample=0.7;, score=0.124 total time=   0.3s\n",
      "[CV 10/10] END colsample_bytree=0.5, learning_rate=0.01, max_depth=7, metric=cross_entropy, min_child_samples=25, n_estimators=100, subsample=0.7;, score=0.119 total time=   0.3s\n",
      "[CV 1/10] END colsample_bytree=0.5, learning_rate=0.01, max_depth=7, metric=cross_entropy, min_child_samples=30, n_estimators=200, subsample=0.5;, score=0.366 total time=   0.5s\n",
      "[CV 2/10] END colsample_bytree=0.5, learning_rate=0.01, max_depth=7, metric=cross_entropy, min_child_samples=30, n_estimators=200, subsample=0.5;, score=0.357 total time=   0.5s\n",
      "[CV 3/10] END colsample_bytree=0.5, learning_rate=0.01, max_depth=7, metric=cross_entropy, min_child_samples=30, n_estimators=200, subsample=0.5;, score=0.375 total time=   0.5s\n",
      "[CV 4/10] END colsample_bytree=0.5, learning_rate=0.01, max_depth=7, metric=cross_entropy, min_child_samples=30, n_estimators=200, subsample=0.5;, score=0.368 total time=   0.5s\n",
      "[CV 5/10] END colsample_bytree=0.5, learning_rate=0.01, max_depth=7, metric=cross_entropy, min_child_samples=30, n_estimators=200, subsample=0.5;, score=0.361 total time=   0.5s\n",
      "[CV 6/10] END colsample_bytree=0.5, learning_rate=0.01, max_depth=7, metric=cross_entropy, min_child_samples=30, n_estimators=200, subsample=0.5;, score=0.363 total time=   0.5s\n",
      "[CV 7/10] END colsample_bytree=0.5, learning_rate=0.01, max_depth=7, metric=cross_entropy, min_child_samples=30, n_estimators=200, subsample=0.5;, score=0.367 total time=   0.5s\n",
      "[CV 8/10] END colsample_bytree=0.5, learning_rate=0.01, max_depth=7, metric=cross_entropy, min_child_samples=30, n_estimators=200, subsample=0.5;, score=0.364 total time=   0.5s\n",
      "[CV 9/10] END colsample_bytree=0.5, learning_rate=0.01, max_depth=7, metric=cross_entropy, min_child_samples=30, n_estimators=200, subsample=0.5;, score=0.374 total time=   0.5s\n",
      "[CV 10/10] END colsample_bytree=0.5, learning_rate=0.01, max_depth=7, metric=cross_entropy, min_child_samples=30, n_estimators=200, subsample=0.5;, score=0.364 total time=   0.5s\n",
      "[CV 1/10] END colsample_bytree=0.5, learning_rate=0.5, max_depth=3, metric=cross_entropy, min_child_samples=25, n_estimators=100, subsample=0.6;, score=0.541 total time=   0.2s\n",
      "[CV 2/10] END colsample_bytree=0.5, learning_rate=0.5, max_depth=3, metric=cross_entropy, min_child_samples=25, n_estimators=100, subsample=0.6;, score=0.544 total time=   0.2s\n",
      "[CV 3/10] END colsample_bytree=0.5, learning_rate=0.5, max_depth=3, metric=cross_entropy, min_child_samples=25, n_estimators=100, subsample=0.6;, score=0.540 total time=   0.2s\n"
     ]
    },
    {
     "name": "stdout",
     "output_type": "stream",
     "text": [
      "[CV 4/10] END colsample_bytree=0.5, learning_rate=0.5, max_depth=3, metric=cross_entropy, min_child_samples=25, n_estimators=100, subsample=0.6;, score=0.550 total time=   0.2s\n",
      "[CV 5/10] END colsample_bytree=0.5, learning_rate=0.5, max_depth=3, metric=cross_entropy, min_child_samples=25, n_estimators=100, subsample=0.6;, score=0.537 total time=   0.2s\n",
      "[CV 6/10] END colsample_bytree=0.5, learning_rate=0.5, max_depth=3, metric=cross_entropy, min_child_samples=25, n_estimators=100, subsample=0.6;, score=0.541 total time=   0.2s\n",
      "[CV 7/10] END colsample_bytree=0.5, learning_rate=0.5, max_depth=3, metric=cross_entropy, min_child_samples=25, n_estimators=100, subsample=0.6;, score=0.543 total time=   0.2s\n",
      "[CV 8/10] END colsample_bytree=0.5, learning_rate=0.5, max_depth=3, metric=cross_entropy, min_child_samples=25, n_estimators=100, subsample=0.6;, score=0.550 total time=   0.2s\n",
      "[CV 9/10] END colsample_bytree=0.5, learning_rate=0.5, max_depth=3, metric=cross_entropy, min_child_samples=25, n_estimators=100, subsample=0.6;, score=0.539 total time=   0.2s\n",
      "[CV 10/10] END colsample_bytree=0.5, learning_rate=0.5, max_depth=3, metric=cross_entropy, min_child_samples=25, n_estimators=100, subsample=0.6;, score=0.550 total time=   0.2s\n",
      "[CV 1/10] END colsample_bytree=1, learning_rate=0.5, max_depth=7, metric=cross_entropy, min_child_samples=25, n_estimators=100, subsample=0.6;, score=0.552 total time=   0.2s\n",
      "[CV 2/10] END colsample_bytree=1, learning_rate=0.5, max_depth=7, metric=cross_entropy, min_child_samples=25, n_estimators=100, subsample=0.6;, score=0.562 total time=   0.2s\n",
      "[CV 3/10] END colsample_bytree=1, learning_rate=0.5, max_depth=7, metric=cross_entropy, min_child_samples=25, n_estimators=100, subsample=0.6;, score=0.554 total time=   0.2s\n",
      "[CV 4/10] END colsample_bytree=1, learning_rate=0.5, max_depth=7, metric=cross_entropy, min_child_samples=25, n_estimators=100, subsample=0.6;, score=0.568 total time=   0.2s\n",
      "[CV 5/10] END colsample_bytree=1, learning_rate=0.5, max_depth=7, metric=cross_entropy, min_child_samples=25, n_estimators=100, subsample=0.6;, score=0.552 total time=   0.3s\n",
      "[CV 6/10] END colsample_bytree=1, learning_rate=0.5, max_depth=7, metric=cross_entropy, min_child_samples=25, n_estimators=100, subsample=0.6;, score=0.561 total time=   0.3s\n",
      "[CV 7/10] END colsample_bytree=1, learning_rate=0.5, max_depth=7, metric=cross_entropy, min_child_samples=25, n_estimators=100, subsample=0.6;, score=0.563 total time=   0.2s\n",
      "[CV 8/10] END colsample_bytree=1, learning_rate=0.5, max_depth=7, metric=cross_entropy, min_child_samples=25, n_estimators=100, subsample=0.6;, score=0.554 total time=   0.2s\n",
      "[CV 9/10] END colsample_bytree=1, learning_rate=0.5, max_depth=7, metric=cross_entropy, min_child_samples=25, n_estimators=100, subsample=0.6;, score=0.552 total time=   0.2s\n",
      "[CV 10/10] END colsample_bytree=1, learning_rate=0.5, max_depth=7, metric=cross_entropy, min_child_samples=25, n_estimators=100, subsample=0.6;, score=0.567 total time=   0.2s\n",
      "[CV 1/10] END colsample_bytree=0.5, learning_rate=0.3, max_depth=3, metric=cross_entropy, min_child_samples=25, n_estimators=400, subsample=0.6;, score=0.561 total time=   0.4s\n",
      "[CV 2/10] END colsample_bytree=0.5, learning_rate=0.3, max_depth=3, metric=cross_entropy, min_child_samples=25, n_estimators=400, subsample=0.6;, score=0.567 total time=   0.5s\n",
      "[CV 3/10] END colsample_bytree=0.5, learning_rate=0.3, max_depth=3, metric=cross_entropy, min_child_samples=25, n_estimators=400, subsample=0.6;, score=0.557 total time=   0.4s\n",
      "[CV 4/10] END colsample_bytree=0.5, learning_rate=0.3, max_depth=3, metric=cross_entropy, min_child_samples=25, n_estimators=400, subsample=0.6;, score=0.566 total time=   0.4s\n",
      "[CV 5/10] END colsample_bytree=0.5, learning_rate=0.3, max_depth=3, metric=cross_entropy, min_child_samples=25, n_estimators=400, subsample=0.6;, score=0.550 total time=   0.4s\n",
      "[CV 6/10] END colsample_bytree=0.5, learning_rate=0.3, max_depth=3, metric=cross_entropy, min_child_samples=25, n_estimators=400, subsample=0.6;, score=0.559 total time=   0.5s\n",
      "[CV 7/10] END colsample_bytree=0.5, learning_rate=0.3, max_depth=3, metric=cross_entropy, min_child_samples=25, n_estimators=400, subsample=0.6;, score=0.563 total time=   0.4s\n",
      "[CV 8/10] END colsample_bytree=0.5, learning_rate=0.3, max_depth=3, metric=cross_entropy, min_child_samples=25, n_estimators=400, subsample=0.6;, score=0.562 total time=   0.4s\n",
      "[CV 9/10] END colsample_bytree=0.5, learning_rate=0.3, max_depth=3, metric=cross_entropy, min_child_samples=25, n_estimators=400, subsample=0.6;, score=0.556 total time=   0.4s\n",
      "[CV 10/10] END colsample_bytree=0.5, learning_rate=0.3, max_depth=3, metric=cross_entropy, min_child_samples=25, n_estimators=400, subsample=0.6;, score=0.567 total time=   0.4s\n",
      "[CV 1/10] END colsample_bytree=0.5, learning_rate=0.05, max_depth=7, metric=binary_logloss, min_child_samples=25, n_estimators=400, subsample=0.5;, score=0.556 total time=   0.7s\n",
      "[CV 2/10] END colsample_bytree=0.5, learning_rate=0.05, max_depth=7, metric=binary_logloss, min_child_samples=25, n_estimators=400, subsample=0.5;, score=0.556 total time=   0.7s\n",
      "[CV 3/10] END colsample_bytree=0.5, learning_rate=0.05, max_depth=7, metric=binary_logloss, min_child_samples=25, n_estimators=400, subsample=0.5;, score=0.553 total time=   0.7s\n",
      "[CV 4/10] END colsample_bytree=0.5, learning_rate=0.05, max_depth=7, metric=binary_logloss, min_child_samples=25, n_estimators=400, subsample=0.5;, score=0.563 total time=   0.7s\n",
      "[CV 5/10] END colsample_bytree=0.5, learning_rate=0.05, max_depth=7, metric=binary_logloss, min_child_samples=25, n_estimators=400, subsample=0.5;, score=0.550 total time=   0.7s\n",
      "[CV 6/10] END colsample_bytree=0.5, learning_rate=0.05, max_depth=7, metric=binary_logloss, min_child_samples=25, n_estimators=400, subsample=0.5;, score=0.559 total time=   0.7s\n",
      "[CV 7/10] END colsample_bytree=0.5, learning_rate=0.05, max_depth=7, metric=binary_logloss, min_child_samples=25, n_estimators=400, subsample=0.5;, score=0.556 total time=   0.7s\n",
      "[CV 8/10] END colsample_bytree=0.5, learning_rate=0.05, max_depth=7, metric=binary_logloss, min_child_samples=25, n_estimators=400, subsample=0.5;, score=0.555 total time=   0.7s\n",
      "[CV 9/10] END colsample_bytree=0.5, learning_rate=0.05, max_depth=7, metric=binary_logloss, min_child_samples=25, n_estimators=400, subsample=0.5;, score=0.553 total time=   0.7s\n",
      "[CV 10/10] END colsample_bytree=0.5, learning_rate=0.05, max_depth=7, metric=binary_logloss, min_child_samples=25, n_estimators=400, subsample=0.5;, score=0.561 total time=   0.7s\n",
      "[CV 1/10] END colsample_bytree=0.5, learning_rate=0.01, max_depth=5, metric=cross_entropy, min_child_samples=20, n_estimators=200, subsample=0.6;, score=0.317 total time=   0.4s\n",
      "[CV 2/10] END colsample_bytree=0.5, learning_rate=0.01, max_depth=5, metric=cross_entropy, min_child_samples=20, n_estimators=200, subsample=0.6;, score=0.316 total time=   0.4s\n",
      "[CV 3/10] END colsample_bytree=0.5, learning_rate=0.01, max_depth=5, metric=cross_entropy, min_child_samples=20, n_estimators=200, subsample=0.6;, score=0.333 total time=   0.4s\n",
      "[CV 4/10] END colsample_bytree=0.5, learning_rate=0.01, max_depth=5, metric=cross_entropy, min_child_samples=20, n_estimators=200, subsample=0.6;, score=0.325 total time=   0.5s\n",
      "[CV 5/10] END colsample_bytree=0.5, learning_rate=0.01, max_depth=5, metric=cross_entropy, min_child_samples=20, n_estimators=200, subsample=0.6;, score=0.319 total time=   0.4s\n",
      "[CV 6/10] END colsample_bytree=0.5, learning_rate=0.01, max_depth=5, metric=cross_entropy, min_child_samples=20, n_estimators=200, subsample=0.6;, score=0.317 total time=   0.4s\n",
      "[CV 7/10] END colsample_bytree=0.5, learning_rate=0.01, max_depth=5, metric=cross_entropy, min_child_samples=20, n_estimators=200, subsample=0.6;, score=0.321 total time=   0.4s\n",
      "[CV 8/10] END colsample_bytree=0.5, learning_rate=0.01, max_depth=5, metric=cross_entropy, min_child_samples=20, n_estimators=200, subsample=0.6;, score=0.331 total time=   0.4s\n",
      "[CV 9/10] END colsample_bytree=0.5, learning_rate=0.01, max_depth=5, metric=cross_entropy, min_child_samples=20, n_estimators=200, subsample=0.6;, score=0.331 total time=   0.4s\n",
      "[CV 10/10] END colsample_bytree=0.5, learning_rate=0.01, max_depth=5, metric=cross_entropy, min_child_samples=20, n_estimators=200, subsample=0.6;, score=0.322 total time=   0.4s\n"
     ]
    },
    {
     "name": "stdout",
     "output_type": "stream",
     "text": [
      "[CV 1/10] END colsample_bytree=0.5, learning_rate=0.05, max_depth=3, metric=cross_entropy, min_child_samples=20, n_estimators=400, subsample=0.7;, score=0.513 total time=   0.4s\n",
      "[CV 2/10] END colsample_bytree=0.5, learning_rate=0.05, max_depth=3, metric=cross_entropy, min_child_samples=20, n_estimators=400, subsample=0.7;, score=0.517 total time=   0.4s\n",
      "[CV 3/10] END colsample_bytree=0.5, learning_rate=0.05, max_depth=3, metric=cross_entropy, min_child_samples=20, n_estimators=400, subsample=0.7;, score=0.510 total time=   0.5s\n",
      "[CV 4/10] END colsample_bytree=0.5, learning_rate=0.05, max_depth=3, metric=cross_entropy, min_child_samples=20, n_estimators=400, subsample=0.7;, score=0.521 total time=   0.4s\n",
      "[CV 5/10] END colsample_bytree=0.5, learning_rate=0.05, max_depth=3, metric=cross_entropy, min_child_samples=20, n_estimators=400, subsample=0.7;, score=0.501 total time=   0.5s\n",
      "[CV 6/10] END colsample_bytree=0.5, learning_rate=0.05, max_depth=3, metric=cross_entropy, min_child_samples=20, n_estimators=400, subsample=0.7;, score=0.507 total time=   0.5s\n",
      "[CV 7/10] END colsample_bytree=0.5, learning_rate=0.05, max_depth=3, metric=cross_entropy, min_child_samples=20, n_estimators=400, subsample=0.7;, score=0.518 total time=   0.4s\n",
      "[CV 8/10] END colsample_bytree=0.5, learning_rate=0.05, max_depth=3, metric=cross_entropy, min_child_samples=20, n_estimators=400, subsample=0.7;, score=0.514 total time=   0.4s\n",
      "[CV 9/10] END colsample_bytree=0.5, learning_rate=0.05, max_depth=3, metric=cross_entropy, min_child_samples=20, n_estimators=400, subsample=0.7;, score=0.516 total time=   0.5s\n",
      "[CV 10/10] END colsample_bytree=0.5, learning_rate=0.05, max_depth=3, metric=cross_entropy, min_child_samples=20, n_estimators=400, subsample=0.7;, score=0.517 total time=   0.4s\n",
      "[CV 1/10] END colsample_bytree=0.5, learning_rate=0.3, max_depth=5, metric=cross_entropy, min_child_samples=20, n_estimators=300, subsample=0.7;, score=0.558 total time=   0.5s\n",
      "[CV 2/10] END colsample_bytree=0.5, learning_rate=0.3, max_depth=5, metric=cross_entropy, min_child_samples=20, n_estimators=300, subsample=0.7;, score=0.560 total time=   0.5s\n",
      "[CV 3/10] END colsample_bytree=0.5, learning_rate=0.3, max_depth=5, metric=cross_entropy, min_child_samples=20, n_estimators=300, subsample=0.7;, score=0.551 total time=   0.5s\n",
      "[CV 4/10] END colsample_bytree=0.5, learning_rate=0.3, max_depth=5, metric=cross_entropy, min_child_samples=20, n_estimators=300, subsample=0.7;, score=0.562 total time=   0.5s\n",
      "[CV 5/10] END colsample_bytree=0.5, learning_rate=0.3, max_depth=5, metric=cross_entropy, min_child_samples=20, n_estimators=300, subsample=0.7;, score=0.557 total time=   0.5s\n",
      "[CV 6/10] END colsample_bytree=0.5, learning_rate=0.3, max_depth=5, metric=cross_entropy, min_child_samples=20, n_estimators=300, subsample=0.7;, score=0.563 total time=   0.5s\n",
      "[CV 7/10] END colsample_bytree=0.5, learning_rate=0.3, max_depth=5, metric=cross_entropy, min_child_samples=20, n_estimators=300, subsample=0.7;, score=0.563 total time=   0.5s\n",
      "[CV 8/10] END colsample_bytree=0.5, learning_rate=0.3, max_depth=5, metric=cross_entropy, min_child_samples=20, n_estimators=300, subsample=0.7;, score=0.565 total time=   0.4s\n",
      "[CV 9/10] END colsample_bytree=0.5, learning_rate=0.3, max_depth=5, metric=cross_entropy, min_child_samples=20, n_estimators=300, subsample=0.7;, score=0.557 total time=   0.5s\n",
      "[CV 10/10] END colsample_bytree=0.5, learning_rate=0.3, max_depth=5, metric=cross_entropy, min_child_samples=20, n_estimators=300, subsample=0.7;, score=0.567 total time=   0.5s\n",
      "[CV 1/10] END colsample_bytree=0.5, learning_rate=0.05, max_depth=5, metric=binary_logloss, min_child_samples=20, n_estimators=300, subsample=0.7;, score=0.539 total time=   0.5s\n",
      "[CV 2/10] END colsample_bytree=0.5, learning_rate=0.05, max_depth=5, metric=binary_logloss, min_child_samples=20, n_estimators=300, subsample=0.7;, score=0.541 total time=   0.5s\n",
      "[CV 3/10] END colsample_bytree=0.5, learning_rate=0.05, max_depth=5, metric=binary_logloss, min_child_samples=20, n_estimators=300, subsample=0.7;, score=0.540 total time=   0.5s\n",
      "[CV 4/10] END colsample_bytree=0.5, learning_rate=0.05, max_depth=5, metric=binary_logloss, min_child_samples=20, n_estimators=300, subsample=0.7;, score=0.549 total time=   0.5s\n",
      "[CV 5/10] END colsample_bytree=0.5, learning_rate=0.05, max_depth=5, metric=binary_logloss, min_child_samples=20, n_estimators=300, subsample=0.7;, score=0.532 total time=   0.5s\n",
      "[CV 6/10] END colsample_bytree=0.5, learning_rate=0.05, max_depth=5, metric=binary_logloss, min_child_samples=20, n_estimators=300, subsample=0.7;, score=0.539 total time=   0.5s\n",
      "[CV 7/10] END colsample_bytree=0.5, learning_rate=0.05, max_depth=5, metric=binary_logloss, min_child_samples=20, n_estimators=300, subsample=0.7;, score=0.542 total time=   0.6s\n",
      "[CV 8/10] END colsample_bytree=0.5, learning_rate=0.05, max_depth=5, metric=binary_logloss, min_child_samples=20, n_estimators=300, subsample=0.7;, score=0.543 total time=   0.5s\n",
      "[CV 9/10] END colsample_bytree=0.5, learning_rate=0.05, max_depth=5, metric=binary_logloss, min_child_samples=20, n_estimators=300, subsample=0.7;, score=0.539 total time=   0.6s\n",
      "[CV 10/10] END colsample_bytree=0.5, learning_rate=0.05, max_depth=5, metric=binary_logloss, min_child_samples=20, n_estimators=300, subsample=0.7;, score=0.544 total time=   0.5s\n",
      "[CV 1/10] END colsample_bytree=1, learning_rate=0.1, max_depth=5, metric=binary_logloss, min_child_samples=25, n_estimators=100, subsample=0.5;, score=0.530 total time=   0.2s\n",
      "[CV 2/10] END colsample_bytree=1, learning_rate=0.1, max_depth=5, metric=binary_logloss, min_child_samples=25, n_estimators=100, subsample=0.5;, score=0.535 total time=   0.2s\n",
      "[CV 3/10] END colsample_bytree=1, learning_rate=0.1, max_depth=5, metric=binary_logloss, min_child_samples=25, n_estimators=100, subsample=0.5;, score=0.530 total time=   0.2s\n",
      "[CV 4/10] END colsample_bytree=1, learning_rate=0.1, max_depth=5, metric=binary_logloss, min_child_samples=25, n_estimators=100, subsample=0.5;, score=0.541 total time=   0.2s\n",
      "[CV 5/10] END colsample_bytree=1, learning_rate=0.1, max_depth=5, metric=binary_logloss, min_child_samples=25, n_estimators=100, subsample=0.5;, score=0.519 total time=   0.2s\n",
      "[CV 6/10] END colsample_bytree=1, learning_rate=0.1, max_depth=5, metric=binary_logloss, min_child_samples=25, n_estimators=100, subsample=0.5;, score=0.525 total time=   0.2s\n",
      "[CV 7/10] END colsample_bytree=1, learning_rate=0.1, max_depth=5, metric=binary_logloss, min_child_samples=25, n_estimators=100, subsample=0.5;, score=0.535 total time=   0.2s\n",
      "[CV 8/10] END colsample_bytree=1, learning_rate=0.1, max_depth=5, metric=binary_logloss, min_child_samples=25, n_estimators=100, subsample=0.5;, score=0.530 total time=   0.2s\n",
      "[CV 9/10] END colsample_bytree=1, learning_rate=0.1, max_depth=5, metric=binary_logloss, min_child_samples=25, n_estimators=100, subsample=0.5;, score=0.532 total time=   0.2s\n",
      "[CV 10/10] END colsample_bytree=1, learning_rate=0.1, max_depth=5, metric=binary_logloss, min_child_samples=25, n_estimators=100, subsample=0.5;, score=0.540 total time=   0.2s\n",
      "[CV 1/10] END colsample_bytree=1, learning_rate=0.05, max_depth=7, metric=cross_entropy, min_child_samples=30, n_estimators=100, subsample=0.7;, score=0.522 total time=   0.3s\n",
      "[CV 2/10] END colsample_bytree=1, learning_rate=0.05, max_depth=7, metric=cross_entropy, min_child_samples=30, n_estimators=100, subsample=0.7;, score=0.528 total time=   0.3s\n",
      "[CV 3/10] END colsample_bytree=1, learning_rate=0.05, max_depth=7, metric=cross_entropy, min_child_samples=30, n_estimators=100, subsample=0.7;, score=0.531 total time=   0.3s\n",
      "[CV 4/10] END colsample_bytree=1, learning_rate=0.05, max_depth=7, metric=cross_entropy, min_child_samples=30, n_estimators=100, subsample=0.7;, score=0.534 total time=   0.3s\n",
      "[CV 5/10] END colsample_bytree=1, learning_rate=0.05, max_depth=7, metric=cross_entropy, min_child_samples=30, n_estimators=100, subsample=0.7;, score=0.508 total time=   0.3s\n",
      "[CV 6/10] END colsample_bytree=1, learning_rate=0.05, max_depth=7, metric=cross_entropy, min_child_samples=30, n_estimators=100, subsample=0.7;, score=0.521 total time=   0.3s\n",
      "[CV 7/10] END colsample_bytree=1, learning_rate=0.05, max_depth=7, metric=cross_entropy, min_child_samples=30, n_estimators=100, subsample=0.7;, score=0.527 total time=   0.3s\n"
     ]
    },
    {
     "name": "stdout",
     "output_type": "stream",
     "text": [
      "[CV 8/10] END colsample_bytree=1, learning_rate=0.05, max_depth=7, metric=cross_entropy, min_child_samples=30, n_estimators=100, subsample=0.7;, score=0.523 total time=   0.3s\n",
      "[CV 9/10] END colsample_bytree=1, learning_rate=0.05, max_depth=7, metric=cross_entropy, min_child_samples=30, n_estimators=100, subsample=0.7;, score=0.526 total time=   0.3s\n",
      "[CV 10/10] END colsample_bytree=1, learning_rate=0.05, max_depth=7, metric=cross_entropy, min_child_samples=30, n_estimators=100, subsample=0.7;, score=0.533 total time=   0.3s\n",
      "[CV 1/10] END colsample_bytree=1, learning_rate=0.01, max_depth=3, metric=cross_entropy, min_child_samples=20, n_estimators=200, subsample=0.6;, score=0.292 total time=   0.2s\n",
      "[CV 2/10] END colsample_bytree=1, learning_rate=0.01, max_depth=3, metric=cross_entropy, min_child_samples=20, n_estimators=200, subsample=0.6;, score=0.296 total time=   0.2s\n",
      "[CV 3/10] END colsample_bytree=1, learning_rate=0.01, max_depth=3, metric=cross_entropy, min_child_samples=20, n_estimators=200, subsample=0.6;, score=0.319 total time=   0.3s\n",
      "[CV 4/10] END colsample_bytree=1, learning_rate=0.01, max_depth=3, metric=cross_entropy, min_child_samples=20, n_estimators=200, subsample=0.6;, score=0.295 total time=   0.2s\n",
      "[CV 5/10] END colsample_bytree=1, learning_rate=0.01, max_depth=3, metric=cross_entropy, min_child_samples=20, n_estimators=200, subsample=0.6;, score=0.294 total time=   0.3s\n",
      "[CV 6/10] END colsample_bytree=1, learning_rate=0.01, max_depth=3, metric=cross_entropy, min_child_samples=20, n_estimators=200, subsample=0.6;, score=0.303 total time=   0.2s\n",
      "[CV 7/10] END colsample_bytree=1, learning_rate=0.01, max_depth=3, metric=cross_entropy, min_child_samples=20, n_estimators=200, subsample=0.6;, score=0.293 total time=   0.3s\n",
      "[CV 8/10] END colsample_bytree=1, learning_rate=0.01, max_depth=3, metric=cross_entropy, min_child_samples=20, n_estimators=200, subsample=0.6;, score=0.289 total time=   0.3s\n",
      "[CV 9/10] END colsample_bytree=1, learning_rate=0.01, max_depth=3, metric=cross_entropy, min_child_samples=20, n_estimators=200, subsample=0.6;, score=0.308 total time=   0.2s\n",
      "[CV 10/10] END colsample_bytree=1, learning_rate=0.01, max_depth=3, metric=cross_entropy, min_child_samples=20, n_estimators=200, subsample=0.6;, score=0.291 total time=   0.3s\n",
      "[CV 1/10] END colsample_bytree=0.5, learning_rate=0.1, max_depth=5, metric=binary_logloss, min_child_samples=20, n_estimators=200, subsample=0.7;, score=0.548 total time=   0.4s\n",
      "[CV 2/10] END colsample_bytree=0.5, learning_rate=0.1, max_depth=5, metric=binary_logloss, min_child_samples=20, n_estimators=200, subsample=0.7;, score=0.553 total time=   0.4s\n",
      "[CV 3/10] END colsample_bytree=0.5, learning_rate=0.1, max_depth=5, metric=binary_logloss, min_child_samples=20, n_estimators=200, subsample=0.7;, score=0.545 total time=   0.4s\n",
      "[CV 4/10] END colsample_bytree=0.5, learning_rate=0.1, max_depth=5, metric=binary_logloss, min_child_samples=20, n_estimators=200, subsample=0.7;, score=0.555 total time=   0.4s\n",
      "[CV 5/10] END colsample_bytree=0.5, learning_rate=0.1, max_depth=5, metric=binary_logloss, min_child_samples=20, n_estimators=200, subsample=0.7;, score=0.543 total time=   0.4s\n",
      "[CV 6/10] END colsample_bytree=0.5, learning_rate=0.1, max_depth=5, metric=binary_logloss, min_child_samples=20, n_estimators=200, subsample=0.7;, score=0.547 total time=   0.4s\n",
      "[CV 7/10] END colsample_bytree=0.5, learning_rate=0.1, max_depth=5, metric=binary_logloss, min_child_samples=20, n_estimators=200, subsample=0.7;, score=0.552 total time=   0.4s\n",
      "[CV 8/10] END colsample_bytree=0.5, learning_rate=0.1, max_depth=5, metric=binary_logloss, min_child_samples=20, n_estimators=200, subsample=0.7;, score=0.549 total time=   0.4s\n",
      "[CV 9/10] END colsample_bytree=0.5, learning_rate=0.1, max_depth=5, metric=binary_logloss, min_child_samples=20, n_estimators=200, subsample=0.7;, score=0.548 total time=   0.4s\n",
      "[CV 10/10] END colsample_bytree=0.5, learning_rate=0.1, max_depth=5, metric=binary_logloss, min_child_samples=20, n_estimators=200, subsample=0.7;, score=0.558 total time=   0.4s\n",
      "[CV 1/10] END colsample_bytree=0.5, learning_rate=0.1, max_depth=3, metric=binary_logloss, min_child_samples=25, n_estimators=200, subsample=0.7;, score=0.513 total time=   0.4s\n",
      "[CV 2/10] END colsample_bytree=0.5, learning_rate=0.1, max_depth=3, metric=binary_logloss, min_child_samples=25, n_estimators=200, subsample=0.7;, score=0.514 total time=   0.3s\n",
      "[CV 3/10] END colsample_bytree=0.5, learning_rate=0.1, max_depth=3, metric=binary_logloss, min_child_samples=25, n_estimators=200, subsample=0.7;, score=0.511 total time=   0.3s\n",
      "[CV 4/10] END colsample_bytree=0.5, learning_rate=0.1, max_depth=3, metric=binary_logloss, min_child_samples=25, n_estimators=200, subsample=0.7;, score=0.520 total time=   0.3s\n",
      "[CV 5/10] END colsample_bytree=0.5, learning_rate=0.1, max_depth=3, metric=binary_logloss, min_child_samples=25, n_estimators=200, subsample=0.7;, score=0.501 total time=   0.3s\n",
      "[CV 6/10] END colsample_bytree=0.5, learning_rate=0.1, max_depth=3, metric=binary_logloss, min_child_samples=25, n_estimators=200, subsample=0.7;, score=0.505 total time=   0.3s\n",
      "[CV 7/10] END colsample_bytree=0.5, learning_rate=0.1, max_depth=3, metric=binary_logloss, min_child_samples=25, n_estimators=200, subsample=0.7;, score=0.514 total time=   0.3s\n",
      "[CV 8/10] END colsample_bytree=0.5, learning_rate=0.1, max_depth=3, metric=binary_logloss, min_child_samples=25, n_estimators=200, subsample=0.7;, score=0.514 total time=   0.3s\n",
      "[CV 9/10] END colsample_bytree=0.5, learning_rate=0.1, max_depth=3, metric=binary_logloss, min_child_samples=25, n_estimators=200, subsample=0.7;, score=0.515 total time=   0.3s\n",
      "[CV 10/10] END colsample_bytree=0.5, learning_rate=0.1, max_depth=3, metric=binary_logloss, min_child_samples=25, n_estimators=200, subsample=0.7;, score=0.520 total time=   0.3s\n",
      "[CV 1/10] END colsample_bytree=0.5, learning_rate=0.01, max_depth=7, metric=cross_entropy, min_child_samples=30, n_estimators=100, subsample=0.7;, score=0.113 total time=   0.3s\n",
      "[CV 2/10] END colsample_bytree=0.5, learning_rate=0.01, max_depth=7, metric=cross_entropy, min_child_samples=30, n_estimators=100, subsample=0.7;, score=0.118 total time=   0.3s\n",
      "[CV 3/10] END colsample_bytree=0.5, learning_rate=0.01, max_depth=7, metric=cross_entropy, min_child_samples=30, n_estimators=100, subsample=0.7;, score=0.111 total time=   0.3s\n",
      "[CV 4/10] END colsample_bytree=0.5, learning_rate=0.01, max_depth=7, metric=cross_entropy, min_child_samples=30, n_estimators=100, subsample=0.7;, score=0.114 total time=   0.3s\n",
      "[CV 5/10] END colsample_bytree=0.5, learning_rate=0.01, max_depth=7, metric=cross_entropy, min_child_samples=30, n_estimators=100, subsample=0.7;, score=0.121 total time=   0.3s\n",
      "[CV 6/10] END colsample_bytree=0.5, learning_rate=0.01, max_depth=7, metric=cross_entropy, min_child_samples=30, n_estimators=100, subsample=0.7;, score=0.116 total time=   0.3s\n",
      "[CV 7/10] END colsample_bytree=0.5, learning_rate=0.01, max_depth=7, metric=cross_entropy, min_child_samples=30, n_estimators=100, subsample=0.7;, score=0.112 total time=   0.3s\n",
      "[CV 8/10] END colsample_bytree=0.5, learning_rate=0.01, max_depth=7, metric=cross_entropy, min_child_samples=30, n_estimators=100, subsample=0.7;, score=0.116 total time=   0.3s\n",
      "[CV 9/10] END colsample_bytree=0.5, learning_rate=0.01, max_depth=7, metric=cross_entropy, min_child_samples=30, n_estimators=100, subsample=0.7;, score=0.124 total time=   0.3s\n",
      "[CV 10/10] END colsample_bytree=0.5, learning_rate=0.01, max_depth=7, metric=cross_entropy, min_child_samples=30, n_estimators=100, subsample=0.7;, score=0.116 total time=   0.3s\n",
      "[CV 1/10] END colsample_bytree=0.5, learning_rate=0.05, max_depth=3, metric=cross_entropy, min_child_samples=20, n_estimators=200, subsample=0.7;, score=0.470 total time=   0.3s\n",
      "[CV 2/10] END colsample_bytree=0.5, learning_rate=0.05, max_depth=3, metric=cross_entropy, min_child_samples=20, n_estimators=200, subsample=0.7;, score=0.469 total time=   0.3s\n",
      "[CV 3/10] END colsample_bytree=0.5, learning_rate=0.05, max_depth=3, metric=cross_entropy, min_child_samples=20, n_estimators=200, subsample=0.7;, score=0.475 total time=   0.3s\n",
      "[CV 4/10] END colsample_bytree=0.5, learning_rate=0.05, max_depth=3, metric=cross_entropy, min_child_samples=20, n_estimators=200, subsample=0.7;, score=0.475 total time=   0.3s\n"
     ]
    },
    {
     "name": "stdout",
     "output_type": "stream",
     "text": [
      "[CV 5/10] END colsample_bytree=0.5, learning_rate=0.05, max_depth=3, metric=cross_entropy, min_child_samples=20, n_estimators=200, subsample=0.7;, score=0.456 total time=   0.3s\n",
      "[CV 6/10] END colsample_bytree=0.5, learning_rate=0.05, max_depth=3, metric=cross_entropy, min_child_samples=20, n_estimators=200, subsample=0.7;, score=0.468 total time=   0.3s\n",
      "[CV 7/10] END colsample_bytree=0.5, learning_rate=0.05, max_depth=3, metric=cross_entropy, min_child_samples=20, n_estimators=200, subsample=0.7;, score=0.465 total time=   0.3s\n",
      "[CV 8/10] END colsample_bytree=0.5, learning_rate=0.05, max_depth=3, metric=cross_entropy, min_child_samples=20, n_estimators=200, subsample=0.7;, score=0.472 total time=   0.3s\n",
      "[CV 9/10] END colsample_bytree=0.5, learning_rate=0.05, max_depth=3, metric=cross_entropy, min_child_samples=20, n_estimators=200, subsample=0.7;, score=0.472 total time=   0.3s\n",
      "[CV 10/10] END colsample_bytree=0.5, learning_rate=0.05, max_depth=3, metric=cross_entropy, min_child_samples=20, n_estimators=200, subsample=0.7;, score=0.469 total time=   0.3s\n",
      "[CV 1/10] END colsample_bytree=0.5, learning_rate=0.01, max_depth=7, metric=binary_logloss, min_child_samples=30, n_estimators=300, subsample=0.7;, score=0.441 total time=   0.7s\n",
      "[CV 2/10] END colsample_bytree=0.5, learning_rate=0.01, max_depth=7, metric=binary_logloss, min_child_samples=30, n_estimators=300, subsample=0.7;, score=0.440 total time=   0.6s\n",
      "[CV 3/10] END colsample_bytree=0.5, learning_rate=0.01, max_depth=7, metric=binary_logloss, min_child_samples=30, n_estimators=300, subsample=0.7;, score=0.451 total time=   0.6s\n",
      "[CV 4/10] END colsample_bytree=0.5, learning_rate=0.01, max_depth=7, metric=binary_logloss, min_child_samples=30, n_estimators=300, subsample=0.7;, score=0.443 total time=   0.7s\n",
      "[CV 5/10] END colsample_bytree=0.5, learning_rate=0.01, max_depth=7, metric=binary_logloss, min_child_samples=30, n_estimators=300, subsample=0.7;, score=0.432 total time=   0.7s\n",
      "[CV 6/10] END colsample_bytree=0.5, learning_rate=0.01, max_depth=7, metric=binary_logloss, min_child_samples=30, n_estimators=300, subsample=0.7;, score=0.441 total time=   0.7s\n",
      "[CV 7/10] END colsample_bytree=0.5, learning_rate=0.01, max_depth=7, metric=binary_logloss, min_child_samples=30, n_estimators=300, subsample=0.7;, score=0.434 total time=   0.6s\n",
      "[CV 8/10] END colsample_bytree=0.5, learning_rate=0.01, max_depth=7, metric=binary_logloss, min_child_samples=30, n_estimators=300, subsample=0.7;, score=0.439 total time=   0.6s\n",
      "[CV 9/10] END colsample_bytree=0.5, learning_rate=0.01, max_depth=7, metric=binary_logloss, min_child_samples=30, n_estimators=300, subsample=0.7;, score=0.452 total time=   0.6s\n",
      "[CV 10/10] END colsample_bytree=0.5, learning_rate=0.01, max_depth=7, metric=binary_logloss, min_child_samples=30, n_estimators=300, subsample=0.7;, score=0.439 total time=   0.8s\n",
      "[CV 1/10] END colsample_bytree=1, learning_rate=0.5, max_depth=3, metric=binary_logloss, min_child_samples=25, n_estimators=200, subsample=0.5;, score=0.560 total time=   0.2s\n",
      "[CV 2/10] END colsample_bytree=1, learning_rate=0.5, max_depth=3, metric=binary_logloss, min_child_samples=25, n_estimators=200, subsample=0.5;, score=0.564 total time=   0.2s\n",
      "[CV 3/10] END colsample_bytree=1, learning_rate=0.5, max_depth=3, metric=binary_logloss, min_child_samples=25, n_estimators=200, subsample=0.5;, score=0.558 total time=   0.2s\n",
      "[CV 4/10] END colsample_bytree=1, learning_rate=0.5, max_depth=3, metric=binary_logloss, min_child_samples=25, n_estimators=200, subsample=0.5;, score=0.567 total time=   0.3s\n",
      "[CV 5/10] END colsample_bytree=1, learning_rate=0.5, max_depth=3, metric=binary_logloss, min_child_samples=25, n_estimators=200, subsample=0.5;, score=0.551 total time=   0.2s\n",
      "[CV 6/10] END colsample_bytree=1, learning_rate=0.5, max_depth=3, metric=binary_logloss, min_child_samples=25, n_estimators=200, subsample=0.5;, score=0.551 total time=   0.2s\n",
      "[CV 7/10] END colsample_bytree=1, learning_rate=0.5, max_depth=3, metric=binary_logloss, min_child_samples=25, n_estimators=200, subsample=0.5;, score=0.562 total time=   0.2s\n",
      "[CV 8/10] END colsample_bytree=1, learning_rate=0.5, max_depth=3, metric=binary_logloss, min_child_samples=25, n_estimators=200, subsample=0.5;, score=0.559 total time=   0.3s\n",
      "[CV 9/10] END colsample_bytree=1, learning_rate=0.5, max_depth=3, metric=binary_logloss, min_child_samples=25, n_estimators=200, subsample=0.5;, score=0.555 total time=   0.3s\n",
      "[CV 10/10] END colsample_bytree=1, learning_rate=0.5, max_depth=3, metric=binary_logloss, min_child_samples=25, n_estimators=200, subsample=0.5;, score=0.569 total time=   0.3s\n",
      "[CV 1/10] END colsample_bytree=0.5, learning_rate=0.3, max_depth=3, metric=binary_logloss, min_child_samples=30, n_estimators=400, subsample=0.6;, score=0.561 total time=   0.4s\n",
      "[CV 2/10] END colsample_bytree=0.5, learning_rate=0.3, max_depth=3, metric=binary_logloss, min_child_samples=30, n_estimators=400, subsample=0.6;, score=0.562 total time=   0.4s\n",
      "[CV 3/10] END colsample_bytree=0.5, learning_rate=0.3, max_depth=3, metric=binary_logloss, min_child_samples=30, n_estimators=400, subsample=0.6;, score=0.558 total time=   0.4s\n",
      "[CV 4/10] END colsample_bytree=0.5, learning_rate=0.3, max_depth=3, metric=binary_logloss, min_child_samples=30, n_estimators=400, subsample=0.6;, score=0.572 total time=   0.4s\n",
      "[CV 5/10] END colsample_bytree=0.5, learning_rate=0.3, max_depth=3, metric=binary_logloss, min_child_samples=30, n_estimators=400, subsample=0.6;, score=0.552 total time=   0.5s\n",
      "[CV 6/10] END colsample_bytree=0.5, learning_rate=0.3, max_depth=3, metric=binary_logloss, min_child_samples=30, n_estimators=400, subsample=0.6;, score=0.557 total time=   0.4s\n",
      "[CV 7/10] END colsample_bytree=0.5, learning_rate=0.3, max_depth=3, metric=binary_logloss, min_child_samples=30, n_estimators=400, subsample=0.6;, score=0.564 total time=   0.4s\n",
      "[CV 8/10] END colsample_bytree=0.5, learning_rate=0.3, max_depth=3, metric=binary_logloss, min_child_samples=30, n_estimators=400, subsample=0.6;, score=0.564 total time=   0.5s\n",
      "[CV 9/10] END colsample_bytree=0.5, learning_rate=0.3, max_depth=3, metric=binary_logloss, min_child_samples=30, n_estimators=400, subsample=0.6;, score=0.554 total time=   0.4s\n",
      "[CV 10/10] END colsample_bytree=0.5, learning_rate=0.3, max_depth=3, metric=binary_logloss, min_child_samples=30, n_estimators=400, subsample=0.6;, score=0.564 total time=   0.4s\n",
      "[CV 1/10] END colsample_bytree=0.5, learning_rate=0.05, max_depth=7, metric=binary_logloss, min_child_samples=20, n_estimators=200, subsample=0.6;, score=0.545 total time=   0.4s\n",
      "[CV 2/10] END colsample_bytree=0.5, learning_rate=0.05, max_depth=7, metric=binary_logloss, min_child_samples=20, n_estimators=200, subsample=0.6;, score=0.543 total time=   0.5s\n",
      "[CV 3/10] END colsample_bytree=0.5, learning_rate=0.05, max_depth=7, metric=binary_logloss, min_child_samples=20, n_estimators=200, subsample=0.6;, score=0.541 total time=   0.5s\n",
      "[CV 4/10] END colsample_bytree=0.5, learning_rate=0.05, max_depth=7, metric=binary_logloss, min_child_samples=20, n_estimators=200, subsample=0.6;, score=0.549 total time=   0.5s\n",
      "[CV 5/10] END colsample_bytree=0.5, learning_rate=0.05, max_depth=7, metric=binary_logloss, min_child_samples=20, n_estimators=200, subsample=0.6;, score=0.533 total time=   0.4s\n",
      "[CV 6/10] END colsample_bytree=0.5, learning_rate=0.05, max_depth=7, metric=binary_logloss, min_child_samples=20, n_estimators=200, subsample=0.6;, score=0.543 total time=   0.4s\n",
      "[CV 7/10] END colsample_bytree=0.5, learning_rate=0.05, max_depth=7, metric=binary_logloss, min_child_samples=20, n_estimators=200, subsample=0.6;, score=0.545 total time=   0.4s\n",
      "[CV 8/10] END colsample_bytree=0.5, learning_rate=0.05, max_depth=7, metric=binary_logloss, min_child_samples=20, n_estimators=200, subsample=0.6;, score=0.541 total time=   0.4s\n",
      "[CV 9/10] END colsample_bytree=0.5, learning_rate=0.05, max_depth=7, metric=binary_logloss, min_child_samples=20, n_estimators=200, subsample=0.6;, score=0.543 total time=   0.4s\n",
      "[CV 10/10] END colsample_bytree=0.5, learning_rate=0.05, max_depth=7, metric=binary_logloss, min_child_samples=20, n_estimators=200, subsample=0.6;, score=0.548 total time=   0.4s\n"
     ]
    },
    {
     "name": "stdout",
     "output_type": "stream",
     "text": [
      "[CV 1/10] END colsample_bytree=0.5, learning_rate=0.1, max_depth=5, metric=binary_logloss, min_child_samples=25, n_estimators=200, subsample=0.7;, score=0.552 total time=   0.4s\n",
      "[CV 2/10] END colsample_bytree=0.5, learning_rate=0.1, max_depth=5, metric=binary_logloss, min_child_samples=25, n_estimators=200, subsample=0.7;, score=0.548 total time=   0.4s\n",
      "[CV 3/10] END colsample_bytree=0.5, learning_rate=0.1, max_depth=5, metric=binary_logloss, min_child_samples=25, n_estimators=200, subsample=0.7;, score=0.546 total time=   0.4s\n",
      "[CV 4/10] END colsample_bytree=0.5, learning_rate=0.1, max_depth=5, metric=binary_logloss, min_child_samples=25, n_estimators=200, subsample=0.7;, score=0.556 total time=   0.4s\n",
      "[CV 5/10] END colsample_bytree=0.5, learning_rate=0.1, max_depth=5, metric=binary_logloss, min_child_samples=25, n_estimators=200, subsample=0.7;, score=0.543 total time=   0.3s\n",
      "[CV 6/10] END colsample_bytree=0.5, learning_rate=0.1, max_depth=5, metric=binary_logloss, min_child_samples=25, n_estimators=200, subsample=0.7;, score=0.545 total time=   0.4s\n",
      "[CV 7/10] END colsample_bytree=0.5, learning_rate=0.1, max_depth=5, metric=binary_logloss, min_child_samples=25, n_estimators=200, subsample=0.7;, score=0.555 total time=   0.5s\n",
      "[CV 8/10] END colsample_bytree=0.5, learning_rate=0.1, max_depth=5, metric=binary_logloss, min_child_samples=25, n_estimators=200, subsample=0.7;, score=0.551 total time=   0.4s\n",
      "[CV 9/10] END colsample_bytree=0.5, learning_rate=0.1, max_depth=5, metric=binary_logloss, min_child_samples=25, n_estimators=200, subsample=0.7;, score=0.547 total time=   0.4s\n",
      "[CV 10/10] END colsample_bytree=0.5, learning_rate=0.1, max_depth=5, metric=binary_logloss, min_child_samples=25, n_estimators=200, subsample=0.7;, score=0.559 total time=   0.4s\n",
      "[CV 1/10] END colsample_bytree=0.5, learning_rate=0.3, max_depth=7, metric=cross_entropy, min_child_samples=20, n_estimators=300, subsample=0.6;, score=0.557 total time=   0.5s\n",
      "[CV 2/10] END colsample_bytree=0.5, learning_rate=0.3, max_depth=7, metric=cross_entropy, min_child_samples=20, n_estimators=300, subsample=0.6;, score=0.560 total time=   0.5s\n",
      "[CV 3/10] END colsample_bytree=0.5, learning_rate=0.3, max_depth=7, metric=cross_entropy, min_child_samples=20, n_estimators=300, subsample=0.6;, score=0.559 total time=   0.5s\n",
      "[CV 4/10] END colsample_bytree=0.5, learning_rate=0.3, max_depth=7, metric=cross_entropy, min_child_samples=20, n_estimators=300, subsample=0.6;, score=0.562 total time=   0.5s\n",
      "[CV 5/10] END colsample_bytree=0.5, learning_rate=0.3, max_depth=7, metric=cross_entropy, min_child_samples=20, n_estimators=300, subsample=0.6;, score=0.552 total time=   0.5s\n",
      "[CV 6/10] END colsample_bytree=0.5, learning_rate=0.3, max_depth=7, metric=cross_entropy, min_child_samples=20, n_estimators=300, subsample=0.6;, score=0.551 total time=   0.5s\n",
      "[CV 7/10] END colsample_bytree=0.5, learning_rate=0.3, max_depth=7, metric=cross_entropy, min_child_samples=20, n_estimators=300, subsample=0.6;, score=0.564 total time=   0.5s\n",
      "[CV 8/10] END colsample_bytree=0.5, learning_rate=0.3, max_depth=7, metric=cross_entropy, min_child_samples=20, n_estimators=300, subsample=0.6;, score=0.554 total time=   0.5s\n",
      "[CV 9/10] END colsample_bytree=0.5, learning_rate=0.3, max_depth=7, metric=cross_entropy, min_child_samples=20, n_estimators=300, subsample=0.6;, score=0.557 total time=   0.5s\n",
      "[CV 10/10] END colsample_bytree=0.5, learning_rate=0.3, max_depth=7, metric=cross_entropy, min_child_samples=20, n_estimators=300, subsample=0.6;, score=0.567 total time=   0.5s\n",
      "[CV 1/10] END colsample_bytree=0.5, learning_rate=0.05, max_depth=7, metric=cross_entropy, min_child_samples=20, n_estimators=200, subsample=0.6;, score=0.545 total time=   0.4s\n",
      "[CV 2/10] END colsample_bytree=0.5, learning_rate=0.05, max_depth=7, metric=cross_entropy, min_child_samples=20, n_estimators=200, subsample=0.6;, score=0.543 total time=   0.4s\n",
      "[CV 3/10] END colsample_bytree=0.5, learning_rate=0.05, max_depth=7, metric=cross_entropy, min_child_samples=20, n_estimators=200, subsample=0.6;, score=0.541 total time=   0.4s\n",
      "[CV 4/10] END colsample_bytree=0.5, learning_rate=0.05, max_depth=7, metric=cross_entropy, min_child_samples=20, n_estimators=200, subsample=0.6;, score=0.549 total time=   0.4s\n",
      "[CV 5/10] END colsample_bytree=0.5, learning_rate=0.05, max_depth=7, metric=cross_entropy, min_child_samples=20, n_estimators=200, subsample=0.6;, score=0.533 total time=   0.4s\n",
      "[CV 6/10] END colsample_bytree=0.5, learning_rate=0.05, max_depth=7, metric=cross_entropy, min_child_samples=20, n_estimators=200, subsample=0.6;, score=0.543 total time=   0.5s\n",
      "[CV 7/10] END colsample_bytree=0.5, learning_rate=0.05, max_depth=7, metric=cross_entropy, min_child_samples=20, n_estimators=200, subsample=0.6;, score=0.545 total time=   0.5s\n",
      "[CV 8/10] END colsample_bytree=0.5, learning_rate=0.05, max_depth=7, metric=cross_entropy, min_child_samples=20, n_estimators=200, subsample=0.6;, score=0.541 total time=   0.4s\n",
      "[CV 9/10] END colsample_bytree=0.5, learning_rate=0.05, max_depth=7, metric=cross_entropy, min_child_samples=20, n_estimators=200, subsample=0.6;, score=0.543 total time=   0.5s\n",
      "[CV 10/10] END colsample_bytree=0.5, learning_rate=0.05, max_depth=7, metric=cross_entropy, min_child_samples=20, n_estimators=200, subsample=0.6;, score=0.548 total time=   0.4s\n",
      "[CV 1/10] END colsample_bytree=0.5, learning_rate=0.05, max_depth=5, metric=binary_logloss, min_child_samples=30, n_estimators=200, subsample=0.5;, score=0.524 total time=   0.4s\n",
      "[CV 2/10] END colsample_bytree=0.5, learning_rate=0.05, max_depth=5, metric=binary_logloss, min_child_samples=30, n_estimators=200, subsample=0.5;, score=0.526 total time=   0.4s\n",
      "[CV 3/10] END colsample_bytree=0.5, learning_rate=0.05, max_depth=5, metric=binary_logloss, min_child_samples=30, n_estimators=200, subsample=0.5;, score=0.523 total time=   0.4s\n",
      "[CV 4/10] END colsample_bytree=0.5, learning_rate=0.05, max_depth=5, metric=binary_logloss, min_child_samples=30, n_estimators=200, subsample=0.5;, score=0.531 total time=   0.4s\n",
      "[CV 5/10] END colsample_bytree=0.5, learning_rate=0.05, max_depth=5, metric=binary_logloss, min_child_samples=30, n_estimators=200, subsample=0.5;, score=0.513 total time=   0.4s\n",
      "[CV 6/10] END colsample_bytree=0.5, learning_rate=0.05, max_depth=5, metric=binary_logloss, min_child_samples=30, n_estimators=200, subsample=0.5;, score=0.521 total time=   0.4s\n",
      "[CV 7/10] END colsample_bytree=0.5, learning_rate=0.05, max_depth=5, metric=binary_logloss, min_child_samples=30, n_estimators=200, subsample=0.5;, score=0.533 total time=   0.4s\n",
      "[CV 8/10] END colsample_bytree=0.5, learning_rate=0.05, max_depth=5, metric=binary_logloss, min_child_samples=30, n_estimators=200, subsample=0.5;, score=0.524 total time=   0.4s\n",
      "[CV 9/10] END colsample_bytree=0.5, learning_rate=0.05, max_depth=5, metric=binary_logloss, min_child_samples=30, n_estimators=200, subsample=0.5;, score=0.528 total time=   0.4s\n",
      "[CV 10/10] END colsample_bytree=0.5, learning_rate=0.05, max_depth=5, metric=binary_logloss, min_child_samples=30, n_estimators=200, subsample=0.5;, score=0.527 total time=   0.4s\n",
      "[CV 1/10] END colsample_bytree=0.5, learning_rate=0.05, max_depth=5, metric=binary_logloss, min_child_samples=30, n_estimators=300, subsample=0.7;, score=0.538 total time=   0.5s\n",
      "[CV 2/10] END colsample_bytree=0.5, learning_rate=0.05, max_depth=5, metric=binary_logloss, min_child_samples=30, n_estimators=300, subsample=0.7;, score=0.541 total time=   0.5s\n",
      "[CV 3/10] END colsample_bytree=0.5, learning_rate=0.05, max_depth=5, metric=binary_logloss, min_child_samples=30, n_estimators=300, subsample=0.7;, score=0.540 total time=   0.5s\n",
      "[CV 4/10] END colsample_bytree=0.5, learning_rate=0.05, max_depth=5, metric=binary_logloss, min_child_samples=30, n_estimators=300, subsample=0.7;, score=0.549 total time=   0.6s\n",
      "[CV 5/10] END colsample_bytree=0.5, learning_rate=0.05, max_depth=5, metric=binary_logloss, min_child_samples=30, n_estimators=300, subsample=0.7;, score=0.535 total time=   0.5s\n",
      "[CV 6/10] END colsample_bytree=0.5, learning_rate=0.05, max_depth=5, metric=binary_logloss, min_child_samples=30, n_estimators=300, subsample=0.7;, score=0.543 total time=   0.5s\n"
     ]
    },
    {
     "name": "stdout",
     "output_type": "stream",
     "text": [
      "[CV 7/10] END colsample_bytree=0.5, learning_rate=0.05, max_depth=5, metric=binary_logloss, min_child_samples=30, n_estimators=300, subsample=0.7;, score=0.547 total time=   0.5s\n",
      "[CV 8/10] END colsample_bytree=0.5, learning_rate=0.05, max_depth=5, metric=binary_logloss, min_child_samples=30, n_estimators=300, subsample=0.7;, score=0.542 total time=   0.5s\n",
      "[CV 9/10] END colsample_bytree=0.5, learning_rate=0.05, max_depth=5, metric=binary_logloss, min_child_samples=30, n_estimators=300, subsample=0.7;, score=0.543 total time=   0.5s\n",
      "[CV 10/10] END colsample_bytree=0.5, learning_rate=0.05, max_depth=5, metric=binary_logloss, min_child_samples=30, n_estimators=300, subsample=0.7;, score=0.546 total time=   0.5s\n",
      "[CV 1/10] END colsample_bytree=0.5, learning_rate=0.05, max_depth=3, metric=binary_logloss, min_child_samples=25, n_estimators=400, subsample=0.7;, score=0.516 total time=   0.4s\n",
      "[CV 2/10] END colsample_bytree=0.5, learning_rate=0.05, max_depth=3, metric=binary_logloss, min_child_samples=25, n_estimators=400, subsample=0.7;, score=0.516 total time=   0.5s\n",
      "[CV 3/10] END colsample_bytree=0.5, learning_rate=0.05, max_depth=3, metric=binary_logloss, min_child_samples=25, n_estimators=400, subsample=0.7;, score=0.512 total time=   0.4s\n",
      "[CV 4/10] END colsample_bytree=0.5, learning_rate=0.05, max_depth=3, metric=binary_logloss, min_child_samples=25, n_estimators=400, subsample=0.7;, score=0.522 total time=   0.4s\n",
      "[CV 5/10] END colsample_bytree=0.5, learning_rate=0.05, max_depth=3, metric=binary_logloss, min_child_samples=25, n_estimators=400, subsample=0.7;, score=0.502 total time=   0.4s\n",
      "[CV 6/10] END colsample_bytree=0.5, learning_rate=0.05, max_depth=3, metric=binary_logloss, min_child_samples=25, n_estimators=400, subsample=0.7;, score=0.506 total time=   0.4s\n",
      "[CV 7/10] END colsample_bytree=0.5, learning_rate=0.05, max_depth=3, metric=binary_logloss, min_child_samples=25, n_estimators=400, subsample=0.7;, score=0.516 total time=   0.4s\n",
      "[CV 8/10] END colsample_bytree=0.5, learning_rate=0.05, max_depth=3, metric=binary_logloss, min_child_samples=25, n_estimators=400, subsample=0.7;, score=0.513 total time=   0.4s\n",
      "[CV 9/10] END colsample_bytree=0.5, learning_rate=0.05, max_depth=3, metric=binary_logloss, min_child_samples=25, n_estimators=400, subsample=0.7;, score=0.514 total time=   0.4s\n",
      "[CV 10/10] END colsample_bytree=0.5, learning_rate=0.05, max_depth=3, metric=binary_logloss, min_child_samples=25, n_estimators=400, subsample=0.7;, score=0.519 total time=   0.5s\n",
      "[CV 1/10] END colsample_bytree=0.5, learning_rate=0.1, max_depth=5, metric=cross_entropy, min_child_samples=20, n_estimators=400, subsample=0.5;, score=0.559 total time=   0.6s\n",
      "[CV 2/10] END colsample_bytree=0.5, learning_rate=0.1, max_depth=5, metric=cross_entropy, min_child_samples=20, n_estimators=400, subsample=0.5;, score=0.562 total time=   0.6s\n",
      "[CV 3/10] END colsample_bytree=0.5, learning_rate=0.1, max_depth=5, metric=cross_entropy, min_child_samples=20, n_estimators=400, subsample=0.5;, score=0.560 total time=   0.6s\n",
      "[CV 4/10] END colsample_bytree=0.5, learning_rate=0.1, max_depth=5, metric=cross_entropy, min_child_samples=20, n_estimators=400, subsample=0.5;, score=0.568 total time=   0.7s\n",
      "[CV 5/10] END colsample_bytree=0.5, learning_rate=0.1, max_depth=5, metric=cross_entropy, min_child_samples=20, n_estimators=400, subsample=0.5;, score=0.552 total time=   0.6s\n",
      "[CV 6/10] END colsample_bytree=0.5, learning_rate=0.1, max_depth=5, metric=cross_entropy, min_child_samples=20, n_estimators=400, subsample=0.5;, score=0.557 total time=   0.6s\n",
      "[CV 7/10] END colsample_bytree=0.5, learning_rate=0.1, max_depth=5, metric=cross_entropy, min_child_samples=20, n_estimators=400, subsample=0.5;, score=0.562 total time=   0.6s\n",
      "[CV 8/10] END colsample_bytree=0.5, learning_rate=0.1, max_depth=5, metric=cross_entropy, min_child_samples=20, n_estimators=400, subsample=0.5;, score=0.561 total time=   0.6s\n",
      "[CV 9/10] END colsample_bytree=0.5, learning_rate=0.1, max_depth=5, metric=cross_entropy, min_child_samples=20, n_estimators=400, subsample=0.5;, score=0.557 total time=   0.6s\n",
      "[CV 10/10] END colsample_bytree=0.5, learning_rate=0.1, max_depth=5, metric=cross_entropy, min_child_samples=20, n_estimators=400, subsample=0.5;, score=0.567 total time=   0.6s\n",
      "[CV 1/10] END colsample_bytree=1, learning_rate=0.05, max_depth=7, metric=binary_logloss, min_child_samples=20, n_estimators=100, subsample=0.6;, score=0.526 total time=   0.3s\n",
      "[CV 2/10] END colsample_bytree=1, learning_rate=0.05, max_depth=7, metric=binary_logloss, min_child_samples=20, n_estimators=100, subsample=0.6;, score=0.523 total time=   0.3s\n",
      "[CV 3/10] END colsample_bytree=1, learning_rate=0.05, max_depth=7, metric=binary_logloss, min_child_samples=20, n_estimators=100, subsample=0.6;, score=0.527 total time=   0.3s\n",
      "[CV 4/10] END colsample_bytree=1, learning_rate=0.05, max_depth=7, metric=binary_logloss, min_child_samples=20, n_estimators=100, subsample=0.6;, score=0.534 total time=   0.3s\n",
      "[CV 5/10] END colsample_bytree=1, learning_rate=0.05, max_depth=7, metric=binary_logloss, min_child_samples=20, n_estimators=100, subsample=0.6;, score=0.511 total time=   0.3s\n",
      "[CV 6/10] END colsample_bytree=1, learning_rate=0.05, max_depth=7, metric=binary_logloss, min_child_samples=20, n_estimators=100, subsample=0.6;, score=0.521 total time=   0.3s\n",
      "[CV 7/10] END colsample_bytree=1, learning_rate=0.05, max_depth=7, metric=binary_logloss, min_child_samples=20, n_estimators=100, subsample=0.6;, score=0.525 total time=   0.3s\n",
      "[CV 8/10] END colsample_bytree=1, learning_rate=0.05, max_depth=7, metric=binary_logloss, min_child_samples=20, n_estimators=100, subsample=0.6;, score=0.523 total time=   0.3s\n",
      "[CV 9/10] END colsample_bytree=1, learning_rate=0.05, max_depth=7, metric=binary_logloss, min_child_samples=20, n_estimators=100, subsample=0.6;, score=0.526 total time=   0.3s\n",
      "[CV 10/10] END colsample_bytree=1, learning_rate=0.05, max_depth=7, metric=binary_logloss, min_child_samples=20, n_estimators=100, subsample=0.6;, score=0.533 total time=   0.3s\n",
      "[CV 1/10] END colsample_bytree=1, learning_rate=0.1, max_depth=7, metric=binary_logloss, min_child_samples=20, n_estimators=200, subsample=0.6;, score=0.563 total time=   0.4s\n",
      "[CV 2/10] END colsample_bytree=1, learning_rate=0.1, max_depth=7, metric=binary_logloss, min_child_samples=20, n_estimators=200, subsample=0.6;, score=0.568 total time=   0.4s\n",
      "[CV 3/10] END colsample_bytree=1, learning_rate=0.1, max_depth=7, metric=binary_logloss, min_child_samples=20, n_estimators=200, subsample=0.6;, score=0.564 total time=   0.4s\n",
      "[CV 4/10] END colsample_bytree=1, learning_rate=0.1, max_depth=7, metric=binary_logloss, min_child_samples=20, n_estimators=200, subsample=0.6;, score=0.570 total time=   0.4s\n",
      "[CV 5/10] END colsample_bytree=1, learning_rate=0.1, max_depth=7, metric=binary_logloss, min_child_samples=20, n_estimators=200, subsample=0.6;, score=0.553 total time=   0.4s\n",
      "[CV 6/10] END colsample_bytree=1, learning_rate=0.1, max_depth=7, metric=binary_logloss, min_child_samples=20, n_estimators=200, subsample=0.6;, score=0.559 total time=   0.4s\n",
      "[CV 7/10] END colsample_bytree=1, learning_rate=0.1, max_depth=7, metric=binary_logloss, min_child_samples=20, n_estimators=200, subsample=0.6;, score=0.561 total time=   0.4s\n",
      "[CV 8/10] END colsample_bytree=1, learning_rate=0.1, max_depth=7, metric=binary_logloss, min_child_samples=20, n_estimators=200, subsample=0.6;, score=0.562 total time=   0.4s\n",
      "[CV 9/10] END colsample_bytree=1, learning_rate=0.1, max_depth=7, metric=binary_logloss, min_child_samples=20, n_estimators=200, subsample=0.6;, score=0.561 total time=   0.4s\n",
      "[CV 10/10] END colsample_bytree=1, learning_rate=0.1, max_depth=7, metric=binary_logloss, min_child_samples=20, n_estimators=200, subsample=0.6;, score=0.571 total time=   0.4s\n",
      "[CV 1/10] END colsample_bytree=0.5, learning_rate=0.5, max_depth=5, metric=binary_logloss, min_child_samples=25, n_estimators=200, subsample=0.5;, score=0.552 total time=   0.3s\n",
      "[CV 2/10] END colsample_bytree=0.5, learning_rate=0.5, max_depth=5, metric=binary_logloss, min_child_samples=25, n_estimators=200, subsample=0.5;, score=0.559 total time=   0.3s\n",
      "[CV 3/10] END colsample_bytree=0.5, learning_rate=0.5, max_depth=5, metric=binary_logloss, min_child_samples=25, n_estimators=200, subsample=0.5;, score=0.555 total time=   0.4s\n"
     ]
    },
    {
     "name": "stdout",
     "output_type": "stream",
     "text": [
      "[CV 4/10] END colsample_bytree=0.5, learning_rate=0.5, max_depth=5, metric=binary_logloss, min_child_samples=25, n_estimators=200, subsample=0.5;, score=0.560 total time=   0.3s\n",
      "[CV 5/10] END colsample_bytree=0.5, learning_rate=0.5, max_depth=5, metric=binary_logloss, min_child_samples=25, n_estimators=200, subsample=0.5;, score=0.550 total time=   0.3s\n",
      "[CV 6/10] END colsample_bytree=0.5, learning_rate=0.5, max_depth=5, metric=binary_logloss, min_child_samples=25, n_estimators=200, subsample=0.5;, score=0.558 total time=   0.3s\n",
      "[CV 7/10] END colsample_bytree=0.5, learning_rate=0.5, max_depth=5, metric=binary_logloss, min_child_samples=25, n_estimators=200, subsample=0.5;, score=0.559 total time=   0.4s\n",
      "[CV 8/10] END colsample_bytree=0.5, learning_rate=0.5, max_depth=5, metric=binary_logloss, min_child_samples=25, n_estimators=200, subsample=0.5;, score=0.551 total time=   0.3s\n",
      "[CV 9/10] END colsample_bytree=0.5, learning_rate=0.5, max_depth=5, metric=binary_logloss, min_child_samples=25, n_estimators=200, subsample=0.5;, score=0.556 total time=   0.4s\n",
      "[CV 10/10] END colsample_bytree=0.5, learning_rate=0.5, max_depth=5, metric=binary_logloss, min_child_samples=25, n_estimators=200, subsample=0.5;, score=0.558 total time=   0.4s\n",
      "[CV 1/10] END colsample_bytree=1, learning_rate=0.05, max_depth=3, metric=binary_logloss, min_child_samples=30, n_estimators=100, subsample=0.7;, score=0.421 total time=   0.2s\n",
      "[CV 2/10] END colsample_bytree=1, learning_rate=0.05, max_depth=3, metric=binary_logloss, min_child_samples=30, n_estimators=100, subsample=0.7;, score=0.419 total time=   0.2s\n",
      "[CV 3/10] END colsample_bytree=1, learning_rate=0.05, max_depth=3, metric=binary_logloss, min_child_samples=30, n_estimators=100, subsample=0.7;, score=0.429 total time=   0.2s\n",
      "[CV 4/10] END colsample_bytree=1, learning_rate=0.05, max_depth=3, metric=binary_logloss, min_child_samples=30, n_estimators=100, subsample=0.7;, score=0.414 total time=   0.2s\n",
      "[CV 5/10] END colsample_bytree=1, learning_rate=0.05, max_depth=3, metric=binary_logloss, min_child_samples=30, n_estimators=100, subsample=0.7;, score=0.407 total time=   0.2s\n",
      "[CV 6/10] END colsample_bytree=1, learning_rate=0.05, max_depth=3, metric=binary_logloss, min_child_samples=30, n_estimators=100, subsample=0.7;, score=0.419 total time=   0.2s\n",
      "[CV 7/10] END colsample_bytree=1, learning_rate=0.05, max_depth=3, metric=binary_logloss, min_child_samples=30, n_estimators=100, subsample=0.7;, score=0.411 total time=   0.2s\n",
      "[CV 8/10] END colsample_bytree=1, learning_rate=0.05, max_depth=3, metric=binary_logloss, min_child_samples=30, n_estimators=100, subsample=0.7;, score=0.421 total time=   0.2s\n",
      "[CV 9/10] END colsample_bytree=1, learning_rate=0.05, max_depth=3, metric=binary_logloss, min_child_samples=30, n_estimators=100, subsample=0.7;, score=0.424 total time=   0.2s\n",
      "[CV 10/10] END colsample_bytree=1, learning_rate=0.05, max_depth=3, metric=binary_logloss, min_child_samples=30, n_estimators=100, subsample=0.7;, score=0.421 total time=   0.2s\n",
      "[CV 1/10] END colsample_bytree=0.5, learning_rate=0.1, max_depth=7, metric=cross_entropy, min_child_samples=20, n_estimators=400, subsample=0.6;, score=0.561 total time=   0.7s\n",
      "[CV 2/10] END colsample_bytree=0.5, learning_rate=0.1, max_depth=7, metric=cross_entropy, min_child_samples=20, n_estimators=400, subsample=0.6;, score=0.564 total time=   0.7s\n",
      "[CV 3/10] END colsample_bytree=0.5, learning_rate=0.1, max_depth=7, metric=cross_entropy, min_child_samples=20, n_estimators=400, subsample=0.6;, score=0.558 total time=   0.6s\n",
      "[CV 4/10] END colsample_bytree=0.5, learning_rate=0.1, max_depth=7, metric=cross_entropy, min_child_samples=20, n_estimators=400, subsample=0.6;, score=0.565 total time=   0.8s\n",
      "[CV 5/10] END colsample_bytree=0.5, learning_rate=0.1, max_depth=7, metric=cross_entropy, min_child_samples=20, n_estimators=400, subsample=0.6;, score=0.555 total time=   0.7s\n",
      "[CV 6/10] END colsample_bytree=0.5, learning_rate=0.1, max_depth=7, metric=cross_entropy, min_child_samples=20, n_estimators=400, subsample=0.6;, score=0.556 total time=   0.6s\n",
      "[CV 7/10] END colsample_bytree=0.5, learning_rate=0.1, max_depth=7, metric=cross_entropy, min_child_samples=20, n_estimators=400, subsample=0.6;, score=0.562 total time=   0.6s\n",
      "[CV 8/10] END colsample_bytree=0.5, learning_rate=0.1, max_depth=7, metric=cross_entropy, min_child_samples=20, n_estimators=400, subsample=0.6;, score=0.565 total time=   0.6s\n",
      "[CV 9/10] END colsample_bytree=0.5, learning_rate=0.1, max_depth=7, metric=cross_entropy, min_child_samples=20, n_estimators=400, subsample=0.6;, score=0.555 total time=   0.6s\n",
      "[CV 10/10] END colsample_bytree=0.5, learning_rate=0.1, max_depth=7, metric=cross_entropy, min_child_samples=20, n_estimators=400, subsample=0.6;, score=0.567 total time=   0.6s\n",
      "[CV 1/10] END colsample_bytree=0.5, learning_rate=0.05, max_depth=3, metric=cross_entropy, min_child_samples=25, n_estimators=400, subsample=0.5;, score=0.516 total time=   0.4s\n",
      "[CV 2/10] END colsample_bytree=0.5, learning_rate=0.05, max_depth=3, metric=cross_entropy, min_child_samples=25, n_estimators=400, subsample=0.5;, score=0.516 total time=   0.5s\n",
      "[CV 3/10] END colsample_bytree=0.5, learning_rate=0.05, max_depth=3, metric=cross_entropy, min_child_samples=25, n_estimators=400, subsample=0.5;, score=0.512 total time=   0.4s\n",
      "[CV 4/10] END colsample_bytree=0.5, learning_rate=0.05, max_depth=3, metric=cross_entropy, min_child_samples=25, n_estimators=400, subsample=0.5;, score=0.522 total time=   0.5s\n",
      "[CV 5/10] END colsample_bytree=0.5, learning_rate=0.05, max_depth=3, metric=cross_entropy, min_child_samples=25, n_estimators=400, subsample=0.5;, score=0.502 total time=   0.4s\n",
      "[CV 6/10] END colsample_bytree=0.5, learning_rate=0.05, max_depth=3, metric=cross_entropy, min_child_samples=25, n_estimators=400, subsample=0.5;, score=0.506 total time=   0.4s\n",
      "[CV 7/10] END colsample_bytree=0.5, learning_rate=0.05, max_depth=3, metric=cross_entropy, min_child_samples=25, n_estimators=400, subsample=0.5;, score=0.516 total time=   0.4s\n",
      "[CV 8/10] END colsample_bytree=0.5, learning_rate=0.05, max_depth=3, metric=cross_entropy, min_child_samples=25, n_estimators=400, subsample=0.5;, score=0.513 total time=   0.4s\n",
      "[CV 9/10] END colsample_bytree=0.5, learning_rate=0.05, max_depth=3, metric=cross_entropy, min_child_samples=25, n_estimators=400, subsample=0.5;, score=0.514 total time=   0.5s\n",
      "[CV 10/10] END colsample_bytree=0.5, learning_rate=0.05, max_depth=3, metric=cross_entropy, min_child_samples=25, n_estimators=400, subsample=0.5;, score=0.519 total time=   0.4s\n",
      "[CV 1/10] END colsample_bytree=0.5, learning_rate=0.5, max_depth=5, metric=cross_entropy, min_child_samples=20, n_estimators=100, subsample=0.5;, score=0.553 total time=   0.2s\n",
      "[CV 2/10] END colsample_bytree=0.5, learning_rate=0.5, max_depth=5, metric=cross_entropy, min_child_samples=20, n_estimators=100, subsample=0.5;, score=0.555 total time=   0.3s\n",
      "[CV 3/10] END colsample_bytree=0.5, learning_rate=0.5, max_depth=5, metric=cross_entropy, min_child_samples=20, n_estimators=100, subsample=0.5;, score=0.552 total time=   0.2s\n",
      "[CV 4/10] END colsample_bytree=0.5, learning_rate=0.5, max_depth=5, metric=cross_entropy, min_child_samples=20, n_estimators=100, subsample=0.5;, score=0.558 total time=   0.2s\n",
      "[CV 5/10] END colsample_bytree=0.5, learning_rate=0.5, max_depth=5, metric=cross_entropy, min_child_samples=20, n_estimators=100, subsample=0.5;, score=0.547 total time=   0.2s\n",
      "[CV 6/10] END colsample_bytree=0.5, learning_rate=0.5, max_depth=5, metric=cross_entropy, min_child_samples=20, n_estimators=100, subsample=0.5;, score=0.559 total time=   0.2s\n",
      "[CV 7/10] END colsample_bytree=0.5, learning_rate=0.5, max_depth=5, metric=cross_entropy, min_child_samples=20, n_estimators=100, subsample=0.5;, score=0.547 total time=   0.2s\n",
      "[CV 8/10] END colsample_bytree=0.5, learning_rate=0.5, max_depth=5, metric=cross_entropy, min_child_samples=20, n_estimators=100, subsample=0.5;, score=0.559 total time=   0.2s\n",
      "[CV 9/10] END colsample_bytree=0.5, learning_rate=0.5, max_depth=5, metric=cross_entropy, min_child_samples=20, n_estimators=100, subsample=0.5;, score=0.559 total time=   0.2s\n",
      "[CV 10/10] END colsample_bytree=0.5, learning_rate=0.5, max_depth=5, metric=cross_entropy, min_child_samples=20, n_estimators=100, subsample=0.5;, score=0.560 total time=   0.2s\n"
     ]
    },
    {
     "name": "stdout",
     "output_type": "stream",
     "text": [
      "[CV 1/10] END colsample_bytree=0.5, learning_rate=0.01, max_depth=5, metric=binary_logloss, min_child_samples=25, n_estimators=300, subsample=0.5;, score=0.399 total time=   0.5s\n",
      "[CV 2/10] END colsample_bytree=0.5, learning_rate=0.01, max_depth=5, metric=binary_logloss, min_child_samples=25, n_estimators=300, subsample=0.5;, score=0.397 total time=   0.5s\n",
      "[CV 3/10] END colsample_bytree=0.5, learning_rate=0.01, max_depth=5, metric=binary_logloss, min_child_samples=25, n_estimators=300, subsample=0.5;, score=0.407 total time=   0.5s\n",
      "[CV 4/10] END colsample_bytree=0.5, learning_rate=0.01, max_depth=5, metric=binary_logloss, min_child_samples=25, n_estimators=300, subsample=0.5;, score=0.401 total time=   0.5s\n",
      "[CV 5/10] END colsample_bytree=0.5, learning_rate=0.01, max_depth=5, metric=binary_logloss, min_child_samples=25, n_estimators=300, subsample=0.5;, score=0.388 total time=   0.5s\n",
      "[CV 6/10] END colsample_bytree=0.5, learning_rate=0.01, max_depth=5, metric=binary_logloss, min_child_samples=25, n_estimators=300, subsample=0.5;, score=0.400 total time=   0.5s\n",
      "[CV 7/10] END colsample_bytree=0.5, learning_rate=0.01, max_depth=5, metric=binary_logloss, min_child_samples=25, n_estimators=300, subsample=0.5;, score=0.395 total time=   0.6s\n",
      "[CV 8/10] END colsample_bytree=0.5, learning_rate=0.01, max_depth=5, metric=binary_logloss, min_child_samples=25, n_estimators=300, subsample=0.5;, score=0.399 total time=   0.5s\n",
      "[CV 9/10] END colsample_bytree=0.5, learning_rate=0.01, max_depth=5, metric=binary_logloss, min_child_samples=25, n_estimators=300, subsample=0.5;, score=0.411 total time=   0.5s\n",
      "[CV 10/10] END colsample_bytree=0.5, learning_rate=0.01, max_depth=5, metric=binary_logloss, min_child_samples=25, n_estimators=300, subsample=0.5;, score=0.397 total time=   0.5s\n",
      "[CV 1/10] END colsample_bytree=1, learning_rate=0.5, max_depth=7, metric=binary_logloss, min_child_samples=25, n_estimators=300, subsample=0.5;, score=0.546 total time=   0.5s\n",
      "[CV 2/10] END colsample_bytree=1, learning_rate=0.5, max_depth=7, metric=binary_logloss, min_child_samples=25, n_estimators=300, subsample=0.5;, score=0.560 total time=   0.5s\n",
      "[CV 3/10] END colsample_bytree=1, learning_rate=0.5, max_depth=7, metric=binary_logloss, min_child_samples=25, n_estimators=300, subsample=0.5;, score=0.547 total time=   0.5s\n",
      "[CV 4/10] END colsample_bytree=1, learning_rate=0.5, max_depth=7, metric=binary_logloss, min_child_samples=25, n_estimators=300, subsample=0.5;, score=0.560 total time=   0.4s\n",
      "[CV 5/10] END colsample_bytree=1, learning_rate=0.5, max_depth=7, metric=binary_logloss, min_child_samples=25, n_estimators=300, subsample=0.5;, score=0.552 total time=   0.5s\n",
      "[CV 6/10] END colsample_bytree=1, learning_rate=0.5, max_depth=7, metric=binary_logloss, min_child_samples=25, n_estimators=300, subsample=0.5;, score=0.547 total time=   0.5s\n",
      "[CV 7/10] END colsample_bytree=1, learning_rate=0.5, max_depth=7, metric=binary_logloss, min_child_samples=25, n_estimators=300, subsample=0.5;, score=0.552 total time=   0.5s\n",
      "[CV 8/10] END colsample_bytree=1, learning_rate=0.5, max_depth=7, metric=binary_logloss, min_child_samples=25, n_estimators=300, subsample=0.5;, score=0.544 total time=   0.4s\n",
      "[CV 9/10] END colsample_bytree=1, learning_rate=0.5, max_depth=7, metric=binary_logloss, min_child_samples=25, n_estimators=300, subsample=0.5;, score=0.552 total time=   0.5s\n",
      "[CV 10/10] END colsample_bytree=1, learning_rate=0.5, max_depth=7, metric=binary_logloss, min_child_samples=25, n_estimators=300, subsample=0.5;, score=0.560 total time=   0.5s\n",
      "[CV 1/10] END colsample_bytree=0.5, learning_rate=0.05, max_depth=3, metric=binary_logloss, min_child_samples=20, n_estimators=200, subsample=0.6;, score=0.470 total time=   0.3s\n",
      "[CV 2/10] END colsample_bytree=0.5, learning_rate=0.05, max_depth=3, metric=binary_logloss, min_child_samples=20, n_estimators=200, subsample=0.6;, score=0.469 total time=   0.3s\n",
      "[CV 3/10] END colsample_bytree=0.5, learning_rate=0.05, max_depth=3, metric=binary_logloss, min_child_samples=20, n_estimators=200, subsample=0.6;, score=0.475 total time=   0.3s\n",
      "[CV 4/10] END colsample_bytree=0.5, learning_rate=0.05, max_depth=3, metric=binary_logloss, min_child_samples=20, n_estimators=200, subsample=0.6;, score=0.475 total time=   0.3s\n",
      "[CV 5/10] END colsample_bytree=0.5, learning_rate=0.05, max_depth=3, metric=binary_logloss, min_child_samples=20, n_estimators=200, subsample=0.6;, score=0.456 total time=   0.3s\n",
      "[CV 6/10] END colsample_bytree=0.5, learning_rate=0.05, max_depth=3, metric=binary_logloss, min_child_samples=20, n_estimators=200, subsample=0.6;, score=0.468 total time=   0.3s\n",
      "[CV 7/10] END colsample_bytree=0.5, learning_rate=0.05, max_depth=3, metric=binary_logloss, min_child_samples=20, n_estimators=200, subsample=0.6;, score=0.465 total time=   0.3s\n",
      "[CV 8/10] END colsample_bytree=0.5, learning_rate=0.05, max_depth=3, metric=binary_logloss, min_child_samples=20, n_estimators=200, subsample=0.6;, score=0.472 total time=   0.3s\n",
      "[CV 9/10] END colsample_bytree=0.5, learning_rate=0.05, max_depth=3, metric=binary_logloss, min_child_samples=20, n_estimators=200, subsample=0.6;, score=0.472 total time=   0.3s\n",
      "[CV 10/10] END colsample_bytree=0.5, learning_rate=0.05, max_depth=3, metric=binary_logloss, min_child_samples=20, n_estimators=200, subsample=0.6;, score=0.469 total time=   0.3s\n",
      "[CV 1/10] END colsample_bytree=0.5, learning_rate=0.1, max_depth=7, metric=cross_entropy, min_child_samples=20, n_estimators=300, subsample=0.6;, score=0.559 total time=   0.6s\n",
      "[CV 2/10] END colsample_bytree=0.5, learning_rate=0.1, max_depth=7, metric=cross_entropy, min_child_samples=20, n_estimators=300, subsample=0.6;, score=0.557 total time=   0.5s\n",
      "[CV 3/10] END colsample_bytree=0.5, learning_rate=0.1, max_depth=7, metric=cross_entropy, min_child_samples=20, n_estimators=300, subsample=0.6;, score=0.557 total time=   0.5s\n",
      "[CV 4/10] END colsample_bytree=0.5, learning_rate=0.1, max_depth=7, metric=cross_entropy, min_child_samples=20, n_estimators=300, subsample=0.6;, score=0.564 total time=   0.5s\n",
      "[CV 5/10] END colsample_bytree=0.5, learning_rate=0.1, max_depth=7, metric=cross_entropy, min_child_samples=20, n_estimators=300, subsample=0.6;, score=0.554 total time=   0.5s\n",
      "[CV 6/10] END colsample_bytree=0.5, learning_rate=0.1, max_depth=7, metric=cross_entropy, min_child_samples=20, n_estimators=300, subsample=0.6;, score=0.554 total time=   0.5s\n",
      "[CV 7/10] END colsample_bytree=0.5, learning_rate=0.1, max_depth=7, metric=cross_entropy, min_child_samples=20, n_estimators=300, subsample=0.6;, score=0.559 total time=   0.6s\n",
      "[CV 8/10] END colsample_bytree=0.5, learning_rate=0.1, max_depth=7, metric=cross_entropy, min_child_samples=20, n_estimators=300, subsample=0.6;, score=0.561 total time=   0.5s\n",
      "[CV 9/10] END colsample_bytree=0.5, learning_rate=0.1, max_depth=7, metric=cross_entropy, min_child_samples=20, n_estimators=300, subsample=0.6;, score=0.553 total time=   0.5s\n",
      "[CV 10/10] END colsample_bytree=0.5, learning_rate=0.1, max_depth=7, metric=cross_entropy, min_child_samples=20, n_estimators=300, subsample=0.6;, score=0.564 total time=   0.5s\n",
      "[CV 1/10] END colsample_bytree=0.5, learning_rate=0.05, max_depth=3, metric=binary_logloss, min_child_samples=30, n_estimators=400, subsample=0.7;, score=0.516 total time=   0.4s\n",
      "[CV 2/10] END colsample_bytree=0.5, learning_rate=0.05, max_depth=3, metric=binary_logloss, min_child_samples=30, n_estimators=400, subsample=0.7;, score=0.514 total time=   0.5s\n",
      "[CV 3/10] END colsample_bytree=0.5, learning_rate=0.05, max_depth=3, metric=binary_logloss, min_child_samples=30, n_estimators=400, subsample=0.7;, score=0.510 total time=   0.4s\n",
      "[CV 4/10] END colsample_bytree=0.5, learning_rate=0.05, max_depth=3, metric=binary_logloss, min_child_samples=30, n_estimators=400, subsample=0.7;, score=0.522 total time=   0.5s\n",
      "[CV 5/10] END colsample_bytree=0.5, learning_rate=0.05, max_depth=3, metric=binary_logloss, min_child_samples=30, n_estimators=400, subsample=0.7;, score=0.502 total time=   0.4s\n",
      "[CV 6/10] END colsample_bytree=0.5, learning_rate=0.05, max_depth=3, metric=binary_logloss, min_child_samples=30, n_estimators=400, subsample=0.7;, score=0.507 total time=   0.4s\n",
      "[CV 7/10] END colsample_bytree=0.5, learning_rate=0.05, max_depth=3, metric=binary_logloss, min_child_samples=30, n_estimators=400, subsample=0.7;, score=0.515 total time=   0.4s\n"
     ]
    },
    {
     "name": "stdout",
     "output_type": "stream",
     "text": [
      "[CV 8/10] END colsample_bytree=0.5, learning_rate=0.05, max_depth=3, metric=binary_logloss, min_child_samples=30, n_estimators=400, subsample=0.7;, score=0.514 total time=   0.4s\n",
      "[CV 9/10] END colsample_bytree=0.5, learning_rate=0.05, max_depth=3, metric=binary_logloss, min_child_samples=30, n_estimators=400, subsample=0.7;, score=0.514 total time=   0.4s\n",
      "[CV 10/10] END colsample_bytree=0.5, learning_rate=0.05, max_depth=3, metric=binary_logloss, min_child_samples=30, n_estimators=400, subsample=0.7;, score=0.518 total time=   0.4s\n",
      "[CV 1/10] END colsample_bytree=0.5, learning_rate=0.05, max_depth=7, metric=cross_entropy, min_child_samples=20, n_estimators=400, subsample=0.7;, score=0.554 total time=   0.8s\n",
      "[CV 2/10] END colsample_bytree=0.5, learning_rate=0.05, max_depth=7, metric=cross_entropy, min_child_samples=20, n_estimators=400, subsample=0.7;, score=0.559 total time=   0.7s\n",
      "[CV 3/10] END colsample_bytree=0.5, learning_rate=0.05, max_depth=7, metric=cross_entropy, min_child_samples=20, n_estimators=400, subsample=0.7;, score=0.556 total time=   0.8s\n",
      "[CV 4/10] END colsample_bytree=0.5, learning_rate=0.05, max_depth=7, metric=cross_entropy, min_child_samples=20, n_estimators=400, subsample=0.7;, score=0.564 total time=   0.7s\n",
      "[CV 5/10] END colsample_bytree=0.5, learning_rate=0.05, max_depth=7, metric=cross_entropy, min_child_samples=20, n_estimators=400, subsample=0.7;, score=0.549 total time=   0.8s\n",
      "[CV 6/10] END colsample_bytree=0.5, learning_rate=0.05, max_depth=7, metric=cross_entropy, min_child_samples=20, n_estimators=400, subsample=0.7;, score=0.556 total time=   0.8s\n",
      "[CV 7/10] END colsample_bytree=0.5, learning_rate=0.05, max_depth=7, metric=cross_entropy, min_child_samples=20, n_estimators=400, subsample=0.7;, score=0.560 total time=   0.9s\n",
      "[CV 8/10] END colsample_bytree=0.5, learning_rate=0.05, max_depth=7, metric=cross_entropy, min_child_samples=20, n_estimators=400, subsample=0.7;, score=0.558 total time=   0.8s\n",
      "[CV 9/10] END colsample_bytree=0.5, learning_rate=0.05, max_depth=7, metric=cross_entropy, min_child_samples=20, n_estimators=400, subsample=0.7;, score=0.554 total time=   0.7s\n",
      "[CV 10/10] END colsample_bytree=0.5, learning_rate=0.05, max_depth=7, metric=cross_entropy, min_child_samples=20, n_estimators=400, subsample=0.7;, score=0.562 total time=   0.7s\n",
      "[CV 1/10] END colsample_bytree=1, learning_rate=0.3, max_depth=3, metric=binary_logloss, min_child_samples=20, n_estimators=400, subsample=0.5;, score=0.565 total time=   0.4s\n",
      "[CV 2/10] END colsample_bytree=1, learning_rate=0.3, max_depth=3, metric=binary_logloss, min_child_samples=20, n_estimators=400, subsample=0.5;, score=0.565 total time=   0.4s\n",
      "[CV 3/10] END colsample_bytree=1, learning_rate=0.3, max_depth=3, metric=binary_logloss, min_child_samples=20, n_estimators=400, subsample=0.5;, score=0.554 total time=   0.4s\n",
      "[CV 4/10] END colsample_bytree=1, learning_rate=0.3, max_depth=3, metric=binary_logloss, min_child_samples=20, n_estimators=400, subsample=0.5;, score=0.566 total time=   0.4s\n",
      "[CV 5/10] END colsample_bytree=1, learning_rate=0.3, max_depth=3, metric=binary_logloss, min_child_samples=20, n_estimators=400, subsample=0.5;, score=0.557 total time=   0.4s\n",
      "[CV 6/10] END colsample_bytree=1, learning_rate=0.3, max_depth=3, metric=binary_logloss, min_child_samples=20, n_estimators=400, subsample=0.5;, score=0.559 total time=   0.4s\n",
      "[CV 7/10] END colsample_bytree=1, learning_rate=0.3, max_depth=3, metric=binary_logloss, min_child_samples=20, n_estimators=400, subsample=0.5;, score=0.570 total time=   0.4s\n",
      "[CV 8/10] END colsample_bytree=1, learning_rate=0.3, max_depth=3, metric=binary_logloss, min_child_samples=20, n_estimators=400, subsample=0.5;, score=0.564 total time=   0.4s\n",
      "[CV 9/10] END colsample_bytree=1, learning_rate=0.3, max_depth=3, metric=binary_logloss, min_child_samples=20, n_estimators=400, subsample=0.5;, score=0.559 total time=   0.4s\n",
      "[CV 10/10] END colsample_bytree=1, learning_rate=0.3, max_depth=3, metric=binary_logloss, min_child_samples=20, n_estimators=400, subsample=0.5;, score=0.569 total time=   0.4s\n",
      "[CV 1/10] END colsample_bytree=0.5, learning_rate=0.05, max_depth=5, metric=cross_entropy, min_child_samples=20, n_estimators=400, subsample=0.6;, score=0.547 total time=   0.6s\n",
      "[CV 2/10] END colsample_bytree=0.5, learning_rate=0.05, max_depth=5, metric=cross_entropy, min_child_samples=20, n_estimators=400, subsample=0.6;, score=0.552 total time=   0.6s\n",
      "[CV 3/10] END colsample_bytree=0.5, learning_rate=0.05, max_depth=5, metric=cross_entropy, min_child_samples=20, n_estimators=400, subsample=0.6;, score=0.551 total time=   0.6s\n",
      "[CV 4/10] END colsample_bytree=0.5, learning_rate=0.05, max_depth=5, metric=cross_entropy, min_child_samples=20, n_estimators=400, subsample=0.6;, score=0.558 total time=   0.7s\n",
      "[CV 5/10] END colsample_bytree=0.5, learning_rate=0.05, max_depth=5, metric=cross_entropy, min_child_samples=20, n_estimators=400, subsample=0.6;, score=0.542 total time=   0.7s\n",
      "[CV 6/10] END colsample_bytree=0.5, learning_rate=0.05, max_depth=5, metric=cross_entropy, min_child_samples=20, n_estimators=400, subsample=0.6;, score=0.547 total time=   0.7s\n",
      "[CV 7/10] END colsample_bytree=0.5, learning_rate=0.05, max_depth=5, metric=cross_entropy, min_child_samples=20, n_estimators=400, subsample=0.6;, score=0.552 total time=   0.6s\n",
      "[CV 8/10] END colsample_bytree=0.5, learning_rate=0.05, max_depth=5, metric=cross_entropy, min_child_samples=20, n_estimators=400, subsample=0.6;, score=0.552 total time=   0.6s\n",
      "[CV 9/10] END colsample_bytree=0.5, learning_rate=0.05, max_depth=5, metric=cross_entropy, min_child_samples=20, n_estimators=400, subsample=0.6;, score=0.546 total time=   0.7s\n",
      "[CV 10/10] END colsample_bytree=0.5, learning_rate=0.05, max_depth=5, metric=cross_entropy, min_child_samples=20, n_estimators=400, subsample=0.6;, score=0.553 total time=   0.6s\n",
      "[CV 1/10] END colsample_bytree=0.5, learning_rate=0.05, max_depth=3, metric=cross_entropy, min_child_samples=20, n_estimators=400, subsample=0.7;, score=0.513 total time=   0.4s\n",
      "[CV 2/10] END colsample_bytree=0.5, learning_rate=0.05, max_depth=3, metric=cross_entropy, min_child_samples=20, n_estimators=400, subsample=0.7;, score=0.517 total time=   0.4s\n",
      "[CV 3/10] END colsample_bytree=0.5, learning_rate=0.05, max_depth=3, metric=cross_entropy, min_child_samples=20, n_estimators=400, subsample=0.7;, score=0.510 total time=   0.4s\n",
      "[CV 4/10] END colsample_bytree=0.5, learning_rate=0.05, max_depth=3, metric=cross_entropy, min_child_samples=20, n_estimators=400, subsample=0.7;, score=0.521 total time=   0.4s\n",
      "[CV 5/10] END colsample_bytree=0.5, learning_rate=0.05, max_depth=3, metric=cross_entropy, min_child_samples=20, n_estimators=400, subsample=0.7;, score=0.501 total time=   0.5s\n",
      "[CV 6/10] END colsample_bytree=0.5, learning_rate=0.05, max_depth=3, metric=cross_entropy, min_child_samples=20, n_estimators=400, subsample=0.7;, score=0.507 total time=   0.5s\n",
      "[CV 7/10] END colsample_bytree=0.5, learning_rate=0.05, max_depth=3, metric=cross_entropy, min_child_samples=20, n_estimators=400, subsample=0.7;, score=0.518 total time=   0.4s\n",
      "[CV 8/10] END colsample_bytree=0.5, learning_rate=0.05, max_depth=3, metric=cross_entropy, min_child_samples=20, n_estimators=400, subsample=0.7;, score=0.514 total time=   0.4s\n",
      "[CV 9/10] END colsample_bytree=0.5, learning_rate=0.05, max_depth=3, metric=cross_entropy, min_child_samples=20, n_estimators=400, subsample=0.7;, score=0.516 total time=   0.5s\n",
      "[CV 10/10] END colsample_bytree=0.5, learning_rate=0.05, max_depth=3, metric=cross_entropy, min_child_samples=20, n_estimators=400, subsample=0.7;, score=0.517 total time=   0.4s\n",
      "[CV 1/10] END colsample_bytree=0.5, learning_rate=0.3, max_depth=7, metric=cross_entropy, min_child_samples=20, n_estimators=400, subsample=0.7;, score=0.555 total time=   0.6s\n",
      "[CV 2/10] END colsample_bytree=0.5, learning_rate=0.3, max_depth=7, metric=cross_entropy, min_child_samples=20, n_estimators=400, subsample=0.7;, score=0.558 total time=   0.6s\n",
      "[CV 3/10] END colsample_bytree=0.5, learning_rate=0.3, max_depth=7, metric=cross_entropy, min_child_samples=20, n_estimators=400, subsample=0.7;, score=0.559 total time=   0.6s\n",
      "[CV 4/10] END colsample_bytree=0.5, learning_rate=0.3, max_depth=7, metric=cross_entropy, min_child_samples=20, n_estimators=400, subsample=0.7;, score=0.558 total time=   0.6s\n"
     ]
    },
    {
     "name": "stdout",
     "output_type": "stream",
     "text": [
      "[CV 5/10] END colsample_bytree=0.5, learning_rate=0.3, max_depth=7, metric=cross_entropy, min_child_samples=20, n_estimators=400, subsample=0.7;, score=0.555 total time=   0.6s\n",
      "[CV 6/10] END colsample_bytree=0.5, learning_rate=0.3, max_depth=7, metric=cross_entropy, min_child_samples=20, n_estimators=400, subsample=0.7;, score=0.553 total time=   0.6s\n",
      "[CV 7/10] END colsample_bytree=0.5, learning_rate=0.3, max_depth=7, metric=cross_entropy, min_child_samples=20, n_estimators=400, subsample=0.7;, score=0.561 total time=   0.6s\n",
      "[CV 8/10] END colsample_bytree=0.5, learning_rate=0.3, max_depth=7, metric=cross_entropy, min_child_samples=20, n_estimators=400, subsample=0.7;, score=0.558 total time=   0.6s\n",
      "[CV 9/10] END colsample_bytree=0.5, learning_rate=0.3, max_depth=7, metric=cross_entropy, min_child_samples=20, n_estimators=400, subsample=0.7;, score=0.555 total time=   0.6s\n",
      "[CV 10/10] END colsample_bytree=0.5, learning_rate=0.3, max_depth=7, metric=cross_entropy, min_child_samples=20, n_estimators=400, subsample=0.7;, score=0.567 total time=   0.6s\n",
      "[CV 1/10] END colsample_bytree=0.5, learning_rate=0.5, max_depth=7, metric=cross_entropy, min_child_samples=30, n_estimators=300, subsample=0.5;, score=0.547 total time=   0.5s\n",
      "[CV 2/10] END colsample_bytree=0.5, learning_rate=0.5, max_depth=7, metric=cross_entropy, min_child_samples=30, n_estimators=300, subsample=0.5;, score=0.545 total time=   0.5s\n",
      "[CV 3/10] END colsample_bytree=0.5, learning_rate=0.5, max_depth=7, metric=cross_entropy, min_child_samples=30, n_estimators=300, subsample=0.5;, score=0.541 total time=   0.5s\n",
      "[CV 4/10] END colsample_bytree=0.5, learning_rate=0.5, max_depth=7, metric=cross_entropy, min_child_samples=30, n_estimators=300, subsample=0.5;, score=0.554 total time=   0.5s\n",
      "[CV 5/10] END colsample_bytree=0.5, learning_rate=0.5, max_depth=7, metric=cross_entropy, min_child_samples=30, n_estimators=300, subsample=0.5;, score=0.540 total time=   0.5s\n",
      "[CV 6/10] END colsample_bytree=0.5, learning_rate=0.5, max_depth=7, metric=cross_entropy, min_child_samples=30, n_estimators=300, subsample=0.5;, score=0.550 total time=   0.5s\n",
      "[CV 7/10] END colsample_bytree=0.5, learning_rate=0.5, max_depth=7, metric=cross_entropy, min_child_samples=30, n_estimators=300, subsample=0.5;, score=0.553 total time=   0.5s\n",
      "[CV 8/10] END colsample_bytree=0.5, learning_rate=0.5, max_depth=7, metric=cross_entropy, min_child_samples=30, n_estimators=300, subsample=0.5;, score=0.550 total time=   0.5s\n",
      "[CV 9/10] END colsample_bytree=0.5, learning_rate=0.5, max_depth=7, metric=cross_entropy, min_child_samples=30, n_estimators=300, subsample=0.5;, score=0.546 total time=   0.5s\n",
      "[CV 10/10] END colsample_bytree=0.5, learning_rate=0.5, max_depth=7, metric=cross_entropy, min_child_samples=30, n_estimators=300, subsample=0.5;, score=0.557 total time=   0.5s\n",
      "\n",
      " Time taken: 0 hours 8 minutes and 48.29 seconds.\n"
     ]
    }
   ],
   "source": [
    "lgbm = LGBMClassifier(objective='binary')\n",
    "lgbm_params = {\n",
    "    'learning_rate':[0.01,0.05,0.1,0.3,0.5],\n",
    "    'n_estimators':[100,200,300,400],\n",
    "    'max_depth':[3,5,7],\n",
    "    'min_child_samples':[20,25,30],\n",
    "    'subsample':[0.5,0.6,0.7],\n",
    "    'colsample_bytree':[0.5,0.5,1],\n",
    "    'metric':['binary_logloss','cross_entropy']\n",
    "}\n",
    "cv=RepeatedStratifiedKFold(n_splits=5, n_repeats=2)\n",
    "grid_search = RandomizedSearchCV(estimator=lgbm,\n",
    "                          param_distributions=lgbm_params,\n",
    "                          cv= cv,\n",
    "                          error_score=0,\n",
    "                          scoring='f1',verbose=3,n_iter=100,random_state=1001)\n",
    "start_time = timer(None)\n",
    "result = grid_search.fit(X_train,y_train)\n",
    "timer(start_time)"
   ]
  },
  {
   "cell_type": "code",
   "execution_count": 384,
   "id": "e0b94a8f",
   "metadata": {
    "scrolled": true
   },
   "outputs": [
    {
     "name": "stdout",
     "output_type": "stream",
     "text": [
      "{'subsample': 0.5, 'n_estimators': 400, 'min_child_samples': 25, 'metric': 'binary_logloss', 'max_depth': 7, 'learning_rate': 0.05, 'colsample_bytree': 1}\n",
      "\n",
      "정확도: 0.7531\n",
      "정밀도: 0.6616\n",
      "재현율: 0.4957\n",
      "AUC: 0.6866\n",
      "F1: 0.5668\n"
     ]
    },
    {
     "data": {
      "image/png": "[encoded data removed]",
      "text/plain": [
       "<Figure size 432x288 with 2 Axes>"
      ]
     },
     "metadata": {
      "needs_background": "light"
     },
     "output_type": "display_data"
    }
   ],
   "source": [
    "print(result.best_params_)\n",
    "normal_lgbm = result.best_estimator_\n",
    "normal_lgbm.fit(X_train,y_train)\n",
    "y_pred_normal = normal_lgbm.predict(X_valid)\n",
    "get_clf_eval(y_valid,y_pred_normal)"
   ]
  },
  {
   "cell_type": "markdown",
   "id": "5371dbae",
   "metadata": {},
   "source": [
    "####  Threshold tuning"
   ]
  },
  {
   "cell_type": "code",
   "execution_count": 250,
   "id": "7598e73f",
   "metadata": {},
   "outputs": [
    {
     "data": {
      "image/png": "[encoded data removed]",
      "text/plain": [
       "<Figure size 432x288 with 1 Axes>"
      ]
     },
     "metadata": {
      "needs_background": "light"
     },
     "output_type": "display_data"
    },
    {
     "name": "stdout",
     "output_type": "stream",
     "text": [
      "(0.2799999999999999, 0.6372223959962465)\n"
     ]
    }
   ],
   "source": [
    "Threshold_tuing(normal_lgbm)"
   ]
  },
  {
   "cell_type": "code",
   "execution_count": 440,
   "id": "ad948f1d",
   "metadata": {},
   "outputs": [
    {
     "name": "stdout",
     "output_type": "stream",
     "text": [
      "\n",
      "정확도: 0.7100\n",
      "정밀도: 0.5379\n",
      "재현율: 0.7816\n",
      "AUC: 0.7285\n",
      "F1: 0.6372\n"
     ]
    },
    {
     "data": {
      "image/png": "[encoded data removed]",
      "text/plain": [
       "<Figure size 432x288 with 2 Axes>"
      ]
     },
     "metadata": {
      "needs_background": "light"
     },
     "output_type": "display_data"
    }
   ],
   "source": [
    "get_clf_eval(y_valid,y_pred_prob[:,1]>0.28)"
   ]
  },
  {
   "cell_type": "code",
   "execution_count": 251,
   "id": "c34afd87",
   "metadata": {},
   "outputs": [],
   "source": [
    "with open('../lgbm_model.pkl','wb') as file:\n",
    "    pickle.dump(normal_lgbm,file)"
   ]
  },
  {
   "cell_type": "code",
   "execution_count": 252,
   "id": "d9968e03",
   "metadata": {},
   "outputs": [],
   "source": [
    "with open('./저장모델/lgbm_model.pkl','rb') as f:\n",
    "    lgbm = pickle.load(f)"
   ]
  },
  {
   "cell_type": "markdown",
   "id": "4c841fdd",
   "metadata": {},
   "source": [
    "# BaggingClassifier"
   ]
  },
  {
   "cell_type": "markdown",
   "id": "062eabef",
   "metadata": {},
   "source": [
    "#### Bagging에 들어갈 Decision tree최적화"
   ]
  },
  {
   "cell_type": "code",
   "execution_count": 434,
   "id": "ee679647",
   "metadata": {},
   "outputs": [
    {
     "name": "stdout",
     "output_type": "stream",
     "text": [
      "Fitting 10 folds for each of 54 candidates, totalling 540 fits\n",
      "\n",
      " Time taken: 0 hours 2 minutes and 7.49 seconds.\n"
     ]
    }
   ],
   "source": [
    "# bagging에 들어갈 decision tree를 최적화\n",
    "des_tree = DecisionTreeClassifier()\n",
    "num_features = len(overed_X.columns)\n",
    "des_tree_param = {\n",
    "    'criterion':['gini','entropy'],\n",
    "    'max_depth':[np.round(num_features*0.5),np.round(num_features*0.7),np.round(num_features*0.9)],\n",
    "    'min_samples_split':[2,5,10],\n",
    "    'min_samples_leaf':[1,5,10]\n",
    "}\n",
    "grid_search = GridSearchCV(des_tree,param_grid=des_tree_param,cv=cv,n_jobs=-1,error_score=0,verbose=3,scoring='f1')\n",
    "start_time = timer(None)\n",
    "result = grid_search.fit(overed_X,overed_y)\n",
    "timer(start_time)"
   ]
  },
  {
   "cell_type": "code",
   "execution_count": 435,
   "id": "9fc2445e",
   "metadata": {
    "scrolled": false
   },
   "outputs": [
    {
     "name": "stdout",
     "output_type": "stream",
     "text": [
      "{'criterion': 'gini', 'max_depth': 38.0, 'min_samples_leaf': 10, 'min_samples_split': 2}\n",
      "\n",
      "정확도: 0.6905\n",
      "정밀도: 0.5273\n",
      "재현율: 0.4830\n",
      "AUC: 0.6369\n",
      "F1: 0.5042\n"
     ]
    },
    {
     "data": {
      "image/png": "[encoded data removed]",
      "text/plain": [
       "<Figure size 432x288 with 2 Axes>"
      ]
     },
     "metadata": {
      "needs_background": "light"
     },
     "output_type": "display_data"
    }
   ],
   "source": [
    "print(result.best_params_)\n",
    "des_tree = result.best_estimator_\n",
    "des_tree.fit(X_train,y_train)\n",
    "y_pred_normal = des_tree.predict(X_valid)\n",
    "get_clf_eval(y_valid,y_pred_normal)"
   ]
  },
  {
   "cell_type": "code",
   "execution_count": 254,
   "id": "4ecd64c3",
   "metadata": {},
   "outputs": [
    {
     "data": {
      "image/png": "[encoded data removed]",
      "text/plain": [
       "<Figure size 432x288 with 1 Axes>"
      ]
     },
     "metadata": {
      "needs_background": "light"
     },
     "output_type": "display_data"
    },
    {
     "name": "stdout",
     "output_type": "stream",
     "text": [
      "(0.15999999999999998, 0.5609961299007236)\n"
     ]
    }
   ],
   "source": [
    "Threshold_tuing(des_tree)"
   ]
  },
  {
   "cell_type": "code",
   "execution_count": 438,
   "id": "9b253a5f",
   "metadata": {
    "scrolled": true
   },
   "outputs": [
    {
     "name": "stdout",
     "output_type": "stream",
     "text": [
      "\n",
      "정확도: 0.6087\n",
      "정밀도: 0.4421\n",
      "재현율: 0.7675\n",
      "AUC: 0.6497\n",
      "F1: 0.5610\n"
     ]
    },
    {
     "data": {
      "image/png": "[encoded data removed]",
      "text/plain": [
       "<Figure size 432x288 with 2 Axes>"
      ]
     },
     "metadata": {
      "needs_background": "light"
     },
     "output_type": "display_data"
    }
   ],
   "source": [
    "get_clf_eval(y_valid,y_pred_prob[:,1]>0.16)"
   ]
  },
  {
   "cell_type": "code",
   "execution_count": 446,
   "id": "54adc1ad",
   "metadata": {},
   "outputs": [],
   "source": [
    "with open('../des_tree.pkl','wb') as file:\n",
    "    pickle.dump(des_tree,file)"
   ]
  },
  {
   "cell_type": "code",
   "execution_count": 22,
   "id": "581b5038",
   "metadata": {},
   "outputs": [],
   "source": [
    "with open('./저장모델/des_tree.pkl','rb') as f:\n",
    "    des_tree = pickle.load(f)\n",
    "    "
   ]
  },
  {
   "cell_type": "markdown",
   "id": "024ac539",
   "metadata": {},
   "source": [
    "#### Bagging 파라미터 최적화"
   ]
  },
  {
   "cell_type": "code",
   "execution_count": 32,
   "id": "755d7b52",
   "metadata": {
    "scrolled": true
   },
   "outputs": [
    {
     "name": "stdout",
     "output_type": "stream",
     "text": [
      "Fitting 10 folds for each of 80 candidates, totalling 800 fits\n",
      "[CV 1/10] END max_features=0.3, max_samples=0.3, n_estimators=10;, score=0.730 total time=   1.6s\n",
      "[CV 2/10] END max_features=0.3, max_samples=0.3, n_estimators=10;, score=0.752 total time=   0.6s\n",
      "[CV 3/10] END max_features=0.3, max_samples=0.3, n_estimators=10;, score=0.754 total time=   0.6s\n",
      "[CV 4/10] END max_features=0.3, max_samples=0.3, n_estimators=10;, score=0.733 total time=   0.7s\n",
      "[CV 5/10] END max_features=0.3, max_samples=0.3, n_estimators=10;, score=0.750 total time=   0.6s\n",
      "[CV 6/10] END max_features=0.3, max_samples=0.3, n_estimators=10;, score=0.731 total time=   0.6s\n",
      "[CV 7/10] END max_features=0.3, max_samples=0.3, n_estimators=10;, score=0.739 total time=   0.6s\n",
      "[CV 8/10] END max_features=0.3, max_samples=0.3, n_estimators=10;, score=0.716 total time=   0.6s\n",
      "[CV 9/10] END max_features=0.3, max_samples=0.3, n_estimators=10;, score=0.740 total time=   0.6s\n",
      "[CV 10/10] END max_features=0.3, max_samples=0.3, n_estimators=10;, score=0.728 total time=   0.7s\n",
      "[CV 1/10] END max_features=0.3, max_samples=0.3, n_estimators=50;, score=0.770 total time=   1.9s\n",
      "[CV 2/10] END max_features=0.3, max_samples=0.3, n_estimators=50;, score=0.766 total time=   1.4s\n"
     ]
    },
    {
     "ename": "KeyboardInterrupt",
     "evalue": "",
     "output_type": "error",
     "traceback": [
      "\u001b[1;31m---------------------------------------------------------------------------\u001b[0m",
      "\u001b[1;31mKeyboardInterrupt\u001b[0m                         Traceback (most recent call last)",
      "\u001b[1;32m<ipython-input-32-168942c09789>\u001b[0m in \u001b[0;36m<module>\u001b[1;34m\u001b[0m\n\u001b[0;32m      8\u001b[0m \u001b[0mstart_time\u001b[0m \u001b[1;33m=\u001b[0m \u001b[0mtimer\u001b[0m\u001b[1;33m(\u001b[0m\u001b[1;32mNone\u001b[0m\u001b[1;33m)\u001b[0m\u001b[1;33m\u001b[0m\u001b[1;33m\u001b[0m\u001b[0m\n\u001b[0;32m      9\u001b[0m \u001b[0mgrid_search\u001b[0m \u001b[1;33m=\u001b[0m \u001b[0mGridSearchCV\u001b[0m\u001b[1;33m(\u001b[0m\u001b[0mbagging\u001b[0m\u001b[1;33m,\u001b[0m\u001b[0mparam_grid\u001b[0m\u001b[1;33m=\u001b[0m\u001b[0mbag_param\u001b[0m\u001b[1;33m,\u001b[0m\u001b[0mcv\u001b[0m\u001b[1;33m=\u001b[0m\u001b[0mcv\u001b[0m\u001b[1;33m,\u001b[0m\u001b[0merror_score\u001b[0m\u001b[1;33m=\u001b[0m\u001b[1;36m0\u001b[0m\u001b[1;33m,\u001b[0m\u001b[0mscoring\u001b[0m\u001b[1;33m=\u001b[0m\u001b[1;34m'f1'\u001b[0m\u001b[1;33m,\u001b[0m\u001b[0mverbose\u001b[0m\u001b[1;33m=\u001b[0m\u001b[1;36m3\u001b[0m\u001b[1;33m)\u001b[0m\u001b[1;33m\u001b[0m\u001b[1;33m\u001b[0m\u001b[0m\n\u001b[1;32m---> 10\u001b[1;33m \u001b[0mresult\u001b[0m \u001b[1;33m=\u001b[0m \u001b[0mgrid_search\u001b[0m\u001b[1;33m.\u001b[0m\u001b[0mfit\u001b[0m\u001b[1;33m(\u001b[0m\u001b[0movered_X\u001b[0m\u001b[1;33m,\u001b[0m\u001b[0movered_y\u001b[0m\u001b[1;33m)\u001b[0m\u001b[1;33m\u001b[0m\u001b[1;33m\u001b[0m\u001b[0m\n\u001b[0m\u001b[0;32m     11\u001b[0m \u001b[0mtimer\u001b[0m\u001b[1;33m(\u001b[0m\u001b[0mstart_time\u001b[0m\u001b[1;33m)\u001b[0m\u001b[1;33m\u001b[0m\u001b[1;33m\u001b[0m\u001b[0m\n",
      "\u001b[1;32m~\\anaconda3\\lib\\site-packages\\sklearn\\model_selection\\_search.py\u001b[0m in \u001b[0;36mfit\u001b[1;34m(self, X, y, groups, **fit_params)\u001b[0m\n\u001b[0;32m    889\u001b[0m                 \u001b[1;32mreturn\u001b[0m \u001b[0mresults\u001b[0m\u001b[1;33m\u001b[0m\u001b[1;33m\u001b[0m\u001b[0m\n\u001b[0;32m    890\u001b[0m \u001b[1;33m\u001b[0m\u001b[0m\n\u001b[1;32m--> 891\u001b[1;33m             \u001b[0mself\u001b[0m\u001b[1;33m.\u001b[0m\u001b[0m_run_search\u001b[0m\u001b[1;33m(\u001b[0m\u001b[0mevaluate_candidates\u001b[0m\u001b[1;33m)\u001b[0m\u001b[1;33m\u001b[0m\u001b[1;33m\u001b[0m\u001b[0m\n\u001b[0m\u001b[0;32m    892\u001b[0m \u001b[1;33m\u001b[0m\u001b[0m\n\u001b[0;32m    893\u001b[0m             \u001b[1;31m# multimetric is determined here because in the case of a callable\u001b[0m\u001b[1;33m\u001b[0m\u001b[1;33m\u001b[0m\u001b[1;33m\u001b[0m\u001b[0m\n",
      "\u001b[1;32m~\\anaconda3\\lib\\site-packages\\sklearn\\model_selection\\_search.py\u001b[0m in \u001b[0;36m_run_search\u001b[1;34m(self, evaluate_candidates)\u001b[0m\n\u001b[0;32m   1390\u001b[0m     \u001b[1;32mdef\u001b[0m \u001b[0m_run_search\u001b[0m\u001b[1;33m(\u001b[0m\u001b[0mself\u001b[0m\u001b[1;33m,\u001b[0m \u001b[0mevaluate_candidates\u001b[0m\u001b[1;33m)\u001b[0m\u001b[1;33m:\u001b[0m\u001b[1;33m\u001b[0m\u001b[1;33m\u001b[0m\u001b[0m\n\u001b[0;32m   1391\u001b[0m         \u001b[1;34m\"\"\"Search all candidates in param_grid\"\"\"\u001b[0m\u001b[1;33m\u001b[0m\u001b[1;33m\u001b[0m\u001b[0m\n\u001b[1;32m-> 1392\u001b[1;33m         \u001b[0mevaluate_candidates\u001b[0m\u001b[1;33m(\u001b[0m\u001b[0mParameterGrid\u001b[0m\u001b[1;33m(\u001b[0m\u001b[0mself\u001b[0m\u001b[1;33m.\u001b[0m\u001b[0mparam_grid\u001b[0m\u001b[1;33m)\u001b[0m\u001b[1;33m)\u001b[0m\u001b[1;33m\u001b[0m\u001b[1;33m\u001b[0m\u001b[0m\n\u001b[0m\u001b[0;32m   1393\u001b[0m \u001b[1;33m\u001b[0m\u001b[0m\n\u001b[0;32m   1394\u001b[0m \u001b[1;33m\u001b[0m\u001b[0m\n",
      "\u001b[1;32m~\\anaconda3\\lib\\site-packages\\sklearn\\model_selection\\_search.py\u001b[0m in \u001b[0;36mevaluate_candidates\u001b[1;34m(candidate_params, cv, more_results)\u001b[0m\n\u001b[0;32m    836\u001b[0m                     )\n\u001b[0;32m    837\u001b[0m \u001b[1;33m\u001b[0m\u001b[0m\n\u001b[1;32m--> 838\u001b[1;33m                 out = parallel(\n\u001b[0m\u001b[0;32m    839\u001b[0m                     delayed(_fit_and_score)(\n\u001b[0;32m    840\u001b[0m                         \u001b[0mclone\u001b[0m\u001b[1;33m(\u001b[0m\u001b[0mbase_estimator\u001b[0m\u001b[1;33m)\u001b[0m\u001b[1;33m,\u001b[0m\u001b[1;33m\u001b[0m\u001b[1;33m\u001b[0m\u001b[0m\n",
      "\u001b[1;32m~\\anaconda3\\lib\\site-packages\\joblib\\parallel.py\u001b[0m in \u001b[0;36m__call__\u001b[1;34m(self, iterable)\u001b[0m\n\u001b[0;32m   1042\u001b[0m                 \u001b[0mself\u001b[0m\u001b[1;33m.\u001b[0m\u001b[0m_iterating\u001b[0m \u001b[1;33m=\u001b[0m \u001b[0mself\u001b[0m\u001b[1;33m.\u001b[0m\u001b[0m_original_iterator\u001b[0m \u001b[1;32mis\u001b[0m \u001b[1;32mnot\u001b[0m \u001b[1;32mNone\u001b[0m\u001b[1;33m\u001b[0m\u001b[1;33m\u001b[0m\u001b[0m\n\u001b[0;32m   1043\u001b[0m \u001b[1;33m\u001b[0m\u001b[0m\n\u001b[1;32m-> 1044\u001b[1;33m             \u001b[1;32mwhile\u001b[0m \u001b[0mself\u001b[0m\u001b[1;33m.\u001b[0m\u001b[0mdispatch_one_batch\u001b[0m\u001b[1;33m(\u001b[0m\u001b[0miterator\u001b[0m\u001b[1;33m)\u001b[0m\u001b[1;33m:\u001b[0m\u001b[1;33m\u001b[0m\u001b[1;33m\u001b[0m\u001b[0m\n\u001b[0m\u001b[0;32m   1045\u001b[0m                 \u001b[1;32mpass\u001b[0m\u001b[1;33m\u001b[0m\u001b[1;33m\u001b[0m\u001b[0m\n\u001b[0;32m   1046\u001b[0m \u001b[1;33m\u001b[0m\u001b[0m\n",
      "\u001b[1;32m~\\anaconda3\\lib\\site-packages\\joblib\\parallel.py\u001b[0m in \u001b[0;36mdispatch_one_batch\u001b[1;34m(self, iterator)\u001b[0m\n\u001b[0;32m    857\u001b[0m                 \u001b[1;32mreturn\u001b[0m \u001b[1;32mFalse\u001b[0m\u001b[1;33m\u001b[0m\u001b[1;33m\u001b[0m\u001b[0m\n\u001b[0;32m    858\u001b[0m             \u001b[1;32melse\u001b[0m\u001b[1;33m:\u001b[0m\u001b[1;33m\u001b[0m\u001b[1;33m\u001b[0m\u001b[0m\n\u001b[1;32m--> 859\u001b[1;33m                 \u001b[0mself\u001b[0m\u001b[1;33m.\u001b[0m\u001b[0m_dispatch\u001b[0m\u001b[1;33m(\u001b[0m\u001b[0mtasks\u001b[0m\u001b[1;33m)\u001b[0m\u001b[1;33m\u001b[0m\u001b[1;33m\u001b[0m\u001b[0m\n\u001b[0m\u001b[0;32m    860\u001b[0m                 \u001b[1;32mreturn\u001b[0m \u001b[1;32mTrue\u001b[0m\u001b[1;33m\u001b[0m\u001b[1;33m\u001b[0m\u001b[0m\n\u001b[0;32m    861\u001b[0m \u001b[1;33m\u001b[0m\u001b[0m\n",
      "\u001b[1;32m~\\anaconda3\\lib\\site-packages\\joblib\\parallel.py\u001b[0m in \u001b[0;36m_dispatch\u001b[1;34m(self, batch)\u001b[0m\n\u001b[0;32m    775\u001b[0m         \u001b[1;32mwith\u001b[0m \u001b[0mself\u001b[0m\u001b[1;33m.\u001b[0m\u001b[0m_lock\u001b[0m\u001b[1;33m:\u001b[0m\u001b[1;33m\u001b[0m\u001b[1;33m\u001b[0m\u001b[0m\n\u001b[0;32m    776\u001b[0m             \u001b[0mjob_idx\u001b[0m \u001b[1;33m=\u001b[0m \u001b[0mlen\u001b[0m\u001b[1;33m(\u001b[0m\u001b[0mself\u001b[0m\u001b[1;33m.\u001b[0m\u001b[0m_jobs\u001b[0m\u001b[1;33m)\u001b[0m\u001b[1;33m\u001b[0m\u001b[1;33m\u001b[0m\u001b[0m\n\u001b[1;32m--> 777\u001b[1;33m             \u001b[0mjob\u001b[0m \u001b[1;33m=\u001b[0m \u001b[0mself\u001b[0m\u001b[1;33m.\u001b[0m\u001b[0m_backend\u001b[0m\u001b[1;33m.\u001b[0m\u001b[0mapply_async\u001b[0m\u001b[1;33m(\u001b[0m\u001b[0mbatch\u001b[0m\u001b[1;33m,\u001b[0m \u001b[0mcallback\u001b[0m\u001b[1;33m=\u001b[0m\u001b[0mcb\u001b[0m\u001b[1;33m)\u001b[0m\u001b[1;33m\u001b[0m\u001b[1;33m\u001b[0m\u001b[0m\n\u001b[0m\u001b[0;32m    778\u001b[0m             \u001b[1;31m# A job can complete so quickly than its callback is\u001b[0m\u001b[1;33m\u001b[0m\u001b[1;33m\u001b[0m\u001b[1;33m\u001b[0m\u001b[0m\n\u001b[0;32m    779\u001b[0m             \u001b[1;31m# called before we get here, causing self._jobs to\u001b[0m\u001b[1;33m\u001b[0m\u001b[1;33m\u001b[0m\u001b[1;33m\u001b[0m\u001b[0m\n",
      "\u001b[1;32m~\\anaconda3\\lib\\site-packages\\joblib\\_parallel_backends.py\u001b[0m in \u001b[0;36mapply_async\u001b[1;34m(self, func, callback)\u001b[0m\n\u001b[0;32m    206\u001b[0m     \u001b[1;32mdef\u001b[0m \u001b[0mapply_async\u001b[0m\u001b[1;33m(\u001b[0m\u001b[0mself\u001b[0m\u001b[1;33m,\u001b[0m \u001b[0mfunc\u001b[0m\u001b[1;33m,\u001b[0m \u001b[0mcallback\u001b[0m\u001b[1;33m=\u001b[0m\u001b[1;32mNone\u001b[0m\u001b[1;33m)\u001b[0m\u001b[1;33m:\u001b[0m\u001b[1;33m\u001b[0m\u001b[1;33m\u001b[0m\u001b[0m\n\u001b[0;32m    207\u001b[0m         \u001b[1;34m\"\"\"Schedule a func to be run\"\"\"\u001b[0m\u001b[1;33m\u001b[0m\u001b[1;33m\u001b[0m\u001b[0m\n\u001b[1;32m--> 208\u001b[1;33m         \u001b[0mresult\u001b[0m \u001b[1;33m=\u001b[0m \u001b[0mImmediateResult\u001b[0m\u001b[1;33m(\u001b[0m\u001b[0mfunc\u001b[0m\u001b[1;33m)\u001b[0m\u001b[1;33m\u001b[0m\u001b[1;33m\u001b[0m\u001b[0m\n\u001b[0m\u001b[0;32m    209\u001b[0m         \u001b[1;32mif\u001b[0m \u001b[0mcallback\u001b[0m\u001b[1;33m:\u001b[0m\u001b[1;33m\u001b[0m\u001b[1;33m\u001b[0m\u001b[0m\n\u001b[0;32m    210\u001b[0m             \u001b[0mcallback\u001b[0m\u001b[1;33m(\u001b[0m\u001b[0mresult\u001b[0m\u001b[1;33m)\u001b[0m\u001b[1;33m\u001b[0m\u001b[1;33m\u001b[0m\u001b[0m\n",
      "\u001b[1;32m~\\anaconda3\\lib\\site-packages\\joblib\\_parallel_backends.py\u001b[0m in \u001b[0;36m__init__\u001b[1;34m(self, batch)\u001b[0m\n\u001b[0;32m    570\u001b[0m         \u001b[1;31m# Don't delay the application, to avoid keeping the input\u001b[0m\u001b[1;33m\u001b[0m\u001b[1;33m\u001b[0m\u001b[1;33m\u001b[0m\u001b[0m\n\u001b[0;32m    571\u001b[0m         \u001b[1;31m# arguments in memory\u001b[0m\u001b[1;33m\u001b[0m\u001b[1;33m\u001b[0m\u001b[1;33m\u001b[0m\u001b[0m\n\u001b[1;32m--> 572\u001b[1;33m         \u001b[0mself\u001b[0m\u001b[1;33m.\u001b[0m\u001b[0mresults\u001b[0m \u001b[1;33m=\u001b[0m \u001b[0mbatch\u001b[0m\u001b[1;33m(\u001b[0m\u001b[1;33m)\u001b[0m\u001b[1;33m\u001b[0m\u001b[1;33m\u001b[0m\u001b[0m\n\u001b[0m\u001b[0;32m    573\u001b[0m \u001b[1;33m\u001b[0m\u001b[0m\n\u001b[0;32m    574\u001b[0m     \u001b[1;32mdef\u001b[0m \u001b[0mget\u001b[0m\u001b[1;33m(\u001b[0m\u001b[0mself\u001b[0m\u001b[1;33m)\u001b[0m\u001b[1;33m:\u001b[0m\u001b[1;33m\u001b[0m\u001b[1;33m\u001b[0m\u001b[0m\n",
      "\u001b[1;32m~\\anaconda3\\lib\\site-packages\\joblib\\parallel.py\u001b[0m in \u001b[0;36m__call__\u001b[1;34m(self)\u001b[0m\n\u001b[0;32m    260\u001b[0m         \u001b[1;31m# change the default number of processes to -1\u001b[0m\u001b[1;33m\u001b[0m\u001b[1;33m\u001b[0m\u001b[1;33m\u001b[0m\u001b[0m\n\u001b[0;32m    261\u001b[0m         \u001b[1;32mwith\u001b[0m \u001b[0mparallel_backend\u001b[0m\u001b[1;33m(\u001b[0m\u001b[0mself\u001b[0m\u001b[1;33m.\u001b[0m\u001b[0m_backend\u001b[0m\u001b[1;33m,\u001b[0m \u001b[0mn_jobs\u001b[0m\u001b[1;33m=\u001b[0m\u001b[0mself\u001b[0m\u001b[1;33m.\u001b[0m\u001b[0m_n_jobs\u001b[0m\u001b[1;33m)\u001b[0m\u001b[1;33m:\u001b[0m\u001b[1;33m\u001b[0m\u001b[1;33m\u001b[0m\u001b[0m\n\u001b[1;32m--> 262\u001b[1;33m             return [func(*args, **kwargs)\n\u001b[0m\u001b[0;32m    263\u001b[0m                     for func, args, kwargs in self.items]\n\u001b[0;32m    264\u001b[0m \u001b[1;33m\u001b[0m\u001b[0m\n",
      "\u001b[1;32m~\\anaconda3\\lib\\site-packages\\joblib\\parallel.py\u001b[0m in \u001b[0;36m<listcomp>\u001b[1;34m(.0)\u001b[0m\n\u001b[0;32m    260\u001b[0m         \u001b[1;31m# change the default number of processes to -1\u001b[0m\u001b[1;33m\u001b[0m\u001b[1;33m\u001b[0m\u001b[1;33m\u001b[0m\u001b[0m\n\u001b[0;32m    261\u001b[0m         \u001b[1;32mwith\u001b[0m \u001b[0mparallel_backend\u001b[0m\u001b[1;33m(\u001b[0m\u001b[0mself\u001b[0m\u001b[1;33m.\u001b[0m\u001b[0m_backend\u001b[0m\u001b[1;33m,\u001b[0m \u001b[0mn_jobs\u001b[0m\u001b[1;33m=\u001b[0m\u001b[0mself\u001b[0m\u001b[1;33m.\u001b[0m\u001b[0m_n_jobs\u001b[0m\u001b[1;33m)\u001b[0m\u001b[1;33m:\u001b[0m\u001b[1;33m\u001b[0m\u001b[1;33m\u001b[0m\u001b[0m\n\u001b[1;32m--> 262\u001b[1;33m             return [func(*args, **kwargs)\n\u001b[0m\u001b[0;32m    263\u001b[0m                     for func, args, kwargs in self.items]\n\u001b[0;32m    264\u001b[0m \u001b[1;33m\u001b[0m\u001b[0m\n",
      "\u001b[1;32m~\\anaconda3\\lib\\site-packages\\sklearn\\utils\\fixes.py\u001b[0m in \u001b[0;36m__call__\u001b[1;34m(self, *args, **kwargs)\u001b[0m\n\u001b[0;32m    214\u001b[0m     \u001b[1;32mdef\u001b[0m \u001b[0m__call__\u001b[0m\u001b[1;33m(\u001b[0m\u001b[0mself\u001b[0m\u001b[1;33m,\u001b[0m \u001b[1;33m*\u001b[0m\u001b[0margs\u001b[0m\u001b[1;33m,\u001b[0m \u001b[1;33m**\u001b[0m\u001b[0mkwargs\u001b[0m\u001b[1;33m)\u001b[0m\u001b[1;33m:\u001b[0m\u001b[1;33m\u001b[0m\u001b[1;33m\u001b[0m\u001b[0m\n\u001b[0;32m    215\u001b[0m         \u001b[1;32mwith\u001b[0m \u001b[0mconfig_context\u001b[0m\u001b[1;33m(\u001b[0m\u001b[1;33m**\u001b[0m\u001b[0mself\u001b[0m\u001b[1;33m.\u001b[0m\u001b[0mconfig\u001b[0m\u001b[1;33m)\u001b[0m\u001b[1;33m:\u001b[0m\u001b[1;33m\u001b[0m\u001b[1;33m\u001b[0m\u001b[0m\n\u001b[1;32m--> 216\u001b[1;33m             \u001b[1;32mreturn\u001b[0m \u001b[0mself\u001b[0m\u001b[1;33m.\u001b[0m\u001b[0mfunction\u001b[0m\u001b[1;33m(\u001b[0m\u001b[1;33m*\u001b[0m\u001b[0margs\u001b[0m\u001b[1;33m,\u001b[0m \u001b[1;33m**\u001b[0m\u001b[0mkwargs\u001b[0m\u001b[1;33m)\u001b[0m\u001b[1;33m\u001b[0m\u001b[1;33m\u001b[0m\u001b[0m\n\u001b[0m\u001b[0;32m    217\u001b[0m \u001b[1;33m\u001b[0m\u001b[0m\n\u001b[0;32m    218\u001b[0m \u001b[1;33m\u001b[0m\u001b[0m\n",
      "\u001b[1;32m~\\anaconda3\\lib\\site-packages\\sklearn\\model_selection\\_validation.py\u001b[0m in \u001b[0;36m_fit_and_score\u001b[1;34m(estimator, X, y, scorer, train, test, verbose, parameters, fit_params, return_train_score, return_parameters, return_n_test_samples, return_times, return_estimator, split_progress, candidate_progress, error_score)\u001b[0m\n\u001b[0;32m    678\u001b[0m             \u001b[0mestimator\u001b[0m\u001b[1;33m.\u001b[0m\u001b[0mfit\u001b[0m\u001b[1;33m(\u001b[0m\u001b[0mX_train\u001b[0m\u001b[1;33m,\u001b[0m \u001b[1;33m**\u001b[0m\u001b[0mfit_params\u001b[0m\u001b[1;33m)\u001b[0m\u001b[1;33m\u001b[0m\u001b[1;33m\u001b[0m\u001b[0m\n\u001b[0;32m    679\u001b[0m         \u001b[1;32melse\u001b[0m\u001b[1;33m:\u001b[0m\u001b[1;33m\u001b[0m\u001b[1;33m\u001b[0m\u001b[0m\n\u001b[1;32m--> 680\u001b[1;33m             \u001b[0mestimator\u001b[0m\u001b[1;33m.\u001b[0m\u001b[0mfit\u001b[0m\u001b[1;33m(\u001b[0m\u001b[0mX_train\u001b[0m\u001b[1;33m,\u001b[0m \u001b[0my_train\u001b[0m\u001b[1;33m,\u001b[0m \u001b[1;33m**\u001b[0m\u001b[0mfit_params\u001b[0m\u001b[1;33m)\u001b[0m\u001b[1;33m\u001b[0m\u001b[1;33m\u001b[0m\u001b[0m\n\u001b[0m\u001b[0;32m    681\u001b[0m \u001b[1;33m\u001b[0m\u001b[0m\n\u001b[0;32m    682\u001b[0m     \u001b[1;32mexcept\u001b[0m \u001b[0mException\u001b[0m\u001b[1;33m:\u001b[0m\u001b[1;33m\u001b[0m\u001b[1;33m\u001b[0m\u001b[0m\n",
      "\u001b[1;32m~\\anaconda3\\lib\\site-packages\\sklearn\\ensemble\\_bagging.py\u001b[0m in \u001b[0;36mfit\u001b[1;34m(self, X, y, sample_weight)\u001b[0m\n\u001b[0;32m    267\u001b[0m             \u001b[0mmulti_output\u001b[0m\u001b[1;33m=\u001b[0m\u001b[1;32mTrue\u001b[0m\u001b[1;33m,\u001b[0m\u001b[1;33m\u001b[0m\u001b[1;33m\u001b[0m\u001b[0m\n\u001b[0;32m    268\u001b[0m         )\n\u001b[1;32m--> 269\u001b[1;33m         \u001b[1;32mreturn\u001b[0m \u001b[0mself\u001b[0m\u001b[1;33m.\u001b[0m\u001b[0m_fit\u001b[0m\u001b[1;33m(\u001b[0m\u001b[0mX\u001b[0m\u001b[1;33m,\u001b[0m \u001b[0my\u001b[0m\u001b[1;33m,\u001b[0m \u001b[0mself\u001b[0m\u001b[1;33m.\u001b[0m\u001b[0mmax_samples\u001b[0m\u001b[1;33m,\u001b[0m \u001b[0msample_weight\u001b[0m\u001b[1;33m=\u001b[0m\u001b[0msample_weight\u001b[0m\u001b[1;33m)\u001b[0m\u001b[1;33m\u001b[0m\u001b[1;33m\u001b[0m\u001b[0m\n\u001b[0m\u001b[0;32m    270\u001b[0m \u001b[1;33m\u001b[0m\u001b[0m\n\u001b[0;32m    271\u001b[0m     \u001b[1;32mdef\u001b[0m \u001b[0m_parallel_args\u001b[0m\u001b[1;33m(\u001b[0m\u001b[0mself\u001b[0m\u001b[1;33m)\u001b[0m\u001b[1;33m:\u001b[0m\u001b[1;33m\u001b[0m\u001b[1;33m\u001b[0m\u001b[0m\n",
      "\u001b[1;32m~\\anaconda3\\lib\\site-packages\\sklearn\\ensemble\\_bagging.py\u001b[0m in \u001b[0;36m_fit\u001b[1;34m(self, X, y, max_samples, max_depth, sample_weight)\u001b[0m\n\u001b[0;32m    392\u001b[0m         \u001b[0mself\u001b[0m\u001b[1;33m.\u001b[0m\u001b[0m_seeds\u001b[0m \u001b[1;33m=\u001b[0m \u001b[0mseeds\u001b[0m\u001b[1;33m\u001b[0m\u001b[1;33m\u001b[0m\u001b[0m\n\u001b[0;32m    393\u001b[0m \u001b[1;33m\u001b[0m\u001b[0m\n\u001b[1;32m--> 394\u001b[1;33m         all_results = Parallel(\n\u001b[0m\u001b[0;32m    395\u001b[0m             \u001b[0mn_jobs\u001b[0m\u001b[1;33m=\u001b[0m\u001b[0mn_jobs\u001b[0m\u001b[1;33m,\u001b[0m \u001b[0mverbose\u001b[0m\u001b[1;33m=\u001b[0m\u001b[0mself\u001b[0m\u001b[1;33m.\u001b[0m\u001b[0mverbose\u001b[0m\u001b[1;33m,\u001b[0m \u001b[1;33m**\u001b[0m\u001b[0mself\u001b[0m\u001b[1;33m.\u001b[0m\u001b[0m_parallel_args\u001b[0m\u001b[1;33m(\u001b[0m\u001b[1;33m)\u001b[0m\u001b[1;33m\u001b[0m\u001b[1;33m\u001b[0m\u001b[0m\n\u001b[0;32m    396\u001b[0m         \u001b[1;33m)\u001b[0m\u001b[1;33m(\u001b[0m\u001b[1;33m\u001b[0m\u001b[1;33m\u001b[0m\u001b[0m\n",
      "\u001b[1;32m~\\anaconda3\\lib\\site-packages\\joblib\\parallel.py\u001b[0m in \u001b[0;36m__call__\u001b[1;34m(self, iterable)\u001b[0m\n\u001b[0;32m   1052\u001b[0m \u001b[1;33m\u001b[0m\u001b[0m\n\u001b[0;32m   1053\u001b[0m             \u001b[1;32mwith\u001b[0m \u001b[0mself\u001b[0m\u001b[1;33m.\u001b[0m\u001b[0m_backend\u001b[0m\u001b[1;33m.\u001b[0m\u001b[0mretrieval_context\u001b[0m\u001b[1;33m(\u001b[0m\u001b[1;33m)\u001b[0m\u001b[1;33m:\u001b[0m\u001b[1;33m\u001b[0m\u001b[1;33m\u001b[0m\u001b[0m\n\u001b[1;32m-> 1054\u001b[1;33m                 \u001b[0mself\u001b[0m\u001b[1;33m.\u001b[0m\u001b[0mretrieve\u001b[0m\u001b[1;33m(\u001b[0m\u001b[1;33m)\u001b[0m\u001b[1;33m\u001b[0m\u001b[1;33m\u001b[0m\u001b[0m\n\u001b[0m\u001b[0;32m   1055\u001b[0m             \u001b[1;31m# Make sure that we get a last message telling us we are done\u001b[0m\u001b[1;33m\u001b[0m\u001b[1;33m\u001b[0m\u001b[1;33m\u001b[0m\u001b[0m\n\u001b[0;32m   1056\u001b[0m             \u001b[0melapsed_time\u001b[0m \u001b[1;33m=\u001b[0m \u001b[0mtime\u001b[0m\u001b[1;33m.\u001b[0m\u001b[0mtime\u001b[0m\u001b[1;33m(\u001b[0m\u001b[1;33m)\u001b[0m \u001b[1;33m-\u001b[0m \u001b[0mself\u001b[0m\u001b[1;33m.\u001b[0m\u001b[0m_start_time\u001b[0m\u001b[1;33m\u001b[0m\u001b[1;33m\u001b[0m\u001b[0m\n",
      "\u001b[1;32m~\\anaconda3\\lib\\site-packages\\joblib\\parallel.py\u001b[0m in \u001b[0;36mretrieve\u001b[1;34m(self)\u001b[0m\n\u001b[0;32m    931\u001b[0m             \u001b[1;32mtry\u001b[0m\u001b[1;33m:\u001b[0m\u001b[1;33m\u001b[0m\u001b[1;33m\u001b[0m\u001b[0m\n\u001b[0;32m    932\u001b[0m                 \u001b[1;32mif\u001b[0m \u001b[0mgetattr\u001b[0m\u001b[1;33m(\u001b[0m\u001b[0mself\u001b[0m\u001b[1;33m.\u001b[0m\u001b[0m_backend\u001b[0m\u001b[1;33m,\u001b[0m \u001b[1;34m'supports_timeout'\u001b[0m\u001b[1;33m,\u001b[0m \u001b[1;32mFalse\u001b[0m\u001b[1;33m)\u001b[0m\u001b[1;33m:\u001b[0m\u001b[1;33m\u001b[0m\u001b[1;33m\u001b[0m\u001b[0m\n\u001b[1;32m--> 933\u001b[1;33m                     \u001b[0mself\u001b[0m\u001b[1;33m.\u001b[0m\u001b[0m_output\u001b[0m\u001b[1;33m.\u001b[0m\u001b[0mextend\u001b[0m\u001b[1;33m(\u001b[0m\u001b[0mjob\u001b[0m\u001b[1;33m.\u001b[0m\u001b[0mget\u001b[0m\u001b[1;33m(\u001b[0m\u001b[0mtimeout\u001b[0m\u001b[1;33m=\u001b[0m\u001b[0mself\u001b[0m\u001b[1;33m.\u001b[0m\u001b[0mtimeout\u001b[0m\u001b[1;33m)\u001b[0m\u001b[1;33m)\u001b[0m\u001b[1;33m\u001b[0m\u001b[1;33m\u001b[0m\u001b[0m\n\u001b[0m\u001b[0;32m    934\u001b[0m                 \u001b[1;32melse\u001b[0m\u001b[1;33m:\u001b[0m\u001b[1;33m\u001b[0m\u001b[1;33m\u001b[0m\u001b[0m\n\u001b[0;32m    935\u001b[0m                     \u001b[0mself\u001b[0m\u001b[1;33m.\u001b[0m\u001b[0m_output\u001b[0m\u001b[1;33m.\u001b[0m\u001b[0mextend\u001b[0m\u001b[1;33m(\u001b[0m\u001b[0mjob\u001b[0m\u001b[1;33m.\u001b[0m\u001b[0mget\u001b[0m\u001b[1;33m(\u001b[0m\u001b[1;33m)\u001b[0m\u001b[1;33m)\u001b[0m\u001b[1;33m\u001b[0m\u001b[1;33m\u001b[0m\u001b[0m\n",
      "\u001b[1;32m~\\anaconda3\\lib\\site-packages\\joblib\\_parallel_backends.py\u001b[0m in \u001b[0;36mwrap_future_result\u001b[1;34m(future, timeout)\u001b[0m\n\u001b[0;32m    540\u001b[0m         AsyncResults.get from multiprocessing.\"\"\"\n\u001b[0;32m    541\u001b[0m         \u001b[1;32mtry\u001b[0m\u001b[1;33m:\u001b[0m\u001b[1;33m\u001b[0m\u001b[1;33m\u001b[0m\u001b[0m\n\u001b[1;32m--> 542\u001b[1;33m             \u001b[1;32mreturn\u001b[0m \u001b[0mfuture\u001b[0m\u001b[1;33m.\u001b[0m\u001b[0mresult\u001b[0m\u001b[1;33m(\u001b[0m\u001b[0mtimeout\u001b[0m\u001b[1;33m=\u001b[0m\u001b[0mtimeout\u001b[0m\u001b[1;33m)\u001b[0m\u001b[1;33m\u001b[0m\u001b[1;33m\u001b[0m\u001b[0m\n\u001b[0m\u001b[0;32m    543\u001b[0m         \u001b[1;32mexcept\u001b[0m \u001b[0mCfTimeoutError\u001b[0m \u001b[1;32mas\u001b[0m \u001b[0me\u001b[0m\u001b[1;33m:\u001b[0m\u001b[1;33m\u001b[0m\u001b[1;33m\u001b[0m\u001b[0m\n\u001b[0;32m    544\u001b[0m             \u001b[1;32mraise\u001b[0m \u001b[0mTimeoutError\u001b[0m \u001b[1;32mfrom\u001b[0m \u001b[0me\u001b[0m\u001b[1;33m\u001b[0m\u001b[1;33m\u001b[0m\u001b[0m\n",
      "\u001b[1;32m~\\anaconda3\\lib\\concurrent\\futures\\_base.py\u001b[0m in \u001b[0;36mresult\u001b[1;34m(self, timeout)\u001b[0m\n\u001b[0;32m    432\u001b[0m                 \u001b[1;32mreturn\u001b[0m \u001b[0mself\u001b[0m\u001b[1;33m.\u001b[0m\u001b[0m__get_result\u001b[0m\u001b[1;33m(\u001b[0m\u001b[1;33m)\u001b[0m\u001b[1;33m\u001b[0m\u001b[1;33m\u001b[0m\u001b[0m\n\u001b[0;32m    433\u001b[0m \u001b[1;33m\u001b[0m\u001b[0m\n\u001b[1;32m--> 434\u001b[1;33m             \u001b[0mself\u001b[0m\u001b[1;33m.\u001b[0m\u001b[0m_condition\u001b[0m\u001b[1;33m.\u001b[0m\u001b[0mwait\u001b[0m\u001b[1;33m(\u001b[0m\u001b[0mtimeout\u001b[0m\u001b[1;33m)\u001b[0m\u001b[1;33m\u001b[0m\u001b[1;33m\u001b[0m\u001b[0m\n\u001b[0m\u001b[0;32m    435\u001b[0m \u001b[1;33m\u001b[0m\u001b[0m\n\u001b[0;32m    436\u001b[0m             \u001b[1;32mif\u001b[0m \u001b[0mself\u001b[0m\u001b[1;33m.\u001b[0m\u001b[0m_state\u001b[0m \u001b[1;32min\u001b[0m \u001b[1;33m[\u001b[0m\u001b[0mCANCELLED\u001b[0m\u001b[1;33m,\u001b[0m \u001b[0mCANCELLED_AND_NOTIFIED\u001b[0m\u001b[1;33m]\u001b[0m\u001b[1;33m:\u001b[0m\u001b[1;33m\u001b[0m\u001b[1;33m\u001b[0m\u001b[0m\n",
      "\u001b[1;32m~\\anaconda3\\lib\\threading.py\u001b[0m in \u001b[0;36mwait\u001b[1;34m(self, timeout)\u001b[0m\n\u001b[0;32m    300\u001b[0m         \u001b[1;32mtry\u001b[0m\u001b[1;33m:\u001b[0m    \u001b[1;31m# restore state no matter what (e.g., KeyboardInterrupt)\u001b[0m\u001b[1;33m\u001b[0m\u001b[1;33m\u001b[0m\u001b[0m\n\u001b[0;32m    301\u001b[0m             \u001b[1;32mif\u001b[0m \u001b[0mtimeout\u001b[0m \u001b[1;32mis\u001b[0m \u001b[1;32mNone\u001b[0m\u001b[1;33m:\u001b[0m\u001b[1;33m\u001b[0m\u001b[1;33m\u001b[0m\u001b[0m\n\u001b[1;32m--> 302\u001b[1;33m                 \u001b[0mwaiter\u001b[0m\u001b[1;33m.\u001b[0m\u001b[0macquire\u001b[0m\u001b[1;33m(\u001b[0m\u001b[1;33m)\u001b[0m\u001b[1;33m\u001b[0m\u001b[1;33m\u001b[0m\u001b[0m\n\u001b[0m\u001b[0;32m    303\u001b[0m                 \u001b[0mgotit\u001b[0m \u001b[1;33m=\u001b[0m \u001b[1;32mTrue\u001b[0m\u001b[1;33m\u001b[0m\u001b[1;33m\u001b[0m\u001b[0m\n\u001b[0;32m    304\u001b[0m             \u001b[1;32melse\u001b[0m\u001b[1;33m:\u001b[0m\u001b[1;33m\u001b[0m\u001b[1;33m\u001b[0m\u001b[0m\n",
      "\u001b[1;31mKeyboardInterrupt\u001b[0m: "
     ]
    }
   ],
   "source": [
    "bagging = BaggingClassifier(base_estimator=des_tree,n_jobs=-1)\n",
    "bag_param = {\n",
    "    'n_estimators':[10,50,100,200,300],\n",
    "    'max_samples':[0.3,0.5,0.7,0.9],\n",
    "    'max_features':[0.3,0.5,0.7,0.9]\n",
    "}\n",
    "cv=RepeatedStratifiedKFold(n_splits=5, n_repeats=2)\n",
    "start_time = timer(None)\n",
    "grid_search = GridSearchCV(bagging,param_grid=bag_param,cv=cv,error_score=0,scoring='f1',verbose=3)\n",
    "result = grid_search.fit(overed_X,overed_y)\n",
    "timer(start_time)"
   ]
  },
  {
   "cell_type": "code",
   "execution_count": 448,
   "id": "5f3c36c4",
   "metadata": {
    "scrolled": false
   },
   "outputs": [
    {
     "name": "stdout",
     "output_type": "stream",
     "text": [
      "{'max_features': 0.7, 'max_samples': 0.9, 'n_estimators': 300}\n",
      "\n",
      "정확도: 0.7464\n",
      "정밀도: 0.7148\n",
      "재현율: 0.3688\n",
      "AUC: 0.6488\n",
      "F1: 0.4865\n"
     ]
    },
    {
     "data": {
      "image/png": "[encoded data removed]",
      "text/plain": [
       "<Figure size 432x288 with 2 Axes>"
      ]
     },
     "metadata": {
      "needs_background": "light"
     },
     "output_type": "display_data"
    }
   ],
   "source": [
    "print(result.best_params_)\n",
    "bagging = result.best_estimator_\n",
    "bagging.fit(X_train,y_train)\n",
    "y_pred_normal = bagging.predict(X_valid)\n",
    "get_clf_eval(y_valid,y_pred_normal)"
   ]
  },
  {
   "cell_type": "code",
   "execution_count": 253,
   "id": "85200474",
   "metadata": {},
   "outputs": [
    {
     "data": {
      "image/png": "[encoded data removed]",
      "text/plain": [
       "<Figure size 432x288 with 1 Axes>"
      ]
     },
     "metadata": {
      "needs_background": "light"
     },
     "output_type": "display_data"
    },
    {
     "name": "stdout",
     "output_type": "stream",
     "text": [
      "(0.3199999999999999, 0.6351893654376723)\n"
     ]
    }
   ],
   "source": [
    "Threshold_tuing(bagging)"
   ]
  },
  {
   "cell_type": "code",
   "execution_count": 450,
   "id": "aa90819f",
   "metadata": {},
   "outputs": [],
   "source": [
    "with open('../bagging.pkl','wb') as file:\n",
    "    pickle.dump(bagging,file)"
   ]
  },
  {
   "cell_type": "code",
   "execution_count": 23,
   "id": "c83ced8a",
   "metadata": {},
   "outputs": [],
   "source": [
    "with open('./저장모델/bagging.pkl','rb') as f:\n",
    "    bagging = pickle.load(f)"
   ]
  },
  {
   "cell_type": "markdown",
   "id": "972e73c3",
   "metadata": {},
   "source": [
    "# AdaBoostClassifier"
   ]
  },
  {
   "cell_type": "code",
   "execution_count": 16,
   "id": "287351b1",
   "metadata": {
    "scrolled": true
   },
   "outputs": [
    {
     "name": "stdout",
     "output_type": "stream",
     "text": [
      "Fitting 10 folds for each of 9 candidates, totalling 90 fits\n",
      "[CV 1/10] END learning_rate=0.1, n_estimators=50;, score=0.798 total time= 1.8min\n",
      "[CV 2/10] END learning_rate=0.1, n_estimators=50;, score=0.794 total time= 1.8min\n",
      "[CV 3/10] END learning_rate=0.1, n_estimators=50;, score=0.790 total time= 1.8min\n",
      "[CV 4/10] END learning_rate=0.1, n_estimators=50;, score=0.797 total time= 1.7min\n",
      "[CV 5/10] END learning_rate=0.1, n_estimators=50;, score=0.799 total time= 1.8min\n",
      "[CV 6/10] END learning_rate=0.1, n_estimators=50;, score=0.799 total time= 1.8min\n",
      "[CV 7/10] END learning_rate=0.1, n_estimators=50;, score=0.795 total time= 1.9min\n",
      "[CV 8/10] END learning_rate=0.1, n_estimators=50;, score=0.801 total time= 1.7min\n",
      "[CV 9/10] END learning_rate=0.1, n_estimators=50;, score=0.788 total time= 1.8min\n",
      "[CV 10/10] END learning_rate=0.1, n_estimators=50;, score=0.802 total time= 1.7min\n",
      "[CV 1/10] END learning_rate=0.1, n_estimators=100;, score=0.802 total time= 3.9min\n",
      "[CV 2/10] END learning_rate=0.1, n_estimators=100;, score=0.806 total time= 3.5min\n",
      "[CV 3/10] END learning_rate=0.1, n_estimators=100;, score=0.803 total time= 3.7min\n",
      "[CV 4/10] END learning_rate=0.1, n_estimators=100;, score=0.795 total time= 3.7min\n",
      "[CV 5/10] END learning_rate=0.1, n_estimators=100;, score=0.813 total time= 3.3min\n",
      "[CV 6/10] END learning_rate=0.1, n_estimators=100;, score=0.804 total time= 3.5min\n",
      "[CV 7/10] END learning_rate=0.1, n_estimators=100;, score=0.800 total time= 3.5min\n",
      "[CV 8/10] END learning_rate=0.1, n_estimators=100;, score=0.800 total time= 3.4min\n",
      "[CV 9/10] END learning_rate=0.1, n_estimators=100;, score=0.801 total time= 3.6min\n",
      "[CV 10/10] END learning_rate=0.1, n_estimators=100;, score=0.803 total time= 3.6min\n",
      "[CV 1/10] END learning_rate=0.1, n_estimators=200;, score=0.813 total time= 7.3min\n",
      "[CV 2/10] END learning_rate=0.1, n_estimators=200;, score=0.807 total time= 7.0min\n",
      "[CV 3/10] END learning_rate=0.1, n_estimators=200;, score=0.808 total time= 6.7min\n",
      "[CV 4/10] END learning_rate=0.1, n_estimators=200;, score=0.809 total time= 7.3min\n",
      "[CV 5/10] END learning_rate=0.1, n_estimators=200;, score=0.817 total time= 7.2min\n",
      "[CV 6/10] END learning_rate=0.1, n_estimators=200;, score=0.813 total time= 7.1min\n",
      "[CV 7/10] END learning_rate=0.1, n_estimators=200;, score=0.810 total time= 7.3min\n",
      "[CV 8/10] END learning_rate=0.1, n_estimators=200;, score=0.812 total time= 7.9min\n",
      "[CV 9/10] END learning_rate=0.1, n_estimators=200;, score=0.806 total time= 7.7min\n",
      "[CV 10/10] END learning_rate=0.1, n_estimators=200;, score=0.808 total time= 8.1min\n",
      "[CV 1/10] END learning_rate=0.5, n_estimators=50;, score=0.793 total time= 2.0min\n",
      "[CV 2/10] END learning_rate=0.5, n_estimators=50;, score=0.791 total time= 2.1min\n",
      "[CV 3/10] END learning_rate=0.5, n_estimators=50;, score=0.784 total time= 2.1min\n",
      "[CV 4/10] END learning_rate=0.5, n_estimators=50;, score=0.786 total time= 2.0min\n",
      "[CV 5/10] END learning_rate=0.5, n_estimators=50;, score=0.793 total time= 2.1min\n",
      "[CV 6/10] END learning_rate=0.5, n_estimators=50;, score=0.793 total time= 2.1min\n",
      "[CV 7/10] END learning_rate=0.5, n_estimators=50;, score=0.791 total time= 2.0min\n",
      "[CV 8/10] END learning_rate=0.5, n_estimators=50;, score=0.789 total time= 2.1min\n",
      "[CV 9/10] END learning_rate=0.5, n_estimators=50;, score=0.789 total time= 2.1min\n",
      "[CV 10/10] END learning_rate=0.5, n_estimators=50;, score=0.792 total time= 2.1min\n",
      "[CV 1/10] END learning_rate=0.5, n_estimators=100;, score=0.802 total time= 4.2min\n",
      "[CV 2/10] END learning_rate=0.5, n_estimators=100;, score=0.798 total time= 4.2min\n",
      "[CV 3/10] END learning_rate=0.5, n_estimators=100;, score=0.795 total time= 4.3min\n",
      "[CV 4/10] END learning_rate=0.5, n_estimators=100;, score=0.798 total time= 4.4min\n",
      "[CV 5/10] END learning_rate=0.5, n_estimators=100;, score=0.804 total time= 4.2min\n",
      "[CV 6/10] END learning_rate=0.5, n_estimators=100;, score=0.804 total time= 4.2min\n",
      "[CV 7/10] END learning_rate=0.5, n_estimators=100;, score=0.798 total time= 4.3min\n",
      "[CV 8/10] END learning_rate=0.5, n_estimators=100;, score=0.801 total time= 4.2min\n",
      "[CV 9/10] END learning_rate=0.5, n_estimators=100;, score=0.797 total time= 4.2min\n",
      "[CV 10/10] END learning_rate=0.5, n_estimators=100;, score=0.797 total time= 4.2min\n",
      "[CV 1/10] END learning_rate=0.5, n_estimators=200;, score=0.810 total time= 8.2min\n",
      "[CV 2/10] END learning_rate=0.5, n_estimators=200;, score=0.805 total time= 8.6min\n",
      "[CV 3/10] END learning_rate=0.5, n_estimators=200;, score=0.805 total time= 8.2min\n",
      "[CV 4/10] END learning_rate=0.5, n_estimators=200;, score=0.806 total time= 8.3min\n",
      "[CV 5/10] END learning_rate=0.5, n_estimators=200;, score=0.809 total time= 8.7min\n",
      "[CV 6/10] END learning_rate=0.5, n_estimators=200;, score=0.810 total time= 8.5min\n",
      "[CV 7/10] END learning_rate=0.5, n_estimators=200;, score=0.803 total time= 8.1min\n",
      "[CV 8/10] END learning_rate=0.5, n_estimators=200;, score=0.806 total time= 8.0min\n",
      "[CV 9/10] END learning_rate=0.5, n_estimators=200;, score=0.807 total time= 7.8min\n",
      "[CV 10/10] END learning_rate=0.5, n_estimators=200;, score=0.809 total time= 7.5min\n",
      "[CV 1/10] END .learning_rate=1, n_estimators=50;, score=0.783 total time= 1.8min\n",
      "[CV 2/10] END .learning_rate=1, n_estimators=50;, score=0.781 total time= 1.8min\n",
      "[CV 3/10] END .learning_rate=1, n_estimators=50;, score=0.777 total time= 1.8min\n",
      "[CV 4/10] END .learning_rate=1, n_estimators=50;, score=0.781 total time= 1.8min\n",
      "[CV 5/10] END .learning_rate=1, n_estimators=50;, score=0.785 total time= 1.8min\n",
      "[CV 6/10] END .learning_rate=1, n_estimators=50;, score=0.783 total time= 1.8min\n",
      "[CV 7/10] END .learning_rate=1, n_estimators=50;, score=0.780 total time= 1.8min\n",
      "[CV 8/10] END .learning_rate=1, n_estimators=50;, score=0.781 total time= 1.8min\n",
      "[CV 9/10] END .learning_rate=1, n_estimators=50;, score=0.781 total time= 1.8min\n",
      "[CV 10/10] END learning_rate=1, n_estimators=50;, score=0.782 total time= 1.8min\n",
      "[CV 1/10] END learning_rate=1, n_estimators=100;, score=0.795 total time= 3.7min\n",
      "[CV 2/10] END learning_rate=1, n_estimators=100;, score=0.797 total time= 3.7min\n",
      "[CV 3/10] END learning_rate=1, n_estimators=100;, score=0.791 total time= 3.7min\n",
      "[CV 4/10] END learning_rate=1, n_estimators=100;, score=0.798 total time= 3.7min\n",
      "[CV 5/10] END learning_rate=1, n_estimators=100;, score=0.793 total time= 3.7min\n",
      "[CV 6/10] END learning_rate=1, n_estimators=100;, score=0.794 total time= 3.7min\n",
      "[CV 7/10] END learning_rate=1, n_estimators=100;, score=0.798 total time= 3.6min\n",
      "[CV 8/10] END learning_rate=1, n_estimators=100;, score=0.795 total time= 3.6min\n",
      "[CV 9/10] END learning_rate=1, n_estimators=100;, score=0.792 total time= 3.7min\n",
      "[CV 10/10] END learning_rate=1, n_estimators=100;, score=0.795 total time= 3.6min\n",
      "[CV 1/10] END learning_rate=1, n_estimators=200;, score=0.808 total time= 7.1min\n",
      "[CV 2/10] END learning_rate=1, n_estimators=200;, score=0.802 total time= 7.2min\n",
      "[CV 3/10] END learning_rate=1, n_estimators=200;, score=0.798 total time= 7.3min\n",
      "[CV 4/10] END learning_rate=1, n_estimators=200;, score=0.804 total time= 7.4min\n",
      "[CV 5/10] END learning_rate=1, n_estimators=200;, score=0.809 total time= 7.2min\n",
      "[CV 6/10] END learning_rate=1, n_estimators=200;, score=0.810 total time= 7.3min\n",
      "[CV 7/10] END learning_rate=1, n_estimators=200;, score=0.806 total time= 7.3min\n",
      "[CV 8/10] END learning_rate=1, n_estimators=200;, score=0.807 total time= 7.1min\n",
      "[CV 9/10] END learning_rate=1, n_estimators=200;, score=0.803 total time= 7.3min\n",
      "[CV 10/10] END learning_rate=1, n_estimators=200;, score=0.803 total time= 7.2min\n",
      "\n",
      " Time taken: 6 hours 49 minutes and 10.84 seconds.\n"
     ]
    }
   ],
   "source": [
    "adaboost = AdaBoostClassifier(base_estimator=des_tree)\n",
    "ada_param = {\n",
    "    'n_estimators':[50,100,200],\n",
    "    'learning_rate':[0.1,0.5,1]\n",
    "}\n",
    "cv=RepeatedStratifiedKFold(n_splits=5, n_repeats=2)\n",
    "start_time = timer(None)\n",
    "grid_search = GridSearchCV(adaboost,param_grid=ada_param,cv=cv,error_score=0,scoring='f1',verbose=3)\n",
    "result = grid_search.fit(overed_X,overed_y)\n",
    "timer(start_time)"
   ]
  },
  {
   "cell_type": "code",
   "execution_count": 23,
   "id": "8e903edb",
   "metadata": {
    "scrolled": true
   },
   "outputs": [
    {
     "name": "stdout",
     "output_type": "stream",
     "text": [
      "{'learning_rate': 0.1, 'n_estimators': 200}\n",
      "\n",
      "정확도: 0.7356\n",
      "정밀도: 0.6385\n",
      "재현율: 0.4340\n",
      "AUC: 0.6576\n",
      "F1: 0.5168\n"
     ]
    },
    {
     "data": {
      "image/png": "[encoded data removed]",
      "text/plain": [
       "<Figure size 432x288 with 2 Axes>"
      ]
     },
     "metadata": {
      "needs_background": "light"
     },
     "output_type": "display_data"
    }
   ],
   "source": [
    "print(result.best_params_)\n",
    "adaboost = result.best_estimator_\n",
    "adaboost.fit(X_train,y_train)\n",
    "y_pred_normal = adaboost.predict(X_valid)\n",
    "get_clf_eval(y_valid,y_pred_normal)"
   ]
  },
  {
   "cell_type": "code",
   "execution_count": 255,
   "id": "45921945",
   "metadata": {},
   "outputs": [
    {
     "data": {
      "image/png": "[encoded data removed]",
      "text/plain": [
       "<Figure size 432x288 with 1 Axes>"
      ]
     },
     "metadata": {
      "needs_background": "light"
     },
     "output_type": "display_data"
    },
    {
     "name": "stdout",
     "output_type": "stream",
     "text": [
      "(0.11, 0.6080231996133397)\n"
     ]
    }
   ],
   "source": [
    "Threshold_tuing(Adaboost)"
   ]
  },
  {
   "cell_type": "code",
   "execution_count": 27,
   "id": "62ab4d05",
   "metadata": {},
   "outputs": [],
   "source": [
    "with open('./저장모델/adaboost.pkl','wb') as file:\n",
    "    pickle.dump(adaboost,file)"
   ]
  },
  {
   "cell_type": "code",
   "execution_count": 24,
   "id": "f9a06e92",
   "metadata": {},
   "outputs": [],
   "source": [
    "with open('./저장모델/adaboost.pkl','rb') as f:\n",
    "    Adaboost = pickle.load(f)"
   ]
  },
  {
   "cell_type": "markdown",
   "id": "ea2bf81d",
   "metadata": {},
   "source": [
    "# Weighted voting"
   ]
  },
  {
   "cell_type": "code",
   "execution_count": 233,
   "id": "08571ba8",
   "metadata": {},
   "outputs": [],
   "source": [
    "def weighted_voting(data,method='soft'):\n",
    "    model_tensor = torch.Tensor(data.to_numpy()).cuda()\n",
    "    model_score = {'xgb':.7002,'svm':.6842,'ada':.6978,'bagging':.6960,'lgbm':.6980,'mlp':.7092}\n",
    "    \n",
    "    # 각 모델의 예측 확률값\n",
    "    xgb_proba = normed_xgb.predict_proba(data)\n",
    "    svm_proba = best_svm.predict_proba(data)\n",
    "    lgbm_proba = lgbm.predict_proba(data)\n",
    "    bagging_proba = bagging.predict_proba(data)\n",
    "    ada_proba = Adaboost.predict_proba(data)\n",
    "    with torch.no_grad():\n",
    "        model.eval()\n",
    "        model_proba = model(model_tensor).cpu().numpy()\n",
    "    if method=='soft':        \n",
    "        xgb_vote = xgb_proba *np.array([-model_score['xgb'],model_score['xgb']])\n",
    "        svm_vote = svm_proba *np.array([-model_score['svm'],model_score['svm']])\n",
    "        lgbm_vote = lgbm_proba *np.array([-model_score['lgbm'],model_score['lgbm']])\n",
    "        bagging_vote = bagging_proba *np.array([-model_score['bagging'],model_score['bagging']])\n",
    "        ada_vote = ada_proba *np.array([-model_score['ada'],model_score['ada']])\n",
    "        mlp_vote = model_proba *np.array([-model_score['mlp'],model_score['mlp']])\n",
    "        result = np.concatenate([xgb_vote,svm_vote,lgbm_vote,bagging_vote,ada_vote,mlp_vote],axis=1)\n",
    "        voted_pred = np.sum(result,axis=1)\n",
    "        voted_pred = np.where(voted_pred<0,0,1)\n",
    "        return voted_pred\n",
    "    else:        \n",
    "        # 모든 모델의 Threshold를 이용한 predict\n",
    "        xgb_pred = np.array(xgb_proba[:,1]>=0.29,dtype='int64')\n",
    "        svm_pred = np.array(svm_proba[:,1]>=0.33,dtype='int64')\n",
    "        lgbm_pred = np.array(lgbm_proba[:,1]>=0.28,dtype='int64')\n",
    "        bagging_pred = np.array(bagging_proba[:,1]>=0.32,dtype='int64')\n",
    "        ada_pred = np.array(ada_proba[:,1]>=0.11,dtype='int64')\n",
    "        model_pred = np.array(model_proba[:,1]>=0.3,dtype='int64')\n",
    "        result = np.sum([xgb_pred,svm_pred,lgbm_pred,bagging_pred,ada_pred,model_pred],axis=0)\n",
    "        voted_pred = np.where(result>=3,1,0)\n",
    "        return voted_pred"
   ]
  },
  {
   "cell_type": "markdown",
   "id": "fbd37432",
   "metadata": {},
   "source": [
    "# submission"
   ]
  },
  {
   "cell_type": "code",
   "execution_count": 51,
   "id": "c953e8a2",
   "metadata": {},
   "outputs": [],
   "source": [
    "df_test = data_normalize(pd.read_csv('./test.csv').drop(columns=\"ID\"))\n",
    "def make_submit(model,threshold=0.5):\n",
    "    model_name = str(model).split('(')[0]\n",
    "    submit = pd.read_csv('./sample_submission.csv')\n",
    "    model_predict = model.predict_proba(df_test)\n",
    "    submit['answer'] = np.array(model_predict[:,1]>=threshold,dtype='int64')\n",
    "    submit.to_csv(f'./{model_name}Pred.csv',index=False)\n",
    "    return\n",
    "\n",
    "def make_mlp_sub(model,thershold=.5):\n",
    "    test_tensor = torch.Tensor(df_test.to_numpy()).cuda()\n",
    "    with torch.no_grad():\n",
    "        model.eval()\n",
    "        result = model(test_tensor)\n",
    "    mlp_pred = (result[:,1]>=torch.Tensor([thershold]).cuda()).int()*1\n",
    "    submit = pd.read_csv('./sample_submission.csv')\n",
    "    submit['answer'] = mlp_pred.cpu()\n",
    "    submit.to_csv('mlp_pred.csv',index=False)\n",
    "def make_vote_submit(method='soft'):\n",
    "    submit = pd.read_csv('./sample_submission.csv')\n",
    "    pred = weighted_voting(df_test,method=method)\n",
    "    submit['answer'] = pred\n",
    "    submit.to_csv(f'{method}voted_Pred.csv',index=False)\n",
    "def make_mlp2_sub(model,threshold=.5):\n",
    "    test_tensor = torch.Tensor(df_test.to_numpy()).cuda()\n",
    "    with torch.no_grad():\n",
    "        model.cuda()\n",
    "        model.eval()\n",
    "        result = model(test_tensor).view(-1).cpu()\n",
    "    mlp_pred = (result>=torch.Tensor([threshold])).int()*1\n",
    "    submit = pd.read_csv('./sample_submission.csv')\n",
    "    submit['answer'] = mlp_pred\n",
    "    submit.to_csv('mlp_pred.csv',index=False)"
   ]
  },
  {
   "cell_type": "code",
   "execution_count": 95,
   "id": "253f437a",
   "metadata": {},
   "outputs": [],
   "source": [
    "make_submit(normed_xgb,0.29)\n",
    "make_submit(best_svm,.33)\n",
    "make_submit(lgbm,0.28)\n",
    "make_submit(bagging,0.32)\n",
    "make_submit(Adaboost,.11)"
   ]
  },
  {
   "cell_type": "code",
   "execution_count": 300,
   "id": "d717b0e9",
   "metadata": {},
   "outputs": [],
   "source": [
    "make_mlp_sub(model)"
   ]
  },
  {
   "cell_type": "code",
   "execution_count": 234,
   "id": "67190610",
   "metadata": {},
   "outputs": [],
   "source": [
    "make_vote_submit('hard')"
   ]
  }
 ],
 "metadata": {
  "kernelspec": {
   "display_name": "Python 3",
   "language": "python",
   "name": "python3"
  },
  "language_info": {
   "codemirror_mode": {
    "name": "ipython",
    "version": 3
   },
   "file_extension": ".py",
   "mimetype": "text/x-python",
   "name": "python",
   "nbconvert_exporter": "python",
   "pygments_lexer": "ipython3",
   "version": "3.8.8"
  }
 },
 "nbformat": 4,
 "nbformat_minor": 5
}
